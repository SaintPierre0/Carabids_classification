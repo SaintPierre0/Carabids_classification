{
 "cells": [
  {
   "cell_type": "code",
   "execution_count": 1,
   "id": "66f3ab4b",
   "metadata": {},
   "outputs": [
    {
     "data": {
      "text/plain": [
       "'cuda'"
      ]
     },
     "execution_count": 1,
     "metadata": {},
     "output_type": "execute_result"
    }
   ],
   "source": [
    "# import PyTorch and its related packages\n",
    "import torch as T\n",
    "import torch.nn as nn\n",
    "import torch.optim as optim\n",
    "import torch.nn.functional as F\n",
    "\n",
    "import torch\n",
    "\n",
    "import torchvision\n",
    "import torchvision.transforms as transforms\n",
    "\n",
    "from torchvision import transforms\n",
    "from torchvision.datasets import ImageFolder\n",
    "\n",
    "from tqdm.notebook import tqdm\n",
    "\n",
    "from sklearn.metrics import confusion_matrix\n",
    "\n",
    "#mcc implementation\n",
    "from torchmetrics.classification import MultilabelMatthewsCorrCoef\n",
    "\n",
    "# set default device based on CUDA's availability\n",
    "device = 'cuda' if T.cuda.is_available() else 'cpu'\n",
    "device"
   ]
  },
  {
   "cell_type": "code",
   "execution_count": 2,
   "id": "44a7c1c6",
   "metadata": {},
   "outputs": [],
   "source": [
    "transform = transforms.Compose(\n",
    "    [transforms.Resize((448,448)),\n",
    "     transforms.ToTensor(),\n",
    "     transforms.Normalize((0.485, 0.456, 0.406), (0.229, 0.224, 0.225))])\n",
    "\n",
    "batch_size = 64\n",
    "#image_size = (224, 224, 3)\n",
    "\n",
    "train_set = ImageFolder('C:/Users/heuma/Desktop/Work/Reseaux_test/Dataset_Kaggle/output/train', transform=transform)\n",
    "validation_set = ImageFolder('C:/Users/heuma/Desktop/Work/Reseaux_test/Dataset_Kaggle/output/val', transform=transform)\n",
    "test_set = ImageFolder('C:/Users/heuma/Desktop/Work/Reseaux_test/Dataset_Kaggle/output/test', transform=transform)\n",
    "\n",
    "#train_set = train_ds\n",
    "train_loader = T.utils.data.DataLoader(train_set, batch_size=batch_size,shuffle=True, num_workers=8)\n",
    "\n",
    "#validation_set = validation_ds\n",
    "validation_loader = T.utils.data.DataLoader(validation_set, batch_size=batch_size,shuffle=True, num_workers=8)\n",
    "\n",
    "#test_set = test_ds\n",
    "test_loader = T.utils.data.DataLoader(test_set, batch_size=batch_size,shuffle=True, num_workers=8)"
   ]
  },
  {
   "cell_type": "code",
   "execution_count": 3,
   "id": "e9c36132",
   "metadata": {},
   "outputs": [],
   "source": [
    "class NewNetwork(nn.Module):\n",
    "    def __init__(self, num_classes=291):\n",
    "        super(NewNetwork, self).__init__()\n",
    "        self.features = nn.Sequential(\n",
    "            nn.Conv2d(3, 64, kernel_size=11, stride=4, padding=2),\n",
    "            nn.ReLU(inplace=True),\n",
    "            nn.MaxPool2d(kernel_size=3, stride=2),\n",
    "            nn.Dropout(p=0.5),\n",
    "            nn.Conv2d(64, 192, kernel_size=5, padding=2),\n",
    "            nn.ReLU(inplace=True),\n",
    "            nn.MaxPool2d(kernel_size=3, stride=2),\n",
    "            nn.Dropout(p=0.5),\n",
    "            nn.Conv2d(192, 256, kernel_size=3, padding=1),\n",
    "            nn.ReLU(inplace=True),\n",
    "            nn.MaxPool2d(kernel_size=3, stride=2),\n",
    "            nn.Dropout(p=0.5)\n",
    "        )\n",
    "        self.classifier = nn.Sequential(\n",
    "            nn.Dropout(p=0.5),\n",
    "            nn.Linear(169 * 16 * 16, 1000), #mettre 128 quand il y a 5 couches\n",
    "            nn.PReLU(),\n",
    "            nn.Dropout(p=0.5),\n",
    "            nn.Linear(1000, 1000),\n",
    "            nn.PReLU(),\n",
    "            nn.Linear(1000, num_classes),\n",
    "        )\n",
    "\n",
    "    def forward(self, x):\n",
    "        x = self.features(x)\n",
    "        x = x.view(x.shape[0], -1)\n",
    "        x = self.classifier(x)\n",
    "        return x"
   ]
  },
  {
   "cell_type": "code",
   "execution_count": 4,
   "id": "441d12a6",
   "metadata": {},
   "outputs": [
    {
     "data": {
      "text/plain": [
       "NewNetwork(\n",
       "  (features): Sequential(\n",
       "    (0): Conv2d(3, 64, kernel_size=(11, 11), stride=(4, 4), padding=(2, 2))\n",
       "    (1): ReLU(inplace=True)\n",
       "    (2): MaxPool2d(kernel_size=3, stride=2, padding=0, dilation=1, ceil_mode=False)\n",
       "    (3): Dropout(p=0.5, inplace=False)\n",
       "    (4): Conv2d(64, 192, kernel_size=(5, 5), stride=(1, 1), padding=(2, 2))\n",
       "    (5): ReLU(inplace=True)\n",
       "    (6): MaxPool2d(kernel_size=3, stride=2, padding=0, dilation=1, ceil_mode=False)\n",
       "    (7): Dropout(p=0.5, inplace=False)\n",
       "    (8): Conv2d(192, 256, kernel_size=(3, 3), stride=(1, 1), padding=(1, 1))\n",
       "    (9): ReLU(inplace=True)\n",
       "    (10): MaxPool2d(kernel_size=3, stride=2, padding=0, dilation=1, ceil_mode=False)\n",
       "    (11): Dropout(p=0.5, inplace=False)\n",
       "  )\n",
       "  (classifier): Sequential(\n",
       "    (0): Dropout(p=0.5, inplace=False)\n",
       "    (1): Linear(in_features=43264, out_features=1000, bias=True)\n",
       "    (2): PReLU(num_parameters=1)\n",
       "    (3): Dropout(p=0.5, inplace=False)\n",
       "    (4): Linear(in_features=1000, out_features=1000, bias=True)\n",
       "    (5): PReLU(num_parameters=1)\n",
       "    (6): Linear(in_features=1000, out_features=291, bias=True)\n",
       "  )\n",
       ")"
      ]
     },
     "execution_count": 4,
     "metadata": {},
     "output_type": "execute_result"
    }
   ],
   "source": [
    "net = NewNetwork()\n",
    "net.to(device)"
   ]
  },
  {
   "cell_type": "code",
   "execution_count": 5,
   "id": "f39606d9",
   "metadata": {},
   "outputs": [],
   "source": [
    "criterion = nn.CrossEntropyLoss()\n",
    "\n",
    "# also the optimizer\n",
    "optimizer = optim.Adam(net.parameters(), lr=0.00001)\n",
    "\n",
    "#dynamic learning rate\n",
    "#scheduler = optim.lr_scheduler.ExponentialLR(optimizer, gamma=0.9)"
   ]
  },
  {
   "cell_type": "code",
   "execution_count": 6,
   "id": "0b71ba8f",
   "metadata": {
    "scrolled": false
   },
   "outputs": [
    {
     "data": {
      "application/vnd.jupyter.widget-view+json": {
       "model_id": "7ac11bab7fb249a6a742695e2e06be48",
       "version_major": 2,
       "version_minor": 0
      },
      "text/plain": [
       "  0%|          | 0/36 [00:00<?, ?it/s]"
      ]
     },
     "metadata": {},
     "output_type": "display_data"
    },
    {
     "name": "stdout",
     "output_type": "stream",
     "text": [
      "\n",
      "Epoch: 0\n",
      "Train Acc. => 1.828% | Train Loss => 5.45431\n",
      "validation Acc.  => 2.532% | validation Loss  => 5.25385\n",
      "Accuracy of the network on test images: 2 %\n",
      "\n",
      "Epoch: 1\n",
      "Train Acc. => 3.659% | Train Loss => 5.09559\n",
      "validation Acc.  => 4.452% | validation Loss  => 4.99439\n",
      "Accuracy of the network on test images: 4 %\n",
      "\n",
      "Epoch: 2\n",
      "Train Acc. => 5.465% | Train Loss => 4.85724\n",
      "validation Acc.  => 5.823% | validation Loss  => 4.78836\n",
      "Accuracy of the network on test images: 6 %\n",
      "\n",
      "Epoch: 3\n",
      "Train Acc. => 6.780% | Train Loss => 4.66499\n",
      "validation Acc.  => 7.065% | validation Loss  => 4.61588\n",
      "Accuracy of the network on test images: 7 %\n",
      "\n",
      "Epoch: 4\n",
      "Train Acc. => 8.260% | Train Loss => 4.48213\n",
      "validation Acc.  => 8.484% | validation Loss  => 4.42856\n",
      "Accuracy of the network on test images: 9 %\n",
      "\n",
      "Epoch: 5\n",
      "Train Acc. => 10.028% | Train Loss => 4.27670\n",
      "validation Acc.  => 9.726% | validation Loss  => 4.22869\n",
      "Accuracy of the network on test images: 10 %\n",
      "\n",
      "Epoch: 6\n",
      "Train Acc. => 11.917% | Train Loss => 4.07071\n",
      "validation Acc.  => 12.387% | validation Loss  => 4.03982\n",
      "Accuracy of the network on test images: 12 %\n",
      "\n",
      "Epoch: 7\n",
      "Train Acc. => 14.239% | Train Loss => 3.87615\n",
      "validation Acc.  => 13.935% | validation Loss  => 3.85951\n",
      "Accuracy of the network on test images: 14 %\n",
      "\n",
      "Epoch: 8\n",
      "Train Acc. => 15.831% | Train Loss => 3.70952\n",
      "validation Acc.  => 15.210% | validation Loss  => 3.73246\n",
      "Accuracy of the network on test images: 15 %\n",
      "\n",
      "Epoch: 9\n",
      "Train Acc. => 18.092% | Train Loss => 3.55333\n",
      "validation Acc.  => 17.274% | validation Loss  => 3.57955\n",
      "Accuracy of the network on test images: 18 %\n",
      "\n",
      "Epoch: 10\n",
      "Train Acc. => 20.161% | Train Loss => 3.41297\n",
      "validation Acc.  => 19.710% | validation Loss  => 3.46702\n",
      "Accuracy of the network on test images: 19 %\n",
      "\n",
      "Epoch: 11\n",
      "Train Acc. => 22.016% | Train Loss => 3.27605\n",
      "validation Acc.  => 20.758% | validation Loss  => 3.35095\n",
      "Accuracy of the network on test images: 21 %\n",
      "\n",
      "Epoch: 12\n",
      "Train Acc. => 23.955% | Train Loss => 3.15374\n",
      "validation Acc.  => 23.435% | validation Loss  => 3.21661\n",
      "Accuracy of the network on test images: 23 %\n",
      "\n",
      "Epoch: 13\n",
      "Train Acc. => 25.824% | Train Loss => 3.04721\n",
      "validation Acc.  => 25.210% | validation Loss  => 3.12239\n",
      "Accuracy of the network on test images: 25 %\n",
      "\n",
      "Epoch: 14\n",
      "Train Acc. => 27.901% | Train Loss => 2.93078\n",
      "validation Acc.  => 26.145% | validation Loss  => 3.05554\n",
      "Accuracy of the network on test images: 26 %\n",
      "\n",
      "Epoch: 15\n",
      "Train Acc. => 29.849% | Train Loss => 2.83117\n",
      "validation Acc.  => 28.097% | validation Loss  => 2.93106\n",
      "Accuracy of the network on test images: 27 %\n",
      "\n",
      "Epoch: 16\n",
      "Train Acc. => 31.471% | Train Loss => 2.74431\n",
      "validation Acc.  => 29.065% | validation Loss  => 2.85433\n",
      "Accuracy of the network on test images: 29 %\n",
      "\n",
      "Epoch: 17\n",
      "Train Acc. => 32.826% | Train Loss => 2.66274\n",
      "validation Acc.  => 29.468% | validation Loss  => 2.81123\n",
      "Accuracy of the network on test images: 31 %\n",
      "\n",
      "Epoch: 18\n",
      "Train Acc. => 34.770% | Train Loss => 2.57012\n",
      "validation Acc.  => 31.677% | validation Loss  => 2.73076\n",
      "Accuracy of the network on test images: 32 %\n",
      "\n",
      "Epoch: 19\n",
      "Train Acc. => 36.386% | Train Loss => 2.48972\n",
      "validation Acc.  => 33.581% | validation Loss  => 2.63346\n",
      "Accuracy of the network on test images: 32 %\n",
      "\n",
      "Epoch: 20\n",
      "Train Acc. => 37.646% | Train Loss => 2.41864\n",
      "validation Acc.  => 34.194% | validation Loss  => 2.57761\n",
      "Accuracy of the network on test images: 34 %\n",
      "\n",
      "Epoch: 21\n",
      "Train Acc. => 39.117% | Train Loss => 2.35107\n",
      "validation Acc.  => 35.210% | validation Loss  => 2.50737\n",
      "Accuracy of the network on test images: 35 %\n",
      "\n",
      "Epoch: 22\n",
      "Train Acc. => 40.429% | Train Loss => 2.28169\n",
      "validation Acc.  => 36.629% | validation Loss  => 2.46193\n",
      "Accuracy of the network on test images: 36 %\n",
      "\n",
      "Epoch: 23\n",
      "Train Acc. => 41.843% | Train Loss => 2.21691\n",
      "validation Acc.  => 37.194% | validation Loss  => 2.41527\n",
      "Accuracy of the network on test images: 38 %\n",
      "\n",
      "Epoch: 24\n",
      "Train Acc. => 42.959% | Train Loss => 2.16038\n",
      "validation Acc.  => 38.129% | validation Loss  => 2.38445\n",
      "Accuracy of the network on test images: 38 %\n",
      "\n",
      "Epoch: 25\n",
      "Train Acc. => 44.244% | Train Loss => 2.10441\n",
      "validation Acc.  => 39.790% | validation Loss  => 2.31745\n",
      "Accuracy of the network on test images: 39 %\n",
      "\n",
      "Epoch: 26\n",
      "Train Acc. => 45.698% | Train Loss => 2.04085\n",
      "validation Acc.  => 40.258% | validation Loss  => 2.27418\n",
      "Accuracy of the network on test images: 42 %\n",
      "\n",
      "Epoch: 27\n",
      "Train Acc. => 46.752% | Train Loss => 1.99069\n",
      "validation Acc.  => 42.565% | validation Loss  => 2.20883\n",
      "Accuracy of the network on test images: 42 %\n",
      "\n",
      "Epoch: 28\n",
      "Train Acc. => 47.617% | Train Loss => 1.94384\n",
      "validation Acc.  => 42.629% | validation Loss  => 2.19724\n",
      "Accuracy of the network on test images: 42 %\n",
      "\n",
      "Epoch: 29\n",
      "Train Acc. => 48.548% | Train Loss => 1.89815\n",
      "validation Acc.  => 43.339% | validation Loss  => 2.14126\n",
      "Accuracy of the network on test images: 43 %\n",
      "\n",
      "Epoch: 30\n",
      "Train Acc. => 49.842% | Train Loss => 1.84919\n",
      "validation Acc.  => 43.984% | validation Loss  => 2.11596\n",
      "Accuracy of the network on test images: 44 %\n",
      "\n",
      "Epoch: 31\n",
      "Train Acc. => 50.979% | Train Loss => 1.80853\n",
      "validation Acc.  => 45.371% | validation Loss  => 2.06746\n",
      "Accuracy of the network on test images: 45 %\n",
      "\n",
      "Epoch: 32\n",
      "Train Acc. => 51.954% | Train Loss => 1.76579\n",
      "validation Acc.  => 45.742% | validation Loss  => 2.03286\n",
      "Accuracy of the network on test images: 45 %\n",
      "\n",
      "Epoch: 33\n",
      "Train Acc. => 52.417% | Train Loss => 1.73052\n",
      "validation Acc.  => 45.613% | validation Loss  => 2.01881\n",
      "Accuracy of the network on test images: 46 %\n",
      "\n",
      "Epoch: 34\n",
      "Train Acc. => 53.497% | Train Loss => 1.68943\n",
      "validation Acc.  => 46.274% | validation Loss  => 1.98104\n",
      "Accuracy of the network on test images: 47 %\n",
      "\n",
      "Epoch: 35\n",
      "Train Acc. => 54.462% | Train Loss => 1.64851\n",
      "validation Acc.  => 47.532% | validation Loss  => 1.94397\n",
      "Accuracy of the network on test images: 47 %\n",
      "Finished Training\n"
     ]
    }
   ],
   "source": [
    "train_loss = []\n",
    "validation_loss = []\n",
    "train_acc = []\n",
    "validation_acc = []\n",
    "\n",
    "test_acc = []\n",
    "\n",
    "mcc_list = []\n",
    "\n",
    "lrs = []\n",
    "steps = []\n",
    "\n",
    "# Initialize the prediction and label lists(tensors)\n",
    "predlist=torch.zeros(0,dtype=torch.long, device='cpu')\n",
    "lbllist=torch.zeros(0,dtype=torch.long, device='cpu')\n",
    "\n",
    "for epoch in tqdm(range(0, 36)):  # loop over the dataset multiple times\n",
    "    \n",
    "    running_loss = .0\n",
    "    correct = 0\n",
    "    total = 0\n",
    "    for i, data in enumerate(train_loader):\n",
    "        # get the inputs\n",
    "        inputs, labels = data\n",
    "        if device == 'cuda':\n",
    "            inputs, labels = inputs.to(device), labels.to(device)\n",
    "\n",
    "        # reset the parameter gradients\n",
    "        optimizer.zero_grad()\n",
    "\n",
    "        # forward\n",
    "        outputs = net(inputs)\n",
    "        loss = criterion(outputs, labels)\n",
    "        # backward\n",
    "        loss.backward()\n",
    "        # optimize\n",
    "        optimizer.step()\n",
    "        \n",
    "        running_loss += loss.item()\n",
    "        _, predicted = T.max(outputs.data, 1)\n",
    "        total += labels.size(0)\n",
    "        correct += (predicted == labels).sum().item()\n",
    "        \n",
    "    running_loss /= len(train_loader)\n",
    "    train_loss.append(running_loss)\n",
    "    running_acc = correct / total\n",
    "    train_acc.append(running_acc)\n",
    "    \n",
    "    \"\"\"\n",
    "    print(\"predicted = \",predicted)\n",
    "    print(\"labels = \",labels)\n",
    "    \"\"\"\n",
    "    \n",
    "    #MCC implementation\n",
    "    \"\"\"\n",
    "    metric_mcc = MultilabelMatthewsCorrCoef(num_labels=291)\n",
    "    metric_mcc(predicted, labels)\n",
    "    mcc_list.append(metric_mcc)\n",
    "    \"\"\"\n",
    "    \n",
    "    #zone pour mettre le learning rate dynamique\n",
    "    \"\"\"\n",
    "    steps.append(epoch)\n",
    "    lrs.append(scheduler.get_last_lr()[0])\n",
    "    scheduler.step()\n",
    "    \"\"\"\n",
    "    \n",
    "    if epoch % 1 == 0: #ici changer pour la frequence d'affichage\n",
    "        print('\\nEpoch: {}'.format(epoch))\n",
    "        print('Train Acc. => {:.3f}%'.format(100 * running_acc), end=' | ')\n",
    "        print('Train Loss => {:.5f}'.format(running_loss))\n",
    "    \n",
    "    # evaluate on the validation set\n",
    "    # note this is usually performed on the validation set\n",
    "    # for simplicity we just evaluate it on the validation set\n",
    "    with T.no_grad():\n",
    "        correct = 0\n",
    "        total = 0\n",
    "        validation_running_loss = .0\n",
    "        for data in validation_loader:\n",
    "            inputs, labels = data\n",
    "            if device == 'cuda':\n",
    "                inputs, labels = inputs.to(device), labels.to(device)\n",
    "            outputs = net(inputs)\n",
    "            loss = criterion(outputs, labels)\n",
    "            validation_running_loss += loss.item()\n",
    "            _, predicted = T.max(outputs.data, 1)\n",
    "            total += labels.size(0)\n",
    "            correct += (predicted == labels).sum().item()\n",
    "            \n",
    "            if epoch == 35: # a changer si besoin d'afficher la matrice de confusion, a mettre à epoch-1\n",
    "                # Append batch prediction results\n",
    "                predlist=torch.cat([predlist,predicted.view(-1).cpu()])\n",
    "                lbllist=torch.cat([lbllist,labels.view(-1).cpu()])\n",
    "\n",
    "        validation_running_loss /= len(validation_loader)\n",
    "        validation_loss.append(validation_running_loss)\n",
    "        validation_running_acc = correct / total\n",
    "        validation_acc.append(validation_running_acc)\n",
    "        \n",
    "        if epoch % 1 == 0: #ici changer pour la frequence d'affichage\n",
    "            print('validation Acc.  => {:.3f}%'.format(100 * validation_running_acc), end=' | ')\n",
    "            print('validation Loss  => {:.5f}'.format(validation_running_loss))\n",
    "\n",
    "    with torch.no_grad():\n",
    "        correct_t = 0\n",
    "        total_t = 0\n",
    "        for data in test_loader:\n",
    "            inputs, labels = data\n",
    "            inputs, labels = inputs.to('cuda'), labels.to('cuda')\n",
    "            outputs = net(inputs)\n",
    "            _, predicted = torch.max(outputs.data, 1)\n",
    "            total_t += labels.size(0)\n",
    "            correct_t += (predicted == labels).sum().item()\n",
    "            \n",
    "            running_acc_t = correct_t / total_t\n",
    "        test_acc.append(running_acc_t)\n",
    "    \n",
    "        if epoch % 1 == 0: #ici changer pour la frequence d'affichage\n",
    "            print('Accuracy of the network on test images: %d %%' % (100 * correct_t / total_t))\n",
    "\n",
    "print('Finished Training')"
   ]
  },
  {
   "cell_type": "markdown",
   "id": "200262ff",
   "metadata": {},
   "source": [
    "## Visualization"
   ]
  },
  {
   "cell_type": "code",
   "execution_count": 7,
   "id": "bcb34d7f",
   "metadata": {},
   "outputs": [],
   "source": [
    "import matplotlib.pyplot as plt\n",
    "import seaborn as sns"
   ]
  },
  {
   "cell_type": "code",
   "execution_count": 8,
   "id": "aa68121a",
   "metadata": {},
   "outputs": [
    {
     "data": {
      "image/png": "[encoded data removed]",
      "text/plain": [
       "<Figure size 432x288 with 1 Axes>"
      ]
     },
     "metadata": {
      "needs_background": "light"
     },
     "output_type": "display_data"
    }
   ],
   "source": [
    "plt.plot(train_loss, label='train')\n",
    "plt.plot(validation_loss, label='validation')\n",
    "plt.xlabel(\"epoch\")\n",
    "plt.ylabel(\"loss values\")\n",
    "plt.title(\"loss rate's curve\")\n",
    "plt.legend()\n",
    "plt.show()"
   ]
  },
  {
   "cell_type": "code",
   "execution_count": 9,
   "id": "35ceeda8",
   "metadata": {},
   "outputs": [
    {
     "data": {
      "image/png": "[encoded data removed]",
      "text/plain": [
       "<Figure size 432x288 with 1 Axes>"
      ]
     },
     "metadata": {
      "needs_background": "light"
     },
     "output_type": "display_data"
    }
   ],
   "source": [
    "plt.plot(train_acc, label='train')\n",
    "plt.plot(validation_acc, label='validation')\n",
    "plt.plot(test_acc, label='test')\n",
    "plt.xlabel(\"epoch\")\n",
    "plt.ylabel(\"accuracy values\")\n",
    "plt.title(\"accuracy rate's curve\")\n",
    "plt.legend()\n",
    "plt.show()"
   ]
  },
  {
   "cell_type": "code",
   "execution_count": 10,
   "id": "78d4feaa",
   "metadata": {},
   "outputs": [],
   "source": [
    "#plt.plot(mcc_list, label='MCC')\n",
    "#plt.xlabel(\"epoch\")\n",
    "#plt.ylabel(\"MCC values\")\n",
    "#plt.title(\"MCC curve\")\n",
    "#plt.legend()\n",
    "#plt.show()"
   ]
  },
  {
   "cell_type": "code",
   "execution_count": 11,
   "id": "ab1bac62",
   "metadata": {},
   "outputs": [
    {
     "name": "stdout",
     "output_type": "stream",
     "text": [
      "[[ 2  7  0 ...  0  0  0]\n",
      " [ 2 32  0 ...  0  0  0]\n",
      " [ 0  0 15 ...  0  0  0]\n",
      " ...\n",
      " [ 0  0  0 ...  7  0  0]\n",
      " [ 0  0  0 ...  0  2  0]\n",
      " [ 0  0  0 ...  0  0 25]]\n"
     ]
    }
   ],
   "source": [
    "# Confusion matrix\n",
    "conf_mat=confusion_matrix(lbllist.numpy(), predlist.numpy())\n",
    "print(conf_mat)\n"
   ]
  },
  {
   "cell_type": "code",
   "execution_count": 12,
   "id": "10da7cf6",
   "metadata": {},
   "outputs": [
    {
     "data": {
      "text/plain": [
       "<AxesSubplot:>"
      ]
     },
     "execution_count": 12,
     "metadata": {},
     "output_type": "execute_result"
    },
    {
     "data": {
      "image/png": "[encoded data removed]",
      "text/plain": [
       "<Figure size 936x720 with 2 Axes>"
      ]
     },
     "metadata": {
      "needs_background": "light"
     },
     "output_type": "display_data"
    }
   ],
   "source": [
    "fig, ax = plt.subplots(figsize=(13,10))\n",
    "sns.heatmap(conf_mat, annot=False, ax=ax, cmap=\"BuPu\")"
   ]
  },
  {
   "cell_type": "code",
   "execution_count": 13,
   "id": "2071eb75",
   "metadata": {},
   "outputs": [
    {
     "name": "stdout",
     "output_type": "stream",
     "text": [
      "[ 10.          54.23728814  62.5         43.85964912  50.\n",
      "  63.15789474  45.45454545  82.9787234   40.          44.73684211\n",
      "  60.          84.31372549  42.55319149  58.92857143  33.33333333\n",
      "  40.69767442   9.09090909   7.69230769  41.50943396  20.45454545\n",
      "  42.30769231  51.47058824  32.25806452  40.          33.33333333\n",
      "  28.57142857  72.34042553  66.66666667  28.57142857  66.66666667\n",
      "  83.33333333  17.64705882  29.16666667  63.63636364 100.\n",
      "  50.          80.           0.          43.75        22.22222222\n",
      "   9.09090909  41.66666667  27.77777778  37.5         35.71428571\n",
      "  80.          16.66666667  32.14285714  56.52173913  25.\n",
      "  81.81818182  50.          12.5         81.81818182  60.\n",
      "  54.54545455  45.45454545  24.          36.36363636  33.33333333\n",
      "  35.29411765  40.          45.45454545  27.27272727  14.28571429\n",
      "  33.33333333  50.          23.52941176  63.63636364  50.\n",
      "  54.28571429  25.          60.          62.5         76.19047619\n",
      "  71.42857143  54.16666667  45.          60.9375       9.09090909\n",
      "  80.          93.75        60.          16.66666667  26.66666667\n",
      "   0.          16.66666667  77.46478873  20.          44.44444444\n",
      "  42.85714286  20.          60.          56.36363636  25.\n",
      "  14.28571429   0.          64.70588235  50.          61.53846154\n",
      "  42.10526316  35.          29.72972973  33.33333333  20.\n",
      "  80.          33.33333333  43.47826087  16.66666667  50.\n",
      "   9.09090909  29.62962963  23.52941176  45.          60.\n",
      "  62.16216216  51.85185185  50.          63.63636364  83.33333333\n",
      " 100.          36.36363636  78.43137255  52.63157895  64.28571429\n",
      "  59.09090909  81.81818182  35.71428571  26.31578947  56.52173913\n",
      "  16.66666667  47.61904762  14.28571429  52.63157895  45.45454545\n",
      "  50.          26.31578947  54.54545455  33.33333333  88.46153846\n",
      "  81.08108108  33.33333333  57.14285714  76.92307692  59.375\n",
      "  20.          33.33333333  43.75        53.84615385  42.85714286\n",
      "  46.66666667  25.          25.          42.85714286  71.42857143\n",
      "  47.05882353  51.61290323  30.          66.66666667  50.\n",
      "  75.          50.          40.          27.27272727  25.\n",
      "  50.          25.          33.33333333  75.          82.5\n",
      "  61.53846154  90.          28.94736842  28.57142857  55.55555556\n",
      "  47.61904762  80.          28.57142857  40.          60.\n",
      "  30.          50.          33.33333333  80.95238095  84.21052632\n",
      "  51.85185185  19.51219512  47.36842105  37.77777778  51.61290323\n",
      "  56.66666667  50.          30.55555556  20.83333333  45.45454545\n",
      "  15.38461538  45.45454545  40.          27.27272727  36.36363636\n",
      "  51.42857143  54.54545455  76.19047619  81.25        59.45945946\n",
      "  40.         100.          78.94736842  40.          57.89473684\n",
      "  16.66666667   0.          14.81481481  27.27272727  27.27272727\n",
      "  17.64705882  15.38461538  51.35135135  27.27272727  52.38095238\n",
      "  35.55555556  33.33333333  12.5          0.          27.27272727\n",
      "  23.07692308  42.85714286  69.23076923  57.14285714  50.\n",
      "  36.36363636  60.          12.5          0.          81.25\n",
      "   0.          69.23076923   0.          59.25925926  50.\n",
      "   0.          57.14285714  66.          37.5         60.\n",
      "  50.          70.          50.          44.44444444  45.16129032\n",
      "  35.29411765  36.36363636  22.22222222  42.85714286  20.\n",
      "  18.18181818  75.          11.11111111  44.44444444  25.\n",
      "  66.66666667  25.          23.07692308  50.          38.46153846\n",
      "  29.41176471   0.           0.          36.84210526  20.\n",
      "  20.          23.52941176  38.70967742  62.96296296  60.\n",
      "   0.          26.66666667  40.74074074  30.          40.\n",
      "  36.          27.27272727  75.          21.42857143  66.66666667\n",
      "  11.11111111  69.23076923  84.21052632  30.43478261   7.40740741\n",
      "  62.5       ]\n"
     ]
    }
   ],
   "source": [
    "# Per-class accuracy\n",
    "class_accuracy=100*conf_mat.diagonal()/conf_mat.sum(1)\n",
    "print(class_accuracy)"
   ]
  },
  {
   "cell_type": "markdown",
   "id": "55083a6d",
   "metadata": {},
   "source": [
    "## Save"
   ]
  },
  {
   "cell_type": "code",
   "execution_count": 14,
   "id": "ea64b954",
   "metadata": {},
   "outputs": [],
   "source": [
    "#torch.save(net.state_dict(), \"C:/Users/heuma/Desktop/Master/S10/Aurea/Dataset_Kaggle_validation_Train_20-80/dict_Linh_network_1st_try\")"
   ]
  },
  {
   "cell_type": "code",
   "execution_count": 15,
   "id": "e0753a13",
   "metadata": {},
   "outputs": [],
   "source": [
    "#torch.save(net, \"C:/Users/heuma/Desktop/Master/S10/Aurea/Dataset_Kaggle_validation_Train_20-80/Linh_network_entire_model_1st_try\")"
   ]
  },
  {
   "cell_type": "code",
   "execution_count": 16,
   "id": "f9e64f8b",
   "metadata": {},
   "outputs": [
    {
     "data": {
      "text/plain": [
       "'\\nfrom torch.utils.data.dataloader import DataLoader\\n\\n\\ntrain_dl = DataLoader(train_set, batch_size, shuffle = True, num_workers = 4, pin_memory = True)\\n\\nfrom torchvision.utils import make_grid\\n\\ndef show_batch(dl):\\n    #Plot images grid of single batch\\n    for images, labels in dl:\\n        fig,ax = plt.subplots(figsize = (16,12))\\n        ax.set_xticks([])\\n        ax.set_yticks([])\\n        ax.imshow(make_grid(images,nrow=16).permute(1,2,0))\\n        break\\n        \\nshow_batch(train_dl)\\n\\n'"
      ]
     },
     "execution_count": 16,
     "metadata": {},
     "output_type": "execute_result"
    }
   ],
   "source": [
    "\"\"\"\n",
    "from torch.utils.data.dataloader import DataLoader\n",
    "\n",
    "\n",
    "train_dl = DataLoader(train_set, batch_size, shuffle = True, num_workers = 4, pin_memory = True)\n",
    "\n",
    "from torchvision.utils import make_grid\n",
    "\n",
    "def show_batch(dl):\n",
    "    #Plot images grid of single batch\n",
    "    for images, labels in dl:\n",
    "        fig,ax = plt.subplots(figsize = (16,12))\n",
    "        ax.set_xticks([])\n",
    "        ax.set_yticks([])\n",
    "        ax.imshow(make_grid(images,nrow=16).permute(1,2,0))\n",
    "        break\n",
    "        \n",
    "show_batch(train_dl)\n",
    "\n",
    "\"\"\""
   ]
  },
  {
   "cell_type": "code",
   "execution_count": 17,
   "id": "5308da1c",
   "metadata": {},
   "outputs": [
    {
     "data": {
      "text/plain": [
       "\"\\ntransform2 = transforms.Compose(\\n    [transforms.Resize((224, 224)),\\n     transforms.ToTensor()])\\n\\ntrain_set2 = ImageFolder('C:/Users/heuma/Desktop/Master/S10/Aurea/Dataset_Kaggle_validation_Train_20-80/TRAIN/', transform=transform2)\\n\\ntrain_dl2 = DataLoader(train_set2, batch_size, shuffle = True, num_workers = 4, pin_memory = True)\\n\\n        \\nshow_batch(train_dl2)\\n\""
      ]
     },
     "execution_count": 17,
     "metadata": {},
     "output_type": "execute_result"
    }
   ],
   "source": [
    "\"\"\"\n",
    "transform2 = transforms.Compose(\n",
    "    [transforms.Resize((224, 224)),\n",
    "     transforms.ToTensor()])\n",
    "\n",
    "train_set2 = ImageFolder('C:/Users/heuma/Desktop/Master/S10/Aurea/Dataset_Kaggle_validation_Train_20-80/TRAIN/', transform=transform2)\n",
    "\n",
    "train_dl2 = DataLoader(train_set2, batch_size, shuffle = True, num_workers = 4, pin_memory = True)\n",
    "\n",
    "        \n",
    "show_batch(train_dl2)\n",
    "\"\"\""
   ]
  },
  {
   "cell_type": "code",
   "execution_count": null,
   "id": "6940a02b",
   "metadata": {},
   "outputs": [],
   "source": []
  }
 ],
 "metadata": {
  "kernelspec": {
   "display_name": "Python 3 (ipykernel)",
   "language": "python",
   "name": "python3"
  },
  "language_info": {
   "codemirror_mode": {
    "name": "ipython",
    "version": 3
   },
   "file_extension": ".py",
   "mimetype": "text/x-python",
   "name": "python",
   "nbconvert_exporter": "python",
   "pygments_lexer": "ipython3",
   "version": "3.9.7"
  }
 },
 "nbformat": 4,
 "nbformat_minor": 5
}
