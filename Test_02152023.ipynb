{
 "cells": [
  {
   "cell_type": "code",
   "execution_count": 1,
   "id": "66f3ab4b",
   "metadata": {},
   "outputs": [
    {
     "data": {
      "text/plain": [
       "'cuda'"
      ]
     },
     "execution_count": 1,
     "metadata": {},
     "output_type": "execute_result"
    }
   ],
   "source": [
    "# import PyTorch and its related packages\n",
    "import torch as T\n",
    "import torch.nn as nn\n",
    "import torch.optim as optim\n",
    "import torch.nn.functional as F\n",
    "\n",
    "import torch\n",
    "\n",
    "import torchvision\n",
    "import torchvision.transforms as transforms\n",
    "\n",
    "from torchvision import transforms\n",
    "from torchvision.datasets import ImageFolder\n",
    "\n",
    "from tqdm.notebook import tqdm\n",
    "\n",
    "from sklearn.metrics import confusion_matrix\n",
    "\n",
    "#mcc implementation\n",
    "from torchmetrics.classification import MultilabelMatthewsCorrCoef\n",
    "\n",
    "# set default device based on CUDA's availability\n",
    "device = 'cuda' if T.cuda.is_available() else 'cpu'\n",
    "device"
   ]
  },
  {
   "cell_type": "code",
   "execution_count": 2,
   "id": "44a7c1c6",
   "metadata": {},
   "outputs": [],
   "source": [
    "transform = transforms.Compose(\n",
    "    [transforms.Resize((224,224)),\n",
    "     transforms.ToTensor(),\n",
    "     transforms.Normalize((0.485, 0.456, 0.406), (0.229, 0.224, 0.225))])\n",
    "\n",
    "batch_size = 128\n",
    "#image_size = (224, 224, 3)\n",
    "\n",
    "train_set = ImageFolder('C:/Users/heuma/Desktop/Work/Reseaux_test/Dataset_Kaggle/output/train', transform=transform)\n",
    "validation_set = ImageFolder('C:/Users/heuma/Desktop/Work/Reseaux_test/Dataset_Kaggle/output/val', transform=transform)\n",
    "test_set = ImageFolder('C:/Users/heuma/Desktop/Work/Reseaux_test/Dataset_Kaggle/output/test', transform=transform)\n",
    "\n",
    "#train_set = train_ds\n",
    "train_loader = T.utils.data.DataLoader(train_set, batch_size=batch_size,shuffle=True, num_workers=8)\n",
    "\n",
    "#validation_set = validation_ds\n",
    "validation_loader = T.utils.data.DataLoader(validation_set, batch_size=batch_size,shuffle=True, num_workers=8)\n",
    "\n",
    "#test_set = test_ds\n",
    "test_loader = T.utils.data.DataLoader(test_set, batch_size=batch_size,shuffle=True, num_workers=8)"
   ]
  },
  {
   "cell_type": "code",
   "execution_count": 3,
   "id": "e9c36132",
   "metadata": {},
   "outputs": [],
   "source": [
    "class NewNetwork(nn.Module):\n",
    "    def __init__(self, num_classes=291):\n",
    "        super(NewNetwork, self).__init__()\n",
    "        self.features = nn.Sequential(\n",
    "            nn.Conv2d(3, 64, kernel_size=11, stride=4, padding=2),\n",
    "            nn.ReLU(inplace=True),\n",
    "            nn.MaxPool2d(kernel_size=3, stride=2),\n",
    "            nn.Dropout(p=0.5),\n",
    "            nn.Conv2d(64, 192, kernel_size=5, padding=2),\n",
    "            nn.ReLU(inplace=True),\n",
    "            nn.MaxPool2d(kernel_size=3, stride=2),\n",
    "            nn.Dropout(p=0.5),\n",
    "            nn.Conv2d(192, 256, kernel_size=3, padding=1),\n",
    "            nn.ReLU(inplace=True),\n",
    "            nn.MaxPool2d(kernel_size=3, stride=2),\n",
    "            nn.Dropout(p=0.5)\n",
    "        )\n",
    "        self.classifier = nn.Sequential(\n",
    "            nn.Dropout(p=0.5),\n",
    "            nn.Linear(36 * 16 * 16, 2000), #mettre 128 quand il y a 5 couches\n",
    "            nn.PReLU(),\n",
    "            nn.Dropout(p=0.5),\n",
    "            nn.Linear(2000, 1000),\n",
    "            nn.PReLU(),\n",
    "            nn.Linear(1000, num_classes),\n",
    "        )\n",
    "\n",
    "    def forward(self, x):\n",
    "        x = self.features(x)\n",
    "        x = x.view(x.shape[0], -1)\n",
    "        x = self.classifier(x)\n",
    "        return x"
   ]
  },
  {
   "cell_type": "code",
   "execution_count": 4,
   "id": "441d12a6",
   "metadata": {},
   "outputs": [
    {
     "data": {
      "text/plain": [
       "NewNetwork(\n",
       "  (features): Sequential(\n",
       "    (0): Conv2d(3, 64, kernel_size=(11, 11), stride=(4, 4), padding=(2, 2))\n",
       "    (1): ReLU(inplace=True)\n",
       "    (2): MaxPool2d(kernel_size=3, stride=2, padding=0, dilation=1, ceil_mode=False)\n",
       "    (3): Dropout(p=0.5, inplace=False)\n",
       "    (4): Conv2d(64, 192, kernel_size=(5, 5), stride=(1, 1), padding=(2, 2))\n",
       "    (5): ReLU(inplace=True)\n",
       "    (6): MaxPool2d(kernel_size=3, stride=2, padding=0, dilation=1, ceil_mode=False)\n",
       "    (7): Dropout(p=0.5, inplace=False)\n",
       "    (8): Conv2d(192, 256, kernel_size=(3, 3), stride=(1, 1), padding=(1, 1))\n",
       "    (9): ReLU(inplace=True)\n",
       "    (10): MaxPool2d(kernel_size=3, stride=2, padding=0, dilation=1, ceil_mode=False)\n",
       "    (11): Dropout(p=0.5, inplace=False)\n",
       "  )\n",
       "  (classifier): Sequential(\n",
       "    (0): Dropout(p=0.5, inplace=False)\n",
       "    (1): Linear(in_features=9216, out_features=2000, bias=True)\n",
       "    (2): PReLU(num_parameters=1)\n",
       "    (3): Dropout(p=0.5, inplace=False)\n",
       "    (4): Linear(in_features=2000, out_features=1000, bias=True)\n",
       "    (5): PReLU(num_parameters=1)\n",
       "    (6): Linear(in_features=1000, out_features=291, bias=True)\n",
       "  )\n",
       ")"
      ]
     },
     "execution_count": 4,
     "metadata": {},
     "output_type": "execute_result"
    }
   ],
   "source": [
    "net = NewNetwork()\n",
    "net.to(device)"
   ]
  },
  {
   "cell_type": "code",
   "execution_count": 5,
   "id": "f39606d9",
   "metadata": {},
   "outputs": [],
   "source": [
    "criterion = nn.CrossEntropyLoss()\n",
    "\n",
    "# also the optimizer\n",
    "optimizer = optim.Adam(net.parameters(), lr=0.0001)\n",
    "\n",
    "#dynamic learning rate\n",
    "#scheduler = optim.lr_scheduler.ExponentialLR(optimizer, gamma=0.9)"
   ]
  },
  {
   "cell_type": "code",
   "execution_count": 6,
   "id": "0b71ba8f",
   "metadata": {
    "scrolled": false
   },
   "outputs": [
    {
     "data": {
      "application/vnd.jupyter.widget-view+json": {
       "model_id": "d4794ad0e7ec450885e4510535501579",
       "version_major": 2,
       "version_minor": 0
      },
      "text/plain": [
       "  0%|          | 0/101 [00:00<?, ?it/s]"
      ]
     },
     "metadata": {},
     "output_type": "display_data"
    },
    {
     "name": "stdout",
     "output_type": "stream",
     "text": [
      "\n",
      "Epoch: 0\n",
      "Train Loss => 5.11986\n",
      "validation Acc.  => 4.610% | validation Loss  => 4.62081\n",
      "Accuracy of the network on test images: 4 %\n",
      "\n",
      "Epoch: 5\n",
      "Train Loss => 2.45315\n",
      "validation Acc.  => 36.557% | validation Loss  => 2.36841\n",
      "Accuracy of the network on test images: 36 %\n",
      "\n",
      "Epoch: 10\n",
      "Train Loss => 1.71111\n",
      "validation Acc.  => 51.499% | validation Loss  => 1.74282\n",
      "Accuracy of the network on test images: 50 %\n",
      "\n",
      "Epoch: 15\n",
      "Train Loss => 1.31608\n",
      "validation Acc.  => 55.013% | validation Loss  => 1.57537\n",
      "Accuracy of the network on test images: 55 %\n",
      "\n",
      "Epoch: 20\n",
      "Train Loss => 1.06149\n",
      "validation Acc.  => 62.830% | validation Loss  => 1.27373\n",
      "Accuracy of the network on test images: 62 %\n",
      "\n",
      "Epoch: 25\n",
      "Train Loss => 0.88140\n",
      "validation Acc.  => 66.908% | validation Loss  => 1.12558\n",
      "Accuracy of the network on test images: 66 %\n",
      "\n",
      "Epoch: 30\n",
      "Train Loss => 0.74475\n",
      "validation Acc.  => 68.698% | validation Loss  => 1.09083\n",
      "Accuracy of the network on test images: 68 %\n",
      "\n",
      "Epoch: 35\n",
      "Train Loss => 0.63593\n",
      "validation Acc.  => 69.810% | validation Loss  => 1.06039\n",
      "Accuracy of the network on test images: 69 %\n",
      "\n",
      "Epoch: 40\n",
      "Train Loss => 0.54423\n",
      "validation Acc.  => 70.858% | validation Loss  => 1.04647\n",
      "Accuracy of the network on test images: 69 %\n",
      "\n",
      "Epoch: 45\n",
      "Train Loss => 0.47827\n",
      "validation Acc.  => 71.841% | validation Loss  => 0.98558\n",
      "Accuracy of the network on test images: 72 %\n",
      "\n",
      "Epoch: 50\n",
      "Train Loss => 0.43147\n",
      "validation Acc.  => 72.018% | validation Loss  => 1.02374\n",
      "Accuracy of the network on test images: 72 %\n",
      "\n",
      "Epoch: 55\n",
      "Train Loss => 0.39193\n",
      "validation Acc.  => 70.986% | validation Loss  => 1.07955\n",
      "Accuracy of the network on test images: 71 %\n",
      "\n",
      "Epoch: 60\n",
      "Train Loss => 0.34772\n",
      "validation Acc.  => 73.420% | validation Loss  => 1.00875\n",
      "Accuracy of the network on test images: 74 %\n",
      "\n",
      "Epoch: 65\n",
      "Train Loss => 0.32494\n",
      "validation Acc.  => 74.565% | validation Loss  => 0.94307\n",
      "Accuracy of the network on test images: 74 %\n",
      "\n",
      "Epoch: 70\n",
      "Train Loss => 0.29160\n",
      "validation Acc.  => 75.016% | validation Loss  => 0.96452\n",
      "Accuracy of the network on test images: 75 %\n",
      "\n",
      "Epoch: 75\n",
      "Train Loss => 0.26618\n",
      "validation Acc.  => 74.694% | validation Loss  => 0.98443\n",
      "Accuracy of the network on test images: 75 %\n",
      "\n",
      "Epoch: 80\n",
      "Train Loss => 0.24975\n",
      "validation Acc.  => 74.807% | validation Loss  => 1.02577\n",
      "Accuracy of the network on test images: 75 %\n",
      "\n",
      "Epoch: 85\n",
      "Train Loss => 0.24357\n",
      "validation Acc.  => 75.467% | validation Loss  => 1.02792\n",
      "Accuracy of the network on test images: 75 %\n",
      "\n",
      "Epoch: 90\n",
      "Train Loss => 0.21696\n",
      "validation Acc.  => 75.467% | validation Loss  => 1.04441\n",
      "Accuracy of the network on test images: 75 %\n",
      "\n",
      "Epoch: 95\n",
      "Train Loss => 0.21349\n",
      "validation Acc.  => 75.935% | validation Loss  => 1.02453\n",
      "Accuracy of the network on test images: 75 %\n",
      "\n",
      "Epoch: 100\n",
      "Train Loss => 0.19952\n",
      "validation Acc.  => 74.533% | validation Loss  => 1.09681\n",
      "Accuracy of the network on test images: 74 %\n",
      "Finished Training\n"
     ]
    }
   ],
   "source": [
    "train_loss = []\n",
    "validation_loss = []\n",
    "train_acc = []\n",
    "validation_acc = []\n",
    "\n",
    "test_acc = []\n",
    "\n",
    "mcc_list = []\n",
    "\n",
    "lrs = []\n",
    "steps = []\n",
    "\n",
    "# Initialize the prediction and label lists(tensors)\n",
    "predlist=torch.zeros(0,dtype=torch.long, device='cpu')\n",
    "lbllist=torch.zeros(0,dtype=torch.long, device='cpu')\n",
    "\n",
    "for epoch in tqdm(range(0, 101)):  # loop over the dataset multiple times\n",
    "    \n",
    "    running_loss = .0\n",
    "    correct = 0\n",
    "    total = 0\n",
    "    for i, data in enumerate(train_loader):\n",
    "        # get the inputs\n",
    "        inputs, labels = data\n",
    "        if device == 'cuda':\n",
    "            inputs, labels = inputs.to(device), labels.to(device)\n",
    "\n",
    "        # reset the parameter gradients\n",
    "        optimizer.zero_grad()\n",
    "\n",
    "        # forward\n",
    "        outputs = net(inputs)\n",
    "        loss = criterion(outputs, labels)\n",
    "        # backward\n",
    "        loss.backward()\n",
    "        # optimize\n",
    "        optimizer.step()\n",
    "        \n",
    "        running_loss += loss.item()\n",
    "        _, predicted = T.max(outputs.data, 1)\n",
    "        total += labels.size(0)\n",
    "        correct += (predicted == labels).sum().item()\n",
    "        \n",
    "    running_loss /= len(train_loader)\n",
    "    train_loss.append(running_loss)\n",
    "    running_acc = correct / total\n",
    "    train_acc.append(running_acc)\n",
    "    \n",
    "    \"\"\"\n",
    "    print(\"predicted = \",predicted)\n",
    "    print(\"labels = \",labels)\n",
    "    \"\"\"\n",
    "    \n",
    "    #MCC implementation\n",
    "    \"\"\"\n",
    "    metric_mcc = MultilabelMatthewsCorrCoef(num_labels=291)\n",
    "    metric_mcc(predicted, labels)\n",
    "    mcc_list.append(metric_mcc)\n",
    "    \"\"\"\n",
    "    \n",
    "    #zone pour mettre le learning rate dynamique\n",
    "    \"\"\"\n",
    "    steps.append(epoch)\n",
    "    lrs.append(scheduler.get_last_lr()[0])\n",
    "    scheduler.step()\n",
    "    \"\"\"\n",
    "    \n",
    "    if epoch % 5 == 0: #ici changer pour la frequence d'affichage\n",
    "        print('\\nEpoch: {}'.format(epoch))\n",
    "    #    print('Train Acc. => {:.3f}%'.format(100 * running_acc), end=' | ')\n",
    "        print('Train Loss => {:.5f}'.format(running_loss))\n",
    "    \n",
    "    # evaluate on the validation set\n",
    "    # note this is usually performed on the validation set\n",
    "    # for simplicity we just evaluate it on the validation set\n",
    "    with T.no_grad():\n",
    "        correct = 0\n",
    "        total = 0\n",
    "        validation_running_loss = .0\n",
    "        for data in validation_loader:\n",
    "            inputs, labels = data\n",
    "            if device == 'cuda':\n",
    "                inputs, labels = inputs.to(device), labels.to(device)\n",
    "            outputs = net(inputs)\n",
    "            loss = criterion(outputs, labels)\n",
    "            validation_running_loss += loss.item()\n",
    "            _, predicted = T.max(outputs.data, 1)\n",
    "            total += labels.size(0)\n",
    "            correct += (predicted == labels).sum().item()\n",
    "            \n",
    "            if epoch == 100: # a changer si besoin d'afficher la matrice de confusion, a mettre à epoch-1\n",
    "                # Append batch prediction results\n",
    "                predlist=torch.cat([predlist,predicted.view(-1).cpu()])\n",
    "                lbllist=torch.cat([lbllist,labels.view(-1).cpu()])\n",
    "\n",
    "        validation_running_loss /= len(validation_loader)\n",
    "        validation_loss.append(validation_running_loss)\n",
    "        validation_running_acc = correct / total\n",
    "        validation_acc.append(validation_running_acc)\n",
    "        \n",
    "        if epoch % 5 == 0: #ici changer pour la frequence d'affichage\n",
    "            print('validation Acc.  => {:.3f}%'.format(100 * validation_running_acc), end=' | ')\n",
    "            print('validation Loss  => {:.5f}'.format(validation_running_loss))\n",
    "\n",
    "    with torch.no_grad():\n",
    "        correct_t = 0\n",
    "        total_t = 0\n",
    "        for data in test_loader:\n",
    "            inputs, labels = data\n",
    "            inputs, labels = inputs.to('cuda'), labels.to('cuda')\n",
    "            outputs = net(inputs)\n",
    "            _, predicted = torch.max(outputs.data, 1)\n",
    "            total_t += labels.size(0)\n",
    "            correct_t += (predicted == labels).sum().item()\n",
    "            \n",
    "            running_acc_t = correct_t / total_t\n",
    "        test_acc.append(running_acc_t)\n",
    "    \n",
    "        if epoch % 5 == 0: #ici changer pour la frequence d'affichage\n",
    "            print('Accuracy of the network on test images: %d %%' % (100 * correct_t / total_t))\n",
    "\n",
    "print('Finished Training')"
   ]
  },
  {
   "cell_type": "markdown",
   "id": "200262ff",
   "metadata": {},
   "source": [
    "## Visualization"
   ]
  },
  {
   "cell_type": "code",
   "execution_count": 7,
   "id": "bcb34d7f",
   "metadata": {},
   "outputs": [],
   "source": [
    "import matplotlib.pyplot as plt\n",
    "import seaborn as sns"
   ]
  },
  {
   "cell_type": "code",
   "execution_count": 8,
   "id": "aa68121a",
   "metadata": {},
   "outputs": [
    {
     "data": {
      "image/png": "[encoded data removed]",
      "text/plain": [
       "<Figure size 432x288 with 1 Axes>"
      ]
     },
     "metadata": {
      "needs_background": "light"
     },
     "output_type": "display_data"
    }
   ],
   "source": [
    "plt.plot(train_loss, label='train')\n",
    "plt.plot(validation_loss, label='validation')\n",
    "plt.xlabel(\"epoch\")\n",
    "plt.ylabel(\"loss values\")\n",
    "plt.title(\"loss rate's curve\")\n",
    "plt.legend()\n",
    "plt.show()"
   ]
  },
  {
   "cell_type": "code",
   "execution_count": 9,
   "id": "35ceeda8",
   "metadata": {},
   "outputs": [
    {
     "data": {
      "image/png": "[encoded data removed]",
      "text/plain": [
       "<Figure size 432x288 with 1 Axes>"
      ]
     },
     "metadata": {
      "needs_background": "light"
     },
     "output_type": "display_data"
    }
   ],
   "source": [
    "plt.plot(train_acc, label='train')\n",
    "plt.plot(validation_acc, label='validation')\n",
    "plt.plot(test_acc, label='test')\n",
    "plt.xlabel(\"epoch\")\n",
    "plt.ylabel(\"accuracy values\")\n",
    "plt.title(\"accuracy rate's curve\")\n",
    "plt.legend()\n",
    "plt.show()"
   ]
  },
  {
   "cell_type": "code",
   "execution_count": 10,
   "id": "78d4feaa",
   "metadata": {},
   "outputs": [],
   "source": [
    "#plt.plot(mcc_list, label='MCC')\n",
    "#plt.xlabel(\"epoch\")\n",
    "#plt.ylabel(\"MCC values\")\n",
    "#plt.title(\"MCC curve\")\n",
    "#plt.legend()\n",
    "#plt.show()"
   ]
  },
  {
   "cell_type": "code",
   "execution_count": 11,
   "id": "ab1bac62",
   "metadata": {},
   "outputs": [
    {
     "name": "stdout",
     "output_type": "stream",
     "text": [
      "[[ 8  7  0 ...  0  0  0]\n",
      " [ 1 42  0 ...  0  0  0]\n",
      " [ 0  0 21 ...  0  0  0]\n",
      " ...\n",
      " [ 0  0  0 ... 19  0  0]\n",
      " [ 0  0  0 ...  0 21  0]\n",
      " [ 0  0  0 ...  0  0 34]]\n"
     ]
    }
   ],
   "source": [
    "# Confusion matrix\n",
    "conf_mat=confusion_matrix(lbllist.numpy(), predlist.numpy())\n",
    "print(conf_mat)\n"
   ]
  },
  {
   "cell_type": "code",
   "execution_count": 12,
   "id": "10da7cf6",
   "metadata": {},
   "outputs": [
    {
     "data": {
      "text/plain": [
       "<AxesSubplot:>"
      ]
     },
     "execution_count": 12,
     "metadata": {},
     "output_type": "execute_result"
    },
    {
     "data": {
      "image/png": "[encoded data removed]",
      "text/plain": [
       "<Figure size 936x720 with 2 Axes>"
      ]
     },
     "metadata": {
      "needs_background": "light"
     },
     "output_type": "display_data"
    }
   ],
   "source": [
    "fig, ax = plt.subplots(figsize=(13,10))\n",
    "sns.heatmap(conf_mat, annot=False, ax=ax, cmap=\"BuPu\")"
   ]
  },
  {
   "cell_type": "code",
   "execution_count": 13,
   "id": "2071eb75",
   "metadata": {},
   "outputs": [
    {
     "name": "stdout",
     "output_type": "stream",
     "text": [
      "[ 38.0952381   71.18644068  87.5         71.92982456  62.5\n",
      "  73.68421053  86.36363636  95.74468085 100.          63.15789474\n",
      "  60.          96.07843137  80.85106383  89.28571429  55.55555556\n",
      "  73.25581395  72.72727273  69.23076923  50.94339623  65.90909091\n",
      "  73.07692308  77.94117647  77.41935484  70.          58.33333333\n",
      "  71.42857143  91.4893617   90.47619048  71.42857143  88.88888889\n",
      "  66.66666667  41.17647059  70.83333333  90.90909091 100.\n",
      "  83.33333333  80.          50.          81.25        66.66666667\n",
      "  63.63636364  66.66666667  72.22222222  62.5         78.57142857\n",
      "  87.5         83.33333333  60.71428571  65.2173913   66.66666667\n",
      "  90.90909091  37.5         75.          90.90909091 100.\n",
      "  72.72727273  81.81818182  48.          81.81818182  93.33333333\n",
      "  52.94117647  40.          63.63636364  50.          57.14285714\n",
      "  77.77777778  50.          61.76470588  84.84848485  50.\n",
      "  91.42857143  35.          80.          79.16666667  90.47619048\n",
      "  89.28571429  70.83333333  85.          90.625       36.36363636\n",
      " 100.          93.75        70.          66.66666667  86.66666667\n",
      " 100.          66.66666667  83.09859155  80.          33.33333333\n",
      "  71.42857143  50.          73.33333333  74.54545455  75.\n",
      "  57.14285714  68.75        88.23529412  64.28571429  84.61538462\n",
      "  73.68421053  65.          64.86486486  83.33333333  80.\n",
      " 100.          95.23809524  78.26086957  50.          86.11111111\n",
      "  27.27272727  77.77777778  82.35294118  90.          80.\n",
      "  91.89189189  81.48148148  75.          81.81818182 100.\n",
      " 100.          81.81818182  78.43137255  73.68421053  88.0952381\n",
      "  95.45454545  81.81818182  75.          47.36842105  78.26086957\n",
      "  66.66666667  85.71428571  64.28571429  84.21052632  81.81818182\n",
      "  71.875       63.15789474  63.63636364  50.         100.\n",
      "  91.89189189  44.44444444  85.71428571 100.          56.25\n",
      "  60.          77.77777778  73.84615385  65.38461538  76.19047619\n",
      "  80.          75.          62.5         66.66666667  71.42857143\n",
      "  88.23529412  77.41935484  55.          83.33333333 100.\n",
      " 100.          92.85714286 100.          72.72727273  41.66666667\n",
      "  78.125       56.25       100.          91.66666667  85.\n",
      "  84.61538462 100.          73.68421053  64.28571429  77.77777778\n",
      "  66.66666667  60.          85.71428571  60.          80.\n",
      "  80.          81.25        91.66666667  95.23809524  97.36842105\n",
      "  59.25925926  51.2195122   84.21052632  57.77777778  74.19354839\n",
      "  83.33333333  88.88888889  44.44444444  37.5         90.90909091\n",
      "  76.92307692 100.          80.          36.36363636  54.54545455\n",
      "  82.85714286  57.57575758  92.85714286 100.          81.08108108\n",
      "  64.          85.71428571  94.73684211  40.          63.15789474\n",
      "  75.          40.          48.14814815  45.45454545  69.6969697\n",
      "  64.70588235  61.53846154  59.45945946  45.45454545  73.80952381\n",
      "  66.66666667  83.33333333  68.75        41.66666667  54.54545455\n",
      "  46.15384615  57.14285714  84.61538462  92.85714286  91.66666667\n",
      "  54.54545455  64.          25.          55.55555556  81.25\n",
      "   0.          92.30769231  60.          75.30864198  87.5\n",
      "  40.          87.75510204  76.47058824  87.5         20.\n",
      "  76.          80.          83.33333333  62.96296296  70.96774194\n",
      "  66.66666667  81.81818182  66.66666667  78.57142857  80.\n",
      "  54.54545455  83.33333333  33.33333333 100.          75.\n",
      "  76.66666667  75.          46.15384615  62.5         61.53846154\n",
      "  76.47058824  85.71428571  20.          57.89473684  60.\n",
      "  80.          41.17647059  74.19354839  92.59259259  96.\n",
      "  71.42857143  46.66666667  81.48148148  80.          73.33333333\n",
      "  64.          63.63636364  93.18181818  78.57142857 100.\n",
      "  66.66666667  84.61538462  84.21052632  82.60869565  77.77777778\n",
      "  85.        ]\n"
     ]
    }
   ],
   "source": [
    "# Per-class accuracy\n",
    "class_accuracy=100*conf_mat.diagonal()/conf_mat.sum(1)\n",
    "print(class_accuracy)"
   ]
  },
  {
   "cell_type": "markdown",
   "id": "55083a6d",
   "metadata": {},
   "source": [
    "## Save"
   ]
  },
  {
   "cell_type": "code",
   "execution_count": 14,
   "id": "ea64b954",
   "metadata": {},
   "outputs": [],
   "source": [
    "#torch.save(net.state_dict(), \"C:/Users/heuma/Desktop/Master/S10/Aurea/Dataset_Kaggle_validation_Train_20-80/dict_Linh_network_1st_try\")"
   ]
  },
  {
   "cell_type": "code",
   "execution_count": 15,
   "id": "e0753a13",
   "metadata": {},
   "outputs": [],
   "source": [
    "#torch.save(net, \"C:/Users/heuma/Desktop/Master/S10/Aurea/Dataset_Kaggle_validation_Train_20-80/Linh_network_entire_model_1st_try\")"
   ]
  },
  {
   "cell_type": "code",
   "execution_count": 16,
   "id": "f9e64f8b",
   "metadata": {},
   "outputs": [
    {
     "data": {
      "text/plain": [
       "'\\nfrom torch.utils.data.dataloader import DataLoader\\n\\n\\ntrain_dl = DataLoader(train_set, batch_size, shuffle = True, num_workers = 4, pin_memory = True)\\n\\nfrom torchvision.utils import make_grid\\n\\ndef show_batch(dl):\\n    #Plot images grid of single batch\\n    for images, labels in dl:\\n        fig,ax = plt.subplots(figsize = (16,12))\\n        ax.set_xticks([])\\n        ax.set_yticks([])\\n        ax.imshow(make_grid(images,nrow=16).permute(1,2,0))\\n        break\\n        \\nshow_batch(train_dl)\\n\\n'"
      ]
     },
     "execution_count": 16,
     "metadata": {},
     "output_type": "execute_result"
    }
   ],
   "source": [
    "\"\"\"\n",
    "from torch.utils.data.dataloader import DataLoader\n",
    "\n",
    "\n",
    "train_dl = DataLoader(train_set, batch_size, shuffle = True, num_workers = 4, pin_memory = True)\n",
    "\n",
    "from torchvision.utils import make_grid\n",
    "\n",
    "def show_batch(dl):\n",
    "    #Plot images grid of single batch\n",
    "    for images, labels in dl:\n",
    "        fig,ax = plt.subplots(figsize = (16,12))\n",
    "        ax.set_xticks([])\n",
    "        ax.set_yticks([])\n",
    "        ax.imshow(make_grid(images,nrow=16).permute(1,2,0))\n",
    "        break\n",
    "        \n",
    "show_batch(train_dl)\n",
    "\n",
    "\"\"\""
   ]
  },
  {
   "cell_type": "code",
   "execution_count": 17,
   "id": "5308da1c",
   "metadata": {},
   "outputs": [
    {
     "data": {
      "text/plain": [
       "\"\\ntransform2 = transforms.Compose(\\n    [transforms.Resize((224, 224)),\\n     transforms.ToTensor()])\\n\\ntrain_set2 = ImageFolder('C:/Users/heuma/Desktop/Master/S10/Aurea/Dataset_Kaggle_validation_Train_20-80/TRAIN/', transform=transform2)\\n\\ntrain_dl2 = DataLoader(train_set2, batch_size, shuffle = True, num_workers = 4, pin_memory = True)\\n\\n        \\nshow_batch(train_dl2)\\n\""
      ]
     },
     "execution_count": 17,
     "metadata": {},
     "output_type": "execute_result"
    }
   ],
   "source": [
    "\"\"\"\n",
    "transform2 = transforms.Compose(\n",
    "    [transforms.Resize((224, 224)),\n",
    "     transforms.ToTensor()])\n",
    "\n",
    "train_set2 = ImageFolder('C:/Users/heuma/Desktop/Master/S10/Aurea/Dataset_Kaggle_validation_Train_20-80/TRAIN/', transform=transform2)\n",
    "\n",
    "train_dl2 = DataLoader(train_set2, batch_size, shuffle = True, num_workers = 4, pin_memory = True)\n",
    "\n",
    "        \n",
    "show_batch(train_dl2)\n",
    "\"\"\""
   ]
  },
  {
   "cell_type": "code",
   "execution_count": null,
   "id": "6940a02b",
   "metadata": {},
   "outputs": [],
   "source": []
  }
 ],
 "metadata": {
  "kernelspec": {
   "display_name": "Python 3 (ipykernel)",
   "language": "python",
   "name": "python3"
  },
  "language_info": {
   "codemirror_mode": {
    "name": "ipython",
    "version": 3
   },
   "file_extension": ".py",
   "mimetype": "text/x-python",
   "name": "python",
   "nbconvert_exporter": "python",
   "pygments_lexer": "ipython3",
   "version": "3.9.7"
  }
 },
 "nbformat": 4,
 "nbformat_minor": 5
}
