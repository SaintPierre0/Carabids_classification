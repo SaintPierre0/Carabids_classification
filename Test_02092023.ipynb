{
 "cells": [
  {
   "cell_type": "code",
   "execution_count": 1,
   "id": "66f3ab4b",
   "metadata": {},
   "outputs": [
    {
     "data": {
      "text/plain": [
       "'cuda'"
      ]
     },
     "execution_count": 1,
     "metadata": {},
     "output_type": "execute_result"
    }
   ],
   "source": [
    "# import PyTorch and its related packages\n",
    "import torch as T\n",
    "import torch.nn as nn\n",
    "import torch.optim as optim\n",
    "import torch.nn.functional as F\n",
    "\n",
    "import torch\n",
    "\n",
    "import torchvision\n",
    "import torchvision.transforms as transforms\n",
    "\n",
    "from torchvision import transforms\n",
    "from torchvision.datasets import ImageFolder\n",
    "\n",
    "from tqdm.notebook import tqdm\n",
    "\n",
    "from sklearn.metrics import confusion_matrix\n",
    "\n",
    "\n",
    "# set default device based on CUDA's availability\n",
    "device = 'cuda' if T.cuda.is_available() else 'cpu'\n",
    "device"
   ]
  },
  {
   "cell_type": "code",
   "execution_count": 2,
   "id": "44a7c1c6",
   "metadata": {},
   "outputs": [],
   "source": [
    "transform = transforms.Compose(\n",
    "    [transforms.Resize((224,224)),\n",
    "     transforms.ToTensor(),\n",
    "     transforms.Normalize((0.485, 0.456, 0.406), (0.229, 0.224, 0.225))])\n",
    "\n",
    "batch_size = 128\n",
    "#image_size = (224, 224, 3)\n",
    "\n",
    "train_set = ImageFolder('C:/Users/heuma/Desktop/Work/Reseaux_test/Dataset_Kaggle/output/train', transform=transform)\n",
    "validation_set = ImageFolder('C:/Users/heuma/Desktop/Work/Reseaux_test/Dataset_Kaggle/output/val', transform=transform)\n",
    "test_set = ImageFolder('C:/Users/heuma/Desktop/Work/Reseaux_test/Dataset_Kaggle/output/test', transform=transform)\n",
    "\n",
    "#train_set = train_ds\n",
    "train_loader = T.utils.data.DataLoader(train_set, batch_size=batch_size,shuffle=True, num_workers=8)\n",
    "\n",
    "#validation_set = validation_ds\n",
    "validation_loader = T.utils.data.DataLoader(validation_set, batch_size=batch_size,shuffle=True, num_workers=8)\n",
    "\n",
    "#test_set = test_ds\n",
    "test_loader = T.utils.data.DataLoader(test_set, batch_size=batch_size,shuffle=True, num_workers=8)"
   ]
  },
  {
   "cell_type": "code",
   "execution_count": 3,
   "id": "e9c36132",
   "metadata": {},
   "outputs": [],
   "source": [
    "class NewNetwork(nn.Module):\n",
    "    def __init__(self, num_classes=291):\n",
    "        super(NewNetwork, self).__init__()\n",
    "        self.features = nn.Sequential(\n",
    "            nn.Conv2d(3, 64, kernel_size=11, stride=4, padding=2),\n",
    "            nn.ReLU(inplace=True),\n",
    "            nn.MaxPool2d(kernel_size=3, stride=2),\n",
    "            nn.Dropout(p=0.5),\n",
    "            nn.Conv2d(64, 192, kernel_size=5, padding=2),\n",
    "            nn.ReLU(inplace=True),\n",
    "            nn.MaxPool2d(kernel_size=3, stride=2),\n",
    "            nn.Dropout(p=0.5),\n",
    "            nn.Conv2d(192, 256, kernel_size=3, padding=1),\n",
    "            nn.ReLU(inplace=True),\n",
    "            nn.MaxPool2d(kernel_size=3, stride=2),\n",
    "            nn.Dropout(p=0.5),\n",
    "            nn.Conv2d(256, 256, kernel_size=3, padding=1),\n",
    "            nn.ReLU(inplace=True),\n",
    "            nn.MaxPool2d(kernel_size=3, stride=2),\n",
    "            nn.Dropout(p=0.5)\n",
    "        )\n",
    "        self.classifier = nn.Sequential(\n",
    "            nn.Dropout(),\n",
    "            nn.Linear(16 * 8 * 8, 1000), #mettre 128 quand il y a 5 couches\n",
    "            nn.PReLU(),\n",
    "            nn.Dropout(p=0.5),\n",
    "            nn.Linear(1000, 1000),\n",
    "            nn.PReLU(),\n",
    "            nn.Linear(1000, num_classes),\n",
    "        )\n",
    "\n",
    "    def forward(self, x):\n",
    "        x = self.features(x)\n",
    "        x = x.view(x.shape[0], -1)\n",
    "        x = self.classifier(x)\n",
    "        return x"
   ]
  },
  {
   "cell_type": "code",
   "execution_count": 4,
   "id": "441d12a6",
   "metadata": {},
   "outputs": [
    {
     "data": {
      "text/plain": [
       "NewNetwork(\n",
       "  (features): Sequential(\n",
       "    (0): Conv2d(3, 64, kernel_size=(11, 11), stride=(4, 4), padding=(2, 2))\n",
       "    (1): ReLU(inplace=True)\n",
       "    (2): MaxPool2d(kernel_size=3, stride=2, padding=0, dilation=1, ceil_mode=False)\n",
       "    (3): Dropout(p=0.5, inplace=False)\n",
       "    (4): Conv2d(64, 192, kernel_size=(5, 5), stride=(1, 1), padding=(2, 2))\n",
       "    (5): ReLU(inplace=True)\n",
       "    (6): MaxPool2d(kernel_size=3, stride=2, padding=0, dilation=1, ceil_mode=False)\n",
       "    (7): Dropout(p=0.5, inplace=False)\n",
       "    (8): Conv2d(192, 256, kernel_size=(3, 3), stride=(1, 1), padding=(1, 1))\n",
       "    (9): ReLU(inplace=True)\n",
       "    (10): MaxPool2d(kernel_size=3, stride=2, padding=0, dilation=1, ceil_mode=False)\n",
       "    (11): Dropout(p=0.5, inplace=False)\n",
       "    (12): Conv2d(256, 256, kernel_size=(3, 3), stride=(1, 1), padding=(1, 1))\n",
       "    (13): ReLU(inplace=True)\n",
       "    (14): MaxPool2d(kernel_size=3, stride=2, padding=0, dilation=1, ceil_mode=False)\n",
       "    (15): Dropout(p=0.5, inplace=False)\n",
       "  )\n",
       "  (classifier): Sequential(\n",
       "    (0): Dropout(p=0.5, inplace=False)\n",
       "    (1): Linear(in_features=1024, out_features=1000, bias=True)\n",
       "    (2): PReLU(num_parameters=1)\n",
       "    (3): Dropout(p=0.5, inplace=False)\n",
       "    (4): Linear(in_features=1000, out_features=1000, bias=True)\n",
       "    (5): PReLU(num_parameters=1)\n",
       "    (6): Linear(in_features=1000, out_features=291, bias=True)\n",
       "  )\n",
       ")"
      ]
     },
     "execution_count": 4,
     "metadata": {},
     "output_type": "execute_result"
    }
   ],
   "source": [
    "net = NewNetwork()\n",
    "net.to(device)"
   ]
  },
  {
   "cell_type": "code",
   "execution_count": 5,
   "id": "f39606d9",
   "metadata": {},
   "outputs": [],
   "source": [
    "criterion = nn.CrossEntropyLoss()\n",
    "\n",
    "# also the optimizer\n",
    "optimizer = optim.SGD(net.parameters(), lr=0.001, momentum=0.9)\n",
    "\n",
    "#dynamic learning rate\n",
    "#scheduler = optim.lr_scheduler.ExponentialLR(optimizer, gamma=0.9)"
   ]
  },
  {
   "cell_type": "code",
   "execution_count": 6,
   "id": "0b71ba8f",
   "metadata": {
    "scrolled": false
   },
   "outputs": [
    {
     "data": {
      "application/vnd.jupyter.widget-view+json": {
       "model_id": "116fd064ef484f6bb98f4405b081bad9",
       "version_major": 2,
       "version_minor": 0
      },
      "text/plain": [
       "  0%|          | 0/151 [00:00<?, ?it/s]"
      ]
     },
     "metadata": {},
     "output_type": "display_data"
    },
    {
     "name": "stdout",
     "output_type": "stream",
     "text": [
      "\n",
      "Epoch: 0\n",
      "Train Loss => 5.56743\n",
      "validation Acc.  => 1.161% | validation Loss  => 5.48174\n",
      "Accuracy of the network on test images: 1 %\n",
      "\n",
      "Epoch: 5\n",
      "Train Loss => 5.45174\n",
      "validation Acc.  => 1.402% | validation Loss  => 5.44166\n",
      "Accuracy of the network on test images: 1 %\n",
      "\n",
      "Epoch: 10\n",
      "Train Loss => 5.08083\n",
      "validation Acc.  => 2.660% | validation Loss  => 4.97436\n",
      "Accuracy of the network on test images: 2 %\n",
      "\n",
      "Epoch: 15\n",
      "Train Loss => 4.48841\n",
      "validation Acc.  => 3.981% | validation Loss  => 4.48709\n",
      "Accuracy of the network on test images: 4 %\n",
      "\n",
      "Epoch: 20\n",
      "Train Loss => 4.28963\n",
      "validation Acc.  => 4.836% | validation Loss  => 4.36371\n",
      "Accuracy of the network on test images: 4 %\n",
      "\n",
      "Epoch: 25\n",
      "Train Loss => 4.01875\n",
      "validation Acc.  => 7.576% | validation Loss  => 4.06183\n",
      "Accuracy of the network on test images: 7 %\n",
      "\n",
      "Epoch: 30\n",
      "Train Loss => 3.57272\n",
      "validation Acc.  => 11.251% | validation Loss  => 3.69248\n",
      "Accuracy of the network on test images: 11 %\n",
      "\n",
      "Epoch: 35\n",
      "Train Loss => 3.14170\n",
      "validation Acc.  => 15.554% | validation Loss  => 3.40105\n",
      "Accuracy of the network on test images: 15 %\n",
      "\n",
      "Epoch: 40\n",
      "Train Loss => 2.70052\n",
      "validation Acc.  => 25.758% | validation Loss  => 2.72588\n",
      "Accuracy of the network on test images: 26 %\n",
      "\n",
      "Epoch: 45\n",
      "Train Loss => 2.39008\n",
      "validation Acc.  => 31.077% | validation Loss  => 2.46333\n",
      "Accuracy of the network on test images: 32 %\n",
      "\n",
      "Epoch: 50\n",
      "Train Loss => 2.11131\n",
      "validation Acc.  => 36.912% | validation Loss  => 2.21642\n",
      "Accuracy of the network on test images: 36 %\n",
      "\n",
      "Epoch: 55\n",
      "Train Loss => 1.90253\n",
      "validation Acc.  => 44.358% | validation Loss  => 1.94177\n",
      "Accuracy of the network on test images: 43 %\n",
      "\n",
      "Epoch: 60\n",
      "Train Loss => 1.73590\n",
      "validation Acc.  => 48.856% | validation Loss  => 1.72929\n",
      "Accuracy of the network on test images: 47 %\n",
      "\n",
      "Epoch: 65\n",
      "Train Loss => 1.59008\n",
      "validation Acc.  => 52.353% | validation Loss  => 1.60901\n",
      "Accuracy of the network on test images: 51 %\n",
      "\n",
      "Epoch: 70\n",
      "Train Loss => 1.47566\n",
      "validation Acc.  => 51.451% | validation Loss  => 1.65505\n",
      "Accuracy of the network on test images: 50 %\n",
      "\n",
      "Epoch: 75\n",
      "Train Loss => 1.38670\n",
      "validation Acc.  => 55.996% | validation Loss  => 1.46719\n",
      "Accuracy of the network on test images: 56 %\n",
      "\n",
      "Epoch: 80\n",
      "Train Loss => 1.29284\n",
      "validation Acc.  => 56.963% | validation Loss  => 1.42849\n",
      "Accuracy of the network on test images: 56 %\n",
      "\n",
      "Epoch: 85\n",
      "Train Loss => 1.23505\n",
      "validation Acc.  => 58.640% | validation Loss  => 1.36756\n",
      "Accuracy of the network on test images: 59 %\n",
      "\n",
      "Epoch: 90\n",
      "Train Loss => 1.15434\n",
      "validation Acc.  => 62.170% | validation Loss  => 1.25414\n",
      "Accuracy of the network on test images: 62 %\n",
      "\n",
      "Epoch: 95\n",
      "Train Loss => 1.11813\n",
      "validation Acc.  => 60.896% | validation Loss  => 1.28258\n",
      "Accuracy of the network on test images: 60 %\n",
      "\n",
      "Epoch: 100\n",
      "Train Loss => 1.07140\n",
      "validation Acc.  => 63.717% | validation Loss  => 1.20314\n",
      "Accuracy of the network on test images: 63 %\n",
      "\n",
      "Epoch: 105\n",
      "Train Loss => 1.03814\n",
      "validation Acc.  => 63.701% | validation Loss  => 1.18951\n",
      "Accuracy of the network on test images: 63 %\n",
      "\n",
      "Epoch: 110\n",
      "Train Loss => 1.00098\n",
      "validation Acc.  => 67.037% | validation Loss  => 1.08402\n",
      "Accuracy of the network on test images: 66 %\n",
      "\n",
      "Epoch: 115\n",
      "Train Loss => 0.97257\n",
      "validation Acc.  => 67.344% | validation Loss  => 1.08320\n",
      "Accuracy of the network on test images: 67 %\n",
      "\n",
      "Epoch: 120\n",
      "Train Loss => 0.92109\n",
      "validation Acc.  => 68.553% | validation Loss  => 1.04542\n",
      "Accuracy of the network on test images: 68 %\n",
      "\n",
      "Epoch: 125\n",
      "Train Loss => 0.91087\n",
      "validation Acc.  => 69.439% | validation Loss  => 1.02715\n",
      "Accuracy of the network on test images: 69 %\n",
      "\n",
      "Epoch: 130\n",
      "Train Loss => 0.88460\n",
      "validation Acc.  => 68.553% | validation Loss  => 1.04362\n",
      "Accuracy of the network on test images: 68 %\n",
      "\n",
      "Epoch: 135\n",
      "Train Loss => 0.85773\n",
      "validation Acc.  => 70.712% | validation Loss  => 0.99763\n",
      "Accuracy of the network on test images: 69 %\n",
      "\n",
      "Epoch: 140\n",
      "Train Loss => 0.83323\n",
      "validation Acc.  => 70.326% | validation Loss  => 0.99218\n",
      "Accuracy of the network on test images: 70 %\n",
      "\n",
      "Epoch: 145\n",
      "Train Loss => 0.82233\n",
      "validation Acc.  => 71.341% | validation Loss  => 0.96009\n",
      "Accuracy of the network on test images: 70 %\n",
      "\n",
      "Epoch: 150\n",
      "Train Loss => 0.79907\n",
      "validation Acc.  => 70.003% | validation Loss  => 0.99876\n",
      "Accuracy of the network on test images: 70 %\n",
      "Finished Training\n"
     ]
    }
   ],
   "source": [
    "train_loss = []\n",
    "validation_loss = []\n",
    "train_acc = []\n",
    "validation_acc = []\n",
    "\n",
    "test_acc = []\n",
    "\n",
    "lrs = []\n",
    "steps = []\n",
    "\n",
    "# Initialize the prediction and label lists(tensors)\n",
    "predlist=torch.zeros(0,dtype=torch.long, device='cpu')\n",
    "lbllist=torch.zeros(0,dtype=torch.long, device='cpu')\n",
    "\n",
    "for epoch in tqdm(range(0, 151)):  # loop over the dataset multiple times\n",
    "    \n",
    "    running_loss = .0\n",
    "    correct = 0\n",
    "    total = 0\n",
    "    for i, data in enumerate(train_loader):\n",
    "        # get the inputs\n",
    "        inputs, labels = data\n",
    "        if device == 'cuda':\n",
    "            inputs, labels = inputs.to(device), labels.to(device)\n",
    "\n",
    "        # reset the parameter gradients\n",
    "        optimizer.zero_grad()\n",
    "\n",
    "        # forward\n",
    "        outputs = net(inputs)\n",
    "        loss = criterion(outputs, labels)\n",
    "        # backward\n",
    "        loss.backward()\n",
    "        # optimize\n",
    "        optimizer.step()\n",
    "        \n",
    "        running_loss += loss.item()\n",
    "        _, predicted = T.max(outputs.data, 1)\n",
    "        total += labels.size(0)\n",
    "        correct += (predicted == labels).sum().item()\n",
    "        \n",
    "    running_loss /= len(train_loader)\n",
    "    train_loss.append(running_loss)\n",
    "    running_acc = correct / total\n",
    "    train_acc.append(running_acc)\n",
    "    \n",
    "    #zone pour mettre le learning rate dynamique\n",
    "    \"\"\"\n",
    "    steps.append(epoch)\n",
    "    lrs.append(scheduler.get_last_lr()[0])\n",
    "    scheduler.step()\n",
    "    \"\"\"\n",
    "    \n",
    "    if epoch % 5 == 0: #ici changer pour la frequence d'affichage\n",
    "        print('\\nEpoch: {}'.format(epoch))\n",
    "    #    print('Train Acc. => {:.3f}%'.format(100 * running_acc), end=' | ')\n",
    "        print('Train Loss => {:.5f}'.format(running_loss))\n",
    "    \n",
    "    # evaluate on the validation set\n",
    "    # note this is usually performed on the validation set\n",
    "    # for simplicity we just evaluate it on the validation set\n",
    "    with T.no_grad():\n",
    "        correct = 0\n",
    "        total = 0\n",
    "        validation_running_loss = .0\n",
    "        for data in validation_loader:\n",
    "            inputs, labels = data\n",
    "            if device == 'cuda':\n",
    "                inputs, labels = inputs.to(device), labels.to(device)\n",
    "            outputs = net(inputs)\n",
    "            loss = criterion(outputs, labels)\n",
    "            validation_running_loss += loss.item()\n",
    "            _, predicted = T.max(outputs.data, 1)\n",
    "            total += labels.size(0)\n",
    "            correct += (predicted == labels).sum().item()\n",
    "            \n",
    "            if epoch == 150: # a changer si besoin d'afficher la matrice de confusion, a mettre à epoch-1\n",
    "                # Append batch prediction results\n",
    "                predlist=torch.cat([predlist,predicted.view(-1).cpu()])\n",
    "                lbllist=torch.cat([lbllist,labels.view(-1).cpu()])\n",
    "\n",
    "        validation_running_loss /= len(validation_loader)\n",
    "        validation_loss.append(validation_running_loss)\n",
    "        validation_running_acc = correct / total\n",
    "        validation_acc.append(validation_running_acc)\n",
    "        \n",
    "        if epoch % 5 == 0: #ici changer pour la frequence d'affichage\n",
    "            print('validation Acc.  => {:.3f}%'.format(100 * validation_running_acc), end=' | ')\n",
    "            print('validation Loss  => {:.5f}'.format(validation_running_loss))\n",
    "\n",
    "    with torch.no_grad():\n",
    "        correct_t = 0\n",
    "        total_t = 0\n",
    "        for data in test_loader:\n",
    "            inputs, labels = data\n",
    "            inputs, labels = inputs.to('cuda'), labels.to('cuda')\n",
    "            outputs = net(inputs)\n",
    "            _, predicted = torch.max(outputs.data, 1)\n",
    "            total_t += labels.size(0)\n",
    "            correct_t += (predicted == labels).sum().item()\n",
    "            \n",
    "            running_acc_t = correct_t / total_t\n",
    "        test_acc.append(running_acc_t)\n",
    "    \n",
    "        if epoch % 5 == 0: #ici changer pour la frequence d'affichage\n",
    "            print('Accuracy of the network on test images: %d %%' % (100 * correct_t / total_t))\n",
    "\n",
    "print('Finished Training')"
   ]
  },
  {
   "cell_type": "markdown",
   "id": "200262ff",
   "metadata": {},
   "source": [
    "## Visualization"
   ]
  },
  {
   "cell_type": "code",
   "execution_count": 7,
   "id": "bcb34d7f",
   "metadata": {},
   "outputs": [],
   "source": [
    "import matplotlib.pyplot as plt\n",
    "import seaborn as sns"
   ]
  },
  {
   "cell_type": "code",
   "execution_count": 8,
   "id": "aa68121a",
   "metadata": {},
   "outputs": [
    {
     "data": {
      "image/png": "[encoded data removed]",
      "text/plain": [
       "<Figure size 432x288 with 1 Axes>"
      ]
     },
     "metadata": {
      "needs_background": "light"
     },
     "output_type": "display_data"
    }
   ],
   "source": [
    "plt.plot(train_loss, label='train')\n",
    "plt.plot(validation_loss, label='validation')\n",
    "plt.xlabel(\"epoch\")\n",
    "plt.ylabel(\"loss values\")\n",
    "plt.title(\"loss rate's curve\")\n",
    "plt.legend()\n",
    "plt.show()"
   ]
  },
  {
   "cell_type": "code",
   "execution_count": 9,
   "id": "35ceeda8",
   "metadata": {},
   "outputs": [
    {
     "data": {
      "image/png": "[encoded data removed]",
      "text/plain": [
       "<Figure size 432x288 with 1 Axes>"
      ]
     },
     "metadata": {
      "needs_background": "light"
     },
     "output_type": "display_data"
    }
   ],
   "source": [
    "plt.plot(train_acc, label='train')\n",
    "plt.plot(validation_acc, label='validation')\n",
    "plt.plot(test_acc, label='test')\n",
    "plt.xlabel(\"epoch\")\n",
    "plt.ylabel(\"accuracy values\")\n",
    "plt.title(\"accuracy rate's curve\")\n",
    "plt.legend()\n",
    "plt.show()"
   ]
  },
  {
   "cell_type": "code",
   "execution_count": 10,
   "id": "ab1bac62",
   "metadata": {},
   "outputs": [
    {
     "name": "stdout",
     "output_type": "stream",
     "text": [
      "[[ 9  2  0 ...  0  0  0]\n",
      " [ 3 35  0 ...  0  0  0]\n",
      " [ 0  0 19 ...  0  0  0]\n",
      " ...\n",
      " [ 0  0  0 ... 17  0  0]\n",
      " [ 0  0  0 ...  0 15  0]\n",
      " [ 0  0  0 ...  0  0 31]]\n"
     ]
    }
   ],
   "source": [
    "# Confusion matrix\n",
    "conf_mat=confusion_matrix(lbllist.numpy(), predlist.numpy())\n",
    "print(conf_mat)\n"
   ]
  },
  {
   "cell_type": "code",
   "execution_count": 11,
   "id": "10da7cf6",
   "metadata": {},
   "outputs": [
    {
     "data": {
      "text/plain": [
       "<AxesSubplot:>"
      ]
     },
     "execution_count": 11,
     "metadata": {},
     "output_type": "execute_result"
    },
    {
     "data": {
      "image/png": "[encoded data removed]",
      "text/plain": [
       "<Figure size 936x720 with 2 Axes>"
      ]
     },
     "metadata": {
      "needs_background": "light"
     },
     "output_type": "display_data"
    }
   ],
   "source": [
    "fig, ax = plt.subplots(figsize=(13,10))\n",
    "sns.heatmap(conf_mat, annot=False, ax=ax, cmap=\"BuPu\")"
   ]
  },
  {
   "cell_type": "code",
   "execution_count": 12,
   "id": "2071eb75",
   "metadata": {},
   "outputs": [
    {
     "name": "stdout",
     "output_type": "stream",
     "text": [
      "[ 42.85714286  59.3220339   79.16666667  82.45614035  62.5\n",
      "  84.21052632  86.36363636  91.4893617   80.          60.52631579\n",
      "  60.          90.19607843  72.34042553  82.14285714  33.33333333\n",
      "  75.58139535  63.63636364  73.07692308  64.1509434   84.09090909\n",
      "  80.76923077  77.94117647  51.61290323  60.          62.5\n",
      "   0.          85.10638298  90.47619048  50.         100.\n",
      "  66.66666667  26.47058824  79.16666667  72.72727273 100.\n",
      "  83.33333333  73.33333333  33.33333333  75.          38.88888889\n",
      "  90.90909091  61.11111111  88.88888889  93.75        64.28571429\n",
      "  90.          50.          39.28571429  78.26086957  25.\n",
      "  90.90909091   0.          62.5         81.81818182  80.\n",
      "  63.63636364  69.6969697   72.          63.63636364  33.33333333\n",
      "  64.70588235  60.          54.54545455  36.36363636  50.\n",
      "  44.44444444  66.66666667  70.58823529  81.81818182  66.66666667\n",
      "  62.85714286  30.          70.          83.33333333  80.95238095\n",
      "  89.28571429  70.83333333  80.          85.9375      54.54545455\n",
      "  80.         100.          80.          66.66666667  60.\n",
      "  20.          16.66666667  71.83098592  40.          44.44444444\n",
      "  57.14285714  33.33333333  66.66666667  83.63636364  50.\n",
      "  28.57142857  62.5         88.23529412  50.          84.61538462\n",
      "  89.47368421  55.          81.08108108  41.66666667  40.\n",
      "  80.          85.71428571  82.60869565  66.66666667  77.77777778\n",
      "  54.54545455  59.25925926  76.47058824  90.          60.\n",
      "  94.59459459  88.88888889  56.25        81.81818182 100.\n",
      "  66.66666667  72.72727273  84.31372549  68.42105263  71.42857143\n",
      "  86.36363636  54.54545455  57.14285714  84.21052632  56.52173913\n",
      "  83.33333333  57.14285714  71.42857143  89.47368421  90.90909091\n",
      "  43.75        84.21052632  63.63636364  66.66666667  98.07692308\n",
      "  89.18918919  33.33333333  71.42857143  61.53846154  78.125\n",
      "  40.          44.44444444  76.92307692  76.92307692  52.38095238\n",
      "  66.66666667  50.          37.5         61.9047619   42.85714286\n",
      "  82.35294118  67.74193548  75.          91.66666667 100.\n",
      "  83.33333333  89.28571429  80.          45.45454545  54.16666667\n",
      "  71.875       53.125       50.          75.          82.5\n",
      "  84.61538462 100.          84.21052632  57.14285714  61.11111111\n",
      "  19.04761905 100.          57.14285714  60.          85.\n",
      "  50.          81.25        83.33333333  85.71428571  86.84210526\n",
      "  81.48148148  56.09756098  78.94736842  68.88888889  64.51612903\n",
      "  70.          72.22222222  41.66666667  45.83333333  81.81818182\n",
      "  38.46153846  81.81818182  70.          27.27272727  36.36363636\n",
      "  54.28571429  54.54545455  88.0952381   93.75        81.08108108\n",
      "  60.          85.71428571  89.47368421  40.          63.15789474\n",
      "  83.33333333  53.33333333  22.22222222  72.72727273  51.51515152\n",
      "  52.94117647  30.76923077  62.16216216  68.18181818  78.57142857\n",
      "  68.88888889  33.33333333  56.25        50.          63.63636364\n",
      "  53.84615385  14.28571429  46.15384615  85.71428571  91.66666667\n",
      "  36.36363636  72.          50.          11.11111111  81.25\n",
      "   0.          92.30769231  40.          75.30864198  75.\n",
      "   0.          89.79591837  82.35294118  81.25         0.\n",
      "  66.         100.         100.          62.96296296  61.29032258\n",
      "  68.62745098  54.54545455  66.66666667  76.19047619  60.\n",
      "  36.36363636  75.          27.77777778  88.88888889  55.\n",
      "  66.66666667  62.5         23.07692308  62.5         65.38461538\n",
      "  82.35294118  42.85714286   0.          47.36842105  60.\n",
      "  20.          35.29411765  61.29032258  92.59259259  92.\n",
      "  57.14285714  66.66666667  74.07407407  70.          73.33333333\n",
      "  60.          45.45454545  92.04545455  78.57142857  83.33333333\n",
      "  66.66666667 100.          78.94736842  73.91304348  55.55555556\n",
      "  77.5       ]\n"
     ]
    }
   ],
   "source": [
    "# Per-class accuracy\n",
    "class_accuracy=100*conf_mat.diagonal()/conf_mat.sum(1)\n",
    "print(class_accuracy)"
   ]
  },
  {
   "cell_type": "markdown",
   "id": "55083a6d",
   "metadata": {},
   "source": [
    "## Save"
   ]
  },
  {
   "cell_type": "code",
   "execution_count": 13,
   "id": "ea64b954",
   "metadata": {},
   "outputs": [],
   "source": [
    "#torch.save(net.state_dict(), \"C:/Users/heuma/Desktop/Master/S10/Aurea/Dataset_Kaggle_validation_Train_20-80/dict_Linh_network_1st_try\")"
   ]
  },
  {
   "cell_type": "code",
   "execution_count": 14,
   "id": "e0753a13",
   "metadata": {},
   "outputs": [],
   "source": [
    "#torch.save(net, \"C:/Users/heuma/Desktop/Master/S10/Aurea/Dataset_Kaggle_validation_Train_20-80/Linh_network_entire_model_1st_try\")"
   ]
  },
  {
   "cell_type": "code",
   "execution_count": 15,
   "id": "f9e64f8b",
   "metadata": {},
   "outputs": [
    {
     "data": {
      "text/plain": [
       "'\\nfrom torch.utils.data.dataloader import DataLoader\\n\\n\\ntrain_dl = DataLoader(train_set, batch_size, shuffle = True, num_workers = 4, pin_memory = True)\\n\\nfrom torchvision.utils import make_grid\\n\\ndef show_batch(dl):\\n    #Plot images grid of single batch\\n    for images, labels in dl:\\n        fig,ax = plt.subplots(figsize = (16,12))\\n        ax.set_xticks([])\\n        ax.set_yticks([])\\n        ax.imshow(make_grid(images,nrow=16).permute(1,2,0))\\n        break\\n        \\nshow_batch(train_dl)\\n\\n'"
      ]
     },
     "execution_count": 15,
     "metadata": {},
     "output_type": "execute_result"
    }
   ],
   "source": [
    "\"\"\"\n",
    "from torch.utils.data.dataloader import DataLoader\n",
    "\n",
    "\n",
    "train_dl = DataLoader(train_set, batch_size, shuffle = True, num_workers = 4, pin_memory = True)\n",
    "\n",
    "from torchvision.utils import make_grid\n",
    "\n",
    "def show_batch(dl):\n",
    "    #Plot images grid of single batch\n",
    "    for images, labels in dl:\n",
    "        fig,ax = plt.subplots(figsize = (16,12))\n",
    "        ax.set_xticks([])\n",
    "        ax.set_yticks([])\n",
    "        ax.imshow(make_grid(images,nrow=16).permute(1,2,0))\n",
    "        break\n",
    "        \n",
    "show_batch(train_dl)\n",
    "\n",
    "\"\"\""
   ]
  },
  {
   "cell_type": "code",
   "execution_count": 16,
   "id": "5308da1c",
   "metadata": {},
   "outputs": [
    {
     "data": {
      "text/plain": [
       "\"\\ntransform2 = transforms.Compose(\\n    [transforms.Resize((224, 224)),\\n     transforms.ToTensor()])\\n\\ntrain_set2 = ImageFolder('C:/Users/heuma/Desktop/Master/S10/Aurea/Dataset_Kaggle_validation_Train_20-80/TRAIN/', transform=transform2)\\n\\ntrain_dl2 = DataLoader(train_set2, batch_size, shuffle = True, num_workers = 4, pin_memory = True)\\n\\n        \\nshow_batch(train_dl2)\\n\""
      ]
     },
     "execution_count": 16,
     "metadata": {},
     "output_type": "execute_result"
    }
   ],
   "source": [
    "\"\"\"\n",
    "transform2 = transforms.Compose(\n",
    "    [transforms.Resize((224, 224)),\n",
    "     transforms.ToTensor()])\n",
    "\n",
    "train_set2 = ImageFolder('C:/Users/heuma/Desktop/Master/S10/Aurea/Dataset_Kaggle_validation_Train_20-80/TRAIN/', transform=transform2)\n",
    "\n",
    "train_dl2 = DataLoader(train_set2, batch_size, shuffle = True, num_workers = 4, pin_memory = True)\n",
    "\n",
    "        \n",
    "show_batch(train_dl2)\n",
    "\"\"\""
   ]
  },
  {
   "cell_type": "code",
   "execution_count": null,
   "id": "6940a02b",
   "metadata": {},
   "outputs": [],
   "source": []
  }
 ],
 "metadata": {
  "kernelspec": {
   "display_name": "Python 3 (ipykernel)",
   "language": "python",
   "name": "python3"
  },
  "language_info": {
   "codemirror_mode": {
    "name": "ipython",
    "version": 3
   },
   "file_extension": ".py",
   "mimetype": "text/x-python",
   "name": "python",
   "nbconvert_exporter": "python",
   "pygments_lexer": "ipython3",
   "version": "3.9.7"
  }
 },
 "nbformat": 4,
 "nbformat_minor": 5
}
