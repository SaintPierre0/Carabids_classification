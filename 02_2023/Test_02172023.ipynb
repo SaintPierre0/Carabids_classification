{
 "cells": [
  {
   "cell_type": "code",
   "execution_count": 1,
   "id": "66f3ab4b",
   "metadata": {},
   "outputs": [
    {
     "data": {
      "text/plain": [
       "'cuda'"
      ]
     },
     "execution_count": 1,
     "metadata": {},
     "output_type": "execute_result"
    }
   ],
   "source": [
    "# import PyTorch and its related packages\n",
    "import torch as T\n",
    "import torch.nn as nn\n",
    "import torch.optim as optim\n",
    "import torch.nn.functional as F\n",
    "\n",
    "import torch\n",
    "\n",
    "import torchvision\n",
    "import torchvision.transforms as transforms\n",
    "\n",
    "from torchvision import transforms\n",
    "from torchvision.datasets import ImageFolder\n",
    "\n",
    "from tqdm.notebook import tqdm\n",
    "\n",
    "from sklearn.metrics import confusion_matrix\n",
    "\n",
    "#mcc implementation\n",
    "from torchmetrics.classification import MultilabelMatthewsCorrCoef\n",
    "\n",
    "# set default device based on CUDA's availability\n",
    "device = 'cuda' if T.cuda.is_available() else 'cpu'\n",
    "device"
   ]
  },
  {
   "cell_type": "code",
   "execution_count": 2,
   "id": "44a7c1c6",
   "metadata": {},
   "outputs": [],
   "source": [
    "transform = transforms.Compose(\n",
    "    [transforms.Resize((448,448)),\n",
    "     transforms.ToTensor(),\n",
    "     transforms.Normalize((0.485, 0.456, 0.406), (0.229, 0.224, 0.225))])\n",
    "\n",
    "batch_size = 64\n",
    "#image_size = (224, 224, 3)\n",
    "\n",
    "train_set = ImageFolder('C:/Users/heuma/Desktop/Work/Reseaux_test/Dataset_Kaggle/output/train', transform=transform)\n",
    "validation_set = ImageFolder('C:/Users/heuma/Desktop/Work/Reseaux_test/Dataset_Kaggle/output/val', transform=transform)\n",
    "test_set = ImageFolder('C:/Users/heuma/Desktop/Work/Reseaux_test/Dataset_Kaggle/output/test', transform=transform)\n",
    "\n",
    "#train_set = train_ds\n",
    "train_loader = T.utils.data.DataLoader(train_set, batch_size=batch_size,shuffle=True, num_workers=8)\n",
    "\n",
    "#validation_set = validation_ds\n",
    "validation_loader = T.utils.data.DataLoader(validation_set, batch_size=batch_size,shuffle=True, num_workers=8)\n",
    "\n",
    "#test_set = test_ds\n",
    "test_loader = T.utils.data.DataLoader(test_set, batch_size=batch_size,shuffle=True, num_workers=8)"
   ]
  },
  {
   "cell_type": "code",
   "execution_count": 3,
   "id": "e9c36132",
   "metadata": {},
   "outputs": [],
   "source": [
    "class NewNetwork(nn.Module):\n",
    "    def __init__(self, num_classes=291):\n",
    "        super(NewNetwork, self).__init__()\n",
    "        self.features = nn.Sequential(\n",
    "            nn.Conv2d(3, 64, kernel_size=11, stride=4, padding=2),\n",
    "            nn.ReLU(inplace=True),\n",
    "            nn.MaxPool2d(kernel_size=3, stride=2),\n",
    "            nn.Dropout(p=0.5),\n",
    "            nn.Conv2d(64, 128, kernel_size=9, padding=2),\n",
    "            nn.ReLU(inplace=True),\n",
    "            nn.MaxPool2d(kernel_size=3, stride=2),\n",
    "            nn.Dropout(p=0.5),\n",
    "            nn.Conv2d(128, 256, kernel_size=7, padding=2),\n",
    "            nn.ReLU(inplace=True),\n",
    "            nn.MaxPool2d(kernel_size=3, stride=2),\n",
    "            nn.Dropout(p=0.5),\n",
    "            nn.Conv2d(256, 512, kernel_size=5, padding=2),\n",
    "            nn.ReLU(inplace=True),\n",
    "            nn.MaxPool2d(kernel_size=3, stride=2),\n",
    "            nn.Dropout(p=0.5),\n",
    "            nn.Conv2d(512, 1024, kernel_size=3, padding=2),\n",
    "            nn.ReLU(inplace=True),\n",
    "            nn.MaxPool2d(kernel_size=3, stride=2),\n",
    "            nn.Dropout(p=0.5)\n",
    "        )\n",
    "        self.classifier = nn.Sequential(\n",
    "            nn.Dropout(p=0.5),\n",
    "            nn.Linear(36 * 16 * 16, 1000), #mettre 128 quand il y a 5 couches\n",
    "            nn.PReLU(),\n",
    "            nn.Dropout(p=0.5),\n",
    "            nn.Linear(1000, 1000),\n",
    "            nn.PReLU(),\n",
    "            nn.Linear(1000, num_classes),\n",
    "        )\n",
    "\n",
    "    def forward(self, x):\n",
    "        x = self.features(x)\n",
    "        x = x.view(x.shape[0], -1)\n",
    "        x = self.classifier(x)\n",
    "        return x"
   ]
  },
  {
   "cell_type": "code",
   "execution_count": 4,
   "id": "441d12a6",
   "metadata": {},
   "outputs": [
    {
     "data": {
      "text/plain": [
       "NewNetwork(\n",
       "  (features): Sequential(\n",
       "    (0): Conv2d(3, 64, kernel_size=(11, 11), stride=(4, 4), padding=(2, 2))\n",
       "    (1): ReLU(inplace=True)\n",
       "    (2): MaxPool2d(kernel_size=3, stride=2, padding=0, dilation=1, ceil_mode=False)\n",
       "    (3): Dropout(p=0.5, inplace=False)\n",
       "    (4): Conv2d(64, 128, kernel_size=(9, 9), stride=(1, 1), padding=(2, 2))\n",
       "    (5): ReLU(inplace=True)\n",
       "    (6): MaxPool2d(kernel_size=3, stride=2, padding=0, dilation=1, ceil_mode=False)\n",
       "    (7): Dropout(p=0.5, inplace=False)\n",
       "    (8): Conv2d(128, 256, kernel_size=(7, 7), stride=(1, 1), padding=(2, 2))\n",
       "    (9): ReLU(inplace=True)\n",
       "    (10): MaxPool2d(kernel_size=3, stride=2, padding=0, dilation=1, ceil_mode=False)\n",
       "    (11): Dropout(p=0.5, inplace=False)\n",
       "    (12): Conv2d(256, 512, kernel_size=(5, 5), stride=(1, 1), padding=(2, 2))\n",
       "    (13): ReLU(inplace=True)\n",
       "    (14): MaxPool2d(kernel_size=3, stride=2, padding=0, dilation=1, ceil_mode=False)\n",
       "    (15): Dropout(p=0.5, inplace=False)\n",
       "    (16): Conv2d(512, 1024, kernel_size=(3, 3), stride=(1, 1), padding=(2, 2))\n",
       "    (17): ReLU(inplace=True)\n",
       "    (18): MaxPool2d(kernel_size=3, stride=2, padding=0, dilation=1, ceil_mode=False)\n",
       "    (19): Dropout(p=0.5, inplace=False)\n",
       "  )\n",
       "  (classifier): Sequential(\n",
       "    (0): Dropout(p=0.5, inplace=False)\n",
       "    (1): Linear(in_features=9216, out_features=1000, bias=True)\n",
       "    (2): PReLU(num_parameters=1)\n",
       "    (3): Dropout(p=0.5, inplace=False)\n",
       "    (4): Linear(in_features=1000, out_features=1000, bias=True)\n",
       "    (5): PReLU(num_parameters=1)\n",
       "    (6): Linear(in_features=1000, out_features=291, bias=True)\n",
       "  )\n",
       ")"
      ]
     },
     "execution_count": 4,
     "metadata": {},
     "output_type": "execute_result"
    }
   ],
   "source": [
    "net = NewNetwork()\n",
    "net.to(device)"
   ]
  },
  {
   "cell_type": "code",
   "execution_count": 5,
   "id": "f39606d9",
   "metadata": {},
   "outputs": [],
   "source": [
    "criterion = nn.CrossEntropyLoss()\n",
    "\n",
    "# also the optimizer\n",
    "optimizer = optim.Adam(net.parameters(), lr=0.0001)\n",
    "\n",
    "#dynamic learning rate\n",
    "#scheduler = optim.lr_scheduler.ExponentialLR(optimizer, gamma=0.9)"
   ]
  },
  {
   "cell_type": "code",
   "execution_count": 6,
   "id": "0b71ba8f",
   "metadata": {
    "scrolled": false
   },
   "outputs": [
    {
     "data": {
      "application/vnd.jupyter.widget-view+json": {
       "model_id": "667730da3a3f4f558eacd328fbaece30",
       "version_major": 2,
       "version_minor": 0
      },
      "text/plain": [
       "  0%|          | 0/51 [00:00<?, ?it/s]"
      ]
     },
     "metadata": {},
     "output_type": "display_data"
    },
    {
     "name": "stdout",
     "output_type": "stream",
     "text": [
      "\n",
      "Epoch: 0\n",
      "Train Acc. => 1.887% | Train Loss => 5.28745\n",
      "validation Acc.  => 3.952% | validation Loss  => 4.64219\n",
      "Accuracy of the network on test images: 3 %\n",
      "\n",
      "Epoch: 5\n",
      "Train Acc. => 50.888% | Train Loss => 1.63454\n",
      "validation Acc.  => 53.710% | validation Loss  => 1.55768\n",
      "Accuracy of the network on test images: 53 %\n",
      "\n",
      "Epoch: 10\n",
      "Train Acc. => 67.499% | Train Loss => 1.02839\n",
      "validation Acc.  => 65.935% | validation Loss  => 1.09730\n",
      "Accuracy of the network on test images: 67 %\n",
      "\n",
      "Epoch: 15\n",
      "Train Acc. => 75.768% | Train Loss => 0.75027\n",
      "validation Acc.  => 71.903% | validation Loss  => 0.91477\n",
      "Accuracy of the network on test images: 72 %\n",
      "\n",
      "Epoch: 20\n",
      "Train Acc. => 80.638% | Train Loss => 0.59826\n",
      "validation Acc.  => 76.790% | validation Loss  => 0.77167\n",
      "Accuracy of the network on test images: 76 %\n",
      "\n",
      "Epoch: 25\n",
      "Train Acc. => 83.692% | Train Loss => 0.50110\n",
      "validation Acc.  => 77.597% | validation Loss  => 0.74701\n",
      "Accuracy of the network on test images: 78 %\n",
      "\n",
      "Epoch: 30\n",
      "Train Acc. => 85.706% | Train Loss => 0.43167\n",
      "validation Acc.  => 77.081% | validation Loss  => 0.79999\n",
      "Accuracy of the network on test images: 78 %\n",
      "\n",
      "Epoch: 35\n",
      "Train Acc. => 87.341% | Train Loss => 0.37912\n",
      "validation Acc.  => 79.403% | validation Loss  => 0.69803\n",
      "Accuracy of the network on test images: 81 %\n",
      "\n",
      "Epoch: 40\n",
      "Train Acc. => 88.532% | Train Loss => 0.34518\n",
      "validation Acc.  => 81.371% | validation Loss  => 0.68279\n",
      "Accuracy of the network on test images: 81 %\n",
      "\n",
      "Epoch: 45\n",
      "Train Acc. => 89.742% | Train Loss => 0.30964\n",
      "validation Acc.  => 81.823% | validation Loss  => 0.66299\n",
      "Accuracy of the network on test images: 81 %\n",
      "\n",
      "Epoch: 50\n",
      "Train Acc. => 90.294% | Train Loss => 0.29304\n",
      "validation Acc.  => 81.613% | validation Loss  => 0.66933\n",
      "Accuracy of the network on test images: 82 %\n",
      "Finished Training\n"
     ]
    }
   ],
   "source": [
    "train_loss = []\n",
    "validation_loss = []\n",
    "train_acc = []\n",
    "validation_acc = []\n",
    "\n",
    "test_acc = []\n",
    "\n",
    "mcc_list = []\n",
    "\n",
    "lrs = []\n",
    "steps = []\n",
    "\n",
    "# Initialize the prediction and label lists(tensors)\n",
    "predlist=torch.zeros(0,dtype=torch.long, device='cpu')\n",
    "lbllist=torch.zeros(0,dtype=torch.long, device='cpu')\n",
    "\n",
    "for epoch in tqdm(range(0, 51)):  # loop over the dataset multiple times\n",
    "    \n",
    "    running_loss = .0\n",
    "    correct = 0\n",
    "    total = 0\n",
    "    for i, data in enumerate(train_loader):\n",
    "        # get the inputs\n",
    "        inputs, labels = data\n",
    "        if device == 'cuda':\n",
    "            inputs, labels = inputs.to(device), labels.to(device)\n",
    "\n",
    "        # reset the parameter gradients\n",
    "        optimizer.zero_grad()\n",
    "\n",
    "        # forward\n",
    "        outputs = net(inputs)\n",
    "        loss = criterion(outputs, labels)\n",
    "        # backward\n",
    "        loss.backward()\n",
    "        # optimize\n",
    "        optimizer.step()\n",
    "        \n",
    "        running_loss += loss.item()\n",
    "        _, predicted = T.max(outputs.data, 1)\n",
    "        total += labels.size(0)\n",
    "        correct += (predicted == labels).sum().item()\n",
    "        \n",
    "    running_loss /= len(train_loader)\n",
    "    train_loss.append(running_loss)\n",
    "    running_acc = correct / total\n",
    "    train_acc.append(running_acc)\n",
    "    \n",
    "    \"\"\"\n",
    "    print(\"predicted = \",predicted)\n",
    "    print(\"labels = \",labels)\n",
    "    \"\"\"\n",
    "    \n",
    "    #MCC implementation\n",
    "    \"\"\"\n",
    "    metric_mcc = MultilabelMatthewsCorrCoef(num_labels=291)\n",
    "    metric_mcc(predicted, labels)\n",
    "    mcc_list.append(metric_mcc)\n",
    "    \"\"\"\n",
    "    \n",
    "    #zone pour mettre le learning rate dynamique\n",
    "    \"\"\"\n",
    "    steps.append(epoch)\n",
    "    lrs.append(scheduler.get_last_lr()[0])\n",
    "    scheduler.step()\n",
    "    \"\"\"\n",
    "    \n",
    "    if epoch % 5 == 0: #ici changer pour la frequence d'affichage\n",
    "        print('\\nEpoch: {}'.format(epoch))\n",
    "        print('Train Acc. => {:.3f}%'.format(100 * running_acc), end=' | ')\n",
    "        print('Train Loss => {:.5f}'.format(running_loss))\n",
    "    \n",
    "    # evaluate on the validation set\n",
    "    # note this is usually performed on the validation set\n",
    "    # for simplicity we just evaluate it on the validation set\n",
    "    with T.no_grad():\n",
    "        correct = 0\n",
    "        total = 0\n",
    "        validation_running_loss = .0\n",
    "        for data in validation_loader:\n",
    "            inputs, labels = data\n",
    "            if device == 'cuda':\n",
    "                inputs, labels = inputs.to(device), labels.to(device)\n",
    "            outputs = net(inputs)\n",
    "            loss = criterion(outputs, labels)\n",
    "            validation_running_loss += loss.item()\n",
    "            _, predicted = T.max(outputs.data, 1)\n",
    "            total += labels.size(0)\n",
    "            correct += (predicted == labels).sum().item()\n",
    "            \n",
    "            if epoch == 50: # a changer si besoin d'afficher la matrice de confusion, a mettre à epoch-1\n",
    "                # Append batch prediction results\n",
    "                predlist=torch.cat([predlist,predicted.view(-1).cpu()])\n",
    "                lbllist=torch.cat([lbllist,labels.view(-1).cpu()])\n",
    "\n",
    "        validation_running_loss /= len(validation_loader)\n",
    "        validation_loss.append(validation_running_loss)\n",
    "        validation_running_acc = correct / total\n",
    "        validation_acc.append(validation_running_acc)\n",
    "        \n",
    "        if epoch % 5 == 0: #ici changer pour la frequence d'affichage\n",
    "            print('validation Acc.  => {:.3f}%'.format(100 * validation_running_acc), end=' | ')\n",
    "            print('validation Loss  => {:.5f}'.format(validation_running_loss))\n",
    "\n",
    "    with torch.no_grad():\n",
    "        correct_t = 0\n",
    "        total_t = 0\n",
    "        for data in test_loader:\n",
    "            inputs, labels = data\n",
    "            inputs, labels = inputs.to('cuda'), labels.to('cuda')\n",
    "            outputs = net(inputs)\n",
    "            _, predicted = torch.max(outputs.data, 1)\n",
    "            total_t += labels.size(0)\n",
    "            correct_t += (predicted == labels).sum().item()\n",
    "            \n",
    "            running_acc_t = correct_t / total_t\n",
    "        test_acc.append(running_acc_t)\n",
    "    \n",
    "        if epoch % 5 == 0: #ici changer pour la frequence d'affichage\n",
    "            print('Accuracy of the network on test images: %d %%' % (100 * correct_t / total_t))\n",
    "\n",
    "print('Finished Training')"
   ]
  },
  {
   "cell_type": "markdown",
   "id": "200262ff",
   "metadata": {},
   "source": [
    "## Visualization"
   ]
  },
  {
   "cell_type": "code",
   "execution_count": 7,
   "id": "bcb34d7f",
   "metadata": {},
   "outputs": [],
   "source": [
    "import matplotlib.pyplot as plt\n",
    "import seaborn as sns"
   ]
  },
  {
   "cell_type": "code",
   "execution_count": 8,
   "id": "aa68121a",
   "metadata": {},
   "outputs": [
    {
     "data": {
      "image/png": "[encoded data removed]",
      "text/plain": [
       "<Figure size 432x288 with 1 Axes>"
      ]
     },
     "metadata": {
      "needs_background": "light"
     },
     "output_type": "display_data"
    }
   ],
   "source": [
    "plt.plot(train_loss, label='train')\n",
    "plt.plot(validation_loss, label='validation')\n",
    "plt.xlabel(\"epoch\")\n",
    "plt.ylabel(\"loss values\")\n",
    "plt.title(\"loss rate's curve\")\n",
    "plt.legend()\n",
    "plt.show()"
   ]
  },
  {
   "cell_type": "code",
   "execution_count": 9,
   "id": "35ceeda8",
   "metadata": {},
   "outputs": [
    {
     "data": {
      "image/png": "[encoded data removed]",
      "text/plain": [
       "<Figure size 432x288 with 1 Axes>"
      ]
     },
     "metadata": {
      "needs_background": "light"
     },
     "output_type": "display_data"
    }
   ],
   "source": [
    "plt.plot(train_acc, label='train')\n",
    "plt.plot(validation_acc, label='validation')\n",
    "plt.plot(test_acc, label='test')\n",
    "plt.xlabel(\"epoch\")\n",
    "plt.ylabel(\"accuracy values\")\n",
    "plt.title(\"accuracy rate's curve\")\n",
    "plt.legend()\n",
    "plt.show()"
   ]
  },
  {
   "cell_type": "code",
   "execution_count": 10,
   "id": "78d4feaa",
   "metadata": {},
   "outputs": [],
   "source": [
    "#plt.plot(mcc_list, label='MCC')\n",
    "#plt.xlabel(\"epoch\")\n",
    "#plt.ylabel(\"MCC values\")\n",
    "#plt.title(\"MCC curve\")\n",
    "#plt.legend()\n",
    "#plt.show()"
   ]
  },
  {
   "cell_type": "code",
   "execution_count": 11,
   "id": "ab1bac62",
   "metadata": {},
   "outputs": [
    {
     "name": "stdout",
     "output_type": "stream",
     "text": [
      "[[ 9  2  0 ...  0  0  0]\n",
      " [ 1 41  0 ...  0  0  0]\n",
      " [ 0  0 21 ...  0  0  0]\n",
      " ...\n",
      " [ 0  0  0 ... 18  0  0]\n",
      " [ 0  0  0 ...  0 19  0]\n",
      " [ 0  0  0 ...  0  0 32]]\n"
     ]
    }
   ],
   "source": [
    "# Confusion matrix\n",
    "conf_mat=confusion_matrix(lbllist.numpy(), predlist.numpy())\n",
    "print(conf_mat)\n"
   ]
  },
  {
   "cell_type": "code",
   "execution_count": 12,
   "id": "10da7cf6",
   "metadata": {},
   "outputs": [
    {
     "data": {
      "text/plain": [
       "<AxesSubplot:>"
      ]
     },
     "execution_count": 12,
     "metadata": {},
     "output_type": "execute_result"
    },
    {
     "data": {
      "image/png": "[encoded data removed]",
      "text/plain": [
       "<Figure size 936x720 with 2 Axes>"
      ]
     },
     "metadata": {
      "needs_background": "light"
     },
     "output_type": "display_data"
    }
   ],
   "source": [
    "fig, ax = plt.subplots(figsize=(13,10))\n",
    "sns.heatmap(conf_mat, annot=False, ax=ax, cmap=\"BuPu\")"
   ]
  },
  {
   "cell_type": "code",
   "execution_count": 13,
   "id": "2071eb75",
   "metadata": {},
   "outputs": [
    {
     "name": "stdout",
     "output_type": "stream",
     "text": [
      "[ 45.          69.49152542  87.5         78.94736842  68.75\n",
      "  84.21052632  68.18181818  95.74468085  80.          68.42105263\n",
      "  60.         100.          65.95744681  83.92857143  66.66666667\n",
      "  82.55813953  90.90909091  92.30769231  66.03773585  84.09090909\n",
      "  96.15384615  82.35294118  80.64516129  90.          75.\n",
      "  42.85714286  97.87234043  95.23809524  92.85714286 100.\n",
      " 100.          61.76470588  91.66666667 100.          92.85714286\n",
      "  83.33333333  93.33333333  83.33333333  93.75        66.66666667\n",
      "  72.72727273  86.11111111  83.33333333  56.25       100.\n",
      "  97.5         50.          50.          95.65217391  50.\n",
      "  81.81818182  75.          75.          90.90909091 100.\n",
      "  81.81818182  90.90909091  80.          63.63636364  80.\n",
      "  70.58823529 100.          63.63636364  68.18181818  50.\n",
      "  55.55555556  33.33333333  79.41176471 100.         100.\n",
      "  88.57142857  80.          80.          95.83333333  95.23809524\n",
      "  96.42857143  87.5         92.5         95.3125      81.81818182\n",
      " 100.         100.          80.          66.66666667  86.66666667\n",
      "  40.          66.66666667  78.87323944  80.          55.55555556\n",
      "  85.71428571  40.          86.66666667  80.          75.\n",
      "  57.14285714  81.25        88.23529412 100.          92.30769231\n",
      "  84.21052632  80.          83.78378378  83.33333333  60.\n",
      " 100.          95.23809524  86.95652174  66.66666667  91.66666667\n",
      "  81.81818182  88.88888889  88.23529412  95.          80.\n",
      "  94.59459459  88.88888889  81.25        81.81818182 100.\n",
      "  66.66666667  90.90909091  90.19607843  86.84210526  80.95238095\n",
      "  93.18181818 100.          60.71428571  94.73684211  73.91304348\n",
      "  66.66666667  76.19047619  85.71428571  94.73684211  90.90909091\n",
      "  93.75        84.21052632 100.          66.66666667  98.07692308\n",
      "  91.89189189  88.88888889 100.          92.30769231  81.25\n",
      "  80.          77.77777778  71.875       92.30769231  76.19047619\n",
      "  80.          87.5         37.5         90.47619048  85.71428571\n",
      "  70.58823529  83.87096774  80.          83.33333333 100.\n",
      " 100.          89.28571429 100.          81.81818182  75.\n",
      "  71.875       71.875      100.          83.33333333  97.5\n",
      "  92.30769231 100.          92.10526316  57.14285714  72.22222222\n",
      "  57.14285714 100.          85.71428571  40.         100.\n",
      "  70.         100.          83.33333333  85.71428571  92.10526316\n",
      "  81.48148148  36.58536585  92.10526316  80.          83.87096774\n",
      "  90.          77.77777778  66.66666667  62.5         90.90909091\n",
      "  53.84615385  90.90909091  55.          90.90909091  63.63636364\n",
      "  71.42857143  66.66666667  69.04761905 100.          83.78378378\n",
      "  88.         100.          94.73684211  60.          73.68421053\n",
      "  75.          73.33333333  62.96296296  81.81818182  87.87878788\n",
      "  76.47058824  92.30769231  86.48648649  68.18181818  83.33333333\n",
      "  73.33333333  83.33333333  87.5         66.66666667  63.63636364\n",
      "  61.53846154  85.71428571  92.30769231  92.85714286 100.\n",
      "  54.54545455  76.          50.          77.77777778  87.5\n",
      "  33.33333333  76.92307692  60.          81.48148148  81.25\n",
      "  60.          81.63265306  94.          93.75       100.\n",
      "  66.         100.          83.33333333  74.07407407  74.19354839\n",
      "  66.66666667  81.81818182  88.88888889  90.47619048  80.\n",
      "  59.09090909  91.66666667  66.66666667  77.77777778  90.\n",
      "  80.          87.5         69.23076923  87.5         92.30769231\n",
      "  76.47058824  71.42857143  40.          63.15789474  66.66666667\n",
      "  20.          76.47058824  83.87096774  96.2962963   84.\n",
      "  42.85714286  73.33333333  88.88888889  90.          93.33333333\n",
      "  92.          95.45454545  82.95454545  92.85714286  83.33333333\n",
      "  77.77777778  92.30769231  94.73684211  78.26086957  70.37037037\n",
      "  80.        ]\n"
     ]
    }
   ],
   "source": [
    "# Per-class accuracy\n",
    "class_accuracy=100*conf_mat.diagonal()/conf_mat.sum(1)\n",
    "print(class_accuracy)"
   ]
  },
  {
   "cell_type": "markdown",
   "id": "55083a6d",
   "metadata": {},
   "source": [
    "## Save"
   ]
  },
  {
   "cell_type": "code",
   "execution_count": 14,
   "id": "ea64b954",
   "metadata": {},
   "outputs": [],
   "source": [
    "#torch.save(net.state_dict(), \"C:/Users/heuma/Desktop/Master/S10/Aurea/Dataset_Kaggle_validation_Train_20-80/dict_Linh_network_1st_try\")"
   ]
  },
  {
   "cell_type": "code",
   "execution_count": 15,
   "id": "e0753a13",
   "metadata": {},
   "outputs": [],
   "source": [
    "#torch.save(net, \"C:/Users/heuma/Desktop/Master/S10/Aurea/Dataset_Kaggle_validation_Train_20-80/Linh_network_entire_model_1st_try\")"
   ]
  },
  {
   "cell_type": "code",
   "execution_count": 16,
   "id": "f9e64f8b",
   "metadata": {},
   "outputs": [
    {
     "data": {
      "text/plain": [
       "'\\nfrom torch.utils.data.dataloader import DataLoader\\n\\n\\ntrain_dl = DataLoader(train_set, batch_size, shuffle = True, num_workers = 4, pin_memory = True)\\n\\nfrom torchvision.utils import make_grid\\n\\ndef show_batch(dl):\\n    #Plot images grid of single batch\\n    for images, labels in dl:\\n        fig,ax = plt.subplots(figsize = (16,12))\\n        ax.set_xticks([])\\n        ax.set_yticks([])\\n        ax.imshow(make_grid(images,nrow=16).permute(1,2,0))\\n        break\\n        \\nshow_batch(train_dl)\\n\\n'"
      ]
     },
     "execution_count": 16,
     "metadata": {},
     "output_type": "execute_result"
    }
   ],
   "source": [
    "\"\"\"\n",
    "from torch.utils.data.dataloader import DataLoader\n",
    "\n",
    "\n",
    "train_dl = DataLoader(train_set, batch_size, shuffle = True, num_workers = 4, pin_memory = True)\n",
    "\n",
    "from torchvision.utils import make_grid\n",
    "\n",
    "def show_batch(dl):\n",
    "    #Plot images grid of single batch\n",
    "    for images, labels in dl:\n",
    "        fig,ax = plt.subplots(figsize = (16,12))\n",
    "        ax.set_xticks([])\n",
    "        ax.set_yticks([])\n",
    "        ax.imshow(make_grid(images,nrow=16).permute(1,2,0))\n",
    "        break\n",
    "        \n",
    "show_batch(train_dl)\n",
    "\n",
    "\"\"\""
   ]
  },
  {
   "cell_type": "code",
   "execution_count": 17,
   "id": "5308da1c",
   "metadata": {},
   "outputs": [
    {
     "data": {
      "text/plain": [
       "\"\\ntransform2 = transforms.Compose(\\n    [transforms.Resize((224, 224)),\\n     transforms.ToTensor()])\\n\\ntrain_set2 = ImageFolder('C:/Users/heuma/Desktop/Master/S10/Aurea/Dataset_Kaggle_validation_Train_20-80/TRAIN/', transform=transform2)\\n\\ntrain_dl2 = DataLoader(train_set2, batch_size, shuffle = True, num_workers = 4, pin_memory = True)\\n\\n        \\nshow_batch(train_dl2)\\n\""
      ]
     },
     "execution_count": 17,
     "metadata": {},
     "output_type": "execute_result"
    }
   ],
   "source": [
    "\"\"\"\n",
    "transform2 = transforms.Compose(\n",
    "    [transforms.Resize((224, 224)),\n",
    "     transforms.ToTensor()])\n",
    "\n",
    "train_set2 = ImageFolder('C:/Users/heuma/Desktop/Master/S10/Aurea/Dataset_Kaggle_validation_Train_20-80/TRAIN/', transform=transform2)\n",
    "\n",
    "train_dl2 = DataLoader(train_set2, batch_size, shuffle = True, num_workers = 4, pin_memory = True)\n",
    "\n",
    "        \n",
    "show_batch(train_dl2)\n",
    "\"\"\""
   ]
  },
  {
   "cell_type": "code",
   "execution_count": null,
   "id": "6940a02b",
   "metadata": {},
   "outputs": [],
   "source": []
  }
 ],
 "metadata": {
  "kernelspec": {
   "display_name": "Python 3 (ipykernel)",
   "language": "python",
   "name": "python3"
  },
  "language_info": {
   "codemirror_mode": {
    "name": "ipython",
    "version": 3
   },
   "file_extension": ".py",
   "mimetype": "text/x-python",
   "name": "python",
   "nbconvert_exporter": "python",
   "pygments_lexer": "ipython3",
   "version": "3.9.7"
  }
 },
 "nbformat": 4,
 "nbformat_minor": 5
}
