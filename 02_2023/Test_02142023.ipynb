{
 "cells": [
  {
   "cell_type": "code",
   "execution_count": 1,
   "id": "66f3ab4b",
   "metadata": {},
   "outputs": [
    {
     "data": {
      "text/plain": [
       "'cuda'"
      ]
     },
     "execution_count": 1,
     "metadata": {},
     "output_type": "execute_result"
    }
   ],
   "source": [
    "# import PyTorch and its related packages\n",
    "import torch as T\n",
    "import torch.nn as nn\n",
    "import torch.optim as optim\n",
    "import torch.nn.functional as F\n",
    "\n",
    "import torch\n",
    "\n",
    "import torchvision\n",
    "import torchvision.transforms as transforms\n",
    "\n",
    "from torchvision import transforms\n",
    "from torchvision.datasets import ImageFolder\n",
    "\n",
    "from tqdm.notebook import tqdm\n",
    "\n",
    "from sklearn.metrics import confusion_matrix\n",
    "\n",
    "#mcc implementation\n",
    "from torchmetrics.classification import MultilabelMatthewsCorrCoef\n",
    "\n",
    "# set default device based on CUDA's availability\n",
    "device = 'cuda' if T.cuda.is_available() else 'cpu'\n",
    "device"
   ]
  },
  {
   "cell_type": "code",
   "execution_count": 2,
   "id": "44a7c1c6",
   "metadata": {},
   "outputs": [],
   "source": [
    "transform = transforms.Compose(\n",
    "    [transforms.Resize((224,224)),\n",
    "     transforms.ToTensor(),\n",
    "     transforms.Normalize((0.485, 0.456, 0.406), (0.229, 0.224, 0.225))])\n",
    "\n",
    "batch_size = 128\n",
    "#image_size = (224, 224, 3)\n",
    "\n",
    "train_set = ImageFolder('C:/Users/heuma/Desktop/Work/Reseaux_test/Dataset_Kaggle/output/train', transform=transform)\n",
    "validation_set = ImageFolder('C:/Users/heuma/Desktop/Work/Reseaux_test/Dataset_Kaggle/output/val', transform=transform)\n",
    "test_set = ImageFolder('C:/Users/heuma/Desktop/Work/Reseaux_test/Dataset_Kaggle/output/test', transform=transform)\n",
    "\n",
    "#train_set = train_ds\n",
    "train_loader = T.utils.data.DataLoader(train_set, batch_size=batch_size,shuffle=True, num_workers=8)\n",
    "\n",
    "#validation_set = validation_ds\n",
    "validation_loader = T.utils.data.DataLoader(validation_set, batch_size=batch_size,shuffle=True, num_workers=8)\n",
    "\n",
    "#test_set = test_ds\n",
    "test_loader = T.utils.data.DataLoader(test_set, batch_size=batch_size,shuffle=True, num_workers=8)"
   ]
  },
  {
   "cell_type": "code",
   "execution_count": 3,
   "id": "e9c36132",
   "metadata": {},
   "outputs": [],
   "source": [
    "class NewNetwork(nn.Module):\n",
    "    def __init__(self, num_classes=291):\n",
    "        super(NewNetwork, self).__init__()\n",
    "        self.features = nn.Sequential(\n",
    "            nn.Conv2d(3, 64, kernel_size=11, stride=4, padding=2),\n",
    "            nn.ReLU(inplace=True),\n",
    "            nn.Conv2d(64, 64, kernel_size=1, padding=0),\n",
    "            nn.Dropout(p=0.5),\n",
    "            nn.Conv2d(64, 64, kernel_size=1, padding=0),\n",
    "            nn.Dropout(p=0.5),\n",
    "            nn.Conv2d(64, 64, kernel_size=1, padding=0),\n",
    "            nn.MaxPool2d(kernel_size=3, stride=2),\n",
    "            nn.Dropout(p=0.5),\n",
    "            nn.Conv2d(64, 192, kernel_size=5, padding=2),\n",
    "            nn.ReLU(inplace=True),\n",
    "            nn.Conv2d(192, 192, kernel_size=1, padding=0),\n",
    "            nn.Dropout(p=0.5),\n",
    "            nn.Conv2d(192, 192, kernel_size=1, padding=0),\n",
    "            nn.Dropout(p=0.5),\n",
    "            nn.Conv2d(192, 192, kernel_size=1, padding=0),\n",
    "            nn.Dropout(p=0.5),\n",
    "            nn.MaxPool2d(kernel_size=3, stride=2),\n",
    "            nn.Dropout(p=0.5),\n",
    "            nn.Conv2d(192, 256, kernel_size=3, padding=1),\n",
    "            nn.ReLU(inplace=True),\n",
    "            nn.MaxPool2d(kernel_size=3, stride=2),\n",
    "            nn.Dropout(p=0.5)\n",
    "        )\n",
    "        self.classifier = nn.Sequential(\n",
    "            nn.Dropout(p=0.5),\n",
    "            nn.Linear(36 * 16 * 16, 500), #mettre 128 quand il y a 5 couches\n",
    "            nn.PReLU(),\n",
    "            nn.Dropout(p=0.5),\n",
    "            nn.Linear(500, 300),\n",
    "            nn.PReLU(),\n",
    "            nn.Linear(300, num_classes),\n",
    "        )\n",
    "\n",
    "    def forward(self, x):\n",
    "        x = self.features(x)\n",
    "        x = x.view(x.shape[0], -1)\n",
    "        x = self.classifier(x)\n",
    "        return x"
   ]
  },
  {
   "cell_type": "code",
   "execution_count": 4,
   "id": "441d12a6",
   "metadata": {},
   "outputs": [
    {
     "data": {
      "text/plain": [
       "NewNetwork(\n",
       "  (features): Sequential(\n",
       "    (0): Conv2d(3, 64, kernel_size=(11, 11), stride=(4, 4), padding=(2, 2))\n",
       "    (1): ReLU(inplace=True)\n",
       "    (2): Conv2d(64, 64, kernel_size=(1, 1), stride=(1, 1))\n",
       "    (3): Dropout(p=0.5, inplace=False)\n",
       "    (4): Conv2d(64, 64, kernel_size=(1, 1), stride=(1, 1))\n",
       "    (5): Dropout(p=0.5, inplace=False)\n",
       "    (6): Conv2d(64, 64, kernel_size=(1, 1), stride=(1, 1))\n",
       "    (7): MaxPool2d(kernel_size=3, stride=2, padding=0, dilation=1, ceil_mode=False)\n",
       "    (8): Dropout(p=0.5, inplace=False)\n",
       "    (9): Conv2d(64, 192, kernel_size=(5, 5), stride=(1, 1), padding=(2, 2))\n",
       "    (10): ReLU(inplace=True)\n",
       "    (11): Conv2d(192, 192, kernel_size=(1, 1), stride=(1, 1))\n",
       "    (12): Dropout(p=0.5, inplace=False)\n",
       "    (13): Conv2d(192, 192, kernel_size=(1, 1), stride=(1, 1))\n",
       "    (14): Dropout(p=0.5, inplace=False)\n",
       "    (15): Conv2d(192, 192, kernel_size=(1, 1), stride=(1, 1))\n",
       "    (16): Dropout(p=0.5, inplace=False)\n",
       "    (17): MaxPool2d(kernel_size=3, stride=2, padding=0, dilation=1, ceil_mode=False)\n",
       "    (18): Dropout(p=0.5, inplace=False)\n",
       "    (19): Conv2d(192, 256, kernel_size=(3, 3), stride=(1, 1), padding=(1, 1))\n",
       "    (20): ReLU(inplace=True)\n",
       "    (21): MaxPool2d(kernel_size=3, stride=2, padding=0, dilation=1, ceil_mode=False)\n",
       "    (22): Dropout(p=0.5, inplace=False)\n",
       "  )\n",
       "  (classifier): Sequential(\n",
       "    (0): Dropout(p=0.5, inplace=False)\n",
       "    (1): Linear(in_features=9216, out_features=500, bias=True)\n",
       "    (2): PReLU(num_parameters=1)\n",
       "    (3): Dropout(p=0.5, inplace=False)\n",
       "    (4): Linear(in_features=500, out_features=300, bias=True)\n",
       "    (5): PReLU(num_parameters=1)\n",
       "    (6): Linear(in_features=300, out_features=291, bias=True)\n",
       "  )\n",
       ")"
      ]
     },
     "execution_count": 4,
     "metadata": {},
     "output_type": "execute_result"
    }
   ],
   "source": [
    "net = NewNetwork()\n",
    "net.to(device)"
   ]
  },
  {
   "cell_type": "code",
   "execution_count": 5,
   "id": "f39606d9",
   "metadata": {},
   "outputs": [],
   "source": [
    "criterion = nn.CrossEntropyLoss()\n",
    "\n",
    "# also the optimizer\n",
    "optimizer = optim.SGD(net.parameters(), lr=0.001, momentum=0.9)\n",
    "\n",
    "#dynamic learning rate\n",
    "#scheduler = optim.lr_scheduler.ExponentialLR(optimizer, gamma=0.9)"
   ]
  },
  {
   "cell_type": "code",
   "execution_count": 6,
   "id": "0b71ba8f",
   "metadata": {
    "scrolled": false
   },
   "outputs": [
    {
     "data": {
      "application/vnd.jupyter.widget-view+json": {
       "model_id": "d8e8cf3ed28644d8a1363a88db38bbb8",
       "version_major": 2,
       "version_minor": 0
      },
      "text/plain": [
       "  0%|          | 0/201 [00:00<?, ?it/s]"
      ]
     },
     "metadata": {},
     "output_type": "display_data"
    },
    {
     "name": "stdout",
     "output_type": "stream",
     "text": [
      "\n",
      "Epoch: 0\n",
      "Train Loss => 5.62342\n",
      "validation Acc.  => 1.177% | validation Loss  => 5.51962\n",
      "Accuracy of the network on test images: 1 %\n",
      "\n",
      "Epoch: 10\n",
      "Train Loss => 5.46047\n",
      "validation Acc.  => 1.257% | validation Loss  => 5.45339\n",
      "Accuracy of the network on test images: 1 %\n",
      "\n",
      "Epoch: 20\n",
      "Train Loss => 5.13982\n",
      "validation Acc.  => 2.482% | validation Loss  => 5.10553\n",
      "Accuracy of the network on test images: 2 %\n",
      "\n",
      "Epoch: 30\n",
      "Train Loss => 4.08282\n",
      "validation Acc.  => 9.397% | validation Loss  => 4.06011\n",
      "Accuracy of the network on test images: 8 %\n",
      "\n",
      "Epoch: 40\n",
      "Train Loss => 3.24696\n",
      "validation Acc.  => 20.342% | validation Loss  => 3.22534\n",
      "Accuracy of the network on test images: 22 %\n",
      "\n",
      "Epoch: 50\n",
      "Train Loss => 2.53495\n",
      "validation Acc.  => 33.785% | validation Loss  => 2.55698\n",
      "Accuracy of the network on test images: 32 %\n",
      "\n",
      "Epoch: 60\n",
      "Train Loss => 2.10572\n",
      "validation Acc.  => 39.894% | validation Loss  => 2.20404\n",
      "Accuracy of the network on test images: 41 %\n",
      "\n",
      "Epoch: 70\n",
      "Train Loss => 1.81260\n",
      "validation Acc.  => 46.309% | validation Loss  => 1.96888\n",
      "Accuracy of the network on test images: 46 %\n",
      "\n",
      "Epoch: 80\n",
      "Train Loss => 1.60903\n",
      "validation Acc.  => 49.742% | validation Loss  => 1.82140\n",
      "Accuracy of the network on test images: 49 %\n",
      "\n",
      "Epoch: 90\n",
      "Train Loss => 1.44214\n",
      "validation Acc.  => 51.999% | validation Loss  => 1.76972\n",
      "Accuracy of the network on test images: 50 %\n",
      "\n",
      "Epoch: 100\n",
      "Train Loss => 1.31520\n",
      "validation Acc.  => 56.351% | validation Loss  => 1.54240\n",
      "Accuracy of the network on test images: 56 %\n",
      "\n",
      "Epoch: 110\n",
      "Train Loss => 1.20091\n",
      "validation Acc.  => 59.865% | validation Loss  => 1.43035\n",
      "Accuracy of the network on test images: 59 %\n",
      "\n",
      "Epoch: 120\n",
      "Train Loss => 1.12477\n",
      "validation Acc.  => 61.202% | validation Loss  => 1.35543\n",
      "Accuracy of the network on test images: 60 %\n",
      "\n",
      "Epoch: 130\n",
      "Train Loss => 1.03986\n",
      "validation Acc.  => 62.798% | validation Loss  => 1.30470\n",
      "Accuracy of the network on test images: 63 %\n",
      "\n",
      "Epoch: 140\n",
      "Train Loss => 0.99627\n",
      "validation Acc.  => 63.024% | validation Loss  => 1.27425\n",
      "Accuracy of the network on test images: 63 %\n",
      "\n",
      "Epoch: 150\n",
      "Train Loss => 0.92208\n",
      "validation Acc.  => 65.377% | validation Loss  => 1.20632\n",
      "Accuracy of the network on test images: 64 %\n",
      "\n",
      "Epoch: 160\n",
      "Train Loss => 0.85661\n",
      "validation Acc.  => 66.264% | validation Loss  => 1.19051\n",
      "Accuracy of the network on test images: 65 %\n",
      "\n",
      "Epoch: 170\n",
      "Train Loss => 0.82028\n",
      "validation Acc.  => 64.571% | validation Loss  => 1.28804\n",
      "Accuracy of the network on test images: 64 %\n",
      "\n",
      "Epoch: 180\n",
      "Train Loss => 0.78628\n",
      "validation Acc.  => 62.153% | validation Loss  => 1.38916\n",
      "Accuracy of the network on test images: 62 %\n",
      "\n",
      "Epoch: 190\n",
      "Train Loss => 0.75236\n",
      "validation Acc.  => 68.827% | validation Loss  => 1.11270\n",
      "Accuracy of the network on test images: 67 %\n",
      "\n",
      "Epoch: 200\n",
      "Train Loss => 0.71806\n",
      "validation Acc.  => 68.133% | validation Loss  => 1.12016\n",
      "Accuracy of the network on test images: 69 %\n",
      "Finished Training\n"
     ]
    }
   ],
   "source": [
    "train_loss = []\n",
    "validation_loss = []\n",
    "train_acc = []\n",
    "validation_acc = []\n",
    "\n",
    "test_acc = []\n",
    "\n",
    "mcc_list = []\n",
    "\n",
    "lrs = []\n",
    "steps = []\n",
    "\n",
    "# Initialize the prediction and label lists(tensors)\n",
    "predlist=torch.zeros(0,dtype=torch.long, device='cpu')\n",
    "lbllist=torch.zeros(0,dtype=torch.long, device='cpu')\n",
    "\n",
    "for epoch in tqdm(range(0, 201)):  # loop over the dataset multiple times\n",
    "    \n",
    "    running_loss = .0\n",
    "    correct = 0\n",
    "    total = 0\n",
    "    for i, data in enumerate(train_loader):\n",
    "        # get the inputs\n",
    "        inputs, labels = data\n",
    "        if device == 'cuda':\n",
    "            inputs, labels = inputs.to(device), labels.to(device)\n",
    "\n",
    "        # reset the parameter gradients\n",
    "        optimizer.zero_grad()\n",
    "\n",
    "        # forward\n",
    "        outputs = net(inputs)\n",
    "        loss = criterion(outputs, labels)\n",
    "        # backward\n",
    "        loss.backward()\n",
    "        # optimize\n",
    "        optimizer.step()\n",
    "        \n",
    "        running_loss += loss.item()\n",
    "        _, predicted = T.max(outputs.data, 1)\n",
    "        total += labels.size(0)\n",
    "        correct += (predicted == labels).sum().item()\n",
    "        \n",
    "    running_loss /= len(train_loader)\n",
    "    train_loss.append(running_loss)\n",
    "    running_acc = correct / total\n",
    "    train_acc.append(running_acc)\n",
    "    \n",
    "    \"\"\"\n",
    "    print(\"predicted = \",predicted)\n",
    "    print(\"labels = \",labels)\n",
    "    \"\"\"\n",
    "    \n",
    "    #MCC implementation\n",
    "    \"\"\"\n",
    "    metric_mcc = MultilabelMatthewsCorrCoef(num_labels=291)\n",
    "    metric_mcc(predicted, labels)\n",
    "    mcc_list.append(metric_mcc)\n",
    "    \"\"\"\n",
    "    \n",
    "    #zone pour mettre le learning rate dynamique\n",
    "    \"\"\"\n",
    "    steps.append(epoch)\n",
    "    lrs.append(scheduler.get_last_lr()[0])\n",
    "    scheduler.step()\n",
    "    \"\"\"\n",
    "    \n",
    "    if epoch % 10 == 0: #ici changer pour la frequence d'affichage\n",
    "        print('\\nEpoch: {}'.format(epoch))\n",
    "    #    print('Train Acc. => {:.3f}%'.format(100 * running_acc), end=' | ')\n",
    "        print('Train Loss => {:.5f}'.format(running_loss))\n",
    "    \n",
    "    # evaluate on the validation set\n",
    "    # note this is usually performed on the validation set\n",
    "    # for simplicity we just evaluate it on the validation set\n",
    "    with T.no_grad():\n",
    "        correct = 0\n",
    "        total = 0\n",
    "        validation_running_loss = .0\n",
    "        for data in validation_loader:\n",
    "            inputs, labels = data\n",
    "            if device == 'cuda':\n",
    "                inputs, labels = inputs.to(device), labels.to(device)\n",
    "            outputs = net(inputs)\n",
    "            loss = criterion(outputs, labels)\n",
    "            validation_running_loss += loss.item()\n",
    "            _, predicted = T.max(outputs.data, 1)\n",
    "            total += labels.size(0)\n",
    "            correct += (predicted == labels).sum().item()\n",
    "            \n",
    "            if epoch == 200: # a changer si besoin d'afficher la matrice de confusion, a mettre à epoch-1\n",
    "                # Append batch prediction results\n",
    "                predlist=torch.cat([predlist,predicted.view(-1).cpu()])\n",
    "                lbllist=torch.cat([lbllist,labels.view(-1).cpu()])\n",
    "\n",
    "        validation_running_loss /= len(validation_loader)\n",
    "        validation_loss.append(validation_running_loss)\n",
    "        validation_running_acc = correct / total\n",
    "        validation_acc.append(validation_running_acc)\n",
    "        \n",
    "        if epoch % 10 == 0: #ici changer pour la frequence d'affichage\n",
    "            print('validation Acc.  => {:.3f}%'.format(100 * validation_running_acc), end=' | ')\n",
    "            print('validation Loss  => {:.5f}'.format(validation_running_loss))\n",
    "\n",
    "    with torch.no_grad():\n",
    "        correct_t = 0\n",
    "        total_t = 0\n",
    "        for data in test_loader:\n",
    "            inputs, labels = data\n",
    "            inputs, labels = inputs.to('cuda'), labels.to('cuda')\n",
    "            outputs = net(inputs)\n",
    "            _, predicted = torch.max(outputs.data, 1)\n",
    "            total_t += labels.size(0)\n",
    "            correct_t += (predicted == labels).sum().item()\n",
    "            \n",
    "            running_acc_t = correct_t / total_t\n",
    "        test_acc.append(running_acc_t)\n",
    "    \n",
    "        if epoch % 10 == 0: #ici changer pour la frequence d'affichage\n",
    "            print('Accuracy of the network on test images: %d %%' % (100 * correct_t / total_t))\n",
    "\n",
    "print('Finished Training')"
   ]
  },
  {
   "cell_type": "markdown",
   "id": "200262ff",
   "metadata": {},
   "source": [
    "## Visualization"
   ]
  },
  {
   "cell_type": "code",
   "execution_count": 7,
   "id": "bcb34d7f",
   "metadata": {},
   "outputs": [],
   "source": [
    "import matplotlib.pyplot as plt\n",
    "import seaborn as sns"
   ]
  },
  {
   "cell_type": "code",
   "execution_count": 8,
   "id": "aa68121a",
   "metadata": {},
   "outputs": [
    {
     "data": {
      "image/png": "[encoded data removed]",
      "text/plain": [
       "<Figure size 432x288 with 1 Axes>"
      ]
     },
     "metadata": {
      "needs_background": "light"
     },
     "output_type": "display_data"
    }
   ],
   "source": [
    "plt.plot(train_loss, label='train')\n",
    "plt.plot(validation_loss, label='validation')\n",
    "plt.xlabel(\"epoch\")\n",
    "plt.ylabel(\"loss values\")\n",
    "plt.title(\"loss rate's curve\")\n",
    "plt.legend()\n",
    "plt.show()"
   ]
  },
  {
   "cell_type": "code",
   "execution_count": 9,
   "id": "35ceeda8",
   "metadata": {},
   "outputs": [
    {
     "data": {
      "image/png": "[encoded data removed]",
      "text/plain": [
       "<Figure size 432x288 with 1 Axes>"
      ]
     },
     "metadata": {
      "needs_background": "light"
     },
     "output_type": "display_data"
    }
   ],
   "source": [
    "plt.plot(train_acc, label='train')\n",
    "plt.plot(validation_acc, label='validation')\n",
    "plt.plot(test_acc, label='test')\n",
    "plt.xlabel(\"epoch\")\n",
    "plt.ylabel(\"accuracy values\")\n",
    "plt.title(\"accuracy rate's curve\")\n",
    "plt.legend()\n",
    "plt.show()"
   ]
  },
  {
   "cell_type": "code",
   "execution_count": 10,
   "id": "78d4feaa",
   "metadata": {},
   "outputs": [],
   "source": [
    "#plt.plot(mcc_list, label='MCC')\n",
    "#plt.xlabel(\"epoch\")\n",
    "#plt.ylabel(\"MCC values\")\n",
    "#plt.title(\"MCC curve\")\n",
    "#plt.legend()\n",
    "#plt.show()"
   ]
  },
  {
   "cell_type": "code",
   "execution_count": 11,
   "id": "ab1bac62",
   "metadata": {},
   "outputs": [
    {
     "name": "stdout",
     "output_type": "stream",
     "text": [
      "[[11  0  0 ...  0  0  0]\n",
      " [ 2 41  0 ...  0  0  0]\n",
      " [ 0  0 15 ...  0  0  0]\n",
      " ...\n",
      " [ 0  0  0 ... 11  0  0]\n",
      " [ 0  0  0 ...  0 18  0]\n",
      " [ 0  0  0 ...  0  0 30]]\n"
     ]
    }
   ],
   "source": [
    "# Confusion matrix\n",
    "conf_mat=confusion_matrix(lbllist.numpy(), predlist.numpy())\n",
    "print(conf_mat)\n"
   ]
  },
  {
   "cell_type": "code",
   "execution_count": 12,
   "id": "10da7cf6",
   "metadata": {},
   "outputs": [
    {
     "data": {
      "text/plain": [
       "<AxesSubplot:>"
      ]
     },
     "execution_count": 12,
     "metadata": {},
     "output_type": "execute_result"
    },
    {
     "data": {
      "image/png": "[encoded data removed]",
      "text/plain": [
       "<Figure size 936x720 with 2 Axes>"
      ]
     },
     "metadata": {
      "needs_background": "light"
     },
     "output_type": "display_data"
    }
   ],
   "source": [
    "fig, ax = plt.subplots(figsize=(13,10))\n",
    "sns.heatmap(conf_mat, annot=False, ax=ax, cmap=\"BuPu\")"
   ]
  },
  {
   "cell_type": "code",
   "execution_count": 13,
   "id": "2071eb75",
   "metadata": {},
   "outputs": [
    {
     "name": "stdout",
     "output_type": "stream",
     "text": [
      "[ 52.38095238  69.49152542  62.5         70.1754386   62.5\n",
      "  73.68421053  59.09090909  89.36170213 100.          39.47368421\n",
      "  40.          88.23529412  70.21276596  85.71428571  33.33333333\n",
      "  69.76744186  81.81818182  42.30769231  58.49056604  65.90909091\n",
      "  76.92307692  72.05882353  45.16129032  90.          45.83333333\n",
      "  57.14285714  87.23404255  90.47619048  78.57142857 100.\n",
      "  66.66666667  58.82352941  66.66666667  81.81818182 100.\n",
      "  86.11111111  46.66666667  66.66666667  68.75        50.\n",
      "  36.36363636  61.11111111  55.55555556  75.         100.\n",
      "  67.5         33.33333333  57.14285714  43.47826087  75.\n",
      "  90.90909091  12.5         75.         100.         100.\n",
      "  45.45454545  72.72727273  40.          63.63636364  33.33333333\n",
      "  58.82352941  20.          63.63636364  45.45454545  50.\n",
      "  55.55555556  50.          47.05882353  84.84848485  83.33333333\n",
      "  77.14285714  45.          85.          75.          90.47619048\n",
      "  78.57142857  75.          70.          76.5625      45.45454545\n",
      " 100.         100.          70.          66.66666667  40.\n",
      "   0.          16.66666667  73.23943662  60.          44.44444444\n",
      "  57.14285714  50.          93.33333333  74.54545455  25.\n",
      "  21.42857143  75.          91.17647059  64.28571429  61.53846154\n",
      "  73.68421053  40.          56.75675676  66.66666667  60.\n",
      "  80.          76.19047619  69.56521739  50.          94.44444444\n",
      "  54.54545455  81.48148148  70.58823529  85.          80.\n",
      "  86.48648649  66.66666667  81.25        81.81818182  95.83333333\n",
      "  83.33333333  72.72727273  82.35294118  68.42105263  78.57142857\n",
      "  88.63636364  81.81818182  75.          52.63157895  78.26086957\n",
      "  50.          57.14285714  50.          57.89473684  72.72727273\n",
      "  68.75        31.57894737  72.72727273  83.33333333  96.15384615\n",
      "  78.37837838  66.66666667  85.71428571 100.          68.75\n",
      "  60.          61.11111111  61.53846154  76.92307692  47.61904762\n",
      "  40.          75.          37.5         61.9047619   71.42857143\n",
      "  52.94117647  70.96774194  75.          50.         100.\n",
      "  91.66666667  71.42857143 100.          54.54545455  66.66666667\n",
      "  56.25        46.875      100.          75.          90.\n",
      "  46.15384615 100.          71.05263158  57.14285714  66.66666667\n",
      "  47.61904762  80.          42.85714286  40.          90.\n",
      "  50.          87.5         75.          61.9047619   97.36842105\n",
      "  48.14814815  39.02439024  84.21052632  80.          64.51612903\n",
      "  93.33333333  66.66666667  33.33333333  50.          54.54545455\n",
      "  61.53846154  63.63636364  75.          72.72727273  36.36363636\n",
      "  65.71428571  60.60606061  85.71428571  93.75        72.97297297\n",
      "  36.         100.          94.73684211  60.          68.42105263\n",
      "  58.33333333  60.          59.25925926  36.36363636  69.6969697\n",
      "  52.94117647  69.23076923  70.27027027  54.54545455  73.80952381\n",
      "  57.77777778  33.33333333  62.5         33.33333333  59.09090909\n",
      "  30.76923077  57.14285714  84.61538462  92.85714286  91.66666667\n",
      "  63.63636364  60.          37.5         66.66666667  50.\n",
      "   0.          76.92307692  40.          77.77777778  81.25\n",
      "   0.          81.63265306  80.39215686  75.          60.\n",
      "  52.          60.          33.33333333  59.25925926  54.83870968\n",
      "  50.98039216  63.63636364  77.77777778  69.04761905  60.\n",
      "  40.90909091  83.33333333  44.44444444 100.          65.\n",
      "  80.          62.5         30.76923077  37.5         69.23076923\n",
      "  64.70588235  85.71428571   0.          42.10526316  46.66666667\n",
      "  40.          35.29411765  77.41935484  62.96296296  84.\n",
      "  57.14285714  86.66666667  48.14814815  90.          53.33333333\n",
      "  84.          72.72727273  88.63636364  57.14285714  50.\n",
      "  66.66666667  76.92307692  84.21052632  47.82608696  66.66666667\n",
      "  75.        ]\n"
     ]
    }
   ],
   "source": [
    "# Per-class accuracy\n",
    "class_accuracy=100*conf_mat.diagonal()/conf_mat.sum(1)\n",
    "print(class_accuracy)"
   ]
  },
  {
   "cell_type": "markdown",
   "id": "55083a6d",
   "metadata": {},
   "source": [
    "## Save"
   ]
  },
  {
   "cell_type": "code",
   "execution_count": 14,
   "id": "ea64b954",
   "metadata": {},
   "outputs": [],
   "source": [
    "#torch.save(net.state_dict(), \"C:/Users/heuma/Desktop/Master/S10/Aurea/Dataset_Kaggle_validation_Train_20-80/dict_Linh_network_1st_try\")"
   ]
  },
  {
   "cell_type": "code",
   "execution_count": 15,
   "id": "e0753a13",
   "metadata": {},
   "outputs": [],
   "source": [
    "#torch.save(net, \"C:/Users/heuma/Desktop/Master/S10/Aurea/Dataset_Kaggle_validation_Train_20-80/Linh_network_entire_model_1st_try\")"
   ]
  },
  {
   "cell_type": "code",
   "execution_count": 16,
   "id": "f9e64f8b",
   "metadata": {},
   "outputs": [
    {
     "data": {
      "text/plain": [
       "'\\nfrom torch.utils.data.dataloader import DataLoader\\n\\n\\ntrain_dl = DataLoader(train_set, batch_size, shuffle = True, num_workers = 4, pin_memory = True)\\n\\nfrom torchvision.utils import make_grid\\n\\ndef show_batch(dl):\\n    #Plot images grid of single batch\\n    for images, labels in dl:\\n        fig,ax = plt.subplots(figsize = (16,12))\\n        ax.set_xticks([])\\n        ax.set_yticks([])\\n        ax.imshow(make_grid(images,nrow=16).permute(1,2,0))\\n        break\\n        \\nshow_batch(train_dl)\\n\\n'"
      ]
     },
     "execution_count": 16,
     "metadata": {},
     "output_type": "execute_result"
    }
   ],
   "source": [
    "\"\"\"\n",
    "from torch.utils.data.dataloader import DataLoader\n",
    "\n",
    "\n",
    "train_dl = DataLoader(train_set, batch_size, shuffle = True, num_workers = 4, pin_memory = True)\n",
    "\n",
    "from torchvision.utils import make_grid\n",
    "\n",
    "def show_batch(dl):\n",
    "    #Plot images grid of single batch\n",
    "    for images, labels in dl:\n",
    "        fig,ax = plt.subplots(figsize = (16,12))\n",
    "        ax.set_xticks([])\n",
    "        ax.set_yticks([])\n",
    "        ax.imshow(make_grid(images,nrow=16).permute(1,2,0))\n",
    "        break\n",
    "        \n",
    "show_batch(train_dl)\n",
    "\n",
    "\"\"\""
   ]
  },
  {
   "cell_type": "code",
   "execution_count": 17,
   "id": "5308da1c",
   "metadata": {},
   "outputs": [
    {
     "data": {
      "text/plain": [
       "\"\\ntransform2 = transforms.Compose(\\n    [transforms.Resize((224, 224)),\\n     transforms.ToTensor()])\\n\\ntrain_set2 = ImageFolder('C:/Users/heuma/Desktop/Master/S10/Aurea/Dataset_Kaggle_validation_Train_20-80/TRAIN/', transform=transform2)\\n\\ntrain_dl2 = DataLoader(train_set2, batch_size, shuffle = True, num_workers = 4, pin_memory = True)\\n\\n        \\nshow_batch(train_dl2)\\n\""
      ]
     },
     "execution_count": 17,
     "metadata": {},
     "output_type": "execute_result"
    }
   ],
   "source": [
    "\"\"\"\n",
    "transform2 = transforms.Compose(\n",
    "    [transforms.Resize((224, 224)),\n",
    "     transforms.ToTensor()])\n",
    "\n",
    "train_set2 = ImageFolder('C:/Users/heuma/Desktop/Master/S10/Aurea/Dataset_Kaggle_validation_Train_20-80/TRAIN/', transform=transform2)\n",
    "\n",
    "train_dl2 = DataLoader(train_set2, batch_size, shuffle = True, num_workers = 4, pin_memory = True)\n",
    "\n",
    "        \n",
    "show_batch(train_dl2)\n",
    "\"\"\""
   ]
  },
  {
   "cell_type": "code",
   "execution_count": null,
   "id": "6940a02b",
   "metadata": {},
   "outputs": [],
   "source": []
  }
 ],
 "metadata": {
  "kernelspec": {
   "display_name": "Python 3 (ipykernel)",
   "language": "python",
   "name": "python3"
  },
  "language_info": {
   "codemirror_mode": {
    "name": "ipython",
    "version": 3
   },
   "file_extension": ".py",
   "mimetype": "text/x-python",
   "name": "python",
   "nbconvert_exporter": "python",
   "pygments_lexer": "ipython3",
   "version": "3.9.7"
  }
 },
 "nbformat": 4,
 "nbformat_minor": 5
}
