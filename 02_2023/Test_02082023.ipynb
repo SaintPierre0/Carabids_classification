{
 "cells": [
  {
   "cell_type": "code",
   "execution_count": 1,
   "id": "66f3ab4b",
   "metadata": {},
   "outputs": [
    {
     "data": {
      "text/plain": [
       "'cuda'"
      ]
     },
     "execution_count": 1,
     "metadata": {},
     "output_type": "execute_result"
    }
   ],
   "source": [
    "# import PyTorch and its related packages\n",
    "import torch as T\n",
    "import torch.nn as nn\n",
    "import torch.optim as optim\n",
    "import torch.nn.functional as F\n",
    "\n",
    "import torch\n",
    "\n",
    "import torchvision\n",
    "import torchvision.transforms as transforms\n",
    "\n",
    "from torchvision import transforms\n",
    "from torchvision.datasets import ImageFolder\n",
    "\n",
    "from tqdm.notebook import tqdm\n",
    "\n",
    "from sklearn.metrics import confusion_matrix\n",
    "\n",
    "\n",
    "# set default device based on CUDA's availability\n",
    "device = 'cuda' if T.cuda.is_available() else 'cpu'\n",
    "device"
   ]
  },
  {
   "cell_type": "code",
   "execution_count": 2,
   "id": "44a7c1c6",
   "metadata": {},
   "outputs": [],
   "source": [
    "transform = transforms.Compose(\n",
    "    [transforms.Resize((224,224)),\n",
    "     transforms.ToTensor(),\n",
    "     transforms.Normalize((0.485, 0.456, 0.406), (0.229, 0.224, 0.225))])\n",
    "\n",
    "batch_size = 128\n",
    "#image_size = (224, 224, 3)\n",
    "\n",
    "train_set = ImageFolder('C:/Users/heuma/Desktop/Work/Reseaux_test/Dataset_Kaggle/output/train', transform=transform)\n",
    "validation_set = ImageFolder('C:/Users/heuma/Desktop/Work/Reseaux_test/Dataset_Kaggle/output/val', transform=transform)\n",
    "test_set = ImageFolder('C:/Users/heuma/Desktop/Work/Reseaux_test/Dataset_Kaggle/output/test', transform=transform)\n",
    "\n",
    "#train_set = train_ds\n",
    "train_loader = T.utils.data.DataLoader(train_set, batch_size=batch_size,shuffle=True, num_workers=8)\n",
    "\n",
    "#validation_set = validation_ds\n",
    "validation_loader = T.utils.data.DataLoader(validation_set, batch_size=batch_size,shuffle=True, num_workers=8)\n",
    "\n",
    "#test_set = test_ds\n",
    "test_loader = T.utils.data.DataLoader(test_set, batch_size=batch_size,shuffle=True, num_workers=8)"
   ]
  },
  {
   "cell_type": "code",
   "execution_count": 3,
   "id": "e9c36132",
   "metadata": {},
   "outputs": [],
   "source": [
    "class NewNetwork(nn.Module):\n",
    "    def __init__(self, num_classes=291):\n",
    "        super(NewNetwork, self).__init__()\n",
    "        self.features = nn.Sequential(\n",
    "            nn.Conv2d(3, 64, kernel_size=11, stride=4, padding=2),\n",
    "            nn.ReLU(inplace=True),\n",
    "            nn.MaxPool2d(kernel_size=3, stride=2),\n",
    "            nn.Dropout(p=0.9),\n",
    "            nn.Conv2d(64, 192, kernel_size=5, padding=2),\n",
    "            nn.ReLU(inplace=True),\n",
    "            nn.MaxPool2d(kernel_size=3, stride=2),\n",
    "            nn.Dropout(p=0.8),\n",
    "            nn.Conv2d(192, 256, kernel_size=3, padding=1),\n",
    "            nn.ReLU(inplace=True),\n",
    "            nn.MaxPool2d(kernel_size=3, stride=2),\n",
    "            nn.Dropout(p=0.7),\n",
    "            nn.Conv2d(256, 256, kernel_size=3, padding=1),\n",
    "            nn.ReLU(inplace=True),\n",
    "            nn.MaxPool2d(kernel_size=3, stride=2),\n",
    "            nn.Dropout(p=0.7)\n",
    "        )\n",
    "        self.classifier = nn.Sequential(\n",
    "            nn.Dropout(),\n",
    "            nn.Linear(16 * 8 * 8, 10000), #mettre 128 quand il y a 5 couches\n",
    "            nn.PReLU(),\n",
    "            nn.Dropout(p=0.5),\n",
    "            nn.Linear(10000, 1000),\n",
    "            nn.PReLU(),\n",
    "            nn.Linear(1000, num_classes),\n",
    "        )\n",
    "\n",
    "    def forward(self, x):\n",
    "        x = self.features(x)\n",
    "        x = x.view(x.shape[0], -1)\n",
    "        x = self.classifier(x)\n",
    "        return x"
   ]
  },
  {
   "cell_type": "code",
   "execution_count": 4,
   "id": "441d12a6",
   "metadata": {},
   "outputs": [
    {
     "data": {
      "text/plain": [
       "NewNetwork(\n",
       "  (features): Sequential(\n",
       "    (0): Conv2d(3, 64, kernel_size=(11, 11), stride=(4, 4), padding=(2, 2))\n",
       "    (1): ReLU(inplace=True)\n",
       "    (2): MaxPool2d(kernel_size=3, stride=2, padding=0, dilation=1, ceil_mode=False)\n",
       "    (3): Dropout(p=0.9, inplace=False)\n",
       "    (4): Conv2d(64, 192, kernel_size=(5, 5), stride=(1, 1), padding=(2, 2))\n",
       "    (5): ReLU(inplace=True)\n",
       "    (6): MaxPool2d(kernel_size=3, stride=2, padding=0, dilation=1, ceil_mode=False)\n",
       "    (7): Dropout(p=0.8, inplace=False)\n",
       "    (8): Conv2d(192, 256, kernel_size=(3, 3), stride=(1, 1), padding=(1, 1))\n",
       "    (9): ReLU(inplace=True)\n",
       "    (10): MaxPool2d(kernel_size=3, stride=2, padding=0, dilation=1, ceil_mode=False)\n",
       "    (11): Dropout(p=0.7, inplace=False)\n",
       "    (12): Conv2d(256, 256, kernel_size=(3, 3), stride=(1, 1), padding=(1, 1))\n",
       "    (13): ReLU(inplace=True)\n",
       "    (14): MaxPool2d(kernel_size=3, stride=2, padding=0, dilation=1, ceil_mode=False)\n",
       "    (15): Dropout(p=0.7, inplace=False)\n",
       "  )\n",
       "  (classifier): Sequential(\n",
       "    (0): Dropout(p=0.5, inplace=False)\n",
       "    (1): Linear(in_features=1024, out_features=10000, bias=True)\n",
       "    (2): PReLU(num_parameters=1)\n",
       "    (3): Dropout(p=0.5, inplace=False)\n",
       "    (4): Linear(in_features=10000, out_features=1000, bias=True)\n",
       "    (5): PReLU(num_parameters=1)\n",
       "    (6): Linear(in_features=1000, out_features=291, bias=True)\n",
       "  )\n",
       ")"
      ]
     },
     "execution_count": 4,
     "metadata": {},
     "output_type": "execute_result"
    }
   ],
   "source": [
    "net = NewNetwork()\n",
    "net.to(device)"
   ]
  },
  {
   "cell_type": "code",
   "execution_count": 5,
   "id": "f39606d9",
   "metadata": {},
   "outputs": [],
   "source": [
    "criterion = nn.CrossEntropyLoss()\n",
    "\n",
    "# also the optimizer\n",
    "optimizer = optim.SGD(net.parameters(), lr=0.001, momentum=0.9)\n",
    "\n",
    "#dynamic learning rate\n",
    "#scheduler = optim.lr_scheduler.ExponentialLR(optimizer, gamma=0.9)"
   ]
  },
  {
   "cell_type": "code",
   "execution_count": 6,
   "id": "0b71ba8f",
   "metadata": {
    "scrolled": false
   },
   "outputs": [
    {
     "data": {
      "application/vnd.jupyter.widget-view+json": {
       "model_id": "b664e0c486a84063b50999f46249e92a",
       "version_major": 2,
       "version_minor": 0
      },
      "text/plain": [
       "  0%|          | 0/201 [00:00<?, ?it/s]"
      ]
     },
     "metadata": {},
     "output_type": "display_data"
    },
    {
     "name": "stdout",
     "output_type": "stream",
     "text": [
      "\n",
      "Epoch: 0\n",
      "Train Loss => 5.52063\n",
      "validation Acc.  => 1.209% | validation Loss  => 5.46473\n",
      "Accuracy of the network on test images: 1 %\n",
      "\n",
      "Epoch: 5\n",
      "Train Loss => 5.44909\n",
      "validation Acc.  => 1.289% | validation Loss  => 5.43630\n",
      "Accuracy of the network on test images: 1 %\n",
      "\n",
      "Epoch: 10\n",
      "Train Loss => 5.35741\n",
      "validation Acc.  => 2.224% | validation Loss  => 5.34228\n",
      "Accuracy of the network on test images: 2 %\n",
      "\n",
      "Epoch: 15\n",
      "Train Loss => 5.20005\n",
      "validation Acc.  => 2.466% | validation Loss  => 5.17195\n",
      "Accuracy of the network on test images: 2 %\n",
      "\n",
      "Epoch: 20\n",
      "Train Loss => 4.60611\n",
      "validation Acc.  => 3.885% | validation Loss  => 4.59514\n",
      "Accuracy of the network on test images: 3 %\n",
      "\n",
      "Epoch: 25\n",
      "Train Loss => 4.39369\n",
      "validation Acc.  => 5.803% | validation Loss  => 4.38611\n",
      "Accuracy of the network on test images: 5 %\n",
      "\n",
      "Epoch: 30\n",
      "Train Loss => 4.09989\n",
      "validation Acc.  => 7.818% | validation Loss  => 4.08625\n",
      "Accuracy of the network on test images: 7 %\n",
      "\n",
      "Epoch: 35\n",
      "Train Loss => 3.85161\n",
      "validation Acc.  => 8.591% | validation Loss  => 3.97773\n",
      "Accuracy of the network on test images: 9 %\n",
      "\n",
      "Epoch: 40\n",
      "Train Loss => 3.65767\n",
      "validation Acc.  => 11.879% | validation Loss  => 3.72382\n",
      "Accuracy of the network on test images: 11 %\n",
      "\n",
      "Epoch: 45\n",
      "Train Loss => 3.49184\n",
      "validation Acc.  => 14.958% | validation Loss  => 3.56138\n",
      "Accuracy of the network on test images: 14 %\n",
      "\n",
      "Epoch: 50\n",
      "Train Loss => 3.31309\n",
      "validation Acc.  => 17.473% | validation Loss  => 3.28627\n",
      "Accuracy of the network on test images: 18 %\n",
      "\n",
      "Epoch: 55\n",
      "Train Loss => 3.15969\n",
      "validation Acc.  => 20.712% | validation Loss  => 3.16272\n",
      "Accuracy of the network on test images: 20 %\n",
      "\n",
      "Epoch: 60\n",
      "Train Loss => 3.02227\n",
      "validation Acc.  => 21.921% | validation Loss  => 3.11547\n",
      "Accuracy of the network on test images: 21 %\n",
      "\n",
      "Epoch: 65\n",
      "Train Loss => 2.91288\n",
      "validation Acc.  => 24.565% | validation Loss  => 2.89040\n",
      "Accuracy of the network on test images: 24 %\n",
      "\n",
      "Epoch: 70\n",
      "Train Loss => 2.82212\n",
      "validation Acc.  => 25.999% | validation Loss  => 2.84915\n",
      "Accuracy of the network on test images: 26 %\n",
      "\n",
      "Epoch: 75\n",
      "Train Loss => 2.73859\n",
      "validation Acc.  => 27.772% | validation Loss  => 2.75870\n",
      "Accuracy of the network on test images: 28 %\n",
      "\n",
      "Epoch: 80\n",
      "Train Loss => 2.65979\n",
      "validation Acc.  => 29.884% | validation Loss  => 2.70957\n",
      "Accuracy of the network on test images: 29 %\n",
      "\n",
      "Epoch: 85\n",
      "Train Loss => 2.58600\n",
      "validation Acc.  => 30.303% | validation Loss  => 2.60426\n",
      "Accuracy of the network on test images: 31 %\n",
      "\n",
      "Epoch: 90\n",
      "Train Loss => 2.53061\n",
      "validation Acc.  => 31.963% | validation Loss  => 2.56816\n",
      "Accuracy of the network on test images: 31 %\n",
      "\n",
      "Epoch: 95\n",
      "Train Loss => 2.48348\n",
      "validation Acc.  => 31.109% | validation Loss  => 2.57853\n",
      "Accuracy of the network on test images: 33 %\n",
      "\n",
      "Epoch: 100\n",
      "Train Loss => 2.40896\n",
      "validation Acc.  => 34.671% | validation Loss  => 2.46839\n",
      "Accuracy of the network on test images: 34 %\n",
      "\n",
      "Epoch: 105\n",
      "Train Loss => 2.36820\n",
      "validation Acc.  => 35.171% | validation Loss  => 2.40061\n",
      "Accuracy of the network on test images: 35 %\n",
      "\n",
      "Epoch: 110\n",
      "Train Loss => 2.32931\n",
      "validation Acc.  => 33.720% | validation Loss  => 2.47017\n",
      "Accuracy of the network on test images: 34 %\n",
      "\n",
      "Epoch: 115\n",
      "Train Loss => 2.28204\n",
      "validation Acc.  => 36.074% | validation Loss  => 2.37775\n",
      "Accuracy of the network on test images: 37 %\n",
      "\n",
      "Epoch: 120\n",
      "Train Loss => 2.25158\n",
      "validation Acc.  => 36.670% | validation Loss  => 2.35731\n",
      "Accuracy of the network on test images: 35 %\n",
      "\n",
      "Epoch: 125\n",
      "Train Loss => 2.22480\n",
      "validation Acc.  => 37.282% | validation Loss  => 2.31771\n",
      "Accuracy of the network on test images: 38 %\n",
      "\n",
      "Epoch: 130\n",
      "Train Loss => 2.19111\n",
      "validation Acc.  => 37.879% | validation Loss  => 2.27854\n",
      "Accuracy of the network on test images: 38 %\n",
      "\n",
      "Epoch: 135\n",
      "Train Loss => 2.14929\n",
      "validation Acc.  => 38.104% | validation Loss  => 2.22663\n",
      "Accuracy of the network on test images: 39 %\n",
      "\n",
      "Epoch: 140\n",
      "Train Loss => 2.13195\n",
      "validation Acc.  => 39.072% | validation Loss  => 2.19264\n",
      "Accuracy of the network on test images: 40 %\n",
      "\n",
      "Epoch: 145\n",
      "Train Loss => 2.10539\n",
      "validation Acc.  => 40.329% | validation Loss  => 2.18612\n",
      "Accuracy of the network on test images: 40 %\n",
      "\n",
      "Epoch: 150\n",
      "Train Loss => 2.06920\n",
      "validation Acc.  => 40.619% | validation Loss  => 2.15203\n",
      "Accuracy of the network on test images: 41 %\n",
      "\n",
      "Epoch: 155\n",
      "Train Loss => 2.04885\n",
      "validation Acc.  => 39.845% | validation Loss  => 2.18919\n",
      "Accuracy of the network on test images: 40 %\n",
      "\n",
      "Epoch: 160\n",
      "Train Loss => 2.03543\n",
      "validation Acc.  => 41.667% | validation Loss  => 2.09605\n",
      "Accuracy of the network on test images: 42 %\n",
      "\n",
      "Epoch: 165\n",
      "Train Loss => 2.00622\n",
      "validation Acc.  => 41.876% | validation Loss  => 2.11437\n",
      "Accuracy of the network on test images: 42 %\n",
      "\n",
      "Epoch: 170\n",
      "Train Loss => 1.98269\n",
      "validation Acc.  => 39.684% | validation Loss  => 2.23666\n",
      "Accuracy of the network on test images: 39 %\n",
      "\n",
      "Epoch: 175\n",
      "Train Loss => 1.97533\n",
      "validation Acc.  => 42.199% | validation Loss  => 2.06517\n",
      "Accuracy of the network on test images: 43 %\n",
      "\n",
      "Epoch: 180\n",
      "Train Loss => 1.95498\n",
      "validation Acc.  => 42.521% | validation Loss  => 2.09605\n",
      "Accuracy of the network on test images: 42 %\n",
      "\n",
      "Epoch: 185\n",
      "Train Loss => 1.94528\n",
      "validation Acc.  => 42.473% | validation Loss  => 2.07253\n",
      "Accuracy of the network on test images: 42 %\n",
      "\n",
      "Epoch: 190\n",
      "Train Loss => 1.93395\n",
      "validation Acc.  => 42.827% | validation Loss  => 2.05322\n",
      "Accuracy of the network on test images: 42 %\n",
      "\n",
      "Epoch: 195\n",
      "Train Loss => 1.90043\n",
      "validation Acc.  => 45.455% | validation Loss  => 1.97903\n",
      "Accuracy of the network on test images: 44 %\n",
      "\n",
      "Epoch: 200\n",
      "Train Loss => 1.90362\n",
      "validation Acc.  => 44.342% | validation Loss  => 1.97285\n",
      "Accuracy of the network on test images: 45 %\n",
      "Finished Training\n"
     ]
    }
   ],
   "source": [
    "train_loss = []\n",
    "validation_loss = []\n",
    "train_acc = []\n",
    "validation_acc = []\n",
    "\n",
    "test_acc = []\n",
    "\n",
    "lrs = []\n",
    "steps = []\n",
    "\n",
    "# Initialize the prediction and label lists(tensors)\n",
    "predlist=torch.zeros(0,dtype=torch.long, device='cpu')\n",
    "lbllist=torch.zeros(0,dtype=torch.long, device='cpu')\n",
    "\n",
    "for epoch in tqdm(range(0, 201)):  # loop over the dataset multiple times\n",
    "    \n",
    "    running_loss = .0\n",
    "    correct = 0\n",
    "    total = 0\n",
    "    for i, data in enumerate(train_loader):\n",
    "        # get the inputs\n",
    "        inputs, labels = data\n",
    "        if device == 'cuda':\n",
    "            inputs, labels = inputs.to(device), labels.to(device)\n",
    "\n",
    "        # reset the parameter gradients\n",
    "        optimizer.zero_grad()\n",
    "\n",
    "        # forward\n",
    "        outputs = net(inputs)\n",
    "        loss = criterion(outputs, labels)\n",
    "        # backward\n",
    "        loss.backward()\n",
    "        # optimize\n",
    "        optimizer.step()\n",
    "        \n",
    "        running_loss += loss.item()\n",
    "        _, predicted = T.max(outputs.data, 1)\n",
    "        total += labels.size(0)\n",
    "        correct += (predicted == labels).sum().item()\n",
    "        \n",
    "    running_loss /= len(train_loader)\n",
    "    train_loss.append(running_loss)\n",
    "    running_acc = correct / total\n",
    "    train_acc.append(running_acc)\n",
    "    \n",
    "    #zone pour mettre le learning rate dynamique\n",
    "    \"\"\"\n",
    "    steps.append(epoch)\n",
    "    lrs.append(scheduler.get_last_lr()[0])\n",
    "    scheduler.step()\n",
    "    \"\"\"\n",
    "    \n",
    "    if epoch % 5 == 0:\n",
    "        print('\\nEpoch: {}'.format(epoch))\n",
    "    #    print('Train Acc. => {:.3f}%'.format(100 * running_acc), end=' | ')\n",
    "        print('Train Loss => {:.5f}'.format(running_loss))\n",
    "    \n",
    "    # evaluate on the validation set\n",
    "    # note this is usually performed on the validation set\n",
    "    # for simplicity we just evaluate it on the validation set\n",
    "    with T.no_grad():\n",
    "        correct = 0\n",
    "        total = 0\n",
    "        validation_running_loss = .0\n",
    "        for data in validation_loader:\n",
    "            inputs, labels = data\n",
    "            if device == 'cuda':\n",
    "                inputs, labels = inputs.to(device), labels.to(device)\n",
    "            outputs = net(inputs)\n",
    "            loss = criterion(outputs, labels)\n",
    "            validation_running_loss += loss.item()\n",
    "            _, predicted = T.max(outputs.data, 1)\n",
    "            total += labels.size(0)\n",
    "            correct += (predicted == labels).sum().item()\n",
    "            \n",
    "            if epoch == 200: # a changer si besoin d'afficher la matrice de confusion, a mettre à epoch-1\n",
    "                # Append batch prediction results\n",
    "                predlist=torch.cat([predlist,predicted.view(-1).cpu()])\n",
    "                lbllist=torch.cat([lbllist,labels.view(-1).cpu()])\n",
    "\n",
    "        validation_running_loss /= len(validation_loader)\n",
    "        validation_loss.append(validation_running_loss)\n",
    "        validation_running_acc = correct / total\n",
    "        validation_acc.append(validation_running_acc)\n",
    "        \n",
    "        if epoch % 5 == 0:\n",
    "            print('validation Acc.  => {:.3f}%'.format(100 * validation_running_acc), end=' | ')\n",
    "            print('validation Loss  => {:.5f}'.format(validation_running_loss))\n",
    "\n",
    "    with torch.no_grad():\n",
    "        correct_t = 0\n",
    "        total_t = 0\n",
    "        for data in test_loader:\n",
    "            inputs, labels = data\n",
    "            inputs, labels = inputs.to('cuda'), labels.to('cuda')\n",
    "            outputs = net(inputs)\n",
    "            _, predicted = torch.max(outputs.data, 1)\n",
    "            total_t += labels.size(0)\n",
    "            correct_t += (predicted == labels).sum().item()\n",
    "            \n",
    "            running_acc_t = correct_t / total_t\n",
    "        test_acc.append(running_acc_t)\n",
    "    \n",
    "        if epoch % 5 == 0:\n",
    "            print('Accuracy of the network on test images: %d %%' % (100 * correct_t / total_t))\n",
    "\n",
    "print('Finished Training')"
   ]
  },
  {
   "cell_type": "markdown",
   "id": "200262ff",
   "metadata": {},
   "source": [
    "## Visualization"
   ]
  },
  {
   "cell_type": "code",
   "execution_count": 7,
   "id": "bcb34d7f",
   "metadata": {},
   "outputs": [],
   "source": [
    "import matplotlib.pyplot as plt\n",
    "import seaborn as sns"
   ]
  },
  {
   "cell_type": "code",
   "execution_count": 8,
   "id": "aa68121a",
   "metadata": {},
   "outputs": [
    {
     "data": {
      "image/png": "[encoded data removed]",
      "text/plain": [
       "<Figure size 432x288 with 1 Axes>"
      ]
     },
     "metadata": {
      "needs_background": "light"
     },
     "output_type": "display_data"
    }
   ],
   "source": [
    "plt.plot(train_loss, label='train')\n",
    "plt.plot(validation_loss, label='validation')\n",
    "plt.xlabel(\"epoch\")\n",
    "plt.ylabel(\"loss values\")\n",
    "plt.title(\"loss rate's curve\")\n",
    "plt.legend()\n",
    "plt.show()"
   ]
  },
  {
   "cell_type": "code",
   "execution_count": 9,
   "id": "35ceeda8",
   "metadata": {},
   "outputs": [
    {
     "data": {
      "image/png": "[encoded data removed]",
      "text/plain": [
       "<Figure size 432x288 with 1 Axes>"
      ]
     },
     "metadata": {
      "needs_background": "light"
     },
     "output_type": "display_data"
    }
   ],
   "source": [
    "plt.plot(train_acc, label='train')\n",
    "plt.plot(validation_acc, label='validation')\n",
    "plt.plot(test_acc, label='test')\n",
    "plt.xlabel(\"epoch\")\n",
    "plt.ylabel(\"accuracy values\")\n",
    "plt.title(\"accuracy rate's curve\")\n",
    "plt.legend()\n",
    "plt.show()"
   ]
  },
  {
   "cell_type": "code",
   "execution_count": 10,
   "id": "ab1bac62",
   "metadata": {},
   "outputs": [
    {
     "name": "stdout",
     "output_type": "stream",
     "text": [
      "[[ 6  5  0 ...  0  0  0]\n",
      " [ 3 32  0 ...  0  0  0]\n",
      " [ 0  0 10 ...  0  0  0]\n",
      " ...\n",
      " [ 0  0  0 ...  5  0  0]\n",
      " [ 0  0  0 ...  0  2  0]\n",
      " [ 0  0  0 ...  0  0 21]]\n"
     ]
    }
   ],
   "source": [
    "# Confusion matrix\n",
    "conf_mat=confusion_matrix(lbllist.numpy(), predlist.numpy())\n",
    "print(conf_mat)\n"
   ]
  },
  {
   "cell_type": "code",
   "execution_count": 11,
   "id": "10da7cf6",
   "metadata": {},
   "outputs": [
    {
     "data": {
      "text/plain": [
       "<AxesSubplot:>"
      ]
     },
     "execution_count": 11,
     "metadata": {},
     "output_type": "execute_result"
    },
    {
     "data": {
      "image/png": "[encoded data removed]",
      "text/plain": [
       "<Figure size 936x720 with 2 Axes>"
      ]
     },
     "metadata": {
      "needs_background": "light"
     },
     "output_type": "display_data"
    }
   ],
   "source": [
    "fig, ax = plt.subplots(figsize=(13,10))\n",
    "sns.heatmap(conf_mat, annot=False, ax=ax, cmap=\"BuPu\")"
   ]
  },
  {
   "cell_type": "code",
   "execution_count": 12,
   "id": "2071eb75",
   "metadata": {},
   "outputs": [
    {
     "name": "stdout",
     "output_type": "stream",
     "text": [
      "[ 28.57142857  54.23728814  41.66666667  47.36842105   6.25\n",
      "  63.15789474  59.09090909  78.72340426  60.          23.68421053\n",
      "  40.          86.2745098   59.57446809  48.21428571  11.11111111\n",
      "  58.13953488  27.27272727  23.07692308  37.73584906  31.81818182\n",
      "  46.15384615  55.88235294  48.38709677  40.          45.83333333\n",
      "  28.57142857  68.08510638  71.42857143  21.42857143  55.55555556\n",
      "  50.          11.76470588  41.66666667  36.36363636  92.85714286\n",
      "  58.33333333  26.66666667  16.66666667  43.75        16.66666667\n",
      "  18.18181818  33.33333333  27.77777778  68.75        42.85714286\n",
      "  50.          16.66666667  53.57142857  13.04347826  41.66666667\n",
      "  63.63636364  25.          37.5         72.72727273  20.\n",
      "  18.18181818  27.27272727  20.           9.09090909  26.66666667\n",
      "  17.64705882  20.          36.36363636  13.63636364  14.28571429\n",
      "  22.22222222  16.66666667   8.82352941  60.60606061  33.33333333\n",
      "  14.28571429  10.          35.          45.83333333  42.85714286\n",
      "  64.28571429  58.33333333  57.5         70.3125       0.\n",
      "  80.          75.          80.          50.          40.\n",
      "   0.           0.          53.52112676  60.          11.11111111\n",
      "  35.71428571   0.          53.33333333  45.45454545   0.\n",
      "  14.28571429  37.5         64.70588235  28.57142857  46.15384615\n",
      "  42.10526316  25.          27.02702703  16.66666667   0.\n",
      "  80.          80.95238095  52.17391304  33.33333333  44.44444444\n",
      "   9.09090909  44.44444444  58.82352941  80.           0.\n",
      "  64.86486486  59.25925926  31.25        45.45454545  87.5\n",
      "  16.66666667  45.45454545  88.23529412  57.89473684  64.28571429\n",
      "  65.90909091  63.63636364  39.28571429  52.63157895  34.7826087\n",
      "   0.          33.33333333  14.28571429  52.63157895  36.36363636\n",
      "  53.125       21.05263158  18.18181818  33.33333333  88.46153846\n",
      "  70.27027027  11.11111111  71.42857143  69.23076923  56.25\n",
      "  20.          27.77777778  55.38461538  61.53846154  23.80952381\n",
      "  60.           0.          25.          14.28571429  28.57142857\n",
      "  11.76470588  45.16129032  30.          33.33333333  50.\n",
      "  91.66666667  42.85714286  80.          27.27272727  33.33333333\n",
      "  43.75        34.375       33.33333333  25.          82.5\n",
      "  30.76923077 100.          47.36842105  14.28571429  66.66666667\n",
      "  14.28571429  60.          42.85714286   0.          85.\n",
      "  30.          75.          41.66666667  47.61904762  76.31578947\n",
      "  18.51851852  29.26829268  57.89473684  48.88888889  38.70967742\n",
      "  56.66666667  61.11111111  22.22222222  16.66666667  18.18181818\n",
      "   0.          18.18181818  35.          27.27272727  27.27272727\n",
      "  42.85714286  42.42424242  54.76190476  81.25        64.86486486\n",
      "  12.          71.42857143  94.73684211  20.          47.36842105\n",
      "  50.          26.66666667  14.81481481   9.09090909  48.48484848\n",
      "  35.29411765  30.76923077  35.13513514  22.72727273  61.9047619\n",
      "  33.33333333  16.66666667   6.25         8.33333333  45.45454545\n",
      "   7.69230769  14.28571429  53.84615385  42.85714286  83.33333333\n",
      "  18.18181818  48.          12.5         22.22222222  50.\n",
      "   0.          30.76923077   0.          53.08641975  50.\n",
      "   0.          75.51020408  43.1372549   25.          40.\n",
      "  34.          70.          33.33333333  25.92592593  32.25806452\n",
      "  31.37254902  27.27272727  22.22222222  33.33333333  10.\n",
      "  31.81818182  75.           5.55555556  55.55555556  40.\n",
      "  50.           0.          15.38461538  50.          30.76923077\n",
      "  35.29411765  42.85714286   0.          26.31578947  20.\n",
      "   0.          17.64705882  41.93548387  44.44444444  80.\n",
      "   0.          20.          48.14814815  20.          26.66666667\n",
      "  44.          36.36363636  67.04545455  14.28571429  33.33333333\n",
      "  22.22222222  30.76923077  78.94736842  21.73913043   7.40740741\n",
      "  52.5       ]\n"
     ]
    }
   ],
   "source": [
    "# Per-class accuracy\n",
    "class_accuracy=100*conf_mat.diagonal()/conf_mat.sum(1)\n",
    "print(class_accuracy)"
   ]
  },
  {
   "cell_type": "markdown",
   "id": "55083a6d",
   "metadata": {},
   "source": [
    "## Save"
   ]
  },
  {
   "cell_type": "code",
   "execution_count": 13,
   "id": "ea64b954",
   "metadata": {},
   "outputs": [],
   "source": [
    "#torch.save(net.state_dict(), \"C:/Users/heuma/Desktop/Master/S10/Aurea/Dataset_Kaggle_validation_Train_20-80/dict_Linh_network_1st_try\")"
   ]
  },
  {
   "cell_type": "code",
   "execution_count": 14,
   "id": "e0753a13",
   "metadata": {},
   "outputs": [],
   "source": [
    "#torch.save(net, \"C:/Users/heuma/Desktop/Master/S10/Aurea/Dataset_Kaggle_validation_Train_20-80/Linh_network_entire_model_1st_try\")"
   ]
  },
  {
   "cell_type": "code",
   "execution_count": 15,
   "id": "f9e64f8b",
   "metadata": {},
   "outputs": [
    {
     "data": {
      "text/plain": [
       "'\\nfrom torch.utils.data.dataloader import DataLoader\\n\\n\\ntrain_dl = DataLoader(train_set, batch_size, shuffle = True, num_workers = 4, pin_memory = True)\\n\\nfrom torchvision.utils import make_grid\\n\\ndef show_batch(dl):\\n    #Plot images grid of single batch\\n    for images, labels in dl:\\n        fig,ax = plt.subplots(figsize = (16,12))\\n        ax.set_xticks([])\\n        ax.set_yticks([])\\n        ax.imshow(make_grid(images,nrow=16).permute(1,2,0))\\n        break\\n        \\nshow_batch(train_dl)\\n\\n'"
      ]
     },
     "execution_count": 15,
     "metadata": {},
     "output_type": "execute_result"
    }
   ],
   "source": [
    "\"\"\"\n",
    "from torch.utils.data.dataloader import DataLoader\n",
    "\n",
    "\n",
    "train_dl = DataLoader(train_set, batch_size, shuffle = True, num_workers = 4, pin_memory = True)\n",
    "\n",
    "from torchvision.utils import make_grid\n",
    "\n",
    "def show_batch(dl):\n",
    "    #Plot images grid of single batch\n",
    "    for images, labels in dl:\n",
    "        fig,ax = plt.subplots(figsize = (16,12))\n",
    "        ax.set_xticks([])\n",
    "        ax.set_yticks([])\n",
    "        ax.imshow(make_grid(images,nrow=16).permute(1,2,0))\n",
    "        break\n",
    "        \n",
    "show_batch(train_dl)\n",
    "\n",
    "\"\"\""
   ]
  },
  {
   "cell_type": "code",
   "execution_count": 16,
   "id": "5308da1c",
   "metadata": {},
   "outputs": [
    {
     "data": {
      "text/plain": [
       "\"\\ntransform2 = transforms.Compose(\\n    [transforms.Resize((224, 224)),\\n     transforms.ToTensor()])\\n\\ntrain_set2 = ImageFolder('C:/Users/heuma/Desktop/Master/S10/Aurea/Dataset_Kaggle_validation_Train_20-80/TRAIN/', transform=transform2)\\n\\ntrain_dl2 = DataLoader(train_set2, batch_size, shuffle = True, num_workers = 4, pin_memory = True)\\n\\n        \\nshow_batch(train_dl2)\\n\""
      ]
     },
     "execution_count": 16,
     "metadata": {},
     "output_type": "execute_result"
    }
   ],
   "source": [
    "\"\"\"\n",
    "transform2 = transforms.Compose(\n",
    "    [transforms.Resize((224, 224)),\n",
    "     transforms.ToTensor()])\n",
    "\n",
    "train_set2 = ImageFolder('C:/Users/heuma/Desktop/Master/S10/Aurea/Dataset_Kaggle_validation_Train_20-80/TRAIN/', transform=transform2)\n",
    "\n",
    "train_dl2 = DataLoader(train_set2, batch_size, shuffle = True, num_workers = 4, pin_memory = True)\n",
    "\n",
    "        \n",
    "show_batch(train_dl2)\n",
    "\"\"\""
   ]
  },
  {
   "cell_type": "code",
   "execution_count": null,
   "id": "6940a02b",
   "metadata": {},
   "outputs": [],
   "source": []
  }
 ],
 "metadata": {
  "kernelspec": {
   "display_name": "Python 3 (ipykernel)",
   "language": "python",
   "name": "python3"
  },
  "language_info": {
   "codemirror_mode": {
    "name": "ipython",
    "version": 3
   },
   "file_extension": ".py",
   "mimetype": "text/x-python",
   "name": "python",
   "nbconvert_exporter": "python",
   "pygments_lexer": "ipython3",
   "version": "3.9.7"
  }
 },
 "nbformat": 4,
 "nbformat_minor": 5
}
