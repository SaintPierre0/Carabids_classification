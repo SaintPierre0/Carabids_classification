{
 "cells": [
  {
   "cell_type": "code",
   "execution_count": 1,
   "id": "66f3ab4b",
   "metadata": {},
   "outputs": [
    {
     "data": {
      "text/plain": [
       "'cuda'"
      ]
     },
     "execution_count": 1,
     "metadata": {},
     "output_type": "execute_result"
    }
   ],
   "source": [
    "# import PyTorch and its related packages\n",
    "import torch as T\n",
    "import torch.nn as nn\n",
    "import torch.optim as optim\n",
    "import torch.nn.functional as F\n",
    "\n",
    "import torch\n",
    "\n",
    "import torchvision\n",
    "import torchvision.transforms as transforms\n",
    "\n",
    "from torchvision import transforms\n",
    "from torchvision.datasets import ImageFolder\n",
    "\n",
    "from tqdm.notebook import tqdm\n",
    "\n",
    "from sklearn.metrics import confusion_matrix\n",
    "\n",
    "\n",
    "# set default device based on CUDA's availability\n",
    "device = 'cuda' if T.cuda.is_available() else 'cpu'\n",
    "device"
   ]
  },
  {
   "cell_type": "code",
   "execution_count": 2,
   "id": "44a7c1c6",
   "metadata": {},
   "outputs": [],
   "source": [
    "transform = transforms.Compose(\n",
    "    [transforms.Resize((224,224)),\n",
    "     transforms.ToTensor(),\n",
    "     transforms.Normalize((0.485, 0.456, 0.406), (0.229, 0.224, 0.225))])\n",
    "\n",
    "batch_size = 128\n",
    "#image_size = (224, 224, 3)\n",
    "\n",
    "train_set = ImageFolder('C:/Users/heuma/Desktop/Work/Reseaux_test/Dataset_Kaggle/output/train', transform=transform)\n",
    "validation_set = ImageFolder('C:/Users/heuma/Desktop/Work/Reseaux_test/Dataset_Kaggle/output/val', transform=transform)\n",
    "test_set = ImageFolder('C:/Users/heuma/Desktop/Work/Reseaux_test/Dataset_Kaggle/output/test', transform=transform)\n",
    "\n",
    "#train_set = train_ds\n",
    "train_loader = T.utils.data.DataLoader(train_set, batch_size=batch_size,shuffle=True, num_workers=8)\n",
    "\n",
    "#validation_set = validation_ds\n",
    "validation_loader = T.utils.data.DataLoader(validation_set, batch_size=batch_size,shuffle=True, num_workers=8)\n",
    "\n",
    "#test_set = test_ds\n",
    "test_loader = T.utils.data.DataLoader(test_set, batch_size=batch_size,shuffle=True, num_workers=8)"
   ]
  },
  {
   "cell_type": "code",
   "execution_count": 3,
   "id": "e9c36132",
   "metadata": {},
   "outputs": [],
   "source": [
    "class NewNetwork(nn.Module):\n",
    "    def __init__(self, num_classes=291):\n",
    "        super(NewNetwork, self).__init__()\n",
    "        self.features = nn.Sequential(\n",
    "            nn.Conv2d(3, 64, kernel_size=11, stride=4, padding=2),\n",
    "            nn.ReLU(inplace=True),\n",
    "            nn.MaxPool2d(kernel_size=3, stride=2),\n",
    "            nn.Dropout(p=0.1),\n",
    "            nn.Conv2d(64, 64, kernel_size=1, padding=1),\n",
    "            nn.Dropout(p=0.1),\n",
    "            nn.Conv2d(64, 64, kernel_size=1, padding=1),\n",
    "            nn.Dropout(p=0.1),\n",
    "            nn.Conv2d(64, 64, kernel_size=1, padding=1),\n",
    "            nn.Dropout(p=0.1),\n",
    "            nn.Conv2d(64, 192, kernel_size=5, padding=2),\n",
    "            nn.ReLU(inplace=True),\n",
    "            nn.MaxPool2d(kernel_size=3, stride=2),\n",
    "            nn.Dropout(p=0.2),\n",
    "            nn.Conv2d(192, 192, kernel_size=1, padding=1),\n",
    "            nn.Dropout(p=0.2),\n",
    "            nn.Conv2d(192, 192, kernel_size=1, padding=1),\n",
    "            nn.Dropout(p=0.2),\n",
    "            nn.Conv2d(192, 192, kernel_size=1, padding=1),\n",
    "            nn.Dropout(p=0.2),\n",
    "            nn.Conv2d(192, 256, kernel_size=3, padding=1),\n",
    "            nn.ReLU(inplace=True),\n",
    "            nn.MaxPool2d(kernel_size=3, stride=2),\n",
    "            nn.Dropout(p=0.3),\n",
    "            nn.Conv2d(256, 256, kernel_size=1, padding=1),\n",
    "            nn.Dropout(p=0.3),\n",
    "            nn.Conv2d(256, 256, kernel_size=1, padding=1),\n",
    "            nn.Dropout(p=0.3),\n",
    "            nn.Conv2d(256, 256, kernel_size=1, padding=1),\n",
    "            nn.Dropout(p=0.3),\n",
    "            nn.Conv2d(256, 256, kernel_size=3, padding=1),\n",
    "            nn.ReLU(inplace=True),\n",
    "            nn.MaxPool2d(kernel_size=3, stride=2),\n",
    "            nn.Dropout(p=0.3)\n",
    "        )\n",
    "        self.classifier = nn.Sequential(\n",
    "            nn.Dropout(p=0.5),\n",
    "            nn.Linear(49 * 16 * 16, 4000),\n",
    "            nn.Dropout(p=0.5),\n",
    "            nn.Linear(4000, 2000),\n",
    "            nn.Dropout(p=0.5),\n",
    "            nn.Linear(2000, num_classes),\n",
    "        )\n",
    "\n",
    "    def forward(self, x):\n",
    "        x = self.features(x)\n",
    "        x = x.view(x.shape[0], -1)\n",
    "        x = self.classifier(x)\n",
    "        return x"
   ]
  },
  {
   "cell_type": "code",
   "execution_count": 4,
   "id": "441d12a6",
   "metadata": {},
   "outputs": [
    {
     "data": {
      "text/plain": [
       "NewNetwork(\n",
       "  (features): Sequential(\n",
       "    (0): Conv2d(3, 64, kernel_size=(11, 11), stride=(4, 4), padding=(2, 2))\n",
       "    (1): ReLU(inplace=True)\n",
       "    (2): MaxPool2d(kernel_size=3, stride=2, padding=0, dilation=1, ceil_mode=False)\n",
       "    (3): Dropout(p=0.1, inplace=False)\n",
       "    (4): Conv2d(64, 64, kernel_size=(1, 1), stride=(1, 1), padding=(1, 1))\n",
       "    (5): Dropout(p=0.1, inplace=False)\n",
       "    (6): Conv2d(64, 64, kernel_size=(1, 1), stride=(1, 1), padding=(1, 1))\n",
       "    (7): Dropout(p=0.1, inplace=False)\n",
       "    (8): Conv2d(64, 64, kernel_size=(1, 1), stride=(1, 1), padding=(1, 1))\n",
       "    (9): Dropout(p=0.1, inplace=False)\n",
       "    (10): Conv2d(64, 192, kernel_size=(5, 5), stride=(1, 1), padding=(2, 2))\n",
       "    (11): ReLU(inplace=True)\n",
       "    (12): MaxPool2d(kernel_size=3, stride=2, padding=0, dilation=1, ceil_mode=False)\n",
       "    (13): Dropout(p=0.2, inplace=False)\n",
       "    (14): Conv2d(192, 192, kernel_size=(1, 1), stride=(1, 1), padding=(1, 1))\n",
       "    (15): Dropout(p=0.2, inplace=False)\n",
       "    (16): Conv2d(192, 192, kernel_size=(1, 1), stride=(1, 1), padding=(1, 1))\n",
       "    (17): Dropout(p=0.2, inplace=False)\n",
       "    (18): Conv2d(192, 192, kernel_size=(1, 1), stride=(1, 1), padding=(1, 1))\n",
       "    (19): Dropout(p=0.2, inplace=False)\n",
       "    (20): Conv2d(192, 256, kernel_size=(3, 3), stride=(1, 1), padding=(1, 1))\n",
       "    (21): ReLU(inplace=True)\n",
       "    (22): MaxPool2d(kernel_size=3, stride=2, padding=0, dilation=1, ceil_mode=False)\n",
       "    (23): Dropout(p=0.3, inplace=False)\n",
       "    (24): Conv2d(256, 256, kernel_size=(1, 1), stride=(1, 1), padding=(1, 1))\n",
       "    (25): Dropout(p=0.3, inplace=False)\n",
       "    (26): Conv2d(256, 256, kernel_size=(1, 1), stride=(1, 1), padding=(1, 1))\n",
       "    (27): Dropout(p=0.3, inplace=False)\n",
       "    (28): Conv2d(256, 256, kernel_size=(1, 1), stride=(1, 1), padding=(1, 1))\n",
       "    (29): Dropout(p=0.3, inplace=False)\n",
       "    (30): Conv2d(256, 256, kernel_size=(3, 3), stride=(1, 1), padding=(1, 1))\n",
       "    (31): ReLU(inplace=True)\n",
       "    (32): MaxPool2d(kernel_size=3, stride=2, padding=0, dilation=1, ceil_mode=False)\n",
       "    (33): Dropout(p=0.3, inplace=False)\n",
       "  )\n",
       "  (classifier): Sequential(\n",
       "    (0): Dropout(p=0.5, inplace=False)\n",
       "    (1): Linear(in_features=12544, out_features=4000, bias=True)\n",
       "    (2): Dropout(p=0.5, inplace=False)\n",
       "    (3): Linear(in_features=4000, out_features=2000, bias=True)\n",
       "    (4): Dropout(p=0.5, inplace=False)\n",
       "    (5): Linear(in_features=2000, out_features=291, bias=True)\n",
       "  )\n",
       ")"
      ]
     },
     "execution_count": 4,
     "metadata": {},
     "output_type": "execute_result"
    }
   ],
   "source": [
    "net = NewNetwork()\n",
    "net.to(device)"
   ]
  },
  {
   "cell_type": "code",
   "execution_count": 5,
   "id": "f39606d9",
   "metadata": {},
   "outputs": [],
   "source": [
    "criterion = nn.CrossEntropyLoss()\n",
    "\n",
    "# also the optimizer\n",
    "optimizer = optim.SGD(net.parameters(), lr=0.001, momentum=0.9)\n",
    "\n",
    "#dynamic learning rate\n",
    "#scheduler = optim.lr_scheduler.ExponentialLR(optimizer, gamma=0.9)"
   ]
  },
  {
   "cell_type": "code",
   "execution_count": 6,
   "id": "0b71ba8f",
   "metadata": {
    "scrolled": false
   },
   "outputs": [
    {
     "data": {
      "application/vnd.jupyter.widget-view+json": {
       "model_id": "703edf6fe6304ed58ff971d5ad331b69",
       "version_major": 2,
       "version_minor": 0
      },
      "text/plain": [
       "  0%|          | 0/201 [00:00<?, ?it/s]"
      ]
     },
     "metadata": {},
     "output_type": "display_data"
    },
    {
     "name": "stdout",
     "output_type": "stream",
     "text": [
      "\n",
      "Epoch: 0\n",
      "Train Loss => 5.64949\n",
      "validation Acc.  => 1.467% | validation Loss  => 5.59643\n",
      "Accuracy of the network on test images: 1 %\n",
      "\n",
      "Epoch: 10\n",
      "Train Loss => 5.46801\n",
      "validation Acc.  => 1.273% | validation Loss  => 5.45949\n",
      "Accuracy of the network on test images: 1 %\n",
      "\n",
      "Epoch: 20\n",
      "Train Loss => 5.46599\n",
      "validation Acc.  => 1.451% | validation Loss  => 5.45547\n",
      "Accuracy of the network on test images: 1 %\n",
      "\n",
      "Epoch: 30\n",
      "Train Loss => 5.46514\n",
      "validation Acc.  => 1.370% | validation Loss  => 5.45430\n",
      "Accuracy of the network on test images: 1 %\n",
      "\n",
      "Epoch: 40\n",
      "Train Loss => 5.46208\n",
      "validation Acc.  => 1.338% | validation Loss  => 5.45425\n",
      "Accuracy of the network on test images: 1 %\n",
      "\n",
      "Epoch: 50\n",
      "Train Loss => 5.46259\n",
      "validation Acc.  => 1.386% | validation Loss  => 5.45396\n",
      "Accuracy of the network on test images: 1 %\n",
      "\n",
      "Epoch: 60\n",
      "Train Loss => 5.46178\n",
      "validation Acc.  => 1.547% | validation Loss  => 5.45254\n",
      "Accuracy of the network on test images: 1 %\n",
      "\n",
      "Epoch: 70\n",
      "Train Loss => 5.46273\n",
      "validation Acc.  => 1.435% | validation Loss  => 5.45276\n",
      "Accuracy of the network on test images: 1 %\n",
      "\n",
      "Epoch: 80\n",
      "Train Loss => 5.46065\n",
      "validation Acc.  => 1.435% | validation Loss  => 5.45176\n",
      "Accuracy of the network on test images: 1 %\n",
      "\n",
      "Epoch: 90\n",
      "Train Loss => 5.45412\n",
      "validation Acc.  => 1.273% | validation Loss  => 5.44563\n",
      "Accuracy of the network on test images: 1 %\n",
      "\n",
      "Epoch: 100\n",
      "Train Loss => 5.30890\n",
      "validation Acc.  => 2.515% | validation Loss  => 5.28415\n",
      "Accuracy of the network on test images: 2 %\n",
      "\n",
      "Epoch: 110\n",
      "Train Loss => 4.06321\n",
      "validation Acc.  => 9.687% | validation Loss  => 4.01311\n",
      "Accuracy of the network on test images: 9 %\n",
      "\n",
      "Epoch: 120\n",
      "Train Loss => 2.90130\n",
      "validation Acc.  => 23.727% | validation Loss  => 3.01228\n",
      "Accuracy of the network on test images: 22 %\n",
      "\n",
      "Epoch: 130\n",
      "Train Loss => 2.23001\n",
      "validation Acc.  => 29.110% | validation Loss  => 2.76984\n",
      "Accuracy of the network on test images: 28 %\n",
      "\n",
      "Epoch: 140\n",
      "Train Loss => 1.76265\n",
      "validation Acc.  => 48.501% | validation Loss  => 1.82411\n",
      "Accuracy of the network on test images: 47 %\n",
      "\n",
      "Epoch: 150\n",
      "Train Loss => 1.43861\n",
      "validation Acc.  => 55.303% | validation Loss  => 1.57329\n",
      "Accuracy of the network on test images: 54 %\n",
      "\n",
      "Epoch: 160\n",
      "Train Loss => 1.22684\n",
      "validation Acc.  => 61.928% | validation Loss  => 1.30256\n",
      "Accuracy of the network on test images: 61 %\n",
      "\n",
      "Epoch: 170\n",
      "Train Loss => 1.08612\n",
      "validation Acc.  => 62.637% | validation Loss  => 1.32062\n",
      "Accuracy of the network on test images: 62 %\n",
      "\n",
      "Epoch: 180\n",
      "Train Loss => 0.97175\n",
      "validation Acc.  => 65.200% | validation Loss  => 1.21027\n",
      "Accuracy of the network on test images: 64 %\n",
      "\n",
      "Epoch: 190\n",
      "Train Loss => 0.89293\n",
      "validation Acc.  => 67.940% | validation Loss  => 1.07036\n",
      "Accuracy of the network on test images: 67 %\n",
      "\n",
      "Epoch: 200\n",
      "Train Loss => 0.82792\n",
      "validation Acc.  => 68.939% | validation Loss  => 1.05397\n",
      "Accuracy of the network on test images: 68 %\n",
      "Finished Training\n"
     ]
    }
   ],
   "source": [
    "train_loss = []\n",
    "validation_loss = []\n",
    "train_acc = []\n",
    "validation_acc = []\n",
    "\n",
    "test_acc = []\n",
    "\n",
    "lrs = []\n",
    "steps = []\n",
    "\n",
    "# Initialize the prediction and label lists(tensors)\n",
    "predlist=torch.zeros(0,dtype=torch.long, device='cpu')\n",
    "lbllist=torch.zeros(0,dtype=torch.long, device='cpu')\n",
    "\n",
    "for epoch in tqdm(range(0, 201)):  # loop over the dataset multiple times\n",
    "    \n",
    "    running_loss = .0\n",
    "    correct = 0\n",
    "    total = 0\n",
    "    for i, data in enumerate(train_loader):\n",
    "        # get the inputs\n",
    "        inputs, labels = data\n",
    "        if device == 'cuda':\n",
    "            inputs, labels = inputs.to(device), labels.to(device)\n",
    "\n",
    "        # reset the parameter gradients\n",
    "        optimizer.zero_grad()\n",
    "\n",
    "        # forward\n",
    "        outputs = net(inputs)\n",
    "        loss = criterion(outputs, labels)\n",
    "        # backward\n",
    "        loss.backward()\n",
    "        # optimize\n",
    "        optimizer.step()\n",
    "        \n",
    "        running_loss += loss.item()\n",
    "        _, predicted = T.max(outputs.data, 1)\n",
    "        total += labels.size(0)\n",
    "        correct += (predicted == labels).sum().item()\n",
    "        \n",
    "    running_loss /= len(train_loader)\n",
    "    train_loss.append(running_loss)\n",
    "    running_acc = correct / total\n",
    "    train_acc.append(running_acc)\n",
    "    \n",
    "    #zone pour mettre le learning rate dynamique\n",
    "    \"\"\"\n",
    "    steps.append(epoch)\n",
    "    lrs.append(scheduler.get_last_lr()[0])\n",
    "    scheduler.step()\n",
    "    \"\"\"\n",
    "    \n",
    "    if epoch % 10 == 0:\n",
    "        print('\\nEpoch: {}'.format(epoch))\n",
    "    #    print('Train Acc. => {:.3f}%'.format(100 * running_acc), end=' | ')\n",
    "        print('Train Loss => {:.5f}'.format(running_loss))\n",
    "    \n",
    "    # evaluate on the validation set\n",
    "    # note this is usually performed on the validation set\n",
    "    # for simplicity we just evaluate it on the validation set\n",
    "    with T.no_grad():\n",
    "        correct = 0\n",
    "        total = 0\n",
    "        validation_running_loss = .0\n",
    "        for data in validation_loader:\n",
    "            inputs, labels = data\n",
    "            if device == 'cuda':\n",
    "                inputs, labels = inputs.to(device), labels.to(device)\n",
    "            outputs = net(inputs)\n",
    "            loss = criterion(outputs, labels)\n",
    "            validation_running_loss += loss.item()\n",
    "            _, predicted = T.max(outputs.data, 1)\n",
    "            total += labels.size(0)\n",
    "            correct += (predicted == labels).sum().item()\n",
    "            \n",
    "            if epoch == 200: # a changer si besoin d'afficher la matrice de confusion, a mettre à epoch-1\n",
    "                # Append batch prediction results\n",
    "                predlist=torch.cat([predlist,predicted.view(-1).cpu()])\n",
    "                lbllist=torch.cat([lbllist,labels.view(-1).cpu()])\n",
    "\n",
    "        validation_running_loss /= len(validation_loader)\n",
    "        validation_loss.append(validation_running_loss)\n",
    "        validation_running_acc = correct / total\n",
    "        validation_acc.append(validation_running_acc)\n",
    "        \n",
    "        if epoch % 10 == 0:\n",
    "            print('validation Acc.  => {:.3f}%'.format(100 * validation_running_acc), end=' | ')\n",
    "            print('validation Loss  => {:.5f}'.format(validation_running_loss))\n",
    "\n",
    "    with torch.no_grad():\n",
    "        correct_t = 0\n",
    "        total_t = 0\n",
    "        for data in test_loader:\n",
    "            inputs, labels = data\n",
    "            inputs, labels = inputs.to('cuda'), labels.to('cuda')\n",
    "            outputs = net(inputs)\n",
    "            _, predicted = torch.max(outputs.data, 1)\n",
    "            total_t += labels.size(0)\n",
    "            correct_t += (predicted == labels).sum().item()\n",
    "            \n",
    "            running_acc_t = correct_t / total_t\n",
    "        test_acc.append(running_acc_t)\n",
    "    \n",
    "        if epoch % 10 == 0:\n",
    "            print('Accuracy of the network on test images: %d %%' % (100 * correct_t / total_t))\n",
    "\n",
    "print('Finished Training')"
   ]
  },
  {
   "cell_type": "markdown",
   "id": "200262ff",
   "metadata": {},
   "source": [
    "## Visualization"
   ]
  },
  {
   "cell_type": "code",
   "execution_count": 7,
   "id": "bcb34d7f",
   "metadata": {},
   "outputs": [],
   "source": [
    "import matplotlib.pyplot as plt\n",
    "import seaborn as sns"
   ]
  },
  {
   "cell_type": "code",
   "execution_count": 8,
   "id": "aa68121a",
   "metadata": {},
   "outputs": [
    {
     "data": {
      "image/png": "[encoded data removed]",
      "text/plain": [
       "<Figure size 432x288 with 1 Axes>"
      ]
     },
     "metadata": {
      "needs_background": "light"
     },
     "output_type": "display_data"
    }
   ],
   "source": [
    "plt.plot(train_loss, label='train')\n",
    "plt.plot(validation_loss, label='validation')\n",
    "plt.xlabel(\"epoch\")\n",
    "plt.ylabel(\"loss values\")\n",
    "plt.title(\"loss rate's curve\")\n",
    "plt.legend()\n",
    "plt.show()"
   ]
  },
  {
   "cell_type": "code",
   "execution_count": 9,
   "id": "35ceeda8",
   "metadata": {},
   "outputs": [
    {
     "data": {
      "image/png": "[encoded data removed]",
      "text/plain": [
       "<Figure size 432x288 with 1 Axes>"
      ]
     },
     "metadata": {
      "needs_background": "light"
     },
     "output_type": "display_data"
    }
   ],
   "source": [
    "plt.plot(train_acc, label='train')\n",
    "plt.plot(validation_acc, label='validation')\n",
    "plt.plot(test_acc, label='test')\n",
    "plt.xlabel(\"epoch\")\n",
    "plt.ylabel(\"accuracy values\")\n",
    "plt.title(\"accuracy rate's curve\")\n",
    "plt.legend()\n",
    "plt.show()"
   ]
  },
  {
   "cell_type": "code",
   "execution_count": 10,
   "id": "ab1bac62",
   "metadata": {},
   "outputs": [
    {
     "name": "stdout",
     "output_type": "stream",
     "text": [
      "[[13  4  0 ...  0  0  0]\n",
      " [ 8 33  0 ...  0  0  0]\n",
      " [ 0  0 20 ...  0  0  0]\n",
      " ...\n",
      " [ 0  0  0 ... 18  0  0]\n",
      " [ 0  0  0 ...  0 16  0]\n",
      " [ 0  0  0 ...  0  0 30]]\n"
     ]
    }
   ],
   "source": [
    "# Confusion matrix\n",
    "conf_mat=confusion_matrix(lbllist.numpy(), predlist.numpy())\n",
    "print(conf_mat)\n"
   ]
  },
  {
   "cell_type": "code",
   "execution_count": 11,
   "id": "10da7cf6",
   "metadata": {},
   "outputs": [
    {
     "data": {
      "text/plain": [
       "<AxesSubplot:>"
      ]
     },
     "execution_count": 11,
     "metadata": {},
     "output_type": "execute_result"
    },
    {
     "data": {
      "image/png": "[encoded data removed]",
      "text/plain": [
       "<Figure size 936x720 with 2 Axes>"
      ]
     },
     "metadata": {
      "needs_background": "light"
     },
     "output_type": "display_data"
    }
   ],
   "source": [
    "fig, ax = plt.subplots(figsize=(13,10))\n",
    "sns.heatmap(conf_mat, annot=False, ax=ax, cmap=\"BuPu\")"
   ]
  },
  {
   "cell_type": "code",
   "execution_count": 12,
   "id": "2071eb75",
   "metadata": {},
   "outputs": [
    {
     "name": "stdout",
     "output_type": "stream",
     "text": [
      "[ 61.9047619   55.93220339  83.33333333  66.66666667  62.5\n",
      "  63.15789474  86.36363636  89.36170213  80.          36.84210526\n",
      "  60.          94.11764706  68.08510638  76.78571429  11.11111111\n",
      "  76.74418605  81.81818182  76.92307692  52.83018868  75.\n",
      "  61.53846154  82.35294118  61.29032258  50.          66.66666667\n",
      "  57.14285714  85.10638298  95.23809524  42.85714286 100.\n",
      "  66.66666667  61.76470588  66.66666667  63.63636364  92.85714286\n",
      "  86.11111111  73.33333333  41.66666667  62.5         50.\n",
      "  36.36363636  61.11111111  50.          62.5         71.42857143\n",
      "  82.5         66.66666667  46.42857143  69.56521739  33.33333333\n",
      "  90.90909091  12.5         50.          72.72727273 100.\n",
      "  72.72727273  75.75757576  40.          63.63636364  66.66666667\n",
      "  29.41176471  20.          36.36363636  36.36363636  50.\n",
      "  33.33333333  50.          61.76470588  93.93939394  83.33333333\n",
      "  65.71428571  35.          80.          75.          76.19047619\n",
      "  96.42857143  79.16666667  65.          84.375       18.18181818\n",
      "  60.         100.          90.          16.66666667  80.\n",
      "  20.          66.66666667  73.23943662  20.          11.11111111\n",
      "  28.57142857  50.          76.66666667  70.90909091  75.\n",
      "  42.85714286  43.75        91.17647059  50.          69.23076923\n",
      "  73.68421053  60.          40.54054054  50.           0.\n",
      "  60.          76.19047619  78.26086957  83.33333333  75.\n",
      "  18.18181818  77.77777778  70.58823529  90.          60.\n",
      "  89.18918919  88.88888889  68.75        81.81818182  95.83333333\n",
      "  66.66666667  63.63636364  88.23529412  57.89473684  83.33333333\n",
      "  86.36363636  90.90909091  46.42857143  73.68421053  69.56521739\n",
      "  33.33333333  57.14285714  50.          63.15789474  90.90909091\n",
      "  75.          47.36842105  45.45454545  66.66666667  92.30769231\n",
      "  83.78378378  66.66666667  85.71428571 100.          84.375\n",
      "  80.          50.          75.38461538  76.92307692  57.14285714\n",
      "  73.33333333  37.5         75.          66.66666667  71.42857143\n",
      "  52.94117647  70.96774194  85.          83.33333333  66.66666667\n",
      " 100.          89.28571429  60.          54.54545455  54.16666667\n",
      "  78.125       50.         100.          75.          87.5\n",
      "  69.23076923  90.          78.94736842  50.          77.77777778\n",
      "  42.85714286  80.          85.71428571  60.          90.\n",
      "  70.          62.5         50.          76.19047619  76.31578947\n",
      "  66.66666667  39.02439024  81.57894737  73.33333333  61.29032258\n",
      "  86.66666667  83.33333333  30.55555556  54.16666667  81.81818182\n",
      "  30.76923077  81.81818182  70.          45.45454545  54.54545455\n",
      "  74.28571429  81.81818182  73.80952381  87.5         81.08108108\n",
      "  68.         100.          94.73684211  40.          52.63157895\n",
      "  66.66666667  53.33333333  33.33333333  72.72727273  78.78787879\n",
      "  23.52941176  69.23076923  56.75675676  50.          85.71428571\n",
      "  64.44444444  50.          50.          41.66666667  59.09090909\n",
      "  53.84615385  57.14285714  84.61538462  85.71428571  83.33333333\n",
      "  27.27272727  60.          37.5         77.77777778  62.5\n",
      "  16.66666667 100.          60.          71.60493827  56.25\n",
      "  20.          77.55102041  76.47058824  68.75        80.\n",
      "  82.          90.          50.          70.37037037  61.29032258\n",
      "  54.90196078  54.54545455  55.55555556  73.80952381  50.\n",
      "  40.90909091  83.33333333  22.22222222  77.77777778  65.\n",
      "  86.66666667  50.          46.15384615  50.          61.53846154\n",
      "  82.35294118  85.71428571  40.          47.36842105  60.\n",
      "  60.          23.52941176  70.96774194  88.88888889  84.\n",
      "  42.85714286  26.66666667  70.37037037  70.          66.66666667\n",
      "  76.          77.27272727  84.09090909  71.42857143  83.33333333\n",
      "  66.66666667  84.61538462  73.68421053  78.26086957  59.25925926\n",
      "  75.        ]\n"
     ]
    }
   ],
   "source": [
    "# Per-class accuracy\n",
    "class_accuracy=100*conf_mat.diagonal()/conf_mat.sum(1)\n",
    "print(class_accuracy)"
   ]
  },
  {
   "cell_type": "markdown",
   "id": "55083a6d",
   "metadata": {},
   "source": [
    "## Save"
   ]
  },
  {
   "cell_type": "code",
   "execution_count": 13,
   "id": "ea64b954",
   "metadata": {},
   "outputs": [],
   "source": [
    "#torch.save(net.state_dict(), \"C:/Users/heuma/Desktop/Master/S10/Aurea/Dataset_Kaggle_validation_Train_20-80/dict_Linh_network_1st_try\")"
   ]
  },
  {
   "cell_type": "code",
   "execution_count": 14,
   "id": "e0753a13",
   "metadata": {},
   "outputs": [],
   "source": [
    "#torch.save(net, \"C:/Users/heuma/Desktop/Master/S10/Aurea/Dataset_Kaggle_validation_Train_20-80/Linh_network_entire_model_1st_try\")"
   ]
  },
  {
   "cell_type": "code",
   "execution_count": 15,
   "id": "f9e64f8b",
   "metadata": {},
   "outputs": [
    {
     "data": {
      "text/plain": [
       "'\\nfrom torch.utils.data.dataloader import DataLoader\\n\\n\\ntrain_dl = DataLoader(train_set, batch_size, shuffle = True, num_workers = 4, pin_memory = True)\\n\\nfrom torchvision.utils import make_grid\\n\\ndef show_batch(dl):\\n    #Plot images grid of single batch\\n    for images, labels in dl:\\n        fig,ax = plt.subplots(figsize = (16,12))\\n        ax.set_xticks([])\\n        ax.set_yticks([])\\n        ax.imshow(make_grid(images,nrow=16).permute(1,2,0))\\n        break\\n        \\nshow_batch(train_dl)\\n\\n'"
      ]
     },
     "execution_count": 15,
     "metadata": {},
     "output_type": "execute_result"
    }
   ],
   "source": [
    "\"\"\"\n",
    "from torch.utils.data.dataloader import DataLoader\n",
    "\n",
    "\n",
    "train_dl = DataLoader(train_set, batch_size, shuffle = True, num_workers = 4, pin_memory = True)\n",
    "\n",
    "from torchvision.utils import make_grid\n",
    "\n",
    "def show_batch(dl):\n",
    "    #Plot images grid of single batch\n",
    "    for images, labels in dl:\n",
    "        fig,ax = plt.subplots(figsize = (16,12))\n",
    "        ax.set_xticks([])\n",
    "        ax.set_yticks([])\n",
    "        ax.imshow(make_grid(images,nrow=16).permute(1,2,0))\n",
    "        break\n",
    "        \n",
    "show_batch(train_dl)\n",
    "\n",
    "\"\"\""
   ]
  },
  {
   "cell_type": "code",
   "execution_count": 16,
   "id": "5308da1c",
   "metadata": {},
   "outputs": [
    {
     "data": {
      "text/plain": [
       "\"\\ntransform2 = transforms.Compose(\\n    [transforms.Resize((224, 224)),\\n     transforms.ToTensor()])\\n\\ntrain_set2 = ImageFolder('C:/Users/heuma/Desktop/Master/S10/Aurea/Dataset_Kaggle_validation_Train_20-80/TRAIN/', transform=transform2)\\n\\ntrain_dl2 = DataLoader(train_set2, batch_size, shuffle = True, num_workers = 4, pin_memory = True)\\n\\n        \\nshow_batch(train_dl2)\\n\""
      ]
     },
     "execution_count": 16,
     "metadata": {},
     "output_type": "execute_result"
    }
   ],
   "source": [
    "\"\"\"\n",
    "transform2 = transforms.Compose(\n",
    "    [transforms.Resize((224, 224)),\n",
    "     transforms.ToTensor()])\n",
    "\n",
    "train_set2 = ImageFolder('C:/Users/heuma/Desktop/Master/S10/Aurea/Dataset_Kaggle_validation_Train_20-80/TRAIN/', transform=transform2)\n",
    "\n",
    "train_dl2 = DataLoader(train_set2, batch_size, shuffle = True, num_workers = 4, pin_memory = True)\n",
    "\n",
    "        \n",
    "show_batch(train_dl2)\n",
    "\"\"\""
   ]
  },
  {
   "cell_type": "code",
   "execution_count": null,
   "id": "6940a02b",
   "metadata": {},
   "outputs": [],
   "source": []
  }
 ],
 "metadata": {
  "kernelspec": {
   "display_name": "Python 3 (ipykernel)",
   "language": "python",
   "name": "python3"
  },
  "language_info": {
   "codemirror_mode": {
    "name": "ipython",
    "version": 3
   },
   "file_extension": ".py",
   "mimetype": "text/x-python",
   "name": "python",
   "nbconvert_exporter": "python",
   "pygments_lexer": "ipython3",
   "version": "3.9.7"
  }
 },
 "nbformat": 4,
 "nbformat_minor": 5
}
