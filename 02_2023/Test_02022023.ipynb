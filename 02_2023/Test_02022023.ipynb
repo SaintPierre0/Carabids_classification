{
 "cells": [
  {
   "cell_type": "code",
   "execution_count": 1,
   "id": "66f3ab4b",
   "metadata": {},
   "outputs": [
    {
     "data": {
      "text/plain": [
       "'cuda'"
      ]
     },
     "execution_count": 1,
     "metadata": {},
     "output_type": "execute_result"
    }
   ],
   "source": [
    "# import PyTorch and its related packages\n",
    "import torch as T\n",
    "import torch.nn as nn\n",
    "import torch.optim as optim\n",
    "import torch.nn.functional as F\n",
    "\n",
    "import torch\n",
    "\n",
    "import torchvision\n",
    "import torchvision.transforms as transforms\n",
    "\n",
    "from torchvision import transforms\n",
    "from torchvision.datasets import ImageFolder\n",
    "\n",
    "from tqdm.notebook import tqdm\n",
    "\n",
    "from sklearn.metrics import confusion_matrix\n",
    "\n",
    "\n",
    "# set default device based on CUDA's availability\n",
    "device = 'cuda' if T.cuda.is_available() else 'cpu'\n",
    "device"
   ]
  },
  {
   "cell_type": "code",
   "execution_count": 2,
   "id": "44a7c1c6",
   "metadata": {},
   "outputs": [],
   "source": [
    "transform = transforms.Compose(\n",
    "    [transforms.Resize((224,224)),\n",
    "     transforms.ToTensor(),\n",
    "     transforms.Normalize((0.485, 0.456, 0.406), (0.229, 0.224, 0.225))])\n",
    "\n",
    "batch_size = 64\n",
    "#image_size = (224, 224, 3)\n",
    "\n",
    "train_set = ImageFolder('C:/Users/heuma/Desktop/Work/Reseaux_test/Dataset_Kaggle/output/train', transform=transform)\n",
    "validation_set = ImageFolder('C:/Users/heuma/Desktop/Work/Reseaux_test/Dataset_Kaggle/output/val', transform=transform)\n",
    "test_set = ImageFolder('C:/Users/heuma/Desktop/Work/Reseaux_test/Dataset_Kaggle/output/test', transform=transform)\n",
    "\n",
    "#train_set = train_ds\n",
    "train_loader = T.utils.data.DataLoader(train_set, batch_size=batch_size,shuffle=True, num_workers=8)\n",
    "\n",
    "#validation_set = validation_ds\n",
    "validation_loader = T.utils.data.DataLoader(validation_set, batch_size=batch_size,shuffle=True, num_workers=8)\n",
    "\n",
    "#test_set = test_ds\n",
    "test_loader = T.utils.data.DataLoader(test_set, batch_size=batch_size,shuffle=True, num_workers=8)"
   ]
  },
  {
   "cell_type": "code",
   "execution_count": 3,
   "id": "e9c36132",
   "metadata": {},
   "outputs": [],
   "source": [
    "class NewNetwork(nn.Module):\n",
    "    def __init__(self, num_classes=291):\n",
    "        super(NewNetwork, self).__init__()\n",
    "        self.features = nn.Sequential(\n",
    "            nn.Conv2d(3, 64, kernel_size=11, stride=4, padding=2),\n",
    "            nn.ReLU(inplace=True),\n",
    "            nn.MaxPool2d(kernel_size=3, stride=2),\n",
    "            nn.Dropout(p=0.1),\n",
    "            nn.Conv2d(64, 192, kernel_size=5, padding=2),\n",
    "            nn.ReLU(inplace=True),\n",
    "            nn.MaxPool2d(kernel_size=3, stride=2),\n",
    "            nn.Dropout(p=0.2),\n",
    "            nn.Conv2d(192, 256, kernel_size=3, padding=1),\n",
    "            nn.ReLU(inplace=True),\n",
    "            nn.MaxPool2d(kernel_size=3, stride=2),\n",
    "            nn.Dropout(p=0.3),\n",
    "            nn.Conv2d(256, 256, kernel_size=3, padding=1),\n",
    "            nn.ReLU(inplace=True),\n",
    "            nn.MaxPool2d(kernel_size=3, stride=2),\n",
    "            nn.Dropout(p=0.3)\n",
    "        )\n",
    "        self.classifier = nn.Sequential(\n",
    "            nn.Dropout(),\n",
    "            nn.Linear(16 * 8 * 8, 1000), #mettre 128 quand il y a 5 couches\n",
    "            nn.PReLU(),\n",
    "            nn.Dropout(p=0.5),\n",
    "            nn.Linear(1000, 1000),\n",
    "            nn.PReLU(),\n",
    "            nn.Linear(1000, num_classes),\n",
    "        )\n",
    "\n",
    "    def forward(self, x):\n",
    "        x = self.features(x)\n",
    "        x = x.view(x.shape[0], -1)\n",
    "        x = self.classifier(x)\n",
    "        return x"
   ]
  },
  {
   "cell_type": "code",
   "execution_count": 4,
   "id": "441d12a6",
   "metadata": {},
   "outputs": [
    {
     "data": {
      "text/plain": [
       "NewNetwork(\n",
       "  (features): Sequential(\n",
       "    (0): Conv2d(3, 64, kernel_size=(11, 11), stride=(4, 4), padding=(2, 2))\n",
       "    (1): ReLU(inplace=True)\n",
       "    (2): MaxPool2d(kernel_size=3, stride=2, padding=0, dilation=1, ceil_mode=False)\n",
       "    (3): Dropout(p=0.1, inplace=False)\n",
       "    (4): Conv2d(64, 192, kernel_size=(5, 5), stride=(1, 1), padding=(2, 2))\n",
       "    (5): ReLU(inplace=True)\n",
       "    (6): MaxPool2d(kernel_size=3, stride=2, padding=0, dilation=1, ceil_mode=False)\n",
       "    (7): Dropout(p=0.2, inplace=False)\n",
       "    (8): Conv2d(192, 256, kernel_size=(3, 3), stride=(1, 1), padding=(1, 1))\n",
       "    (9): ReLU(inplace=True)\n",
       "    (10): MaxPool2d(kernel_size=3, stride=2, padding=0, dilation=1, ceil_mode=False)\n",
       "    (11): Dropout(p=0.3, inplace=False)\n",
       "    (12): Conv2d(256, 256, kernel_size=(3, 3), stride=(1, 1), padding=(1, 1))\n",
       "    (13): ReLU(inplace=True)\n",
       "    (14): MaxPool2d(kernel_size=3, stride=2, padding=0, dilation=1, ceil_mode=False)\n",
       "    (15): Dropout(p=0.3, inplace=False)\n",
       "  )\n",
       "  (classifier): Sequential(\n",
       "    (0): Dropout(p=0.5, inplace=False)\n",
       "    (1): Linear(in_features=1024, out_features=1000, bias=True)\n",
       "    (2): PReLU(num_parameters=1)\n",
       "    (3): Dropout(p=0.5, inplace=False)\n",
       "    (4): Linear(in_features=1000, out_features=1000, bias=True)\n",
       "    (5): PReLU(num_parameters=1)\n",
       "    (6): Linear(in_features=1000, out_features=291, bias=True)\n",
       "  )\n",
       ")"
      ]
     },
     "execution_count": 4,
     "metadata": {},
     "output_type": "execute_result"
    }
   ],
   "source": [
    "net = NewNetwork()\n",
    "net.to(device)"
   ]
  },
  {
   "cell_type": "code",
   "execution_count": 5,
   "id": "f39606d9",
   "metadata": {},
   "outputs": [],
   "source": [
    "criterion = nn.CrossEntropyLoss()\n",
    "\n",
    "# also the optimizer\n",
    "optimizer = optim.SGD(net.parameters(), lr=0.001, momentum=0.9)\n",
    "\n",
    "#dynamic learning rate\n",
    "#scheduler = optim.lr_scheduler.ExponentialLR(optimizer, gamma=0.9)"
   ]
  },
  {
   "cell_type": "code",
   "execution_count": 6,
   "id": "0b71ba8f",
   "metadata": {
    "scrolled": false
   },
   "outputs": [
    {
     "data": {
      "application/vnd.jupyter.widget-view+json": {
       "model_id": "44b088b201f449628d38f40747c1a181",
       "version_major": 2,
       "version_minor": 0
      },
      "text/plain": [
       "  0%|          | 0/150 [00:00<?, ?it/s]"
      ]
     },
     "metadata": {},
     "output_type": "display_data"
    },
    {
     "name": "stdout",
     "output_type": "stream",
     "text": [
      "\n",
      "Epoch: 0\n",
      "Train Acc. => 1.094% | Train Loss => 5.55981\n",
      "validation Acc.  => 1.225% | validation Loss  => 5.47883\n",
      "validation Acc.  => 4.207% | validation Loss  => 4.47734\n",
      "\n",
      "Epoch: 10\n",
      "Train Acc. => 12.444% | Train Loss => 3.62003\n",
      "validation Acc.  => 14.168% | validation Loss  => 3.49089\n",
      "validation Acc.  => 38.427% | validation Loss  => 2.15474\n",
      "\n",
      "Epoch: 20\n",
      "Train Acc. => 54.555% | Train Loss => 1.48964\n",
      "validation Acc.  => 54.400% | validation Loss  => 1.51582\n",
      "validation Acc.  => 62.540% | validation Loss  => 1.22350\n",
      "\n",
      "Epoch: 30\n",
      "Train Acc. => 71.832% | Train Loss => 0.88385\n",
      "validation Acc.  => 66.441% | validation Loss  => 1.08267\n",
      "validation Acc.  => 72.147% | validation Loss  => 0.93921\n",
      "\n",
      "Epoch: 40\n",
      "Train Acc. => 79.215% | Train Loss => 0.64184\n",
      "validation Acc.  => 73.936% | validation Loss  => 0.86529\n",
      "validation Acc.  => 74.259% | validation Loss  => 0.84660\n",
      "\n",
      "Epoch: 50\n",
      "Train Acc. => 83.273% | Train Loss => 0.50543\n",
      "validation Acc.  => 74.500% | validation Loss  => 0.90988\n",
      "validation Acc.  => 75.999% | validation Loss  => 0.78981\n",
      "\n",
      "Epoch: 60\n",
      "Train Acc. => 86.174% | Train Loss => 0.41577\n",
      "validation Acc.  => 77.257% | validation Loss  => 0.80625\n",
      "validation Acc.  => 78.643% | validation Loss  => 0.74232\n",
      "\n",
      "Epoch: 70\n",
      "Train Acc. => 87.995% | Train Loss => 0.35668\n",
      "validation Acc.  => 78.498% | validation Loss  => 0.77805\n",
      "validation Acc.  => 79.868% | validation Loss  => 0.73572\n",
      "\n",
      "Epoch: 80\n",
      "Train Acc. => 89.763% | Train Loss => 0.30393\n",
      "validation Acc.  => 78.175% | validation Loss  => 0.82451\n",
      "validation Acc.  => 80.222% | validation Loss  => 0.76494\n",
      "\n",
      "Epoch: 90\n",
      "Train Acc. => 91.315% | Train Loss => 0.26233\n",
      "validation Acc.  => 79.142% | validation Loss  => 0.78322\n",
      "validation Acc.  => 79.755% | validation Loss  => 0.80605\n",
      "\n",
      "Epoch: 100\n",
      "Train Acc. => 92.405% | Train Loss => 0.22626\n",
      "validation Acc.  => 80.384% | validation Loss  => 0.78909\n",
      "validation Acc.  => 80.609% | validation Loss  => 0.78500\n",
      "\n",
      "Epoch: 110\n",
      "Train Acc. => 92.547% | Train Loss => 0.22390\n",
      "validation Acc.  => 80.658% | validation Loss  => 0.76791\n",
      "validation Acc.  => 81.899% | validation Loss  => 0.75664\n",
      "\n",
      "Epoch: 120\n",
      "Train Acc. => 93.421% | Train Loss => 0.19548\n",
      "validation Acc.  => 81.560% | validation Loss  => 0.72379\n",
      "validation Acc.  => 81.593% | validation Loss  => 0.77816\n",
      "\n",
      "Epoch: 130\n",
      "Train Acc. => 93.995% | Train Loss => 0.17904\n",
      "validation Acc.  => 82.350% | validation Loss  => 0.73818\n",
      "validation Acc.  => 81.383% | validation Loss  => 0.78069\n",
      "\n",
      "Epoch: 140\n",
      "Train Acc. => 94.536% | Train Loss => 0.16389\n",
      "validation Acc.  => 80.190% | validation Loss  => 0.84162\n",
      "validation Acc.  => 81.286% | validation Loss  => 0.79898\n",
      "Finished Training\n"
     ]
    }
   ],
   "source": [
    "train_loss = []\n",
    "validation_loss = []\n",
    "train_acc = []\n",
    "validation_acc = []\n",
    "\n",
    "lrs = []\n",
    "steps = []\n",
    "\n",
    "# Initialize the prediction and label lists(tensors)\n",
    "predlist=torch.zeros(0,dtype=torch.long, device='cpu')\n",
    "lbllist=torch.zeros(0,dtype=torch.long, device='cpu')\n",
    "\n",
    "for epoch in tqdm(range(0, 150)):  # loop over the dataset multiple times\n",
    "    \n",
    "    running_loss = .0\n",
    "    correct = 0\n",
    "    total = 0\n",
    "    for i, data in enumerate(train_loader):\n",
    "        # get the inputs\n",
    "        inputs, labels = data\n",
    "        if device == 'cuda':\n",
    "            inputs, labels = inputs.to(device), labels.to(device)\n",
    "\n",
    "        # reset the parameter gradients\n",
    "        optimizer.zero_grad()\n",
    "\n",
    "        # forward\n",
    "        outputs = net(inputs)\n",
    "        loss = criterion(outputs, labels)\n",
    "        # backward\n",
    "        loss.backward()\n",
    "        # optimize\n",
    "        optimizer.step()\n",
    "        \n",
    "        running_loss += loss.item()\n",
    "        _, predicted = T.max(outputs.data, 1)\n",
    "        total += labels.size(0)\n",
    "        correct += (predicted == labels).sum().item()\n",
    "        \n",
    "    running_loss /= len(train_loader)\n",
    "    train_loss.append(running_loss)\n",
    "    running_acc = correct / total\n",
    "    train_acc.append(running_acc)\n",
    "    \n",
    "    #zone pour mettre le learning rate dynamique\n",
    "    \"\"\"\n",
    "    steps.append(epoch)\n",
    "    lrs.append(scheduler.get_last_lr()[0])\n",
    "    scheduler.step()\n",
    "    \"\"\"\n",
    "    \n",
    "    if epoch % 10 == 0:\n",
    "        print('\\nEpoch: {}'.format(epoch))\n",
    "        print('Train Acc. => {:.3f}%'.format(100 * running_acc), end=' | ')\n",
    "        print('Train Loss => {:.5f}'.format(running_loss))\n",
    "    \n",
    "    # evaluate on the validation set\n",
    "    # note this is usually performed on the validation set\n",
    "    # for simplicity we just evaluate it on the validation set\n",
    "    with T.no_grad():\n",
    "        correct = 0\n",
    "        total = 0\n",
    "        validation_running_loss = .0\n",
    "        for data in validation_loader:\n",
    "            inputs, labels = data\n",
    "            if device == 'cuda':\n",
    "                inputs, labels = inputs.to(device), labels.to(device)\n",
    "            outputs = net(inputs)\n",
    "            loss = criterion(outputs, labels)\n",
    "            validation_running_loss += loss.item()\n",
    "            _, predicted = T.max(outputs.data, 1)\n",
    "            total += labels.size(0)\n",
    "            correct += (predicted == labels).sum().item()\n",
    "            \n",
    "            if epoch == 99:\n",
    "                # Append batch prediction results\n",
    "                predlist=torch.cat([predlist,predicted.view(-1).cpu()])\n",
    "                lbllist=torch.cat([lbllist,labels.view(-1).cpu()])\n",
    "\n",
    "        validation_running_loss /= len(validation_loader)\n",
    "        validation_loss.append(validation_running_loss)\n",
    "        validation_running_acc = correct / total\n",
    "        validation_acc.append(validation_running_acc)\n",
    "        \n",
    "        if epoch % 5 == 0:\n",
    "            print('validation Acc.  => {:.3f}%'.format(100 * validation_running_acc), end=' | ')\n",
    "            print('validation Loss  => {:.5f}'.format(validation_running_loss))\n",
    "\n",
    "print('Finished Training')"
   ]
  },
  {
   "cell_type": "markdown",
   "id": "200262ff",
   "metadata": {},
   "source": [
    "## Visualization"
   ]
  },
  {
   "cell_type": "code",
   "execution_count": 7,
   "id": "bcb34d7f",
   "metadata": {},
   "outputs": [],
   "source": [
    "import matplotlib.pyplot as plt\n",
    "import seaborn as sns"
   ]
  },
  {
   "cell_type": "code",
   "execution_count": 8,
   "id": "ab1bac62",
   "metadata": {},
   "outputs": [
    {
     "name": "stdout",
     "output_type": "stream",
     "text": [
      "[[12  0  0 ...  0  0  0]\n",
      " [ 1 40  0 ...  0  0  0]\n",
      " [ 0  0 21 ...  0  0  0]\n",
      " ...\n",
      " [ 0  0  1 ... 17  0  0]\n",
      " [ 0  0  0 ...  0 21  0]\n",
      " [ 0  0  0 ...  0  0 35]]\n"
     ]
    }
   ],
   "source": [
    "# Confusion matrix\n",
    "conf_mat=confusion_matrix(lbllist.numpy(), predlist.numpy())\n",
    "print(conf_mat)\n"
   ]
  },
  {
   "cell_type": "code",
   "execution_count": 9,
   "id": "10da7cf6",
   "metadata": {},
   "outputs": [
    {
     "data": {
      "text/plain": [
       "<AxesSubplot:>"
      ]
     },
     "execution_count": 9,
     "metadata": {},
     "output_type": "execute_result"
    },
    {
     "data": {
      "image/png": "[encoded data removed]",
      "text/plain": [
       "<Figure size 936x720 with 2 Axes>"
      ]
     },
     "metadata": {
      "needs_background": "light"
     },
     "output_type": "display_data"
    }
   ],
   "source": [
    "fig, ax = plt.subplots(figsize=(13,10))\n",
    "sns.heatmap(conf_mat, annot=False, ax=ax, cmap=\"BuPu\")"
   ]
  },
  {
   "cell_type": "code",
   "execution_count": 10,
   "id": "2071eb75",
   "metadata": {},
   "outputs": [
    {
     "name": "stdout",
     "output_type": "stream",
     "text": [
      "[ 57.14285714  67.79661017  87.5         84.21052632  56.25\n",
      "  78.94736842  90.90909091  93.61702128  80.          76.31578947\n",
      "  60.          98.03921569  78.72340426  82.14285714  44.44444444\n",
      "  82.55813953 100.         100.          71.69811321  88.63636364\n",
      "  92.30769231  83.82352941  77.41935484  60.          75.\n",
      "  85.71428571  93.61702128  90.47619048  42.85714286 100.\n",
      " 100.          76.47058824 100.          81.81818182 100.\n",
      "  91.66666667  86.66666667  75.         100.          61.11111111\n",
      "  63.63636364  75.          83.33333333  62.5         78.57142857\n",
      "  90.          50.          67.85714286  73.91304348  91.66666667\n",
      "  81.81818182  37.5         75.          90.90909091  80.\n",
      "  81.81818182  81.81818182  84.          81.81818182  80.\n",
      "  47.05882353  60.          81.81818182  81.81818182  78.57142857\n",
      "  55.55555556  66.66666667  76.47058824  93.93939394 100.\n",
      "  91.42857143  40.          95.          91.66666667  90.47619048\n",
      "  89.28571429  75.          95.          76.5625      90.90909091\n",
      " 100.          93.75        80.          83.33333333  93.33333333\n",
      "  20.          50.          81.69014085  60.          55.55555556\n",
      "  78.57142857  16.66666667  90.          90.90909091  75.\n",
      "  42.85714286  75.          94.11764706  85.71428571 100.\n",
      "  68.42105263  80.          64.86486486 100.          60.\n",
      "  80.          95.23809524  91.30434783  66.66666667  83.33333333\n",
      "  90.90909091  59.25925926  88.23529412  95.          80.\n",
      "  97.2972973   92.59259259  93.75        72.72727273 100.\n",
      "  66.66666667  54.54545455  90.19607843  81.57894737  88.0952381\n",
      "  93.18181818  90.90909091  39.28571429  73.68421053  65.2173913\n",
      "  33.33333333  61.9047619   85.71428571  89.47368421  72.72727273\n",
      "  81.25        73.68421053  90.90909091  83.33333333  96.15384615\n",
      "  94.59459459  44.44444444  85.71428571 100.          75.\n",
      "  80.          83.33333333  83.07692308  88.46153846  76.19047619\n",
      "  66.66666667  75.          62.5         66.66666667  85.71428571\n",
      "  70.58823529  70.96774194  80.          83.33333333  83.33333333\n",
      " 100.          89.28571429  80.         100.          70.83333333\n",
      "  78.125       84.375       83.33333333  91.66666667  90.\n",
      "  76.92307692 100.          84.21052632  71.42857143  77.77777778\n",
      "  38.0952381   80.         100.          20.          95.\n",
      "  80.          93.75       100.          90.47619048  97.36842105\n",
      "  85.18518519  63.41463415  86.84210526  86.66666667  87.09677419\n",
      "  73.33333333  83.33333333  69.44444444  75.          81.81818182\n",
      "  61.53846154  90.90909091  75.          81.81818182  63.63636364\n",
      "  68.57142857  78.78787879  90.47619048  93.75        91.89189189\n",
      "  76.         100.         100.          40.          84.21052632\n",
      "  75.          60.          48.14814815  90.90909091  60.60606061\n",
      "  47.05882353  61.53846154  75.67567568  54.54545455  85.71428571\n",
      "  64.44444444  50.          50.          66.66666667  81.81818182\n",
      "  53.84615385  42.85714286  92.30769231  92.85714286  91.66666667\n",
      "  72.72727273  84.          50.          77.77777778  87.5\n",
      "  33.33333333 100.          80.          77.77777778  81.25\n",
      "  40.          93.87755102  86.2745098   93.75        80.\n",
      "  68.          90.          83.33333333  59.25925926  83.87096774\n",
      "  74.50980392  90.90909091  88.88888889  83.33333333  80.\n",
      "  59.09090909  58.33333333  50.          77.77777778  80.\n",
      "  83.33333333  87.5         61.53846154  62.5         84.61538462\n",
      "  76.47058824  85.71428571  60.          73.68421053  80.\n",
      "  80.          52.94117647  61.29032258  88.88888889  84.\n",
      "  71.42857143  93.33333333  85.18518519  80.          93.33333333\n",
      "  72.          68.18181818  96.59090909  85.71428571  66.66666667\n",
      "  88.88888889 100.          89.47368421  73.91304348  77.77777778\n",
      "  87.5       ]\n"
     ]
    }
   ],
   "source": [
    "# Per-class accuracy\n",
    "class_accuracy=100*conf_mat.diagonal()/conf_mat.sum(1)\n",
    "print(class_accuracy)"
   ]
  },
  {
   "cell_type": "code",
   "execution_count": 11,
   "id": "ee376b11",
   "metadata": {},
   "outputs": [
    {
     "data": {
      "text/plain": [
       "'\\nplt.plot(steps, lrs)\\nplt.xlabel(\"epoch\")\\nplt.ylabel(\"learning rate values\")\\nplt.title(\"learning rate\\'s curve\")\\nplt.show()\\n'"
      ]
     },
     "execution_count": 11,
     "metadata": {},
     "output_type": "execute_result"
    }
   ],
   "source": [
    "\"\"\"\n",
    "plt.plot(steps, lrs)\n",
    "plt.xlabel(\"epoch\")\n",
    "plt.ylabel(\"learning rate values\")\n",
    "plt.title(\"learning rate's curve\")\n",
    "plt.show()\n",
    "\"\"\""
   ]
  },
  {
   "cell_type": "code",
   "execution_count": 12,
   "id": "98d3ee1d",
   "metadata": {},
   "outputs": [
    {
     "data": {
      "image/png": "[encoded data removed]",
      "text/plain": [
       "<Figure size 432x288 with 1 Axes>"
      ]
     },
     "metadata": {
      "needs_background": "light"
     },
     "output_type": "display_data"
    }
   ],
   "source": [
    "plt.plot(train_loss, label='train')\n",
    "plt.plot(validation_loss, label='validation')\n",
    "plt.xlabel(\"epoch\")\n",
    "plt.ylabel(\"loss values\")\n",
    "plt.title(\"loss rate's curve\")\n",
    "plt.legend()\n",
    "plt.show()"
   ]
  },
  {
   "cell_type": "code",
   "execution_count": 13,
   "id": "fb467693",
   "metadata": {},
   "outputs": [
    {
     "data": {
      "image/png": "[encoded data removed]",
      "text/plain": [
       "<Figure size 432x288 with 1 Axes>"
      ]
     },
     "metadata": {
      "needs_background": "light"
     },
     "output_type": "display_data"
    }
   ],
   "source": [
    "plt.plot(train_acc, label='train')\n",
    "plt.plot(validation_acc, label='validation')\n",
    "plt.xlabel(\"epoch\")\n",
    "plt.ylabel(\"accuracy values\")\n",
    "plt.title(\"accuracy rate's curve\")\n",
    "plt.legend()\n",
    "plt.show()"
   ]
  },
  {
   "cell_type": "code",
   "execution_count": 14,
   "id": "ea64b954",
   "metadata": {},
   "outputs": [],
   "source": [
    "#torch.save(net.state_dict(), \"C:/Users/heuma/Desktop/Master/S10/Aurea/Dataset_Kaggle_validation_Train_20-80/dict_Linh_network_1st_try\")"
   ]
  },
  {
   "cell_type": "code",
   "execution_count": 15,
   "id": "e0753a13",
   "metadata": {},
   "outputs": [],
   "source": [
    "#torch.save(net, \"C:/Users/heuma/Desktop/Master/S10/Aurea/Dataset_Kaggle_validation_Train_20-80/Linh_network_entire_model_1st_try\")"
   ]
  },
  {
   "cell_type": "code",
   "execution_count": 16,
   "id": "f9e64f8b",
   "metadata": {},
   "outputs": [
    {
     "data": {
      "text/plain": [
       "'\\nfrom torch.utils.data.dataloader import DataLoader\\n\\n\\ntrain_dl = DataLoader(train_set, batch_size, shuffle = True, num_workers = 4, pin_memory = True)\\n\\nfrom torchvision.utils import make_grid\\n\\ndef show_batch(dl):\\n    #Plot images grid of single batch\\n    for images, labels in dl:\\n        fig,ax = plt.subplots(figsize = (16,12))\\n        ax.set_xticks([])\\n        ax.set_yticks([])\\n        ax.imshow(make_grid(images,nrow=16).permute(1,2,0))\\n        break\\n        \\nshow_batch(train_dl)\\n\\n'"
      ]
     },
     "execution_count": 16,
     "metadata": {},
     "output_type": "execute_result"
    }
   ],
   "source": [
    "\"\"\"\n",
    "from torch.utils.data.dataloader import DataLoader\n",
    "\n",
    "\n",
    "train_dl = DataLoader(train_set, batch_size, shuffle = True, num_workers = 4, pin_memory = True)\n",
    "\n",
    "from torchvision.utils import make_grid\n",
    "\n",
    "def show_batch(dl):\n",
    "    #Plot images grid of single batch\n",
    "    for images, labels in dl:\n",
    "        fig,ax = plt.subplots(figsize = (16,12))\n",
    "        ax.set_xticks([])\n",
    "        ax.set_yticks([])\n",
    "        ax.imshow(make_grid(images,nrow=16).permute(1,2,0))\n",
    "        break\n",
    "        \n",
    "show_batch(train_dl)\n",
    "\n",
    "\"\"\""
   ]
  },
  {
   "cell_type": "code",
   "execution_count": 17,
   "id": "5308da1c",
   "metadata": {},
   "outputs": [
    {
     "data": {
      "text/plain": [
       "\"\\ntransform2 = transforms.Compose(\\n    [transforms.Resize((224, 224)),\\n     transforms.ToTensor()])\\n\\ntrain_set2 = ImageFolder('C:/Users/heuma/Desktop/Master/S10/Aurea/Dataset_Kaggle_validation_Train_20-80/TRAIN/', transform=transform2)\\n\\ntrain_dl2 = DataLoader(train_set2, batch_size, shuffle = True, num_workers = 4, pin_memory = True)\\n\\n        \\nshow_batch(train_dl2)\\n\""
      ]
     },
     "execution_count": 17,
     "metadata": {},
     "output_type": "execute_result"
    }
   ],
   "source": [
    "\"\"\"\n",
    "transform2 = transforms.Compose(\n",
    "    [transforms.Resize((224, 224)),\n",
    "     transforms.ToTensor()])\n",
    "\n",
    "train_set2 = ImageFolder('C:/Users/heuma/Desktop/Master/S10/Aurea/Dataset_Kaggle_validation_Train_20-80/TRAIN/', transform=transform2)\n",
    "\n",
    "train_dl2 = DataLoader(train_set2, batch_size, shuffle = True, num_workers = 4, pin_memory = True)\n",
    "\n",
    "        \n",
    "show_batch(train_dl2)\n",
    "\"\"\""
   ]
  },
  {
   "cell_type": "code",
   "execution_count": null,
   "id": "6940a02b",
   "metadata": {},
   "outputs": [],
   "source": []
  }
 ],
 "metadata": {
  "kernelspec": {
   "display_name": "Python 3 (ipykernel)",
   "language": "python",
   "name": "python3"
  },
  "language_info": {
   "codemirror_mode": {
    "name": "ipython",
    "version": 3
   },
   "file_extension": ".py",
   "mimetype": "text/x-python",
   "name": "python",
   "nbconvert_exporter": "python",
   "pygments_lexer": "ipython3",
   "version": "3.9.7"
  }
 },
 "nbformat": 4,
 "nbformat_minor": 5
}
