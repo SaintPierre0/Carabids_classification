{
 "cells": [
  {
   "cell_type": "code",
   "execution_count": 1,
   "id": "66f3ab4b",
   "metadata": {},
   "outputs": [
    {
     "data": {
      "text/plain": [
       "'cuda'"
      ]
     },
     "execution_count": 1,
     "metadata": {},
     "output_type": "execute_result"
    }
   ],
   "source": [
    "# import PyTorch and its related packages\n",
    "import torch as T\n",
    "import torch.nn as nn\n",
    "import torch.optim as optim\n",
    "import torch.nn.functional as F\n",
    "\n",
    "import torch\n",
    "\n",
    "import torchvision\n",
    "import torchvision.transforms as transforms\n",
    "\n",
    "from torchvision import transforms\n",
    "from torchvision.datasets import ImageFolder\n",
    "\n",
    "from tqdm.notebook import tqdm\n",
    "\n",
    "from sklearn.metrics import confusion_matrix\n",
    "\n",
    "\n",
    "# set default device based on CUDA's availability\n",
    "device = 'cuda' if T.cuda.is_available() else 'cpu'\n",
    "device"
   ]
  },
  {
   "cell_type": "code",
   "execution_count": 2,
   "id": "44a7c1c6",
   "metadata": {},
   "outputs": [],
   "source": [
    "transform = transforms.Compose(\n",
    "    [transforms.Resize((224,224)),\n",
    "     transforms.ToTensor(),\n",
    "     transforms.Normalize((0.485, 0.456, 0.406), (0.229, 0.224, 0.225))])\n",
    "\n",
    "batch_size = 128\n",
    "#image_size = (224, 224, 3)\n",
    "\n",
    "train_set = ImageFolder('C:/Users/heuma/Desktop/Work/Reseaux_test/Dataset_Kaggle/output/train', transform=transform)\n",
    "validation_set = ImageFolder('C:/Users/heuma/Desktop/Work/Reseaux_test/Dataset_Kaggle/output/val', transform=transform)\n",
    "test_set = ImageFolder('C:/Users/heuma/Desktop/Work/Reseaux_test/Dataset_Kaggle/output/test', transform=transform)\n",
    "\n",
    "#train_set = train_ds\n",
    "train_loader = T.utils.data.DataLoader(train_set, batch_size=batch_size,shuffle=True, num_workers=8)\n",
    "\n",
    "#validation_set = validation_ds\n",
    "validation_loader = T.utils.data.DataLoader(validation_set, batch_size=batch_size,shuffle=True, num_workers=8)\n",
    "\n",
    "#test_set = test_ds\n",
    "test_loader = T.utils.data.DataLoader(test_set, batch_size=batch_size,shuffle=True, num_workers=8)"
   ]
  },
  {
   "cell_type": "code",
   "execution_count": 3,
   "id": "e9c36132",
   "metadata": {},
   "outputs": [],
   "source": [
    "class NewNetwork(nn.Module):\n",
    "    def __init__(self, num_classes=291):\n",
    "        super(NewNetwork, self).__init__()\n",
    "        self.features = nn.Sequential(\n",
    "            nn.Conv2d(3, 64, kernel_size=11, stride=4, padding=2),\n",
    "            nn.ReLU(inplace=True),\n",
    "            nn.MaxPool2d(kernel_size=3, stride=2),\n",
    "            nn.Dropout(p=0.1),\n",
    "            nn.Conv2d(64, 192, kernel_size=5, padding=2),\n",
    "            nn.ReLU(inplace=True),\n",
    "            nn.MaxPool2d(kernel_size=3, stride=2),\n",
    "            nn.Dropout(p=0.2),\n",
    "            nn.Conv2d(192, 256, kernel_size=3, padding=1),\n",
    "            nn.ReLU(inplace=True),\n",
    "            nn.MaxPool2d(kernel_size=3, stride=2),\n",
    "            nn.Dropout(p=0.3),\n",
    "            nn.Conv2d(256, 256, kernel_size=3, padding=1),\n",
    "            nn.ReLU(inplace=True),\n",
    "            nn.MaxPool2d(kernel_size=3, stride=2),\n",
    "            nn.Dropout(p=0.3)\n",
    "        )\n",
    "        self.classifier = nn.Sequential(\n",
    "            nn.Dropout(),\n",
    "            nn.Linear(16 * 8 * 8, 10000), #mettre 128 quand il y a 5 couches\n",
    "            nn.PReLU(),\n",
    "            nn.Dropout(p=0.5),\n",
    "            nn.Linear(10000, 1000),\n",
    "            nn.PReLU(),\n",
    "            nn.Linear(1000, num_classes),\n",
    "        )\n",
    "\n",
    "    def forward(self, x):\n",
    "        x = self.features(x)\n",
    "        x = x.view(x.shape[0], -1)\n",
    "        x = self.classifier(x)\n",
    "        return x"
   ]
  },
  {
   "cell_type": "code",
   "execution_count": 4,
   "id": "441d12a6",
   "metadata": {},
   "outputs": [
    {
     "data": {
      "text/plain": [
       "NewNetwork(\n",
       "  (features): Sequential(\n",
       "    (0): Conv2d(3, 64, kernel_size=(11, 11), stride=(4, 4), padding=(2, 2))\n",
       "    (1): ReLU(inplace=True)\n",
       "    (2): MaxPool2d(kernel_size=3, stride=2, padding=0, dilation=1, ceil_mode=False)\n",
       "    (3): Dropout(p=0.1, inplace=False)\n",
       "    (4): Conv2d(64, 192, kernel_size=(5, 5), stride=(1, 1), padding=(2, 2))\n",
       "    (5): ReLU(inplace=True)\n",
       "    (6): MaxPool2d(kernel_size=3, stride=2, padding=0, dilation=1, ceil_mode=False)\n",
       "    (7): Dropout(p=0.2, inplace=False)\n",
       "    (8): Conv2d(192, 256, kernel_size=(3, 3), stride=(1, 1), padding=(1, 1))\n",
       "    (9): ReLU(inplace=True)\n",
       "    (10): MaxPool2d(kernel_size=3, stride=2, padding=0, dilation=1, ceil_mode=False)\n",
       "    (11): Dropout(p=0.3, inplace=False)\n",
       "    (12): Conv2d(256, 256, kernel_size=(3, 3), stride=(1, 1), padding=(1, 1))\n",
       "    (13): ReLU(inplace=True)\n",
       "    (14): MaxPool2d(kernel_size=3, stride=2, padding=0, dilation=1, ceil_mode=False)\n",
       "    (15): Dropout(p=0.3, inplace=False)\n",
       "  )\n",
       "  (classifier): Sequential(\n",
       "    (0): Dropout(p=0.5, inplace=False)\n",
       "    (1): Linear(in_features=1024, out_features=10000, bias=True)\n",
       "    (2): PReLU(num_parameters=1)\n",
       "    (3): Dropout(p=0.5, inplace=False)\n",
       "    (4): Linear(in_features=10000, out_features=1000, bias=True)\n",
       "    (5): PReLU(num_parameters=1)\n",
       "    (6): Linear(in_features=1000, out_features=291, bias=True)\n",
       "  )\n",
       ")"
      ]
     },
     "execution_count": 4,
     "metadata": {},
     "output_type": "execute_result"
    }
   ],
   "source": [
    "net = NewNetwork()\n",
    "net.to(device)"
   ]
  },
  {
   "cell_type": "code",
   "execution_count": 5,
   "id": "f39606d9",
   "metadata": {},
   "outputs": [],
   "source": [
    "criterion = nn.CrossEntropyLoss()\n",
    "\n",
    "# also the optimizer\n",
    "optimizer = optim.SGD(net.parameters(), lr=0.001, momentum=0.9)\n",
    "\n",
    "#dynamic learning rate\n",
    "#scheduler = optim.lr_scheduler.ExponentialLR(optimizer, gamma=0.9)"
   ]
  },
  {
   "cell_type": "code",
   "execution_count": 6,
   "id": "0b71ba8f",
   "metadata": {
    "scrolled": false
   },
   "outputs": [
    {
     "data": {
      "application/vnd.jupyter.widget-view+json": {
       "model_id": "e75cdf51e0814305be8b5c2274562df4",
       "version_major": 2,
       "version_minor": 0
      },
      "text/plain": [
       "  0%|          | 0/131 [00:00<?, ?it/s]"
      ]
     },
     "metadata": {},
     "output_type": "display_data"
    },
    {
     "name": "stdout",
     "output_type": "stream",
     "text": [
      "\n",
      "Epoch: 0\n",
      "Train Loss => 5.57274\n",
      "validation Acc.  => 1.354% | validation Loss  => 5.47578\n",
      "Accuracy of the network on test images: 1 %\n",
      "\n",
      "Epoch: 5\n",
      "Train Loss => 4.93718\n",
      "validation Acc.  => 3.272% | validation Loss  => 4.76134\n",
      "Accuracy of the network on test images: 3 %\n",
      "\n",
      "Epoch: 10\n",
      "Train Loss => 4.22681\n",
      "validation Acc.  => 7.253% | validation Loss  => 4.16408\n",
      "Accuracy of the network on test images: 7 %\n",
      "\n",
      "Epoch: 15\n",
      "Train Loss => 3.37541\n",
      "validation Acc.  => 13.749% | validation Loss  => 3.66334\n",
      "Accuracy of the network on test images: 12 %\n",
      "\n",
      "Epoch: 20\n",
      "Train Loss => 2.46154\n",
      "validation Acc.  => 33.720% | validation Loss  => 2.39271\n",
      "Accuracy of the network on test images: 33 %\n",
      "\n",
      "Epoch: 25\n",
      "Train Loss => 1.74856\n",
      "validation Acc.  => 49.194% | validation Loss  => 1.77417\n",
      "Accuracy of the network on test images: 49 %\n",
      "\n",
      "Epoch: 30\n",
      "Train Loss => 1.31285\n",
      "validation Acc.  => 59.494% | validation Loss  => 1.38304\n",
      "Accuracy of the network on test images: 59 %\n",
      "\n",
      "Epoch: 35\n",
      "Train Loss => 1.06337\n",
      "validation Acc.  => 62.718% | validation Loss  => 1.24292\n",
      "Accuracy of the network on test images: 62 %\n",
      "\n",
      "Epoch: 40\n",
      "Train Loss => 0.90756\n",
      "validation Acc.  => 67.714% | validation Loss  => 1.04828\n",
      "Accuracy of the network on test images: 67 %\n",
      "\n",
      "Epoch: 45\n",
      "Train Loss => 0.80161\n",
      "validation Acc.  => 70.712% | validation Loss  => 0.98333\n",
      "Accuracy of the network on test images: 71 %\n",
      "\n",
      "Epoch: 50\n",
      "Train Loss => 0.71266\n",
      "validation Acc.  => 74.259% | validation Loss  => 0.86278\n",
      "Accuracy of the network on test images: 74 %\n",
      "\n",
      "Epoch: 55\n",
      "Train Loss => 0.63957\n",
      "validation Acc.  => 74.565% | validation Loss  => 0.83600\n",
      "Accuracy of the network on test images: 74 %\n",
      "\n",
      "Epoch: 60\n",
      "Train Loss => 0.57562\n",
      "validation Acc.  => 75.371% | validation Loss  => 0.81700\n",
      "Accuracy of the network on test images: 75 %\n",
      "\n",
      "Epoch: 65\n",
      "Train Loss => 0.51650\n",
      "validation Acc.  => 75.226% | validation Loss  => 0.83975\n",
      "Accuracy of the network on test images: 75 %\n",
      "\n",
      "Epoch: 70\n",
      "Train Loss => 0.47457\n",
      "validation Acc.  => 79.078% | validation Loss  => 0.70627\n",
      "Accuracy of the network on test images: 79 %\n",
      "\n",
      "Epoch: 75\n",
      "Train Loss => 0.44178\n",
      "validation Acc.  => 78.740% | validation Loss  => 0.72549\n",
      "Accuracy of the network on test images: 78 %\n",
      "\n",
      "Epoch: 80\n",
      "Train Loss => 0.40665\n",
      "validation Acc.  => 79.368% | validation Loss  => 0.71903\n",
      "Accuracy of the network on test images: 79 %\n",
      "\n",
      "Epoch: 85\n",
      "Train Loss => 0.37393\n",
      "validation Acc.  => 80.287% | validation Loss  => 0.70029\n",
      "Accuracy of the network on test images: 79 %\n",
      "\n",
      "Epoch: 90\n",
      "Train Loss => 0.35566\n",
      "validation Acc.  => 80.964% | validation Loss  => 0.68810\n",
      "Accuracy of the network on test images: 80 %\n",
      "\n",
      "Epoch: 95\n",
      "Train Loss => 0.34538\n",
      "validation Acc.  => 80.609% | validation Loss  => 0.68614\n",
      "Accuracy of the network on test images: 80 %\n",
      "\n",
      "Epoch: 100\n",
      "Train Loss => 0.30777\n",
      "validation Acc.  => 80.513% | validation Loss  => 0.69739\n",
      "Accuracy of the network on test images: 80 %\n",
      "\n",
      "Epoch: 105\n",
      "Train Loss => 0.28785\n",
      "validation Acc.  => 82.044% | validation Loss  => 0.69278\n",
      "Accuracy of the network on test images: 81 %\n",
      "\n",
      "Epoch: 110\n",
      "Train Loss => 0.26825\n",
      "validation Acc.  => 81.963% | validation Loss  => 0.65994\n",
      "Accuracy of the network on test images: 82 %\n",
      "\n",
      "Epoch: 115\n",
      "Train Loss => 0.24961\n",
      "validation Acc.  => 82.672% | validation Loss  => 0.67623\n",
      "Accuracy of the network on test images: 82 %\n",
      "\n",
      "Epoch: 120\n",
      "Train Loss => 0.25195\n",
      "validation Acc.  => 81.770% | validation Loss  => 0.69522\n",
      "Accuracy of the network on test images: 82 %\n",
      "\n",
      "Epoch: 125\n",
      "Train Loss => 0.22848\n",
      "validation Acc.  => 81.544% | validation Loss  => 0.69974\n",
      "Accuracy of the network on test images: 81 %\n",
      "\n",
      "Epoch: 130\n",
      "Train Loss => 0.21735\n",
      "validation Acc.  => 81.641% | validation Loss  => 0.69850\n",
      "Accuracy of the network on test images: 81 %\n",
      "Finished Training\n"
     ]
    }
   ],
   "source": [
    "train_loss = []\n",
    "validation_loss = []\n",
    "train_acc = []\n",
    "validation_acc = []\n",
    "\n",
    "test_acc = []\n",
    "\n",
    "lrs = []\n",
    "steps = []\n",
    "\n",
    "# Initialize the prediction and label lists(tensors)\n",
    "predlist=torch.zeros(0,dtype=torch.long, device='cpu')\n",
    "lbllist=torch.zeros(0,dtype=torch.long, device='cpu')\n",
    "\n",
    "for epoch in tqdm(range(0, 131)):  # loop over the dataset multiple times\n",
    "    \n",
    "    running_loss = .0\n",
    "    correct = 0\n",
    "    total = 0\n",
    "    for i, data in enumerate(train_loader):\n",
    "        # get the inputs\n",
    "        inputs, labels = data\n",
    "        if device == 'cuda':\n",
    "            inputs, labels = inputs.to(device), labels.to(device)\n",
    "\n",
    "        # reset the parameter gradients\n",
    "        optimizer.zero_grad()\n",
    "\n",
    "        # forward\n",
    "        outputs = net(inputs)\n",
    "        loss = criterion(outputs, labels)\n",
    "        # backward\n",
    "        loss.backward()\n",
    "        # optimize\n",
    "        optimizer.step()\n",
    "        \n",
    "        running_loss += loss.item()\n",
    "        _, predicted = T.max(outputs.data, 1)\n",
    "        total += labels.size(0)\n",
    "        correct += (predicted == labels).sum().item()\n",
    "        \n",
    "    running_loss /= len(train_loader)\n",
    "    train_loss.append(running_loss)\n",
    "    running_acc = correct / total\n",
    "    train_acc.append(running_acc)\n",
    "    \n",
    "    #zone pour mettre le learning rate dynamique\n",
    "    \"\"\"\n",
    "    steps.append(epoch)\n",
    "    lrs.append(scheduler.get_last_lr()[0])\n",
    "    scheduler.step()\n",
    "    \"\"\"\n",
    "    \n",
    "    if epoch % 5 == 0:\n",
    "        print('\\nEpoch: {}'.format(epoch))\n",
    "    #    print('Train Acc. => {:.3f}%'.format(100 * running_acc), end=' | ')\n",
    "        print('Train Loss => {:.5f}'.format(running_loss))\n",
    "    \n",
    "    # evaluate on the validation set\n",
    "    # note this is usually performed on the validation set\n",
    "    # for simplicity we just evaluate it on the validation set\n",
    "    with T.no_grad():\n",
    "        correct = 0\n",
    "        total = 0\n",
    "        validation_running_loss = .0\n",
    "        for data in validation_loader:\n",
    "            inputs, labels = data\n",
    "            if device == 'cuda':\n",
    "                inputs, labels = inputs.to(device), labels.to(device)\n",
    "            outputs = net(inputs)\n",
    "            loss = criterion(outputs, labels)\n",
    "            validation_running_loss += loss.item()\n",
    "            _, predicted = T.max(outputs.data, 1)\n",
    "            total += labels.size(0)\n",
    "            correct += (predicted == labels).sum().item()\n",
    "            \n",
    "            if epoch == 130: # a changer si besoin d'afficher la matrice de confusion, a mettre à epoch-1\n",
    "                # Append batch prediction results\n",
    "                predlist=torch.cat([predlist,predicted.view(-1).cpu()])\n",
    "                lbllist=torch.cat([lbllist,labels.view(-1).cpu()])\n",
    "\n",
    "        validation_running_loss /= len(validation_loader)\n",
    "        validation_loss.append(validation_running_loss)\n",
    "        validation_running_acc = correct / total\n",
    "        validation_acc.append(validation_running_acc)\n",
    "        \n",
    "        if epoch % 5 == 0:\n",
    "            print('validation Acc.  => {:.3f}%'.format(100 * validation_running_acc), end=' | ')\n",
    "            print('validation Loss  => {:.5f}'.format(validation_running_loss))\n",
    "\n",
    "    with torch.no_grad():\n",
    "        correct_t = 0\n",
    "        total_t = 0\n",
    "        for data in test_loader:\n",
    "            inputs, labels = data\n",
    "            inputs, labels = inputs.to('cuda'), labels.to('cuda')\n",
    "            outputs = net(inputs)\n",
    "            _, predicted = torch.max(outputs.data, 1)\n",
    "            total_t += labels.size(0)\n",
    "            correct_t += (predicted == labels).sum().item()\n",
    "            \n",
    "            running_acc_t = correct_t / total_t\n",
    "        test_acc.append(running_acc_t)\n",
    "    \n",
    "        if epoch % 5 == 0:\n",
    "            print('Accuracy of the network on test images: %d %%' % (100 * correct_t / total_t))\n",
    "\n",
    "print('Finished Training')"
   ]
  },
  {
   "cell_type": "markdown",
   "id": "200262ff",
   "metadata": {},
   "source": [
    "## Visualization"
   ]
  },
  {
   "cell_type": "code",
   "execution_count": 7,
   "id": "bcb34d7f",
   "metadata": {},
   "outputs": [],
   "source": [
    "import matplotlib.pyplot as plt\n",
    "import seaborn as sns"
   ]
  },
  {
   "cell_type": "code",
   "execution_count": 8,
   "id": "aa68121a",
   "metadata": {},
   "outputs": [
    {
     "data": {
      "image/png": "[encoded data removed]",
      "text/plain": [
       "<Figure size 432x288 with 1 Axes>"
      ]
     },
     "metadata": {
      "needs_background": "light"
     },
     "output_type": "display_data"
    }
   ],
   "source": [
    "plt.plot(train_loss, label='train')\n",
    "plt.plot(validation_loss, label='validation')\n",
    "plt.xlabel(\"epoch\")\n",
    "plt.ylabel(\"loss values\")\n",
    "plt.title(\"loss rate's curve\")\n",
    "plt.legend()\n",
    "plt.show()"
   ]
  },
  {
   "cell_type": "code",
   "execution_count": 9,
   "id": "35ceeda8",
   "metadata": {},
   "outputs": [
    {
     "data": {
      "image/png": "[encoded data removed]",
      "text/plain": [
       "<Figure size 432x288 with 1 Axes>"
      ]
     },
     "metadata": {
      "needs_background": "light"
     },
     "output_type": "display_data"
    }
   ],
   "source": [
    "plt.plot(train_acc, label='train')\n",
    "plt.plot(validation_acc, label='validation')\n",
    "plt.plot(test_acc, label='test')\n",
    "plt.xlabel(\"epoch\")\n",
    "plt.ylabel(\"accuracy values\")\n",
    "plt.title(\"accuracy rate's curve\")\n",
    "plt.legend()\n",
    "plt.show()"
   ]
  },
  {
   "cell_type": "code",
   "execution_count": 10,
   "id": "ab1bac62",
   "metadata": {},
   "outputs": [
    {
     "name": "stdout",
     "output_type": "stream",
     "text": [
      "[[ 9  4  0 ...  0  0  0]\n",
      " [ 2 48  0 ...  0  0  0]\n",
      " [ 0  0 21 ...  0  0  0]\n",
      " ...\n",
      " [ 0  0  0 ... 20  0  0]\n",
      " [ 0  0  0 ...  0 17  0]\n",
      " [ 0  0  0 ...  0  0 33]]\n"
     ]
    }
   ],
   "source": [
    "# Confusion matrix\n",
    "conf_mat=confusion_matrix(lbllist.numpy(), predlist.numpy())\n",
    "print(conf_mat)\n"
   ]
  },
  {
   "cell_type": "code",
   "execution_count": 11,
   "id": "10da7cf6",
   "metadata": {},
   "outputs": [
    {
     "data": {
      "text/plain": [
       "<AxesSubplot:>"
      ]
     },
     "execution_count": 11,
     "metadata": {},
     "output_type": "execute_result"
    },
    {
     "data": {
      "image/png": "[encoded data removed]",
      "text/plain": [
       "<Figure size 936x720 with 2 Axes>"
      ]
     },
     "metadata": {
      "needs_background": "light"
     },
     "output_type": "display_data"
    }
   ],
   "source": [
    "fig, ax = plt.subplots(figsize=(13,10))\n",
    "sns.heatmap(conf_mat, annot=False, ax=ax, cmap=\"BuPu\")"
   ]
  },
  {
   "cell_type": "code",
   "execution_count": 12,
   "id": "2071eb75",
   "metadata": {},
   "outputs": [
    {
     "name": "stdout",
     "output_type": "stream",
     "text": [
      "[ 42.85714286  81.3559322   87.5         87.71929825  75.\n",
      "  78.94736842  77.27272727 100.         100.          68.42105263\n",
      "  90.          94.11764706  74.46808511  85.71428571  88.88888889\n",
      "  87.20930233 100.          88.46153846  75.47169811  72.72727273\n",
      "  80.76923077  85.29411765  67.74193548  70.          70.83333333\n",
      "  71.42857143  97.87234043  85.71428571  78.57142857 100.\n",
      " 100.          76.47058824  87.5        100.         100.\n",
      "  83.33333333  93.33333333  66.66666667  87.5         72.22222222\n",
      "  90.90909091  80.55555556  88.88888889  68.75        85.71428571\n",
      "  92.5         50.          57.14285714  69.56521739  83.33333333\n",
      "  90.90909091  25.         100.         100.         100.\n",
      "  90.90909091  84.84848485  80.          36.36363636  80.\n",
      "  76.47058824  40.          81.81818182  77.27272727  78.57142857\n",
      "  88.88888889  83.33333333  76.47058824  87.87878788  66.66666667\n",
      "  94.28571429  65.          95.          95.83333333  90.47619048\n",
      "  96.42857143  75.          87.5         92.1875      54.54545455\n",
      " 100.         100.          80.          66.66666667  73.33333333\n",
      "  80.         100.          88.73239437  80.          44.44444444\n",
      "  92.85714286  50.          93.33333333  85.45454545  62.5\n",
      "  50.          81.25        97.05882353  57.14285714  92.30769231\n",
      "  68.42105263  85.          81.08108108  83.33333333  20.\n",
      " 100.          85.71428571  95.65217391  83.33333333  97.22222222\n",
      "  63.63636364  88.88888889  88.23529412  95.          40.\n",
      "  89.18918919  92.59259259 100.          72.72727273 100.\n",
      "  83.33333333  81.81818182  94.11764706  86.84210526  92.85714286\n",
      "  88.63636364  90.90909091  75.          84.21052632  69.56521739\n",
      "  83.33333333  76.19047619  92.85714286  89.47368421  81.81818182\n",
      "  78.125       94.73684211  63.63636364  83.33333333 100.\n",
      "  91.89189189  77.77777778  85.71428571 100.          84.375\n",
      "  80.          77.77777778  72.30769231  84.61538462  95.23809524\n",
      "  80.          62.5         50.          76.19047619  85.71428571\n",
      "  52.94117647  77.41935484  70.          66.66666667  83.33333333\n",
      "  91.66666667  85.71428571 100.          72.72727273  79.16666667\n",
      "  71.875       90.625       66.66666667  83.33333333  95.\n",
      "  84.61538462 100.          89.47368421  64.28571429  72.22222222\n",
      "  52.38095238 100.         100.          20.         100.\n",
      "  90.         100.          83.33333333  76.19047619  97.36842105\n",
      "  88.88888889  56.09756098  84.21052632  86.66666667  90.32258065\n",
      "  73.33333333  88.88888889  63.88888889  70.83333333  90.90909091\n",
      "  53.84615385 100.          75.          54.54545455  63.63636364\n",
      "  77.14285714  75.75757576  78.57142857 100.          86.48648649\n",
      "  84.         100.          94.73684211  60.          89.47368421\n",
      " 100.          66.66666667  51.85185185  90.90909091  48.48484848\n",
      "  76.47058824  69.23076923  89.18918919  68.18181818  78.57142857\n",
      "  77.77777778  66.66666667  62.5         75.          77.27272727\n",
      "  69.23076923  71.42857143 100.          85.71428571  91.66666667\n",
      "  81.81818182  80.          75.          88.88888889  87.5\n",
      "  16.66666667 100.           0.          76.54320988  81.25\n",
      "   0.          89.79591837  98.03921569  87.5         80.\n",
      "  72.          70.          83.33333333  77.77777778  77.41935484\n",
      "  66.66666667 100.          88.88888889  73.80952381  60.\n",
      "  45.45454545  83.33333333  72.22222222  77.77777778  85.\n",
      "  93.33333333  62.5         69.23076923  62.5         88.46153846\n",
      "  70.58823529 100.          20.          57.89473684  73.33333333\n",
      "  60.          52.94117647  93.5483871   96.2962963   96.\n",
      "  85.71428571  80.          81.48148148 100.          80.\n",
      "  80.          81.81818182  84.09090909  85.71428571  66.66666667\n",
      " 100.          84.61538462  89.47368421  86.95652174  62.96296296\n",
      "  82.5       ]\n"
     ]
    }
   ],
   "source": [
    "# Per-class accuracy\n",
    "class_accuracy=100*conf_mat.diagonal()/conf_mat.sum(1)\n",
    "print(class_accuracy)"
   ]
  },
  {
   "cell_type": "markdown",
   "id": "55083a6d",
   "metadata": {},
   "source": [
    "## Save"
   ]
  },
  {
   "cell_type": "code",
   "execution_count": 13,
   "id": "ea64b954",
   "metadata": {},
   "outputs": [],
   "source": [
    "#torch.save(net.state_dict(), \"C:/Users/heuma/Desktop/Master/S10/Aurea/Dataset_Kaggle_validation_Train_20-80/dict_Linh_network_1st_try\")"
   ]
  },
  {
   "cell_type": "code",
   "execution_count": 14,
   "id": "e0753a13",
   "metadata": {},
   "outputs": [],
   "source": [
    "#torch.save(net, \"C:/Users/heuma/Desktop/Master/S10/Aurea/Dataset_Kaggle_validation_Train_20-80/Linh_network_entire_model_1st_try\")"
   ]
  },
  {
   "cell_type": "code",
   "execution_count": 15,
   "id": "f9e64f8b",
   "metadata": {},
   "outputs": [
    {
     "data": {
      "text/plain": [
       "'\\nfrom torch.utils.data.dataloader import DataLoader\\n\\n\\ntrain_dl = DataLoader(train_set, batch_size, shuffle = True, num_workers = 4, pin_memory = True)\\n\\nfrom torchvision.utils import make_grid\\n\\ndef show_batch(dl):\\n    #Plot images grid of single batch\\n    for images, labels in dl:\\n        fig,ax = plt.subplots(figsize = (16,12))\\n        ax.set_xticks([])\\n        ax.set_yticks([])\\n        ax.imshow(make_grid(images,nrow=16).permute(1,2,0))\\n        break\\n        \\nshow_batch(train_dl)\\n\\n'"
      ]
     },
     "execution_count": 15,
     "metadata": {},
     "output_type": "execute_result"
    }
   ],
   "source": [
    "\"\"\"\n",
    "from torch.utils.data.dataloader import DataLoader\n",
    "\n",
    "\n",
    "train_dl = DataLoader(train_set, batch_size, shuffle = True, num_workers = 4, pin_memory = True)\n",
    "\n",
    "from torchvision.utils import make_grid\n",
    "\n",
    "def show_batch(dl):\n",
    "    #Plot images grid of single batch\n",
    "    for images, labels in dl:\n",
    "        fig,ax = plt.subplots(figsize = (16,12))\n",
    "        ax.set_xticks([])\n",
    "        ax.set_yticks([])\n",
    "        ax.imshow(make_grid(images,nrow=16).permute(1,2,0))\n",
    "        break\n",
    "        \n",
    "show_batch(train_dl)\n",
    "\n",
    "\"\"\""
   ]
  },
  {
   "cell_type": "code",
   "execution_count": 16,
   "id": "5308da1c",
   "metadata": {},
   "outputs": [
    {
     "data": {
      "text/plain": [
       "\"\\ntransform2 = transforms.Compose(\\n    [transforms.Resize((224, 224)),\\n     transforms.ToTensor()])\\n\\ntrain_set2 = ImageFolder('C:/Users/heuma/Desktop/Master/S10/Aurea/Dataset_Kaggle_validation_Train_20-80/TRAIN/', transform=transform2)\\n\\ntrain_dl2 = DataLoader(train_set2, batch_size, shuffle = True, num_workers = 4, pin_memory = True)\\n\\n        \\nshow_batch(train_dl2)\\n\""
      ]
     },
     "execution_count": 16,
     "metadata": {},
     "output_type": "execute_result"
    }
   ],
   "source": [
    "\"\"\"\n",
    "transform2 = transforms.Compose(\n",
    "    [transforms.Resize((224, 224)),\n",
    "     transforms.ToTensor()])\n",
    "\n",
    "train_set2 = ImageFolder('C:/Users/heuma/Desktop/Master/S10/Aurea/Dataset_Kaggle_validation_Train_20-80/TRAIN/', transform=transform2)\n",
    "\n",
    "train_dl2 = DataLoader(train_set2, batch_size, shuffle = True, num_workers = 4, pin_memory = True)\n",
    "\n",
    "        \n",
    "show_batch(train_dl2)\n",
    "\"\"\""
   ]
  },
  {
   "cell_type": "code",
   "execution_count": null,
   "id": "6940a02b",
   "metadata": {},
   "outputs": [],
   "source": []
  }
 ],
 "metadata": {
  "kernelspec": {
   "display_name": "Python 3 (ipykernel)",
   "language": "python",
   "name": "python3"
  },
  "language_info": {
   "codemirror_mode": {
    "name": "ipython",
    "version": 3
   },
   "file_extension": ".py",
   "mimetype": "text/x-python",
   "name": "python",
   "nbconvert_exporter": "python",
   "pygments_lexer": "ipython3",
   "version": "3.9.7"
  }
 },
 "nbformat": 4,
 "nbformat_minor": 5
}
