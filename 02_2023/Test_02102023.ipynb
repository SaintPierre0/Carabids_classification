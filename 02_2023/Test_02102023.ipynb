{
 "cells": [
  {
   "cell_type": "code",
   "execution_count": 1,
   "id": "66f3ab4b",
   "metadata": {},
   "outputs": [
    {
     "data": {
      "text/plain": [
       "'cuda'"
      ]
     },
     "execution_count": 1,
     "metadata": {},
     "output_type": "execute_result"
    }
   ],
   "source": [
    "# import PyTorch and its related packages\n",
    "import torch as T\n",
    "import torch.nn as nn\n",
    "import torch.optim as optim\n",
    "import torch.nn.functional as F\n",
    "\n",
    "import torch\n",
    "\n",
    "import torchvision\n",
    "import torchvision.transforms as transforms\n",
    "\n",
    "from torchvision import transforms\n",
    "from torchvision.datasets import ImageFolder\n",
    "\n",
    "from tqdm.notebook import tqdm\n",
    "\n",
    "from sklearn.metrics import confusion_matrix\n",
    "\n",
    "\n",
    "# set default device based on CUDA's availability\n",
    "device = 'cuda' if T.cuda.is_available() else 'cpu'\n",
    "device"
   ]
  },
  {
   "cell_type": "code",
   "execution_count": 2,
   "id": "44a7c1c6",
   "metadata": {},
   "outputs": [],
   "source": [
    "transform = transforms.Compose(\n",
    "    [transforms.Resize((224,224)),\n",
    "     transforms.ToTensor(),\n",
    "     transforms.Normalize((0.485, 0.456, 0.406), (0.229, 0.224, 0.225))])\n",
    "\n",
    "batch_size = 128\n",
    "#image_size = (224, 224, 3)\n",
    "\n",
    "train_set = ImageFolder('C:/Users/heuma/Desktop/Work/Reseaux_test/Dataset_Kaggle/output/train', transform=transform)\n",
    "validation_set = ImageFolder('C:/Users/heuma/Desktop/Work/Reseaux_test/Dataset_Kaggle/output/val', transform=transform)\n",
    "test_set = ImageFolder('C:/Users/heuma/Desktop/Work/Reseaux_test/Dataset_Kaggle/output/test', transform=transform)\n",
    "\n",
    "#train_set = train_ds\n",
    "train_loader = T.utils.data.DataLoader(train_set, batch_size=batch_size,shuffle=True, num_workers=8)\n",
    "\n",
    "#validation_set = validation_ds\n",
    "validation_loader = T.utils.data.DataLoader(validation_set, batch_size=batch_size,shuffle=True, num_workers=8)\n",
    "\n",
    "#test_set = test_ds\n",
    "test_loader = T.utils.data.DataLoader(test_set, batch_size=batch_size,shuffle=True, num_workers=8)"
   ]
  },
  {
   "cell_type": "code",
   "execution_count": 3,
   "id": "e9c36132",
   "metadata": {},
   "outputs": [],
   "source": [
    "class NewNetwork(nn.Module):\n",
    "    def __init__(self, num_classes=291):\n",
    "        super(NewNetwork, self).__init__()\n",
    "        self.features = nn.Sequential(\n",
    "            nn.Conv2d(3, 64, kernel_size=11, stride=4, padding=2),\n",
    "            nn.ReLU(inplace=True),\n",
    "            nn.MaxPool2d(kernel_size=3, stride=2),\n",
    "            nn.Dropout(p=0.5),\n",
    "            nn.Conv2d(64, 192, kernel_size=5, padding=2),\n",
    "            nn.ReLU(inplace=True),\n",
    "            nn.MaxPool2d(kernel_size=3, stride=2),\n",
    "            nn.Dropout(p=0.5),\n",
    "            nn.Conv2d(192, 256, kernel_size=3, padding=1),\n",
    "            nn.ReLU(inplace=True),\n",
    "            nn.MaxPool2d(kernel_size=3, stride=2),\n",
    "            nn.Dropout(p=0.5)\n",
    "        )\n",
    "        self.classifier = nn.Sequential(\n",
    "            nn.Dropout(p=0.5),\n",
    "            nn.Linear(36 * 16 * 16, 1000), #mettre 128 quand il y a 5 couches\n",
    "            nn.PReLU(),\n",
    "            nn.Dropout(p=0.5),\n",
    "            nn.Linear(1000, 1000),\n",
    "            nn.PReLU(),\n",
    "            nn.Linear(1000, num_classes),\n",
    "        )\n",
    "\n",
    "    def forward(self, x):\n",
    "        x = self.features(x)\n",
    "        x = x.view(x.shape[0], -1)\n",
    "        x = self.classifier(x)\n",
    "        return x"
   ]
  },
  {
   "cell_type": "code",
   "execution_count": 4,
   "id": "441d12a6",
   "metadata": {},
   "outputs": [
    {
     "data": {
      "text/plain": [
       "NewNetwork(\n",
       "  (features): Sequential(\n",
       "    (0): Conv2d(3, 64, kernel_size=(11, 11), stride=(4, 4), padding=(2, 2))\n",
       "    (1): ReLU(inplace=True)\n",
       "    (2): MaxPool2d(kernel_size=3, stride=2, padding=0, dilation=1, ceil_mode=False)\n",
       "    (3): Dropout(p=0.5, inplace=False)\n",
       "    (4): Conv2d(64, 192, kernel_size=(5, 5), stride=(1, 1), padding=(2, 2))\n",
       "    (5): ReLU(inplace=True)\n",
       "    (6): MaxPool2d(kernel_size=3, stride=2, padding=0, dilation=1, ceil_mode=False)\n",
       "    (7): Dropout(p=0.5, inplace=False)\n",
       "    (8): Conv2d(192, 256, kernel_size=(3, 3), stride=(1, 1), padding=(1, 1))\n",
       "    (9): ReLU(inplace=True)\n",
       "    (10): MaxPool2d(kernel_size=3, stride=2, padding=0, dilation=1, ceil_mode=False)\n",
       "    (11): Dropout(p=0.5, inplace=False)\n",
       "  )\n",
       "  (classifier): Sequential(\n",
       "    (0): Dropout(p=0.5, inplace=False)\n",
       "    (1): Linear(in_features=9216, out_features=1000, bias=True)\n",
       "    (2): PReLU(num_parameters=1)\n",
       "    (3): Dropout(p=0.5, inplace=False)\n",
       "    (4): Linear(in_features=1000, out_features=1000, bias=True)\n",
       "    (5): PReLU(num_parameters=1)\n",
       "    (6): Linear(in_features=1000, out_features=291, bias=True)\n",
       "  )\n",
       ")"
      ]
     },
     "execution_count": 4,
     "metadata": {},
     "output_type": "execute_result"
    }
   ],
   "source": [
    "net = NewNetwork()\n",
    "net.to(device)"
   ]
  },
  {
   "cell_type": "code",
   "execution_count": 5,
   "id": "f39606d9",
   "metadata": {},
   "outputs": [],
   "source": [
    "criterion = nn.CrossEntropyLoss()\n",
    "\n",
    "# also the optimizer\n",
    "optimizer = optim.SGD(net.parameters(), lr=0.001, momentum=0.9)\n",
    "\n",
    "#dynamic learning rate\n",
    "#scheduler = optim.lr_scheduler.ExponentialLR(optimizer, gamma=0.9)"
   ]
  },
  {
   "cell_type": "code",
   "execution_count": 6,
   "id": "0b71ba8f",
   "metadata": {
    "scrolled": false
   },
   "outputs": [
    {
     "data": {
      "application/vnd.jupyter.widget-view+json": {
       "model_id": "bf54d8b752844ed68927ff8caf85f702",
       "version_major": 2,
       "version_minor": 0
      },
      "text/plain": [
       "  0%|          | 0/201 [00:00<?, ?it/s]"
      ]
     },
     "metadata": {},
     "output_type": "display_data"
    },
    {
     "name": "stdout",
     "output_type": "stream",
     "text": [
      "\n",
      "Epoch: 0\n",
      "Train Loss => 5.53733\n",
      "validation Acc.  => 1.225% | validation Loss  => 5.46802\n",
      "Accuracy of the network on test images: 1 %\n",
      "\n",
      "Epoch: 10\n",
      "Train Loss => 4.06155\n",
      "validation Acc.  => 8.769% | validation Loss  => 4.06655\n",
      "Accuracy of the network on test images: 9 %\n",
      "\n",
      "Epoch: 20\n",
      "Train Loss => 2.63917\n",
      "validation Acc.  => 27.660% | validation Loss  => 2.80278\n",
      "Accuracy of the network on test images: 28 %\n",
      "\n",
      "Epoch: 30\n",
      "Train Loss => 1.74150\n",
      "validation Acc.  => 49.726% | validation Loss  => 1.82052\n",
      "Accuracy of the network on test images: 49 %\n",
      "\n",
      "Epoch: 40\n",
      "Train Loss => 1.29697\n",
      "validation Acc.  => 59.881% | validation Loss  => 1.39412\n",
      "Accuracy of the network on test images: 59 %\n",
      "\n",
      "Epoch: 50\n",
      "Train Loss => 1.04196\n",
      "validation Acc.  => 65.796% | validation Loss  => 1.18295\n",
      "Accuracy of the network on test images: 65 %\n",
      "\n",
      "Epoch: 60\n",
      "Train Loss => 0.88552\n",
      "validation Acc.  => 65.554% | validation Loss  => 1.14165\n",
      "Accuracy of the network on test images: 65 %\n",
      "\n",
      "Epoch: 70\n",
      "Train Loss => 0.76762\n",
      "validation Acc.  => 72.324% | validation Loss  => 0.94571\n",
      "Accuracy of the network on test images: 72 %\n",
      "\n",
      "Epoch: 80\n",
      "Train Loss => 0.68415\n",
      "validation Acc.  => 72.663% | validation Loss  => 0.94791\n",
      "Accuracy of the network on test images: 73 %\n",
      "\n",
      "Epoch: 90\n",
      "Train Loss => 0.60831\n",
      "validation Acc.  => 72.856% | validation Loss  => 0.93211\n",
      "Accuracy of the network on test images: 72 %\n",
      "\n",
      "Epoch: 100\n",
      "Train Loss => 0.56034\n",
      "validation Acc.  => 75.129% | validation Loss  => 0.85129\n",
      "Accuracy of the network on test images: 75 %\n",
      "\n",
      "Epoch: 110\n",
      "Train Loss => 0.51732\n",
      "validation Acc.  => 76.773% | validation Loss  => 0.79981\n",
      "Accuracy of the network on test images: 77 %\n",
      "\n",
      "Epoch: 120\n",
      "Train Loss => 0.48822\n",
      "validation Acc.  => 77.901% | validation Loss  => 0.76494\n",
      "Accuracy of the network on test images: 76 %\n",
      "\n",
      "Epoch: 130\n",
      "Train Loss => 0.44884\n",
      "validation Acc.  => 78.095% | validation Loss  => 0.76887\n",
      "Accuracy of the network on test images: 77 %\n",
      "\n",
      "Epoch: 140\n",
      "Train Loss => 0.41475\n",
      "validation Acc.  => 78.449% | validation Loss  => 0.76833\n",
      "Accuracy of the network on test images: 79 %\n",
      "\n",
      "Epoch: 150\n",
      "Train Loss => 0.39842\n",
      "validation Acc.  => 78.756% | validation Loss  => 0.74252\n",
      "Accuracy of the network on test images: 78 %\n",
      "\n",
      "Epoch: 160\n",
      "Train Loss => 0.37044\n",
      "validation Acc.  => 78.627% | validation Loss  => 0.75215\n",
      "Accuracy of the network on test images: 78 %\n",
      "\n",
      "Epoch: 170\n",
      "Train Loss => 0.35588\n",
      "validation Acc.  => 77.466% | validation Loss  => 0.81253\n",
      "Accuracy of the network on test images: 78 %\n",
      "\n",
      "Epoch: 180\n",
      "Train Loss => 0.33884\n",
      "validation Acc.  => 78.788% | validation Loss  => 0.75640\n",
      "Accuracy of the network on test images: 79 %\n",
      "\n",
      "Epoch: 190\n",
      "Train Loss => 0.31735\n",
      "validation Acc.  => 79.610% | validation Loss  => 0.72313\n",
      "Accuracy of the network on test images: 79 %\n",
      "\n",
      "Epoch: 200\n",
      "Train Loss => 0.31139\n",
      "validation Acc.  => 79.223% | validation Loss  => 0.74422\n",
      "Accuracy of the network on test images: 80 %\n",
      "Finished Training\n"
     ]
    }
   ],
   "source": [
    "train_loss = []\n",
    "validation_loss = []\n",
    "train_acc = []\n",
    "validation_acc = []\n",
    "\n",
    "test_acc = []\n",
    "\n",
    "lrs = []\n",
    "steps = []\n",
    "\n",
    "# Initialize the prediction and label lists(tensors)\n",
    "predlist=torch.zeros(0,dtype=torch.long, device='cpu')\n",
    "lbllist=torch.zeros(0,dtype=torch.long, device='cpu')\n",
    "\n",
    "for epoch in tqdm(range(0, 201)):  # loop over the dataset multiple times\n",
    "    \n",
    "    running_loss = .0\n",
    "    correct = 0\n",
    "    total = 0\n",
    "    for i, data in enumerate(train_loader):\n",
    "        # get the inputs\n",
    "        inputs, labels = data\n",
    "        if device == 'cuda':\n",
    "            inputs, labels = inputs.to(device), labels.to(device)\n",
    "\n",
    "        # reset the parameter gradients\n",
    "        optimizer.zero_grad()\n",
    "\n",
    "        # forward\n",
    "        outputs = net(inputs)\n",
    "        loss = criterion(outputs, labels)\n",
    "        # backward\n",
    "        loss.backward()\n",
    "        # optimize\n",
    "        optimizer.step()\n",
    "        \n",
    "        running_loss += loss.item()\n",
    "        _, predicted = T.max(outputs.data, 1)\n",
    "        total += labels.size(0)\n",
    "        correct += (predicted == labels).sum().item()\n",
    "        \n",
    "    running_loss /= len(train_loader)\n",
    "    train_loss.append(running_loss)\n",
    "    running_acc = correct / total\n",
    "    train_acc.append(running_acc)\n",
    "    \n",
    "    #zone pour mettre le learning rate dynamique\n",
    "    \"\"\"\n",
    "    steps.append(epoch)\n",
    "    lrs.append(scheduler.get_last_lr()[0])\n",
    "    scheduler.step()\n",
    "    \"\"\"\n",
    "    \n",
    "    if epoch % 10 == 0: #ici changer pour la frequence d'affichage\n",
    "        print('\\nEpoch: {}'.format(epoch))\n",
    "    #    print('Train Acc. => {:.3f}%'.format(100 * running_acc), end=' | ')\n",
    "        print('Train Loss => {:.5f}'.format(running_loss))\n",
    "    \n",
    "    # evaluate on the validation set\n",
    "    # note this is usually performed on the validation set\n",
    "    # for simplicity we just evaluate it on the validation set\n",
    "    with T.no_grad():\n",
    "        correct = 0\n",
    "        total = 0\n",
    "        validation_running_loss = .0\n",
    "        for data in validation_loader:\n",
    "            inputs, labels = data\n",
    "            if device == 'cuda':\n",
    "                inputs, labels = inputs.to(device), labels.to(device)\n",
    "            outputs = net(inputs)\n",
    "            loss = criterion(outputs, labels)\n",
    "            validation_running_loss += loss.item()\n",
    "            _, predicted = T.max(outputs.data, 1)\n",
    "            total += labels.size(0)\n",
    "            correct += (predicted == labels).sum().item()\n",
    "            \n",
    "            if epoch == 200: # a changer si besoin d'afficher la matrice de confusion, a mettre à epoch-1\n",
    "                # Append batch prediction results\n",
    "                predlist=torch.cat([predlist,predicted.view(-1).cpu()])\n",
    "                lbllist=torch.cat([lbllist,labels.view(-1).cpu()])\n",
    "\n",
    "        validation_running_loss /= len(validation_loader)\n",
    "        validation_loss.append(validation_running_loss)\n",
    "        validation_running_acc = correct / total\n",
    "        validation_acc.append(validation_running_acc)\n",
    "        \n",
    "        if epoch % 10 == 0: #ici changer pour la frequence d'affichage\n",
    "            print('validation Acc.  => {:.3f}%'.format(100 * validation_running_acc), end=' | ')\n",
    "            print('validation Loss  => {:.5f}'.format(validation_running_loss))\n",
    "\n",
    "    with torch.no_grad():\n",
    "        correct_t = 0\n",
    "        total_t = 0\n",
    "        for data in test_loader:\n",
    "            inputs, labels = data\n",
    "            inputs, labels = inputs.to('cuda'), labels.to('cuda')\n",
    "            outputs = net(inputs)\n",
    "            _, predicted = torch.max(outputs.data, 1)\n",
    "            total_t += labels.size(0)\n",
    "            correct_t += (predicted == labels).sum().item()\n",
    "            \n",
    "            running_acc_t = correct_t / total_t\n",
    "        test_acc.append(running_acc_t)\n",
    "    \n",
    "        if epoch % 10 == 0: #ici changer pour la frequence d'affichage\n",
    "            print('Accuracy of the network on test images: %d %%' % (100 * correct_t / total_t))\n",
    "\n",
    "print('Finished Training')"
   ]
  },
  {
   "cell_type": "markdown",
   "id": "200262ff",
   "metadata": {},
   "source": [
    "## Visualization"
   ]
  },
  {
   "cell_type": "code",
   "execution_count": 7,
   "id": "bcb34d7f",
   "metadata": {},
   "outputs": [],
   "source": [
    "import matplotlib.pyplot as plt\n",
    "import seaborn as sns"
   ]
  },
  {
   "cell_type": "code",
   "execution_count": 8,
   "id": "aa68121a",
   "metadata": {},
   "outputs": [
    {
     "data": {
      "image/png": "[encoded data removed]",
      "text/plain": [
       "<Figure size 432x288 with 1 Axes>"
      ]
     },
     "metadata": {
      "needs_background": "light"
     },
     "output_type": "display_data"
    }
   ],
   "source": [
    "plt.plot(train_loss, label='train')\n",
    "plt.plot(validation_loss, label='validation')\n",
    "plt.xlabel(\"epoch\")\n",
    "plt.ylabel(\"loss values\")\n",
    "plt.title(\"loss rate's curve\")\n",
    "plt.legend()\n",
    "plt.show()"
   ]
  },
  {
   "cell_type": "code",
   "execution_count": 9,
   "id": "35ceeda8",
   "metadata": {},
   "outputs": [
    {
     "data": {
      "image/png": "[encoded data removed]",
      "text/plain": [
       "<Figure size 432x288 with 1 Axes>"
      ]
     },
     "metadata": {
      "needs_background": "light"
     },
     "output_type": "display_data"
    }
   ],
   "source": [
    "plt.plot(train_acc, label='train')\n",
    "plt.plot(validation_acc, label='validation')\n",
    "plt.plot(test_acc, label='test')\n",
    "plt.xlabel(\"epoch\")\n",
    "plt.ylabel(\"accuracy values\")\n",
    "plt.title(\"accuracy rate's curve\")\n",
    "plt.legend()\n",
    "plt.show()"
   ]
  },
  {
   "cell_type": "code",
   "execution_count": 10,
   "id": "ab1bac62",
   "metadata": {},
   "outputs": [
    {
     "name": "stdout",
     "output_type": "stream",
     "text": [
      "[[ 3  4  0 ...  0  0  0]\n",
      " [ 1 39  0 ...  0  0  0]\n",
      " [ 0  0 22 ...  0  0  0]\n",
      " ...\n",
      " [ 0  0  0 ... 18  0  0]\n",
      " [ 0  0  0 ...  0 18  0]\n",
      " [ 0  0  0 ...  0  0 28]]\n"
     ]
    }
   ],
   "source": [
    "# Confusion matrix\n",
    "conf_mat=confusion_matrix(lbllist.numpy(), predlist.numpy())\n",
    "print(conf_mat)\n"
   ]
  },
  {
   "cell_type": "code",
   "execution_count": 11,
   "id": "10da7cf6",
   "metadata": {},
   "outputs": [
    {
     "data": {
      "text/plain": [
       "<AxesSubplot:>"
      ]
     },
     "execution_count": 11,
     "metadata": {},
     "output_type": "execute_result"
    },
    {
     "data": {
      "image/png": "[encoded data removed]",
      "text/plain": [
       "<Figure size 936x720 with 2 Axes>"
      ]
     },
     "metadata": {
      "needs_background": "light"
     },
     "output_type": "display_data"
    }
   ],
   "source": [
    "fig, ax = plt.subplots(figsize=(13,10))\n",
    "sns.heatmap(conf_mat, annot=False, ax=ax, cmap=\"BuPu\")"
   ]
  },
  {
   "cell_type": "code",
   "execution_count": 12,
   "id": "2071eb75",
   "metadata": {},
   "outputs": [
    {
     "name": "stdout",
     "output_type": "stream",
     "text": [
      "[ 14.28571429  66.10169492  91.66666667  85.96491228  75.\n",
      "  73.68421053  77.27272727  97.87234043 100.          84.21052632\n",
      "  70.          98.03921569  65.95744681  75.          55.55555556\n",
      "  80.23255814  90.90909091  76.92307692  79.24528302  61.36363636\n",
      "  80.76923077  80.88235294  54.83870968  80.          62.5\n",
      "  57.14285714  95.74468085 100.          85.71428571  88.88888889\n",
      "  83.33333333  61.76470588  91.66666667 100.         100.\n",
      "  91.66666667 100.          58.33333333  75.          61.11111111\n",
      "  54.54545455  80.55555556  88.88888889  81.25        71.42857143\n",
      "  85.          83.33333333  75.          47.82608696  75.\n",
      "  81.81818182  62.5         75.         100.         100.\n",
      "  63.63636364  75.75757576  72.          72.72727273  86.66666667\n",
      "  70.58823529  60.          63.63636364  50.          78.57142857\n",
      "  77.77777778  50.          76.47058824  87.87878788 100.\n",
      "  97.14285714  65.          85.          83.33333333  90.47619048\n",
      "  89.28571429  83.33333333  87.5         90.625       45.45454545\n",
      " 100.         100.          90.          66.66666667  93.33333333\n",
      "  20.          50.          83.09859155  60.          22.22222222\n",
      "  50.          33.33333333  86.66666667  76.36363636  62.5\n",
      "  57.14285714  93.75        88.23529412  78.57142857  69.23076923\n",
      "  78.94736842  65.          64.86486486  58.33333333  80.\n",
      " 100.          90.47619048  91.30434783  83.33333333  97.22222222\n",
      "  81.81818182  77.77777778  82.35294118  90.          80.\n",
      "  97.2972973   77.77777778  87.5         81.81818182 100.\n",
      "  50.          54.54545455  94.11764706  78.94736842  78.57142857\n",
      "  97.72727273  72.72727273  78.57142857  89.47368421  69.56521739\n",
      "  83.33333333  71.42857143  71.42857143  89.47368421  90.90909091\n",
      "  87.5         52.63157895  90.90909091  66.66666667  98.07692308\n",
      "  89.18918919 100.          71.42857143 100.          59.375\n",
      " 100.          88.88888889  80.          92.30769231  80.95238095\n",
      "  73.33333333  75.          75.          85.71428571  85.71428571\n",
      "  52.94117647  74.19354839  90.          75.         100.\n",
      "  91.66666667  92.85714286  80.          81.81818182  79.16666667\n",
      "  90.625       68.75        66.66666667  83.33333333  97.5\n",
      "  84.61538462 100.          89.47368421  64.28571429  77.77777778\n",
      "  66.66666667 100.         100.          60.          95.\n",
      "  90.          93.75        83.33333333  80.95238095  94.73684211\n",
      "  66.66666667  65.85365854  89.47368421  82.22222222  70.96774194\n",
      "  83.33333333  94.44444444  61.11111111  62.5         63.63636364\n",
      "  61.53846154  90.90909091  75.          63.63636364  72.72727273\n",
      "  85.71428571  63.63636364  88.0952381  100.          75.67567568\n",
      "  56.         100.          94.73684211  60.          78.94736842\n",
      "  83.33333333  86.66666667  44.44444444 100.          60.60606061\n",
      "  41.17647059  84.61538462  89.18918919  77.27272727  85.71428571\n",
      "  77.77777778  66.66666667  81.25        33.33333333  77.27272727\n",
      "  69.23076923  42.85714286  92.30769231  71.42857143 100.\n",
      "  36.36363636  72.          75.          88.88888889  75.\n",
      "   0.          92.30769231  60.          80.24691358  68.75\n",
      "  20.          89.79591837  82.35294118 100.          80.\n",
      "  66.          80.         100.          70.37037037  80.64516129\n",
      "  68.62745098  54.54545455  88.88888889  83.33333333  90.\n",
      "  59.09090909 100.          72.22222222 100.          85.\n",
      "  70.          62.5          0.          87.5         84.61538462\n",
      "  70.58823529 100.          80.          68.42105263  73.33333333\n",
      "  80.          41.17647059  80.64516129  96.2962963   96.\n",
      "  42.85714286  73.33333333  92.59259259  80.          80.\n",
      "  84.          77.27272727  85.22727273  92.85714286 100.\n",
      " 100.         100.         100.          78.26086957  66.66666667\n",
      "  70.        ]\n"
     ]
    }
   ],
   "source": [
    "# Per-class accuracy\n",
    "class_accuracy=100*conf_mat.diagonal()/conf_mat.sum(1)\n",
    "print(class_accuracy)"
   ]
  },
  {
   "cell_type": "markdown",
   "id": "55083a6d",
   "metadata": {},
   "source": [
    "## Save"
   ]
  },
  {
   "cell_type": "code",
   "execution_count": 13,
   "id": "ea64b954",
   "metadata": {},
   "outputs": [],
   "source": [
    "#torch.save(net.state_dict(), \"C:/Users/heuma/Desktop/Master/S10/Aurea/Dataset_Kaggle_validation_Train_20-80/dict_Linh_network_1st_try\")"
   ]
  },
  {
   "cell_type": "code",
   "execution_count": 14,
   "id": "e0753a13",
   "metadata": {},
   "outputs": [],
   "source": [
    "#torch.save(net, \"C:/Users/heuma/Desktop/Master/S10/Aurea/Dataset_Kaggle_validation_Train_20-80/Linh_network_entire_model_1st_try\")"
   ]
  },
  {
   "cell_type": "code",
   "execution_count": 15,
   "id": "f9e64f8b",
   "metadata": {},
   "outputs": [
    {
     "data": {
      "text/plain": [
       "'\\nfrom torch.utils.data.dataloader import DataLoader\\n\\n\\ntrain_dl = DataLoader(train_set, batch_size, shuffle = True, num_workers = 4, pin_memory = True)\\n\\nfrom torchvision.utils import make_grid\\n\\ndef show_batch(dl):\\n    #Plot images grid of single batch\\n    for images, labels in dl:\\n        fig,ax = plt.subplots(figsize = (16,12))\\n        ax.set_xticks([])\\n        ax.set_yticks([])\\n        ax.imshow(make_grid(images,nrow=16).permute(1,2,0))\\n        break\\n        \\nshow_batch(train_dl)\\n\\n'"
      ]
     },
     "execution_count": 15,
     "metadata": {},
     "output_type": "execute_result"
    }
   ],
   "source": [
    "\"\"\"\n",
    "from torch.utils.data.dataloader import DataLoader\n",
    "\n",
    "\n",
    "train_dl = DataLoader(train_set, batch_size, shuffle = True, num_workers = 4, pin_memory = True)\n",
    "\n",
    "from torchvision.utils import make_grid\n",
    "\n",
    "def show_batch(dl):\n",
    "    #Plot images grid of single batch\n",
    "    for images, labels in dl:\n",
    "        fig,ax = plt.subplots(figsize = (16,12))\n",
    "        ax.set_xticks([])\n",
    "        ax.set_yticks([])\n",
    "        ax.imshow(make_grid(images,nrow=16).permute(1,2,0))\n",
    "        break\n",
    "        \n",
    "show_batch(train_dl)\n",
    "\n",
    "\"\"\""
   ]
  },
  {
   "cell_type": "code",
   "execution_count": 16,
   "id": "5308da1c",
   "metadata": {},
   "outputs": [
    {
     "data": {
      "text/plain": [
       "\"\\ntransform2 = transforms.Compose(\\n    [transforms.Resize((224, 224)),\\n     transforms.ToTensor()])\\n\\ntrain_set2 = ImageFolder('C:/Users/heuma/Desktop/Master/S10/Aurea/Dataset_Kaggle_validation_Train_20-80/TRAIN/', transform=transform2)\\n\\ntrain_dl2 = DataLoader(train_set2, batch_size, shuffle = True, num_workers = 4, pin_memory = True)\\n\\n        \\nshow_batch(train_dl2)\\n\""
      ]
     },
     "execution_count": 16,
     "metadata": {},
     "output_type": "execute_result"
    }
   ],
   "source": [
    "\"\"\"\n",
    "transform2 = transforms.Compose(\n",
    "    [transforms.Resize((224, 224)),\n",
    "     transforms.ToTensor()])\n",
    "\n",
    "train_set2 = ImageFolder('C:/Users/heuma/Desktop/Master/S10/Aurea/Dataset_Kaggle_validation_Train_20-80/TRAIN/', transform=transform2)\n",
    "\n",
    "train_dl2 = DataLoader(train_set2, batch_size, shuffle = True, num_workers = 4, pin_memory = True)\n",
    "\n",
    "        \n",
    "show_batch(train_dl2)\n",
    "\"\"\""
   ]
  },
  {
   "cell_type": "code",
   "execution_count": null,
   "id": "6940a02b",
   "metadata": {},
   "outputs": [],
   "source": []
  }
 ],
 "metadata": {
  "kernelspec": {
   "display_name": "Python 3 (ipykernel)",
   "language": "python",
   "name": "python3"
  },
  "language_info": {
   "codemirror_mode": {
    "name": "ipython",
    "version": 3
   },
   "file_extension": ".py",
   "mimetype": "text/x-python",
   "name": "python",
   "nbconvert_exporter": "python",
   "pygments_lexer": "ipython3",
   "version": "3.9.7"
  }
 },
 "nbformat": 4,
 "nbformat_minor": 5
}
