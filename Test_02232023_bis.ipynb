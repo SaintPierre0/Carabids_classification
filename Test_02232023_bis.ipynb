{
 "cells": [
  {
   "cell_type": "code",
   "execution_count": 1,
   "id": "66f3ab4b",
   "metadata": {},
   "outputs": [
    {
     "data": {
      "text/plain": [
       "'cuda'"
      ]
     },
     "execution_count": 1,
     "metadata": {},
     "output_type": "execute_result"
    }
   ],
   "source": [
    "# import PyTorch and its related packages\n",
    "import torch as T\n",
    "import torch.nn as nn\n",
    "import torch.optim as optim\n",
    "import torch.nn.functional as F\n",
    "\n",
    "import torch\n",
    "\n",
    "import torchvision\n",
    "import torchvision.transforms as transforms\n",
    "\n",
    "from torchvision import transforms\n",
    "from torchvision.datasets import ImageFolder\n",
    "\n",
    "from tqdm.notebook import tqdm\n",
    "\n",
    "from sklearn.metrics import confusion_matrix\n",
    "\n",
    "#mcc implementation\n",
    "from torchmetrics.classification import MultilabelMatthewsCorrCoef\n",
    "\n",
    "# set default device based on CUDA's availability\n",
    "device = 'cuda' if T.cuda.is_available() else 'cpu'\n",
    "device"
   ]
  },
  {
   "cell_type": "code",
   "execution_count": 2,
   "id": "44a7c1c6",
   "metadata": {},
   "outputs": [],
   "source": [
    "transform = transforms.Compose(\n",
    "    [transforms.Resize((448,448)),\n",
    "     transforms.ToTensor(),\n",
    "     transforms.Normalize((0.485, 0.456, 0.406), (0.229, 0.224, 0.225))])\n",
    "\n",
    "batch_size = 64\n",
    "#image_size = (224, 224, 3)\n",
    "\n",
    "train_set = ImageFolder('C:/Users/heuma/Desktop/Work/Reseaux_test/Dataset_Kaggle/output/train', transform=transform)\n",
    "validation_set = ImageFolder('C:/Users/heuma/Desktop/Work/Reseaux_test/Dataset_Kaggle/output/val', transform=transform)\n",
    "test_set = ImageFolder('C:/Users/heuma/Desktop/Work/Reseaux_test/Dataset_Kaggle/output/test', transform=transform)\n",
    "\n",
    "#train_set = train_ds\n",
    "train_loader = T.utils.data.DataLoader(train_set, batch_size=batch_size,shuffle=True, num_workers=8)\n",
    "\n",
    "#validation_set = validation_ds\n",
    "validation_loader = T.utils.data.DataLoader(validation_set, batch_size=batch_size,shuffle=True, num_workers=8)\n",
    "\n",
    "#test_set = test_ds\n",
    "test_loader = T.utils.data.DataLoader(test_set, batch_size=batch_size,shuffle=True, num_workers=8)"
   ]
  },
  {
   "cell_type": "code",
   "execution_count": 3,
   "id": "e9c36132",
   "metadata": {},
   "outputs": [],
   "source": [
    "class NewNetwork(nn.Module):\n",
    "    def __init__(self, num_classes=291):\n",
    "        super(NewNetwork, self).__init__()\n",
    "        self.features = nn.Sequential(\n",
    "            nn.Conv2d(3, 64, kernel_size=13, stride=4, padding=2),\n",
    "            nn.ReLU(inplace=True),\n",
    "            nn.MaxPool2d(kernel_size=3, stride=2),\n",
    "            nn.Dropout(p=0.5),\n",
    "            nn.Conv2d(64, 128, kernel_size=11, padding=2),\n",
    "            nn.ReLU(inplace=True),\n",
    "            nn.MaxPool2d(kernel_size=3, stride=2),\n",
    "            nn.Dropout(p=0.5),\n",
    "            nn.Conv2d(128, 256, kernel_size=9, padding=2),\n",
    "            nn.ReLU(inplace=True),\n",
    "            nn.MaxPool2d(kernel_size=3, stride=2),\n",
    "            nn.Dropout(p=0.5),\n",
    "            nn.Conv2d(256, 512, kernel_size=7, padding=2),\n",
    "            nn.ReLU(inplace=True),\n",
    "            nn.MaxPool2d(kernel_size=3, stride=2),\n",
    "            nn.Dropout(p=0.5),\n",
    "            nn.Conv2d(512, 1024, kernel_size=5, padding=2),\n",
    "            nn.ReLU(inplace=True),\n",
    "            nn.MaxPool2d(kernel_size=3, stride=2),\n",
    "            nn.Dropout(p=0.5)\n",
    "        )\n",
    "        self.classifier = nn.Sequential(\n",
    "            nn.Dropout(p=0.5),\n",
    "            nn.Linear(16 * 8 * 8, 1000), #mettre 128 quand il y a 5 couches\n",
    "            nn.PReLU(),\n",
    "            nn.Dropout(p=0.5),\n",
    "            nn.Linear(1000, 1000),\n",
    "            nn.PReLU(),\n",
    "            nn.Linear(1000, num_classes),\n",
    "        )\n",
    "\n",
    "    def forward(self, x):\n",
    "        x = self.features(x)\n",
    "        x = x.view(x.shape[0], -1)\n",
    "        x = self.classifier(x)\n",
    "        return x"
   ]
  },
  {
   "cell_type": "code",
   "execution_count": 4,
   "id": "441d12a6",
   "metadata": {},
   "outputs": [
    {
     "data": {
      "text/plain": [
       "NewNetwork(\n",
       "  (features): Sequential(\n",
       "    (0): Conv2d(3, 64, kernel_size=(13, 13), stride=(4, 4), padding=(2, 2))\n",
       "    (1): ReLU(inplace=True)\n",
       "    (2): MaxPool2d(kernel_size=3, stride=2, padding=0, dilation=1, ceil_mode=False)\n",
       "    (3): Dropout(p=0.5, inplace=False)\n",
       "    (4): Conv2d(64, 128, kernel_size=(11, 11), stride=(1, 1), padding=(2, 2))\n",
       "    (5): ReLU(inplace=True)\n",
       "    (6): MaxPool2d(kernel_size=3, stride=2, padding=0, dilation=1, ceil_mode=False)\n",
       "    (7): Dropout(p=0.5, inplace=False)\n",
       "    (8): Conv2d(128, 256, kernel_size=(9, 9), stride=(1, 1), padding=(2, 2))\n",
       "    (9): ReLU(inplace=True)\n",
       "    (10): MaxPool2d(kernel_size=3, stride=2, padding=0, dilation=1, ceil_mode=False)\n",
       "    (11): Dropout(p=0.5, inplace=False)\n",
       "    (12): Conv2d(256, 512, kernel_size=(7, 7), stride=(1, 1), padding=(2, 2))\n",
       "    (13): ReLU(inplace=True)\n",
       "    (14): MaxPool2d(kernel_size=3, stride=2, padding=0, dilation=1, ceil_mode=False)\n",
       "    (15): Dropout(p=0.5, inplace=False)\n",
       "    (16): Conv2d(512, 1024, kernel_size=(5, 5), stride=(1, 1), padding=(2, 2))\n",
       "    (17): ReLU(inplace=True)\n",
       "    (18): MaxPool2d(kernel_size=3, stride=2, padding=0, dilation=1, ceil_mode=False)\n",
       "    (19): Dropout(p=0.5, inplace=False)\n",
       "  )\n",
       "  (classifier): Sequential(\n",
       "    (0): Dropout(p=0.5, inplace=False)\n",
       "    (1): Linear(in_features=1024, out_features=1000, bias=True)\n",
       "    (2): PReLU(num_parameters=1)\n",
       "    (3): Dropout(p=0.5, inplace=False)\n",
       "    (4): Linear(in_features=1000, out_features=1000, bias=True)\n",
       "    (5): PReLU(num_parameters=1)\n",
       "    (6): Linear(in_features=1000, out_features=291, bias=True)\n",
       "  )\n",
       ")"
      ]
     },
     "execution_count": 4,
     "metadata": {},
     "output_type": "execute_result"
    }
   ],
   "source": [
    "net = NewNetwork()\n",
    "net.to(device)"
   ]
  },
  {
   "cell_type": "code",
   "execution_count": 5,
   "id": "f39606d9",
   "metadata": {},
   "outputs": [],
   "source": [
    "criterion = nn.CrossEntropyLoss()\n",
    "\n",
    "# also the optimizer\n",
    "optimizer = optim.Adam(net.parameters(), lr=0.0001)\n",
    "\n",
    "#dynamic learning rate\n",
    "#scheduler = optim.lr_scheduler.ExponentialLR(optimizer, gamma=0.9)"
   ]
  },
  {
   "cell_type": "code",
   "execution_count": 6,
   "id": "0b71ba8f",
   "metadata": {
    "scrolled": false
   },
   "outputs": [
    {
     "data": {
      "application/vnd.jupyter.widget-view+json": {
       "model_id": "9a0cc35eb0254199ae3575696972a6ed",
       "version_major": 2,
       "version_minor": 0
      },
      "text/plain": [
       "  0%|          | 0/41 [00:00<?, ?it/s]"
      ]
     },
     "metadata": {},
     "output_type": "display_data"
    },
    {
     "name": "stdout",
     "output_type": "stream",
     "text": [
      "\n",
      "Epoch: 0\n",
      "Train Acc. => 1.349% | Train Loss => 5.44736\n",
      "validation Acc.  => 2.323% | validation Loss  => 5.34247\n",
      "Accuracy of the network on test images: 2 %\n",
      "\n",
      "Epoch: 1\n",
      "Train Acc. => 4.638% | Train Loss => 4.47922\n",
      "validation Acc.  => 8.532% | validation Loss  => 3.90380\n",
      "Accuracy of the network on test images: 8 %\n",
      "\n",
      "Epoch: 2\n",
      "Train Acc. => 11.385% | Train Loss => 3.59198\n",
      "validation Acc.  => 14.581% | validation Loss  => 3.30482\n",
      "Accuracy of the network on test images: 13 %\n",
      "\n",
      "Epoch: 3\n",
      "Train Acc. => 18.887% | Train Loss => 3.06940\n",
      "validation Acc.  => 19.855% | validation Loss  => 2.99119\n",
      "Accuracy of the network on test images: 20 %\n",
      "\n",
      "Epoch: 4\n",
      "Train Acc. => 26.874% | Train Loss => 2.62565\n",
      "validation Acc.  => 31.355% | validation Loss  => 2.42374\n",
      "Accuracy of the network on test images: 32 %\n",
      "\n",
      "Epoch: 5\n",
      "Train Acc. => 33.965% | Train Loss => 2.28607\n",
      "validation Acc.  => 38.032% | validation Loss  => 2.11534\n",
      "Accuracy of the network on test images: 37 %\n",
      "\n",
      "Epoch: 6\n",
      "Train Acc. => 39.729% | Train Loss => 2.04406\n",
      "validation Acc.  => 42.484% | validation Loss  => 1.92787\n",
      "Accuracy of the network on test images: 42 %\n",
      "\n",
      "Epoch: 7\n",
      "Train Acc. => 44.598% | Train Loss => 1.84610\n",
      "validation Acc.  => 44.694% | validation Loss  => 1.84383\n",
      "Accuracy of the network on test images: 45 %\n",
      "\n",
      "Epoch: 8\n",
      "Train Acc. => 48.667% | Train Loss => 1.69593\n",
      "validation Acc.  => 48.839% | validation Loss  => 1.70192\n",
      "Accuracy of the network on test images: 48 %\n",
      "\n",
      "Epoch: 9\n",
      "Train Acc. => 51.909% | Train Loss => 1.56139\n",
      "validation Acc.  => 49.935% | validation Loss  => 1.65766\n",
      "Accuracy of the network on test images: 50 %\n",
      "\n",
      "Epoch: 10\n",
      "Train Acc. => 54.648% | Train Loss => 1.46804\n",
      "validation Acc.  => 54.097% | validation Loss  => 1.52560\n",
      "Accuracy of the network on test images: 54 %\n",
      "\n",
      "Epoch: 11\n",
      "Train Acc. => 57.144% | Train Loss => 1.37594\n",
      "validation Acc.  => 53.016% | validation Loss  => 1.59260\n",
      "Accuracy of the network on test images: 52 %\n",
      "\n",
      "Epoch: 12\n",
      "Train Acc. => 59.447% | Train Loss => 1.29085\n",
      "validation Acc.  => 58.081% | validation Loss  => 1.40067\n",
      "Accuracy of the network on test images: 59 %\n",
      "\n",
      "Epoch: 13\n",
      "Train Acc. => 61.260% | Train Loss => 1.22833\n",
      "validation Acc.  => 59.500% | validation Loss  => 1.33412\n",
      "Accuracy of the network on test images: 60 %\n",
      "\n",
      "Epoch: 14\n",
      "Train Acc. => 63.201% | Train Loss => 1.16027\n",
      "validation Acc.  => 60.016% | validation Loss  => 1.38091\n",
      "Accuracy of the network on test images: 58 %\n",
      "\n",
      "Epoch: 15\n",
      "Train Acc. => 64.781% | Train Loss => 1.11346\n",
      "validation Acc.  => 60.516% | validation Loss  => 1.34026\n",
      "Accuracy of the network on test images: 61 %\n",
      "\n",
      "Epoch: 16\n",
      "Train Acc. => 65.976% | Train Loss => 1.06395\n",
      "validation Acc.  => 63.871% | validation Loss  => 1.22340\n",
      "Accuracy of the network on test images: 63 %\n",
      "\n",
      "Epoch: 17\n",
      "Train Acc. => 67.946% | Train Loss => 1.00615\n",
      "validation Acc.  => 64.032% | validation Loss  => 1.19936\n",
      "Accuracy of the network on test images: 64 %\n",
      "\n",
      "Epoch: 18\n",
      "Train Acc. => 68.810% | Train Loss => 0.98210\n",
      "validation Acc.  => 66.113% | validation Loss  => 1.17187\n",
      "Accuracy of the network on test images: 64 %\n",
      "\n",
      "Epoch: 19\n",
      "Train Acc. => 70.161% | Train Loss => 0.93357\n",
      "validation Acc.  => 63.548% | validation Loss  => 1.23917\n",
      "Accuracy of the network on test images: 63 %\n",
      "\n",
      "Epoch: 20\n",
      "Train Acc. => 71.225% | Train Loss => 0.90232\n",
      "validation Acc.  => 65.952% | validation Loss  => 1.14467\n",
      "Accuracy of the network on test images: 67 %\n",
      "\n",
      "Epoch: 21\n",
      "Train Acc. => 72.355% | Train Loss => 0.86273\n",
      "validation Acc.  => 66.661% | validation Loss  => 1.14361\n",
      "Accuracy of the network on test images: 66 %\n",
      "\n",
      "Epoch: 22\n",
      "Train Acc. => 73.061% | Train Loss => 0.84036\n",
      "validation Acc.  => 68.532% | validation Loss  => 1.07838\n",
      "Accuracy of the network on test images: 68 %\n",
      "\n",
      "Epoch: 23\n",
      "Train Acc. => 73.903% | Train Loss => 0.80672\n",
      "validation Acc.  => 67.145% | validation Loss  => 1.08917\n",
      "Accuracy of the network on test images: 68 %\n",
      "\n",
      "Epoch: 24\n",
      "Train Acc. => 74.768% | Train Loss => 0.78111\n",
      "validation Acc.  => 68.097% | validation Loss  => 1.08386\n",
      "Accuracy of the network on test images: 68 %\n",
      "\n",
      "Epoch: 25\n",
      "Train Acc. => 75.460% | Train Loss => 0.75887\n",
      "validation Acc.  => 69.016% | validation Loss  => 1.07558\n",
      "Accuracy of the network on test images: 69 %\n",
      "\n",
      "Epoch: 26\n",
      "Train Acc. => 76.477% | Train Loss => 0.73298\n",
      "validation Acc.  => 71.145% | validation Loss  => 1.01732\n",
      "Accuracy of the network on test images: 71 %\n",
      "\n",
      "Epoch: 27\n",
      "Train Acc. => 76.710% | Train Loss => 0.71961\n",
      "validation Acc.  => 71.661% | validation Loss  => 1.00696\n",
      "Accuracy of the network on test images: 71 %\n",
      "\n",
      "Epoch: 28\n",
      "Train Acc. => 77.535% | Train Loss => 0.69519\n",
      "validation Acc.  => 70.452% | validation Loss  => 1.01721\n",
      "Accuracy of the network on test images: 70 %\n",
      "\n",
      "Epoch: 29\n",
      "Train Acc. => 78.901% | Train Loss => 0.65446\n",
      "validation Acc.  => 71.290% | validation Loss  => 1.01360\n",
      "Accuracy of the network on test images: 71 %\n",
      "\n",
      "Epoch: 30\n",
      "Train Acc. => 78.969% | Train Loss => 0.65055\n",
      "validation Acc.  => 69.935% | validation Loss  => 1.07245\n",
      "Accuracy of the network on test images: 70 %\n",
      "\n",
      "Epoch: 31\n",
      "Train Acc. => 79.538% | Train Loss => 0.63104\n",
      "validation Acc.  => 73.371% | validation Loss  => 0.93643\n",
      "Accuracy of the network on test images: 73 %\n",
      "\n",
      "Epoch: 32\n",
      "Train Acc. => 80.270% | Train Loss => 0.61071\n",
      "validation Acc.  => 72.871% | validation Loss  => 0.97512\n",
      "Accuracy of the network on test images: 73 %\n",
      "\n",
      "Epoch: 33\n",
      "Train Acc. => 80.674% | Train Loss => 0.60020\n",
      "validation Acc.  => 72.758% | validation Loss  => 0.97285\n",
      "Accuracy of the network on test images: 73 %\n",
      "\n",
      "Epoch: 34\n",
      "Train Acc. => 81.105% | Train Loss => 0.58471\n",
      "validation Acc.  => 72.145% | validation Loss  => 1.00426\n",
      "Accuracy of the network on test images: 73 %\n",
      "\n",
      "Epoch: 35\n",
      "Train Acc. => 81.584% | Train Loss => 0.57142\n",
      "validation Acc.  => 73.210% | validation Loss  => 0.94760\n",
      "Accuracy of the network on test images: 74 %\n",
      "\n",
      "Epoch: 36\n",
      "Train Acc. => 81.671% | Train Loss => 0.56703\n",
      "validation Acc.  => 74.532% | validation Loss  => 0.89782\n",
      "Accuracy of the network on test images: 74 %\n",
      "\n",
      "Epoch: 37\n",
      "Train Acc. => 82.952% | Train Loss => 0.52919\n",
      "validation Acc.  => 73.452% | validation Loss  => 0.97446\n",
      "Accuracy of the network on test images: 74 %\n",
      "\n",
      "Epoch: 38\n",
      "Train Acc. => 82.731% | Train Loss => 0.53475\n",
      "validation Acc.  => 73.548% | validation Loss  => 0.95717\n",
      "Accuracy of the network on test images: 73 %\n",
      "\n",
      "Epoch: 39\n",
      "Train Acc. => 83.105% | Train Loss => 0.52100\n",
      "validation Acc.  => 74.210% | validation Loss  => 0.91810\n",
      "Accuracy of the network on test images: 74 %\n",
      "\n",
      "Epoch: 40\n",
      "Train Acc. => 83.358% | Train Loss => 0.51407\n",
      "validation Acc.  => 74.903% | validation Loss  => 0.89378\n",
      "Accuracy of the network on test images: 75 %\n",
      "Finished Training\n"
     ]
    }
   ],
   "source": [
    "train_loss = []\n",
    "validation_loss = []\n",
    "train_acc = []\n",
    "validation_acc = []\n",
    "\n",
    "test_acc = []\n",
    "\n",
    "mcc_list = []\n",
    "\n",
    "lrs = []\n",
    "steps = []\n",
    "\n",
    "epoch_affichage = 1\n",
    "\n",
    "# Initialize the prediction and label lists(tensors)\n",
    "predlist=torch.zeros(0,dtype=torch.long, device='cpu')\n",
    "lbllist=torch.zeros(0,dtype=torch.long, device='cpu')\n",
    "\n",
    "for epoch in tqdm(range(0, 41)):  # loop over the dataset multiple times\n",
    "    \n",
    "    running_loss = .0\n",
    "    correct = 0\n",
    "    total = 0\n",
    "    for i, data in enumerate(train_loader):\n",
    "        # get the inputs\n",
    "        inputs, labels = data\n",
    "        if device == 'cuda':\n",
    "            inputs, labels = inputs.to(device), labels.to(device)\n",
    "\n",
    "        # reset the parameter gradients\n",
    "        optimizer.zero_grad()\n",
    "\n",
    "        # forward\n",
    "        outputs = net(inputs)\n",
    "        loss = criterion(outputs, labels)\n",
    "        # backward\n",
    "        loss.backward()\n",
    "        # optimize\n",
    "        optimizer.step()\n",
    "        \n",
    "        running_loss += loss.item()\n",
    "        _, predicted = T.max(outputs.data, 1)\n",
    "        total += labels.size(0)\n",
    "        correct += (predicted == labels).sum().item()\n",
    "        \n",
    "    running_loss /= len(train_loader)\n",
    "    train_loss.append(running_loss)\n",
    "    running_acc = correct / total\n",
    "    train_acc.append(running_acc)\n",
    "    \n",
    "    \"\"\"\n",
    "    print(\"predicted = \",predicted)\n",
    "    print(\"labels = \",labels)\n",
    "    \"\"\"\n",
    "    \n",
    "    #MCC implementation\n",
    "    \"\"\"\n",
    "    metric_mcc = MultilabelMatthewsCorrCoef(num_labels=291)\n",
    "    metric_mcc(predicted, labels)\n",
    "    mcc_list.append(metric_mcc)\n",
    "    \"\"\"\n",
    "    \n",
    "    #zone pour mettre le learning rate dynamique\n",
    "    \"\"\"\n",
    "    steps.append(epoch)\n",
    "    lrs.append(scheduler.get_last_lr()[0])\n",
    "    scheduler.step()\n",
    "    \"\"\"\n",
    "    \n",
    "    if epoch % epoch_affichage == 0: #ici changer pour la frequence d'affichage\n",
    "        print('\\nEpoch: {}'.format(epoch))\n",
    "        print('Train Acc. => {:.3f}%'.format(100 * running_acc), end=' | ')\n",
    "        print('Train Loss => {:.5f}'.format(running_loss))\n",
    "    \n",
    "    # evaluate on the validation set\n",
    "    # note this is usually performed on the validation set\n",
    "    # for simplicity we just evaluate it on the validation set\n",
    "    with T.no_grad():\n",
    "        correct = 0\n",
    "        total = 0\n",
    "        validation_running_loss = .0\n",
    "        for data in validation_loader:\n",
    "            inputs, labels = data\n",
    "            if device == 'cuda':\n",
    "                inputs, labels = inputs.to(device), labels.to(device)\n",
    "            outputs = net(inputs)\n",
    "            loss = criterion(outputs, labels)\n",
    "            validation_running_loss += loss.item()\n",
    "            _, predicted = T.max(outputs.data, 1)\n",
    "            total += labels.size(0)\n",
    "            correct += (predicted == labels).sum().item()\n",
    "            \n",
    "            if epoch == 40: # a changer si besoin d'afficher la matrice de confusion, a mettre à epoch-1\n",
    "                # Append batch prediction results\n",
    "                predlist=torch.cat([predlist,predicted.view(-1).cpu()])\n",
    "                lbllist=torch.cat([lbllist,labels.view(-1).cpu()])\n",
    "\n",
    "        validation_running_loss /= len(validation_loader)\n",
    "        validation_loss.append(validation_running_loss)\n",
    "        validation_running_acc = correct / total\n",
    "        validation_acc.append(validation_running_acc)\n",
    "        \n",
    "        if epoch % epoch_affichage == 0: #ici changer pour la frequence d'affichage\n",
    "            print('validation Acc.  => {:.3f}%'.format(100 * validation_running_acc), end=' | ')\n",
    "            print('validation Loss  => {:.5f}'.format(validation_running_loss))\n",
    "\n",
    "    with torch.no_grad():\n",
    "        correct_t = 0\n",
    "        total_t = 0\n",
    "        for data in test_loader:\n",
    "            inputs, labels = data\n",
    "            inputs, labels = inputs.to('cuda'), labels.to('cuda')\n",
    "            outputs = net(inputs)\n",
    "            _, predicted = torch.max(outputs.data, 1)\n",
    "            total_t += labels.size(0)\n",
    "            correct_t += (predicted == labels).sum().item()\n",
    "            \n",
    "            running_acc_t = correct_t / total_t\n",
    "        test_acc.append(running_acc_t)\n",
    "    \n",
    "        if epoch % epoch_affichage == 0: #ici changer pour la frequence d'affichage\n",
    "            print('Accuracy of the network on test images: %d %%' % (100 * correct_t / total_t))\n",
    "\n",
    "print('Finished Training')"
   ]
  },
  {
   "cell_type": "markdown",
   "id": "200262ff",
   "metadata": {},
   "source": [
    "## Visualization"
   ]
  },
  {
   "cell_type": "code",
   "execution_count": 7,
   "id": "bcb34d7f",
   "metadata": {},
   "outputs": [],
   "source": [
    "import matplotlib.pyplot as plt\n",
    "import seaborn as sns"
   ]
  },
  {
   "cell_type": "code",
   "execution_count": 8,
   "id": "aa68121a",
   "metadata": {},
   "outputs": [
    {
     "data": {
      "image/png": "[encoded data removed]",
      "text/plain": [
       "<Figure size 432x288 with 1 Axes>"
      ]
     },
     "metadata": {
      "needs_background": "light"
     },
     "output_type": "display_data"
    }
   ],
   "source": [
    "plt.plot(train_loss, label='train')\n",
    "plt.plot(validation_loss, label='validation')\n",
    "plt.xlabel(\"epoch\")\n",
    "plt.ylabel(\"loss values\")\n",
    "plt.title(\"loss rate's curve\")\n",
    "plt.legend()\n",
    "plt.show()"
   ]
  },
  {
   "cell_type": "code",
   "execution_count": 9,
   "id": "35ceeda8",
   "metadata": {},
   "outputs": [
    {
     "data": {
      "image/png": "[encoded data removed]",
      "text/plain": [
       "<Figure size 432x288 with 1 Axes>"
      ]
     },
     "metadata": {
      "needs_background": "light"
     },
     "output_type": "display_data"
    }
   ],
   "source": [
    "plt.plot(train_acc, label='train')\n",
    "plt.plot(validation_acc, label='validation')\n",
    "plt.plot(test_acc, label='test')\n",
    "plt.xlabel(\"epoch\")\n",
    "plt.ylabel(\"accuracy values\")\n",
    "plt.title(\"accuracy rate's curve\")\n",
    "plt.legend()\n",
    "plt.show()"
   ]
  },
  {
   "cell_type": "code",
   "execution_count": 10,
   "id": "78d4feaa",
   "metadata": {},
   "outputs": [],
   "source": [
    "#plt.plot(mcc_list, label='MCC')\n",
    "#plt.xlabel(\"epoch\")\n",
    "#plt.ylabel(\"MCC values\")\n",
    "#plt.title(\"MCC curve\")\n",
    "#plt.legend()\n",
    "#plt.show()"
   ]
  },
  {
   "cell_type": "code",
   "execution_count": 11,
   "id": "ab1bac62",
   "metadata": {},
   "outputs": [
    {
     "name": "stdout",
     "output_type": "stream",
     "text": [
      "[[12  1  0 ...  0  0  0]\n",
      " [ 3 35  0 ...  0  0  0]\n",
      " [ 0  0 17 ...  0  0  0]\n",
      " ...\n",
      " [ 0  0  0 ... 19  0  0]\n",
      " [ 0  0  0 ...  0 21  0]\n",
      " [ 0  0  0 ...  0  0 30]]\n"
     ]
    }
   ],
   "source": [
    "# Confusion matrix\n",
    "conf_mat=confusion_matrix(lbllist.numpy(), predlist.numpy())\n",
    "print(conf_mat)\n"
   ]
  },
  {
   "cell_type": "code",
   "execution_count": 12,
   "id": "10da7cf6",
   "metadata": {},
   "outputs": [
    {
     "data": {
      "text/plain": [
       "<AxesSubplot:>"
      ]
     },
     "execution_count": 12,
     "metadata": {},
     "output_type": "execute_result"
    },
    {
     "data": {
      "image/png": "[encoded data removed]",
      "text/plain": [
       "<Figure size 936x720 with 2 Axes>"
      ]
     },
     "metadata": {
      "needs_background": "light"
     },
     "output_type": "display_data"
    }
   ],
   "source": [
    "fig, ax = plt.subplots(figsize=(13,10))\n",
    "sns.heatmap(conf_mat, annot=False, ax=ax, cmap=\"BuPu\")"
   ]
  },
  {
   "cell_type": "code",
   "execution_count": 13,
   "id": "2071eb75",
   "metadata": {},
   "outputs": [
    {
     "name": "stdout",
     "output_type": "stream",
     "text": [
      "[ 60.          59.3220339   70.83333333  75.43859649  56.25\n",
      "  84.21052632  68.18181818  95.74468085  80.          55.26315789\n",
      "  90.          86.2745098   70.21276596  80.35714286  66.66666667\n",
      "  87.20930233  90.90909091  84.61538462  58.49056604  79.54545455\n",
      "  80.76923077  89.70588235  61.29032258  80.          79.16666667\n",
      "  14.28571429  82.9787234   95.23809524  85.71428571 100.\n",
      "  66.66666667  55.88235294  95.83333333  72.72727273 100.\n",
      "  83.33333333  86.66666667  75.          87.5         38.88888889\n",
      "  81.81818182  83.33333333  72.22222222  68.75        50.\n",
      "  95.          83.33333333  82.14285714  60.86956522  83.33333333\n",
      "  90.90909091  62.5         75.          90.90909091  80.\n",
      "  72.72727273  81.81818182  60.          72.72727273  66.66666667\n",
      "  64.70588235  40.          63.63636364  54.54545455  71.42857143\n",
      "  55.55555556  33.33333333  76.47058824  87.87878788  16.66666667\n",
      "  82.85714286  25.          85.          87.5         71.42857143\n",
      "  85.71428571  87.5         85.          82.8125      72.72727273\n",
      " 100.         100.          80.          66.66666667  86.66666667\n",
      "  60.          50.          83.09859155  60.          66.66666667\n",
      "  57.14285714  60.          76.66666667  70.90909091  37.5\n",
      "  28.57142857  62.5         88.23529412  64.28571429 100.\n",
      "  78.94736842  45.          75.67567568  66.66666667  40.\n",
      "  80.          95.23809524  82.60869565  50.          88.88888889\n",
      "  45.45454545  70.37037037  64.70588235  85.         100.\n",
      "  83.78378378  92.59259259  75.          72.72727273  91.66666667\n",
      "  83.33333333  81.81818182  84.31372549  68.42105263  83.33333333\n",
      "  86.36363636  72.72727273  57.14285714 100.          39.13043478\n",
      "  83.33333333  76.19047619  71.42857143  94.73684211  81.81818182\n",
      "  75.          68.42105263  63.63636364  50.          98.07692308\n",
      "  91.89189189  55.55555556 100.          92.30769231  87.5\n",
      "  80.          66.66666667  78.125       73.07692308  71.42857143\n",
      "  80.          37.5         75.          33.33333333  85.71428571\n",
      "  70.58823529  87.09677419  75.          66.66666667  83.33333333\n",
      "  83.33333333  89.28571429  80.          36.36363636  62.5\n",
      "  75.          84.375       33.33333333  83.33333333 100.\n",
      "  61.53846154 100.          76.31578947  57.14285714  72.22222222\n",
      "  66.66666667  60.          85.71428571  40.         100.\n",
      "  80.         100.          91.66666667  80.95238095  89.47368421\n",
      "  85.18518519  19.51219512  81.57894737  80.          80.64516129\n",
      "  90.          66.66666667  69.44444444  75.          72.72727273\n",
      "  30.76923077  90.90909091  70.          27.27272727  54.54545455\n",
      "  71.42857143  57.57575758  80.95238095  93.75        89.18918919\n",
      "  56.         100.         100.          40.          57.89473684\n",
      "  50.          60.          44.44444444  54.54545455  72.72727273\n",
      "  58.82352941  84.61538462  64.86486486  72.72727273  85.71428571\n",
      "  77.77777778  66.66666667  62.5          8.33333333  63.63636364\n",
      "  61.53846154  57.14285714  76.92307692  92.85714286  83.33333333\n",
      "  36.36363636  88.          37.5         55.55555556  56.25\n",
      "   0.          92.30769231  60.          77.77777778  87.5\n",
      "  20.          79.59183673  96.          62.5         60.\n",
      "  56.          60.         100.          74.07407407  93.5483871\n",
      "  60.78431373  36.36363636  33.33333333  80.95238095  60.\n",
      "  40.90909091  83.33333333  88.88888889  77.77777778  80.\n",
      "  86.66666667  62.5         61.53846154  25.          73.07692308\n",
      "  52.94117647  85.71428571   0.          57.89473684  53.33333333\n",
      "  20.          41.17647059  83.87096774  96.2962963   92.\n",
      "   0.          80.          66.66666667  80.          80.\n",
      "  76.          77.27272727  85.22727273  57.14285714  66.66666667\n",
      "  44.44444444  84.61538462  84.21052632  82.60869565  77.77777778\n",
      "  75.        ]\n"
     ]
    }
   ],
   "source": [
    "# Per-class accuracy\n",
    "class_accuracy=100*conf_mat.diagonal()/conf_mat.sum(1)\n",
    "print(class_accuracy)"
   ]
  },
  {
   "cell_type": "markdown",
   "id": "55083a6d",
   "metadata": {},
   "source": [
    "## Save"
   ]
  },
  {
   "cell_type": "code",
   "execution_count": 14,
   "id": "ea64b954",
   "metadata": {},
   "outputs": [],
   "source": [
    "#torch.save(net.state_dict(), \"C:/Users/heuma/Desktop/Master/S10/Aurea/Dataset_Kaggle_validation_Train_20-80/dict_Linh_network_1st_try\")"
   ]
  },
  {
   "cell_type": "code",
   "execution_count": 15,
   "id": "e0753a13",
   "metadata": {},
   "outputs": [],
   "source": [
    "#torch.save(net, \"C:/Users/heuma/Desktop/Master/S10/Aurea/Dataset_Kaggle_validation_Train_20-80/Linh_network_entire_model_1st_try\")"
   ]
  },
  {
   "cell_type": "code",
   "execution_count": 16,
   "id": "f9e64f8b",
   "metadata": {},
   "outputs": [
    {
     "data": {
      "text/plain": [
       "'\\nfrom torch.utils.data.dataloader import DataLoader\\n\\n\\ntrain_dl = DataLoader(train_set, batch_size, shuffle = True, num_workers = 4, pin_memory = True)\\n\\nfrom torchvision.utils import make_grid\\n\\ndef show_batch(dl):\\n    #Plot images grid of single batch\\n    for images, labels in dl:\\n        fig,ax = plt.subplots(figsize = (16,12))\\n        ax.set_xticks([])\\n        ax.set_yticks([])\\n        ax.imshow(make_grid(images,nrow=16).permute(1,2,0))\\n        break\\n        \\nshow_batch(train_dl)\\n\\n'"
      ]
     },
     "execution_count": 16,
     "metadata": {},
     "output_type": "execute_result"
    }
   ],
   "source": [
    "\"\"\"\n",
    "from torch.utils.data.dataloader import DataLoader\n",
    "\n",
    "\n",
    "train_dl = DataLoader(train_set, batch_size, shuffle = True, num_workers = 4, pin_memory = True)\n",
    "\n",
    "from torchvision.utils import make_grid\n",
    "\n",
    "def show_batch(dl):\n",
    "    #Plot images grid of single batch\n",
    "    for images, labels in dl:\n",
    "        fig,ax = plt.subplots(figsize = (16,12))\n",
    "        ax.set_xticks([])\n",
    "        ax.set_yticks([])\n",
    "        ax.imshow(make_grid(images,nrow=16).permute(1,2,0))\n",
    "        break\n",
    "        \n",
    "show_batch(train_dl)\n",
    "\n",
    "\"\"\""
   ]
  },
  {
   "cell_type": "code",
   "execution_count": 17,
   "id": "5308da1c",
   "metadata": {},
   "outputs": [
    {
     "data": {
      "text/plain": [
       "\"\\ntransform2 = transforms.Compose(\\n    [transforms.Resize((224, 224)),\\n     transforms.ToTensor()])\\n\\ntrain_set2 = ImageFolder('C:/Users/heuma/Desktop/Master/S10/Aurea/Dataset_Kaggle_validation_Train_20-80/TRAIN/', transform=transform2)\\n\\ntrain_dl2 = DataLoader(train_set2, batch_size, shuffle = True, num_workers = 4, pin_memory = True)\\n\\n        \\nshow_batch(train_dl2)\\n\""
      ]
     },
     "execution_count": 17,
     "metadata": {},
     "output_type": "execute_result"
    }
   ],
   "source": [
    "\"\"\"\n",
    "transform2 = transforms.Compose(\n",
    "    [transforms.Resize((224, 224)),\n",
    "     transforms.ToTensor()])\n",
    "\n",
    "train_set2 = ImageFolder('C:/Users/heuma/Desktop/Master/S10/Aurea/Dataset_Kaggle_validation_Train_20-80/TRAIN/', transform=transform2)\n",
    "\n",
    "train_dl2 = DataLoader(train_set2, batch_size, shuffle = True, num_workers = 4, pin_memory = True)\n",
    "\n",
    "        \n",
    "show_batch(train_dl2)\n",
    "\"\"\""
   ]
  },
  {
   "cell_type": "code",
   "execution_count": null,
   "id": "6940a02b",
   "metadata": {},
   "outputs": [],
   "source": []
  }
 ],
 "metadata": {
  "kernelspec": {
   "display_name": "Python 3 (ipykernel)",
   "language": "python",
   "name": "python3"
  },
  "language_info": {
   "codemirror_mode": {
    "name": "ipython",
    "version": 3
   },
   "file_extension": ".py",
   "mimetype": "text/x-python",
   "name": "python",
   "nbconvert_exporter": "python",
   "pygments_lexer": "ipython3",
   "version": "3.9.7"
  }
 },
 "nbformat": 4,
 "nbformat_minor": 5
}
