{
 "cells": [
  {
   "cell_type": "code",
   "execution_count": 1,
   "id": "66f3ab4b",
   "metadata": {},
   "outputs": [
    {
     "data": {
      "text/plain": [
       "'cuda'"
      ]
     },
     "execution_count": 1,
     "metadata": {},
     "output_type": "execute_result"
    }
   ],
   "source": [
    "# import PyTorch and its related packages\n",
    "import torch as T\n",
    "import torch.nn as nn\n",
    "import torch.optim as optim\n",
    "import torch.nn.functional as F\n",
    "\n",
    "import torch\n",
    "\n",
    "import torchvision\n",
    "import torchvision.transforms as transforms\n",
    "\n",
    "from torchvision import transforms\n",
    "from torchvision.datasets import ImageFolder\n",
    "\n",
    "from tqdm.notebook import tqdm\n",
    "\n",
    "from sklearn.metrics import confusion_matrix\n",
    "\n",
    "\n",
    "# set default device based on CUDA's availability\n",
    "device = 'cuda' if T.cuda.is_available() else 'cpu'\n",
    "device"
   ]
  },
  {
   "cell_type": "code",
   "execution_count": 2,
   "id": "44a7c1c6",
   "metadata": {},
   "outputs": [],
   "source": [
    "transform = transforms.Compose(\n",
    "    [transforms.Resize((224,224)),\n",
    "     transforms.ToTensor(),\n",
    "     transforms.Normalize((0.485, 0.456, 0.406), (0.229, 0.224, 0.225))])\n",
    "\n",
    "batch_size = 128\n",
    "#image_size = (224, 224, 3)\n",
    "\n",
    "train_set = ImageFolder('C:/Users/heuma/Desktop/Work/Reseaux_test/Dataset_Kaggle/output/train', transform=transform)\n",
    "validation_set = ImageFolder('C:/Users/heuma/Desktop/Work/Reseaux_test/Dataset_Kaggle/output/val', transform=transform)\n",
    "test_set = ImageFolder('C:/Users/heuma/Desktop/Work/Reseaux_test/Dataset_Kaggle/output/test', transform=transform)\n",
    "\n",
    "#train_set = train_ds\n",
    "train_loader = T.utils.data.DataLoader(train_set, batch_size=batch_size,shuffle=True, num_workers=8)\n",
    "\n",
    "#validation_set = validation_ds\n",
    "validation_loader = T.utils.data.DataLoader(validation_set, batch_size=batch_size,shuffle=True, num_workers=8)\n",
    "\n",
    "#test_set = test_ds\n",
    "test_loader = T.utils.data.DataLoader(test_set, batch_size=batch_size,shuffle=True, num_workers=8)"
   ]
  },
  {
   "cell_type": "code",
   "execution_count": 3,
   "id": "e9c36132",
   "metadata": {},
   "outputs": [],
   "source": [
    "class NewNetwork(nn.Module):\n",
    "    def __init__(self, num_classes=291):\n",
    "        super(NewNetwork, self).__init__()\n",
    "        self.features = nn.Sequential(\n",
    "            nn.Conv2d(3, 64, kernel_size=11, stride=4, padding=2),\n",
    "            nn.ReLU(inplace=True),\n",
    "            nn.MaxPool2d(kernel_size=3, stride=2),\n",
    "            nn.Dropout(p=0.9),\n",
    "            nn.Conv2d(64, 192, kernel_size=5, padding=2),\n",
    "            nn.ReLU(inplace=True),\n",
    "            nn.MaxPool2d(kernel_size=3, stride=2),\n",
    "            nn.Dropout(p=0.8),\n",
    "            nn.Conv2d(192, 256, kernel_size=3, padding=1),\n",
    "            nn.ReLU(inplace=True),\n",
    "            nn.MaxPool2d(kernel_size=3, stride=2),\n",
    "            nn.Dropout(p=0.7)\n",
    "        )\n",
    "        self.classifier = nn.Sequential(\n",
    "            nn.Dropout(p=0.6),\n",
    "            nn.Linear(36 * 16 * 16, 1000), #mettre 128 quand il y a 5 couches\n",
    "            nn.PReLU(),\n",
    "            nn.Dropout(p=0.5),\n",
    "            nn.Linear(1000, 1000),\n",
    "            nn.PReLU(),\n",
    "            nn.Linear(1000, num_classes),\n",
    "        )\n",
    "\n",
    "    def forward(self, x):\n",
    "        x = self.features(x)\n",
    "        x = x.view(x.shape[0], -1)\n",
    "        x = self.classifier(x)\n",
    "        return x"
   ]
  },
  {
   "cell_type": "code",
   "execution_count": 4,
   "id": "441d12a6",
   "metadata": {},
   "outputs": [
    {
     "data": {
      "text/plain": [
       "NewNetwork(\n",
       "  (features): Sequential(\n",
       "    (0): Conv2d(3, 64, kernel_size=(11, 11), stride=(4, 4), padding=(2, 2))\n",
       "    (1): ReLU(inplace=True)\n",
       "    (2): MaxPool2d(kernel_size=3, stride=2, padding=0, dilation=1, ceil_mode=False)\n",
       "    (3): Dropout(p=0.9, inplace=False)\n",
       "    (4): Conv2d(64, 192, kernel_size=(5, 5), stride=(1, 1), padding=(2, 2))\n",
       "    (5): ReLU(inplace=True)\n",
       "    (6): MaxPool2d(kernel_size=3, stride=2, padding=0, dilation=1, ceil_mode=False)\n",
       "    (7): Dropout(p=0.8, inplace=False)\n",
       "    (8): Conv2d(192, 256, kernel_size=(3, 3), stride=(1, 1), padding=(1, 1))\n",
       "    (9): ReLU(inplace=True)\n",
       "    (10): MaxPool2d(kernel_size=3, stride=2, padding=0, dilation=1, ceil_mode=False)\n",
       "    (11): Dropout(p=0.7, inplace=False)\n",
       "  )\n",
       "  (classifier): Sequential(\n",
       "    (0): Dropout(p=0.6, inplace=False)\n",
       "    (1): Linear(in_features=9216, out_features=1000, bias=True)\n",
       "    (2): PReLU(num_parameters=1)\n",
       "    (3): Dropout(p=0.5, inplace=False)\n",
       "    (4): Linear(in_features=1000, out_features=1000, bias=True)\n",
       "    (5): PReLU(num_parameters=1)\n",
       "    (6): Linear(in_features=1000, out_features=291, bias=True)\n",
       "  )\n",
       ")"
      ]
     },
     "execution_count": 4,
     "metadata": {},
     "output_type": "execute_result"
    }
   ],
   "source": [
    "net = NewNetwork()\n",
    "net.to(device)"
   ]
  },
  {
   "cell_type": "code",
   "execution_count": 5,
   "id": "f39606d9",
   "metadata": {},
   "outputs": [],
   "source": [
    "criterion = nn.CrossEntropyLoss()\n",
    "\n",
    "# also the optimizer\n",
    "optimizer = optim.SGD(net.parameters(), lr=0.001, momentum=0.9)\n",
    "\n",
    "#dynamic learning rate\n",
    "#scheduler = optim.lr_scheduler.ExponentialLR(optimizer, gamma=0.9)"
   ]
  },
  {
   "cell_type": "code",
   "execution_count": 6,
   "id": "0b71ba8f",
   "metadata": {
    "scrolled": false
   },
   "outputs": [
    {
     "data": {
      "application/vnd.jupyter.widget-view+json": {
       "model_id": "109f5b67ac22428ea369af0c2d990e11",
       "version_major": 2,
       "version_minor": 0
      },
      "text/plain": [
       "  0%|          | 0/171 [00:00<?, ?it/s]"
      ]
     },
     "metadata": {},
     "output_type": "display_data"
    },
    {
     "name": "stdout",
     "output_type": "stream",
     "text": [
      "\n",
      "Epoch: 0\n",
      "Train Loss => 5.53504\n",
      "validation Acc.  => 1.144% | validation Loss  => 5.46983\n",
      "Accuracy of the network on test images: 1 %\n",
      "\n",
      "Epoch: 10\n",
      "Train Loss => 4.61722\n",
      "validation Acc.  => 4.916% | validation Loss  => 4.56520\n",
      "Accuracy of the network on test images: 5 %\n",
      "\n",
      "Epoch: 20\n",
      "Train Loss => 4.10081\n",
      "validation Acc.  => 8.575% | validation Loss  => 4.15309\n",
      "Accuracy of the network on test images: 8 %\n",
      "\n",
      "Epoch: 30\n",
      "Train Loss => 3.50529\n",
      "validation Acc.  => 13.250% | validation Loss  => 3.63865\n",
      "Accuracy of the network on test images: 13 %\n",
      "\n",
      "Epoch: 40\n",
      "Train Loss => 3.05483\n",
      "validation Acc.  => 21.792% | validation Loss  => 3.10822\n",
      "Accuracy of the network on test images: 22 %\n",
      "\n",
      "Epoch: 50\n",
      "Train Loss => 2.69113\n",
      "validation Acc.  => 27.740% | validation Loss  => 2.80117\n",
      "Accuracy of the network on test images: 27 %\n",
      "\n",
      "Epoch: 60\n",
      "Train Loss => 2.43790\n",
      "validation Acc.  => 34.284% | validation Loss  => 2.52703\n",
      "Accuracy of the network on test images: 34 %\n",
      "\n",
      "Epoch: 70\n",
      "Train Loss => 2.20728\n",
      "validation Acc.  => 36.992% | validation Loss  => 2.33798\n",
      "Accuracy of the network on test images: 38 %\n",
      "\n",
      "Epoch: 80\n",
      "Train Loss => 2.05582\n",
      "validation Acc.  => 41.860% | validation Loss  => 2.15839\n",
      "Accuracy of the network on test images: 41 %\n",
      "\n",
      "Epoch: 90\n",
      "Train Loss => 1.92939\n",
      "validation Acc.  => 42.037% | validation Loss  => 2.13620\n",
      "Accuracy of the network on test images: 42 %\n",
      "\n",
      "Epoch: 100\n",
      "Train Loss => 1.80514\n",
      "validation Acc.  => 45.841% | validation Loss  => 1.95162\n",
      "Accuracy of the network on test images: 46 %\n",
      "\n",
      "Epoch: 110\n",
      "Train Loss => 1.72896\n",
      "validation Acc.  => 45.471% | validation Loss  => 1.96212\n",
      "Accuracy of the network on test images: 47 %\n",
      "\n",
      "Epoch: 120\n",
      "Train Loss => 1.63067\n",
      "validation Acc.  => 47.921% | validation Loss  => 1.88716\n",
      "Accuracy of the network on test images: 48 %\n",
      "\n",
      "Epoch: 130\n",
      "Train Loss => 1.56513\n",
      "validation Acc.  => 49.033% | validation Loss  => 1.84530\n",
      "Accuracy of the network on test images: 49 %\n",
      "\n",
      "Epoch: 140\n",
      "Train Loss => 1.52076\n",
      "validation Acc.  => 51.467% | validation Loss  => 1.75741\n",
      "Accuracy of the network on test images: 50 %\n",
      "\n",
      "Epoch: 150\n",
      "Train Loss => 1.44851\n",
      "validation Acc.  => 51.692% | validation Loss  => 1.74551\n",
      "Accuracy of the network on test images: 52 %\n",
      "\n",
      "Epoch: 160\n",
      "Train Loss => 1.39802\n",
      "validation Acc.  => 51.531% | validation Loss  => 1.75764\n",
      "Accuracy of the network on test images: 52 %\n",
      "\n",
      "Epoch: 170\n",
      "Train Loss => 1.34905\n",
      "validation Acc.  => 54.062% | validation Loss  => 1.68360\n",
      "Accuracy of the network on test images: 54 %\n",
      "Finished Training\n"
     ]
    }
   ],
   "source": [
    "train_loss = []\n",
    "validation_loss = []\n",
    "train_acc = []\n",
    "validation_acc = []\n",
    "\n",
    "test_acc = []\n",
    "\n",
    "lrs = []\n",
    "steps = []\n",
    "\n",
    "# Initialize the prediction and label lists(tensors)\n",
    "predlist=torch.zeros(0,dtype=torch.long, device='cpu')\n",
    "lbllist=torch.zeros(0,dtype=torch.long, device='cpu')\n",
    "\n",
    "for epoch in tqdm(range(0, 171)):  # loop over the dataset multiple times\n",
    "    \n",
    "    running_loss = .0\n",
    "    correct = 0\n",
    "    total = 0\n",
    "    for i, data in enumerate(train_loader):\n",
    "        # get the inputs\n",
    "        inputs, labels = data\n",
    "        if device == 'cuda':\n",
    "            inputs, labels = inputs.to(device), labels.to(device)\n",
    "\n",
    "        # reset the parameter gradients\n",
    "        optimizer.zero_grad()\n",
    "\n",
    "        # forward\n",
    "        outputs = net(inputs)\n",
    "        loss = criterion(outputs, labels)\n",
    "        # backward\n",
    "        loss.backward()\n",
    "        # optimize\n",
    "        optimizer.step()\n",
    "        \n",
    "        running_loss += loss.item()\n",
    "        _, predicted = T.max(outputs.data, 1)\n",
    "        total += labels.size(0)\n",
    "        correct += (predicted == labels).sum().item()\n",
    "        \n",
    "    running_loss /= len(train_loader)\n",
    "    train_loss.append(running_loss)\n",
    "    running_acc = correct / total\n",
    "    train_acc.append(running_acc)\n",
    "    \n",
    "    #zone pour mettre le learning rate dynamique\n",
    "    \"\"\"\n",
    "    steps.append(epoch)\n",
    "    lrs.append(scheduler.get_last_lr()[0])\n",
    "    scheduler.step()\n",
    "    \"\"\"\n",
    "    \n",
    "    if epoch % 10 == 0: #ici changer pour la frequence d'affichage\n",
    "        print('\\nEpoch: {}'.format(epoch))\n",
    "    #    print('Train Acc. => {:.3f}%'.format(100 * running_acc), end=' | ')\n",
    "        print('Train Loss => {:.5f}'.format(running_loss))\n",
    "    \n",
    "    # evaluate on the validation set\n",
    "    # note this is usually performed on the validation set\n",
    "    # for simplicity we just evaluate it on the validation set\n",
    "    with T.no_grad():\n",
    "        correct = 0\n",
    "        total = 0\n",
    "        validation_running_loss = .0\n",
    "        for data in validation_loader:\n",
    "            inputs, labels = data\n",
    "            if device == 'cuda':\n",
    "                inputs, labels = inputs.to(device), labels.to(device)\n",
    "            outputs = net(inputs)\n",
    "            loss = criterion(outputs, labels)\n",
    "            validation_running_loss += loss.item()\n",
    "            _, predicted = T.max(outputs.data, 1)\n",
    "            total += labels.size(0)\n",
    "            correct += (predicted == labels).sum().item()\n",
    "            \n",
    "            if epoch == 170: # a changer si besoin d'afficher la matrice de confusion, a mettre à epoch-1\n",
    "                # Append batch prediction results\n",
    "                predlist=torch.cat([predlist,predicted.view(-1).cpu()])\n",
    "                lbllist=torch.cat([lbllist,labels.view(-1).cpu()])\n",
    "\n",
    "        validation_running_loss /= len(validation_loader)\n",
    "        validation_loss.append(validation_running_loss)\n",
    "        validation_running_acc = correct / total\n",
    "        validation_acc.append(validation_running_acc)\n",
    "        \n",
    "        if epoch % 10 == 0: #ici changer pour la frequence d'affichage\n",
    "            print('validation Acc.  => {:.3f}%'.format(100 * validation_running_acc), end=' | ')\n",
    "            print('validation Loss  => {:.5f}'.format(validation_running_loss))\n",
    "\n",
    "    with torch.no_grad():\n",
    "        correct_t = 0\n",
    "        total_t = 0\n",
    "        for data in test_loader:\n",
    "            inputs, labels = data\n",
    "            inputs, labels = inputs.to('cuda'), labels.to('cuda')\n",
    "            outputs = net(inputs)\n",
    "            _, predicted = torch.max(outputs.data, 1)\n",
    "            total_t += labels.size(0)\n",
    "            correct_t += (predicted == labels).sum().item()\n",
    "            \n",
    "            running_acc_t = correct_t / total_t\n",
    "        test_acc.append(running_acc_t)\n",
    "    \n",
    "        if epoch % 10 == 0: #ici changer pour la frequence d'affichage\n",
    "            print('Accuracy of the network on test images: %d %%' % (100 * correct_t / total_t))\n",
    "\n",
    "print('Finished Training')"
   ]
  },
  {
   "cell_type": "markdown",
   "id": "200262ff",
   "metadata": {},
   "source": [
    "## Visualization"
   ]
  },
  {
   "cell_type": "code",
   "execution_count": 7,
   "id": "bcb34d7f",
   "metadata": {},
   "outputs": [],
   "source": [
    "import matplotlib.pyplot as plt\n",
    "import seaborn as sns"
   ]
  },
  {
   "cell_type": "code",
   "execution_count": 8,
   "id": "aa68121a",
   "metadata": {},
   "outputs": [
    {
     "data": {
      "image/png": "[encoded data removed]",
      "text/plain": [
       "<Figure size 432x288 with 1 Axes>"
      ]
     },
     "metadata": {
      "needs_background": "light"
     },
     "output_type": "display_data"
    }
   ],
   "source": [
    "plt.plot(train_loss, label='train')\n",
    "plt.plot(validation_loss, label='validation')\n",
    "plt.xlabel(\"epoch\")\n",
    "plt.ylabel(\"loss values\")\n",
    "plt.title(\"loss rate's curve\")\n",
    "plt.legend()\n",
    "plt.show()"
   ]
  },
  {
   "cell_type": "code",
   "execution_count": 9,
   "id": "35ceeda8",
   "metadata": {},
   "outputs": [
    {
     "data": {
      "image/png": "[encoded data removed]",
      "text/plain": [
       "<Figure size 432x288 with 1 Axes>"
      ]
     },
     "metadata": {
      "needs_background": "light"
     },
     "output_type": "display_data"
    }
   ],
   "source": [
    "plt.plot(train_acc, label='train')\n",
    "plt.plot(validation_acc, label='validation')\n",
    "plt.plot(test_acc, label='test')\n",
    "plt.xlabel(\"epoch\")\n",
    "plt.ylabel(\"accuracy values\")\n",
    "plt.title(\"accuracy rate's curve\")\n",
    "plt.legend()\n",
    "plt.show()"
   ]
  },
  {
   "cell_type": "code",
   "execution_count": 10,
   "id": "ab1bac62",
   "metadata": {},
   "outputs": [
    {
     "name": "stdout",
     "output_type": "stream",
     "text": [
      "[[ 9  7  0 ...  0  0  0]\n",
      " [ 2 32  0 ...  0  0  0]\n",
      " [ 0  0  7 ...  0  0  0]\n",
      " ...\n",
      " [ 0  0  0 ... 10  0  0]\n",
      " [ 0  0  0 ...  0 11  0]\n",
      " [ 0  0  0 ...  0  0 16]]\n"
     ]
    }
   ],
   "source": [
    "# Confusion matrix\n",
    "conf_mat=confusion_matrix(lbllist.numpy(), predlist.numpy())\n",
    "print(conf_mat)\n"
   ]
  },
  {
   "cell_type": "code",
   "execution_count": 11,
   "id": "10da7cf6",
   "metadata": {},
   "outputs": [
    {
     "data": {
      "text/plain": [
       "<AxesSubplot:>"
      ]
     },
     "execution_count": 11,
     "metadata": {},
     "output_type": "execute_result"
    },
    {
     "data": {
      "image/png": "[encoded data removed]",
      "text/plain": [
       "<Figure size 936x720 with 2 Axes>"
      ]
     },
     "metadata": {
      "needs_background": "light"
     },
     "output_type": "display_data"
    }
   ],
   "source": [
    "fig, ax = plt.subplots(figsize=(13,10))\n",
    "sns.heatmap(conf_mat, annot=False, ax=ax, cmap=\"BuPu\")"
   ]
  },
  {
   "cell_type": "code",
   "execution_count": 12,
   "id": "2071eb75",
   "metadata": {},
   "outputs": [
    {
     "name": "stdout",
     "output_type": "stream",
     "text": [
      "[ 42.85714286  54.23728814  29.16666667  64.9122807   37.5\n",
      "  57.89473684  45.45454545  87.23404255  40.          63.15789474\n",
      "  30.          96.07843137  59.57446809  75.          33.33333333\n",
      "  59.30232558  36.36363636  50.          41.50943396  40.90909091\n",
      "  30.76923077  76.47058824  29.03225806  50.          50.\n",
      "  28.57142857  65.95744681  76.19047619   0.          77.77777778\n",
      "  83.33333333  29.41176471  70.83333333  72.72727273  85.71428571\n",
      "  69.44444444  46.66666667   8.33333333  43.75        11.11111111\n",
      "  36.36363636  44.44444444  50.          50.          71.42857143\n",
      "  57.5         66.66666667  67.85714286  17.39130435  41.66666667\n",
      "  81.81818182  37.5         62.5         81.81818182 100.\n",
      "  36.36363636  69.6969697   24.          45.45454545  40.\n",
      "  41.17647059  40.          18.18181818  27.27272727  21.42857143\n",
      "  77.77777778  83.33333333  41.17647059  78.78787879  50.\n",
      "  68.57142857  65.          70.          62.5         76.19047619\n",
      "  71.42857143  62.5         70.          68.75        36.36363636\n",
      "  80.          93.75        70.          16.66666667  46.66666667\n",
      "  20.          16.66666667  71.83098592  20.           0.\n",
      "  50.          16.66666667  43.33333333  60.          37.5\n",
      "  28.57142857  56.25        52.94117647  57.14285714  61.53846154\n",
      "  52.63157895  65.          32.43243243  33.33333333   0.\n",
      " 100.          76.19047619  69.56521739   0.          63.88888889\n",
      "  18.18181818  59.25925926  47.05882353  70.          20.\n",
      "  59.45945946  44.44444444  62.5         54.54545455  83.33333333\n",
      "  50.          27.27272727  82.35294118  55.26315789  61.9047619\n",
      "  77.27272727  72.72727273  42.85714286  47.36842105  43.47826087\n",
      "  50.          28.57142857  28.57142857  42.10526316  63.63636364\n",
      "  50.          52.63157895  54.54545455  66.66666667  90.38461538\n",
      "  70.27027027  44.44444444  71.42857143 100.          59.375\n",
      "  60.          22.22222222  53.84615385  61.53846154  66.66666667\n",
      "  33.33333333  50.          25.          28.57142857  42.85714286\n",
      "  41.17647059  61.29032258  40.          58.33333333  66.66666667\n",
      "  83.33333333  57.14285714  80.          18.18181818  45.83333333\n",
      "  43.75        50.          50.          83.33333333  87.5\n",
      "  23.07692308 100.          42.10526316  42.85714286  66.66666667\n",
      "  28.57142857  40.          28.57142857  20.          70.\n",
      "  50.          43.75        33.33333333  14.28571429  94.73684211\n",
      "  25.92592593  17.07317073  73.68421053  60.          64.51612903\n",
      "  56.66666667  50.          33.33333333  37.5         45.45454545\n",
      "  15.38461538  54.54545455  40.          18.18181818  54.54545455\n",
      "  57.14285714  51.51515152  80.95238095  75.          62.16216216\n",
      "  40.         100.          94.73684211   0.          47.36842105\n",
      "  41.66666667  26.66666667  11.11111111  27.27272727  45.45454545\n",
      "  52.94117647  38.46153846  64.86486486  22.72727273  52.38095238\n",
      "  57.77777778  16.66666667  43.75        16.66666667  63.63636364\n",
      "  46.15384615  42.85714286  76.92307692  78.57142857  83.33333333\n",
      "  27.27272727  36.          12.5         11.11111111  43.75\n",
      "   0.          69.23076923   0.          69.13580247  62.5\n",
      "   0.          63.26530612  64.70588235  37.5         40.\n",
      "  54.          70.          33.33333333  51.85185185  51.61290323\n",
      "  45.09803922  63.63636364  22.22222222  33.33333333  50.\n",
      "  45.45454545  50.           0.          55.55555556  45.\n",
      "  56.66666667  50.          30.76923077  50.          50.\n",
      "  35.29411765  85.71428571   0.          42.10526316  53.33333333\n",
      "  60.           5.88235294  29.03225806  55.55555556  80.\n",
      "  14.28571429  40.          51.85185185  60.          46.66666667\n",
      "   8.          63.63636364  75.          42.85714286 100.\n",
      "  55.55555556  53.84615385  94.73684211  43.47826087  40.74074074\n",
      "  40.        ]\n"
     ]
    }
   ],
   "source": [
    "# Per-class accuracy\n",
    "class_accuracy=100*conf_mat.diagonal()/conf_mat.sum(1)\n",
    "print(class_accuracy)"
   ]
  },
  {
   "cell_type": "markdown",
   "id": "55083a6d",
   "metadata": {},
   "source": [
    "## Save"
   ]
  },
  {
   "cell_type": "code",
   "execution_count": 13,
   "id": "ea64b954",
   "metadata": {},
   "outputs": [],
   "source": [
    "#torch.save(net.state_dict(), \"C:/Users/heuma/Desktop/Master/S10/Aurea/Dataset_Kaggle_validation_Train_20-80/dict_Linh_network_1st_try\")"
   ]
  },
  {
   "cell_type": "code",
   "execution_count": 14,
   "id": "e0753a13",
   "metadata": {},
   "outputs": [],
   "source": [
    "#torch.save(net, \"C:/Users/heuma/Desktop/Master/S10/Aurea/Dataset_Kaggle_validation_Train_20-80/Linh_network_entire_model_1st_try\")"
   ]
  },
  {
   "cell_type": "code",
   "execution_count": 15,
   "id": "f9e64f8b",
   "metadata": {},
   "outputs": [
    {
     "data": {
      "text/plain": [
       "'\\nfrom torch.utils.data.dataloader import DataLoader\\n\\n\\ntrain_dl = DataLoader(train_set, batch_size, shuffle = True, num_workers = 4, pin_memory = True)\\n\\nfrom torchvision.utils import make_grid\\n\\ndef show_batch(dl):\\n    #Plot images grid of single batch\\n    for images, labels in dl:\\n        fig,ax = plt.subplots(figsize = (16,12))\\n        ax.set_xticks([])\\n        ax.set_yticks([])\\n        ax.imshow(make_grid(images,nrow=16).permute(1,2,0))\\n        break\\n        \\nshow_batch(train_dl)\\n\\n'"
      ]
     },
     "execution_count": 15,
     "metadata": {},
     "output_type": "execute_result"
    }
   ],
   "source": [
    "\"\"\"\n",
    "from torch.utils.data.dataloader import DataLoader\n",
    "\n",
    "\n",
    "train_dl = DataLoader(train_set, batch_size, shuffle = True, num_workers = 4, pin_memory = True)\n",
    "\n",
    "from torchvision.utils import make_grid\n",
    "\n",
    "def show_batch(dl):\n",
    "    #Plot images grid of single batch\n",
    "    for images, labels in dl:\n",
    "        fig,ax = plt.subplots(figsize = (16,12))\n",
    "        ax.set_xticks([])\n",
    "        ax.set_yticks([])\n",
    "        ax.imshow(make_grid(images,nrow=16).permute(1,2,0))\n",
    "        break\n",
    "        \n",
    "show_batch(train_dl)\n",
    "\n",
    "\"\"\""
   ]
  },
  {
   "cell_type": "code",
   "execution_count": 16,
   "id": "5308da1c",
   "metadata": {},
   "outputs": [
    {
     "data": {
      "text/plain": [
       "\"\\ntransform2 = transforms.Compose(\\n    [transforms.Resize((224, 224)),\\n     transforms.ToTensor()])\\n\\ntrain_set2 = ImageFolder('C:/Users/heuma/Desktop/Master/S10/Aurea/Dataset_Kaggle_validation_Train_20-80/TRAIN/', transform=transform2)\\n\\ntrain_dl2 = DataLoader(train_set2, batch_size, shuffle = True, num_workers = 4, pin_memory = True)\\n\\n        \\nshow_batch(train_dl2)\\n\""
      ]
     },
     "execution_count": 16,
     "metadata": {},
     "output_type": "execute_result"
    }
   ],
   "source": [
    "\"\"\"\n",
    "transform2 = transforms.Compose(\n",
    "    [transforms.Resize((224, 224)),\n",
    "     transforms.ToTensor()])\n",
    "\n",
    "train_set2 = ImageFolder('C:/Users/heuma/Desktop/Master/S10/Aurea/Dataset_Kaggle_validation_Train_20-80/TRAIN/', transform=transform2)\n",
    "\n",
    "train_dl2 = DataLoader(train_set2, batch_size, shuffle = True, num_workers = 4, pin_memory = True)\n",
    "\n",
    "        \n",
    "show_batch(train_dl2)\n",
    "\"\"\""
   ]
  },
  {
   "cell_type": "code",
   "execution_count": null,
   "id": "6940a02b",
   "metadata": {},
   "outputs": [],
   "source": []
  }
 ],
 "metadata": {
  "kernelspec": {
   "display_name": "Python 3 (ipykernel)",
   "language": "python",
   "name": "python3"
  },
  "language_info": {
   "codemirror_mode": {
    "name": "ipython",
    "version": 3
   },
   "file_extension": ".py",
   "mimetype": "text/x-python",
   "name": "python",
   "nbconvert_exporter": "python",
   "pygments_lexer": "ipython3",
   "version": "3.9.7"
  }
 },
 "nbformat": 4,
 "nbformat_minor": 5
}
