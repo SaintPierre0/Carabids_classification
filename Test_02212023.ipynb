{
 "cells": [
  {
   "cell_type": "code",
   "execution_count": 1,
   "id": "66f3ab4b",
   "metadata": {},
   "outputs": [
    {
     "data": {
      "text/plain": [
       "'cuda'"
      ]
     },
     "execution_count": 1,
     "metadata": {},
     "output_type": "execute_result"
    }
   ],
   "source": [
    "# import PyTorch and its related packages\n",
    "import torch as T\n",
    "import torch.nn as nn\n",
    "import torch.optim as optim\n",
    "import torch.nn.functional as F\n",
    "\n",
    "import torch\n",
    "\n",
    "import torchvision\n",
    "import torchvision.transforms as transforms\n",
    "\n",
    "from torchvision import transforms\n",
    "from torchvision.datasets import ImageFolder\n",
    "\n",
    "from tqdm.notebook import tqdm\n",
    "\n",
    "from sklearn.metrics import confusion_matrix\n",
    "\n",
    "#mcc implementation\n",
    "from torchmetrics.classification import MultilabelMatthewsCorrCoef\n",
    "\n",
    "# set default device based on CUDA's availability\n",
    "device = 'cuda' if T.cuda.is_available() else 'cpu'\n",
    "device"
   ]
  },
  {
   "cell_type": "code",
   "execution_count": 2,
   "id": "44a7c1c6",
   "metadata": {},
   "outputs": [],
   "source": [
    "transform = transforms.Compose(\n",
    "    [transforms.Resize((256,256)),\n",
    "     transforms.ToTensor(),\n",
    "     transforms.Normalize((0.485, 0.456, 0.406), (0.229, 0.224, 0.225))])\n",
    "\n",
    "batch_size = 48\n",
    "#image_size = (224, 224, 3)\n",
    "\n",
    "train_set = ImageFolder('C:/Users/heuma/Desktop/Work/Reseaux_test/Dataset_Kaggle/output/train', transform=transform)\n",
    "validation_set = ImageFolder('C:/Users/heuma/Desktop/Work/Reseaux_test/Dataset_Kaggle/output/val', transform=transform)\n",
    "test_set = ImageFolder('C:/Users/heuma/Desktop/Work/Reseaux_test/Dataset_Kaggle/output/test', transform=transform)\n",
    "\n",
    "#train_set = train_ds\n",
    "train_loader = T.utils.data.DataLoader(train_set, batch_size=batch_size,shuffle=True, num_workers=8)\n",
    "\n",
    "#validation_set = validation_ds\n",
    "validation_loader = T.utils.data.DataLoader(validation_set, batch_size=batch_size,shuffle=True, num_workers=8)\n",
    "\n",
    "#test_set = test_ds\n",
    "test_loader = T.utils.data.DataLoader(test_set, batch_size=batch_size,shuffle=True, num_workers=8)"
   ]
  },
  {
   "cell_type": "code",
   "execution_count": 3,
   "id": "e9c36132",
   "metadata": {},
   "outputs": [],
   "source": [
    "class NewNetwork(nn.Module):\n",
    "    def __init__(self, num_classes=291):\n",
    "        super(NewNetwork, self).__init__()\n",
    "        self.features = nn.Sequential(\n",
    "            nn.Conv2d(3, 64, kernel_size=7, stride=4, padding=2),\n",
    "            nn.ReLU(inplace=True),\n",
    "            nn.MaxPool2d(kernel_size=3, stride=2),\n",
    "            nn.Dropout(p=0.5),\n",
    "            nn.Conv2d(64, 64, kernel_size=1, padding=2),\n",
    "            nn.Dropout(p=0.5),\n",
    "            nn.Conv2d(64, 64, kernel_size=3, padding=2),\n",
    "             nn.Dropout(p=0.5),\n",
    "            nn.Conv2d(64, 256, kernel_size=1, padding=2),\n",
    "            nn.ReLU(inplace=True),\n",
    "            nn.MaxPool2d(kernel_size=3, stride=2),\n",
    "            nn.Dropout(p=0.5),\n",
    "            nn.Conv2d(256, 128, kernel_size=1, padding=2),\n",
    "            nn.Dropout(p=0.5),\n",
    "            nn.Conv2d(128, 128, kernel_size=3, padding=2),\n",
    "            nn.Dropout(p=0.5),\n",
    "            nn.Conv2d(128, 512, kernel_size=1, padding=2),\n",
    "            nn.ReLU(inplace=True),\n",
    "            nn.MaxPool2d(kernel_size=3, stride=2),\n",
    "            nn.Dropout(p=0.5),\n",
    "            nn.Conv2d(512, 256, kernel_size=1, padding=2),\n",
    "            nn.Dropout(p=0.5),\n",
    "            nn.Conv2d(256, 256, kernel_size=3, padding=2),\n",
    "            nn.Dropout(p=0.5),\n",
    "            nn.Conv2d(256, 1024, kernel_size=1, padding=2),\n",
    "            nn.ReLU(inplace=True),\n",
    "            nn.MaxPool2d(kernel_size=3, stride=2),\n",
    "            nn.Dropout(p=0.5),\n",
    "            nn.Conv2d(1024, 512, kernel_size=1, padding=2),\n",
    "            nn.Dropout(p=0.5),\n",
    "            nn.Conv2d(512, 512, kernel_size=3, padding=2),\n",
    "            nn.Dropout(p=0.5),\n",
    "            nn.Conv2d(512, 2048, kernel_size=1, padding=2),\n",
    "            nn.ReLU(inplace=True),\n",
    "            nn.MaxPool2d(kernel_size=3, stride=2),\n",
    "            nn.Dropout(p=0.5)\n",
    "        )\n",
    "        self.classifier = nn.Sequential(\n",
    "            nn.Dropout(p=0.5),\n",
    "            nn.Linear(200 * 32 * 32, 1000), #mettre 128 quand il y a 5 couches\n",
    "            nn.PReLU(),\n",
    "            nn.Dropout(p=0.5),\n",
    "            nn.Linear(1000, 1000),\n",
    "            nn.PReLU(),\n",
    "            nn.Linear(1000, num_classes),\n",
    "        )\n",
    "\n",
    "    def forward(self, x):\n",
    "        x = self.features(x)\n",
    "        x = x.view(x.shape[0], -1)\n",
    "        x = self.classifier(x)\n",
    "        return x"
   ]
  },
  {
   "cell_type": "code",
   "execution_count": 4,
   "id": "441d12a6",
   "metadata": {},
   "outputs": [
    {
     "data": {
      "text/plain": [
       "NewNetwork(\n",
       "  (features): Sequential(\n",
       "    (0): Conv2d(3, 64, kernel_size=(7, 7), stride=(4, 4), padding=(2, 2))\n",
       "    (1): ReLU(inplace=True)\n",
       "    (2): MaxPool2d(kernel_size=3, stride=2, padding=0, dilation=1, ceil_mode=False)\n",
       "    (3): Dropout(p=0.5, inplace=False)\n",
       "    (4): Conv2d(64, 64, kernel_size=(1, 1), stride=(1, 1), padding=(2, 2))\n",
       "    (5): Dropout(p=0.5, inplace=False)\n",
       "    (6): Conv2d(64, 64, kernel_size=(3, 3), stride=(1, 1), padding=(2, 2))\n",
       "    (7): Dropout(p=0.5, inplace=False)\n",
       "    (8): Conv2d(64, 256, kernel_size=(1, 1), stride=(1, 1), padding=(2, 2))\n",
       "    (9): ReLU(inplace=True)\n",
       "    (10): MaxPool2d(kernel_size=3, stride=2, padding=0, dilation=1, ceil_mode=False)\n",
       "    (11): Dropout(p=0.5, inplace=False)\n",
       "    (12): Conv2d(256, 128, kernel_size=(1, 1), stride=(1, 1), padding=(2, 2))\n",
       "    (13): Dropout(p=0.5, inplace=False)\n",
       "    (14): Conv2d(128, 128, kernel_size=(3, 3), stride=(1, 1), padding=(2, 2))\n",
       "    (15): Dropout(p=0.5, inplace=False)\n",
       "    (16): Conv2d(128, 512, kernel_size=(1, 1), stride=(1, 1), padding=(2, 2))\n",
       "    (17): ReLU(inplace=True)\n",
       "    (18): MaxPool2d(kernel_size=3, stride=2, padding=0, dilation=1, ceil_mode=False)\n",
       "    (19): Dropout(p=0.5, inplace=False)\n",
       "    (20): Conv2d(512, 256, kernel_size=(1, 1), stride=(1, 1), padding=(2, 2))\n",
       "    (21): Dropout(p=0.5, inplace=False)\n",
       "    (22): Conv2d(256, 256, kernel_size=(3, 3), stride=(1, 1), padding=(2, 2))\n",
       "    (23): Dropout(p=0.5, inplace=False)\n",
       "    (24): Conv2d(256, 1024, kernel_size=(1, 1), stride=(1, 1), padding=(2, 2))\n",
       "    (25): ReLU(inplace=True)\n",
       "    (26): MaxPool2d(kernel_size=3, stride=2, padding=0, dilation=1, ceil_mode=False)\n",
       "    (27): Dropout(p=0.5, inplace=False)\n",
       "    (28): Conv2d(1024, 512, kernel_size=(1, 1), stride=(1, 1), padding=(2, 2))\n",
       "    (29): Dropout(p=0.5, inplace=False)\n",
       "    (30): Conv2d(512, 512, kernel_size=(3, 3), stride=(1, 1), padding=(2, 2))\n",
       "    (31): Dropout(p=0.5, inplace=False)\n",
       "    (32): Conv2d(512, 2048, kernel_size=(1, 1), stride=(1, 1), padding=(2, 2))\n",
       "    (33): ReLU(inplace=True)\n",
       "    (34): MaxPool2d(kernel_size=3, stride=2, padding=0, dilation=1, ceil_mode=False)\n",
       "    (35): Dropout(p=0.5, inplace=False)\n",
       "  )\n",
       "  (classifier): Sequential(\n",
       "    (0): Dropout(p=0.5, inplace=False)\n",
       "    (1): Linear(in_features=204800, out_features=1000, bias=True)\n",
       "    (2): PReLU(num_parameters=1)\n",
       "    (3): Dropout(p=0.5, inplace=False)\n",
       "    (4): Linear(in_features=1000, out_features=1000, bias=True)\n",
       "    (5): PReLU(num_parameters=1)\n",
       "    (6): Linear(in_features=1000, out_features=291, bias=True)\n",
       "  )\n",
       ")"
      ]
     },
     "execution_count": 4,
     "metadata": {},
     "output_type": "execute_result"
    }
   ],
   "source": [
    "net = NewNetwork()\n",
    "net.to(device)"
   ]
  },
  {
   "cell_type": "code",
   "execution_count": 5,
   "id": "f39606d9",
   "metadata": {},
   "outputs": [],
   "source": [
    "criterion = nn.CrossEntropyLoss()\n",
    "\n",
    "# also the optimizer\n",
    "optimizer = optim.Adam(net.parameters(), lr=0.0001)\n",
    "\n",
    "#dynamic learning rate\n",
    "#scheduler = optim.lr_scheduler.ExponentialLR(optimizer, gamma=0.9)"
   ]
  },
  {
   "cell_type": "code",
   "execution_count": 6,
   "id": "0b71ba8f",
   "metadata": {
    "scrolled": false
   },
   "outputs": [
    {
     "data": {
      "application/vnd.jupyter.widget-view+json": {
       "model_id": "bbff2b6160874e488fbd81254ab04906",
       "version_major": 2,
       "version_minor": 0
      },
      "text/plain": [
       "  0%|          | 0/101 [00:00<?, ?it/s]"
      ]
     },
     "metadata": {},
     "output_type": "display_data"
    },
    {
     "name": "stdout",
     "output_type": "stream",
     "text": [
      "\n",
      "Epoch: 0\n",
      "Train Acc. => 1.301% | Train Loss => 5.49055\n",
      "validation Acc.  => 1.371% | validation Loss  => 5.46689\n",
      "Accuracy of the network on test images: 1 %\n",
      "\n",
      "Epoch: 5\n",
      "Train Acc. => 6.911% | Train Loss => 4.16779\n",
      "validation Acc.  => 8.242% | validation Loss  => 4.03435\n",
      "Accuracy of the network on test images: 7 %\n",
      "\n",
      "Epoch: 10\n",
      "Train Acc. => 19.283% | Train Loss => 3.20681\n",
      "validation Acc.  => 19.871% | validation Loss  => 3.15101\n",
      "Accuracy of the network on test images: 20 %\n",
      "\n",
      "Epoch: 15\n",
      "Train Acc. => 31.758% | Train Loss => 2.53623\n",
      "validation Acc.  => 30.435% | validation Loss  => 2.64354\n",
      "Accuracy of the network on test images: 31 %\n",
      "\n",
      "Epoch: 20\n",
      "Train Acc. => 39.541% | Train Loss => 2.17146\n",
      "validation Acc.  => 39.774% | validation Loss  => 2.18417\n",
      "Accuracy of the network on test images: 39 %\n",
      "\n",
      "Epoch: 25\n",
      "Train Acc. => 45.014% | Train Loss => 1.92309\n",
      "validation Acc.  => 41.935% | validation Loss  => 2.11251\n",
      "Accuracy of the network on test images: 41 %\n",
      "\n",
      "Epoch: 30\n",
      "Train Acc. => 49.318% | Train Loss => 1.75238\n",
      "validation Acc.  => 47.790% | validation Loss  => 1.90025\n",
      "Accuracy of the network on test images: 46 %\n",
      "\n",
      "Epoch: 35\n",
      "Train Acc. => 52.577% | Train Loss => 1.61031\n",
      "validation Acc.  => 47.935% | validation Loss  => 1.90246\n",
      "Accuracy of the network on test images: 48 %\n",
      "\n",
      "Epoch: 40\n",
      "Train Acc. => 55.004% | Train Loss => 1.51222\n",
      "validation Acc.  => 49.855% | validation Loss  => 1.74516\n",
      "Accuracy of the network on test images: 49 %\n",
      "\n",
      "Epoch: 45\n",
      "Train Acc. => 57.368% | Train Loss => 1.41248\n",
      "validation Acc.  => 51.355% | validation Loss  => 1.73746\n",
      "Accuracy of the network on test images: 50 %\n",
      "\n",
      "Epoch: 50\n",
      "Train Acc. => 60.062% | Train Loss => 1.31777\n",
      "validation Acc.  => 54.371% | validation Loss  => 1.62711\n",
      "Accuracy of the network on test images: 54 %\n",
      "\n",
      "Epoch: 55\n",
      "Train Acc. => 61.642% | Train Loss => 1.25474\n",
      "validation Acc.  => 55.194% | validation Loss  => 1.56502\n",
      "Accuracy of the network on test images: 55 %\n",
      "\n",
      "Epoch: 60\n",
      "Train Acc. => 63.292% | Train Loss => 1.19105\n",
      "validation Acc.  => 56.048% | validation Loss  => 1.58858\n",
      "Accuracy of the network on test images: 57 %\n",
      "\n",
      "Epoch: 65\n",
      "Train Acc. => 64.409% | Train Loss => 1.15189\n",
      "validation Acc.  => 57.919% | validation Loss  => 1.50416\n",
      "Accuracy of the network on test images: 58 %\n",
      "\n",
      "Epoch: 70\n",
      "Train Acc. => 65.806% | Train Loss => 1.09062\n",
      "validation Acc.  => 58.613% | validation Loss  => 1.48503\n",
      "Accuracy of the network on test images: 58 %\n",
      "\n",
      "Epoch: 75\n",
      "Train Acc. => 66.945% | Train Loss => 1.05113\n",
      "validation Acc.  => 58.613% | validation Loss  => 1.52545\n",
      "Accuracy of the network on test images: 57 %\n",
      "\n",
      "Epoch: 80\n",
      "Train Acc. => 68.513% | Train Loss => 1.00682\n",
      "validation Acc.  => 59.274% | validation Loss  => 1.45914\n",
      "Accuracy of the network on test images: 59 %\n",
      "\n",
      "Epoch: 85\n",
      "Train Acc. => 69.026% | Train Loss => 0.97304\n",
      "validation Acc.  => 60.419% | validation Loss  => 1.45704\n",
      "Accuracy of the network on test images: 60 %\n",
      "\n",
      "Epoch: 90\n",
      "Train Acc. => 69.936% | Train Loss => 0.94718\n",
      "validation Acc.  => 59.806% | validation Loss  => 1.46795\n",
      "Accuracy of the network on test images: 58 %\n",
      "\n",
      "Epoch: 95\n",
      "Train Acc. => 70.966% | Train Loss => 0.90759\n",
      "validation Acc.  => 59.387% | validation Loss  => 1.52847\n",
      "Accuracy of the network on test images: 59 %\n",
      "\n",
      "Epoch: 100\n",
      "Train Acc. => 71.512% | Train Loss => 0.89709\n",
      "validation Acc.  => 60.548% | validation Loss  => 1.45227\n",
      "Accuracy of the network on test images: 60 %\n",
      "Finished Training\n"
     ]
    }
   ],
   "source": [
    "train_loss = []\n",
    "validation_loss = []\n",
    "train_acc = []\n",
    "validation_acc = []\n",
    "\n",
    "test_acc = []\n",
    "\n",
    "mcc_list = []\n",
    "\n",
    "lrs = []\n",
    "steps = []\n",
    "\n",
    "# Initialize the prediction and label lists(tensors)\n",
    "predlist=torch.zeros(0,dtype=torch.long, device='cpu')\n",
    "lbllist=torch.zeros(0,dtype=torch.long, device='cpu')\n",
    "\n",
    "for epoch in tqdm(range(0, 101)):  # loop over the dataset multiple times\n",
    "    \n",
    "    running_loss = .0\n",
    "    correct = 0\n",
    "    total = 0\n",
    "    for i, data in enumerate(train_loader):\n",
    "        # get the inputs\n",
    "        inputs, labels = data\n",
    "        if device == 'cuda':\n",
    "            inputs, labels = inputs.to(device), labels.to(device)\n",
    "\n",
    "        # reset the parameter gradients\n",
    "        optimizer.zero_grad()\n",
    "\n",
    "        # forward\n",
    "        outputs = net(inputs)\n",
    "        loss = criterion(outputs, labels)\n",
    "        # backward\n",
    "        loss.backward()\n",
    "        # optimize\n",
    "        optimizer.step()\n",
    "        \n",
    "        running_loss += loss.item()\n",
    "        _, predicted = T.max(outputs.data, 1)\n",
    "        total += labels.size(0)\n",
    "        correct += (predicted == labels).sum().item()\n",
    "        \n",
    "    running_loss /= len(train_loader)\n",
    "    train_loss.append(running_loss)\n",
    "    running_acc = correct / total\n",
    "    train_acc.append(running_acc)\n",
    "    \n",
    "    \"\"\"\n",
    "    print(\"predicted = \",predicted)\n",
    "    print(\"labels = \",labels)\n",
    "    \"\"\"\n",
    "    \n",
    "    #MCC implementation\n",
    "    \"\"\"\n",
    "    metric_mcc = MultilabelMatthewsCorrCoef(num_labels=291)\n",
    "    metric_mcc(predicted, labels)\n",
    "    mcc_list.append(metric_mcc)\n",
    "    \"\"\"\n",
    "    \n",
    "    #zone pour mettre le learning rate dynamique\n",
    "    \"\"\"\n",
    "    steps.append(epoch)\n",
    "    lrs.append(scheduler.get_last_lr()[0])\n",
    "    scheduler.step()\n",
    "    \"\"\"\n",
    "    \n",
    "    if epoch % 5 == 0: #ici changer pour la frequence d'affichage\n",
    "        print('\\nEpoch: {}'.format(epoch))\n",
    "        print('Train Acc. => {:.3f}%'.format(100 * running_acc), end=' | ')\n",
    "        print('Train Loss => {:.5f}'.format(running_loss))\n",
    "    \n",
    "    # evaluate on the validation set\n",
    "    # note this is usually performed on the validation set\n",
    "    # for simplicity we just evaluate it on the validation set\n",
    "    with T.no_grad():\n",
    "        correct = 0\n",
    "        total = 0\n",
    "        validation_running_loss = .0\n",
    "        for data in validation_loader:\n",
    "            inputs, labels = data\n",
    "            if device == 'cuda':\n",
    "                inputs, labels = inputs.to(device), labels.to(device)\n",
    "            outputs = net(inputs)\n",
    "            loss = criterion(outputs, labels)\n",
    "            validation_running_loss += loss.item()\n",
    "            _, predicted = T.max(outputs.data, 1)\n",
    "            total += labels.size(0)\n",
    "            correct += (predicted == labels).sum().item()\n",
    "            \n",
    "            if epoch == 100: # a changer si besoin d'afficher la matrice de confusion, a mettre à epoch-1\n",
    "                # Append batch prediction results\n",
    "                predlist=torch.cat([predlist,predicted.view(-1).cpu()])\n",
    "                lbllist=torch.cat([lbllist,labels.view(-1).cpu()])\n",
    "\n",
    "        validation_running_loss /= len(validation_loader)\n",
    "        validation_loss.append(validation_running_loss)\n",
    "        validation_running_acc = correct / total\n",
    "        validation_acc.append(validation_running_acc)\n",
    "        \n",
    "        if epoch % 5 == 0: #ici changer pour la frequence d'affichage\n",
    "            print('validation Acc.  => {:.3f}%'.format(100 * validation_running_acc), end=' | ')\n",
    "            print('validation Loss  => {:.5f}'.format(validation_running_loss))\n",
    "\n",
    "    with torch.no_grad():\n",
    "        correct_t = 0\n",
    "        total_t = 0\n",
    "        for data in test_loader:\n",
    "            inputs, labels = data\n",
    "            inputs, labels = inputs.to('cuda'), labels.to('cuda')\n",
    "            outputs = net(inputs)\n",
    "            _, predicted = torch.max(outputs.data, 1)\n",
    "            total_t += labels.size(0)\n",
    "            correct_t += (predicted == labels).sum().item()\n",
    "            \n",
    "            running_acc_t = correct_t / total_t\n",
    "        test_acc.append(running_acc_t)\n",
    "    \n",
    "        if epoch % 5 == 0: #ici changer pour la frequence d'affichage\n",
    "            print('Accuracy of the network on test images: %d %%' % (100 * correct_t / total_t))\n",
    "\n",
    "print('Finished Training')"
   ]
  },
  {
   "cell_type": "markdown",
   "id": "200262ff",
   "metadata": {},
   "source": [
    "## Visualization"
   ]
  },
  {
   "cell_type": "code",
   "execution_count": 7,
   "id": "bcb34d7f",
   "metadata": {},
   "outputs": [],
   "source": [
    "import matplotlib.pyplot as plt\n",
    "import seaborn as sns"
   ]
  },
  {
   "cell_type": "code",
   "execution_count": 8,
   "id": "aa68121a",
   "metadata": {},
   "outputs": [
    {
     "data": {
      "image/png": "[encoded data removed]",
      "text/plain": [
       "<Figure size 432x288 with 1 Axes>"
      ]
     },
     "metadata": {
      "needs_background": "light"
     },
     "output_type": "display_data"
    }
   ],
   "source": [
    "plt.plot(train_loss, label='train')\n",
    "plt.plot(validation_loss, label='validation')\n",
    "plt.xlabel(\"epoch\")\n",
    "plt.ylabel(\"loss values\")\n",
    "plt.title(\"loss rate's curve\")\n",
    "plt.legend()\n",
    "plt.show()"
   ]
  },
  {
   "cell_type": "code",
   "execution_count": 9,
   "id": "35ceeda8",
   "metadata": {},
   "outputs": [
    {
     "data": {
      "image/png": "[encoded data removed]",
      "text/plain": [
       "<Figure size 432x288 with 1 Axes>"
      ]
     },
     "metadata": {
      "needs_background": "light"
     },
     "output_type": "display_data"
    }
   ],
   "source": [
    "plt.plot(train_acc, label='train')\n",
    "plt.plot(validation_acc, label='validation')\n",
    "plt.plot(test_acc, label='test')\n",
    "plt.xlabel(\"epoch\")\n",
    "plt.ylabel(\"accuracy values\")\n",
    "plt.title(\"accuracy rate's curve\")\n",
    "plt.legend()\n",
    "plt.show()"
   ]
  },
  {
   "cell_type": "code",
   "execution_count": 10,
   "id": "78d4feaa",
   "metadata": {},
   "outputs": [],
   "source": [
    "#plt.plot(mcc_list, label='MCC')\n",
    "#plt.xlabel(\"epoch\")\n",
    "#plt.ylabel(\"MCC values\")\n",
    "#plt.title(\"MCC curve\")\n",
    "#plt.legend()\n",
    "#plt.show()"
   ]
  },
  {
   "cell_type": "code",
   "execution_count": 11,
   "id": "ab1bac62",
   "metadata": {},
   "outputs": [
    {
     "name": "stdout",
     "output_type": "stream",
     "text": [
      "[[12  3  0 ...  0  0  0]\n",
      " [ 3 37  0 ...  0  0  0]\n",
      " [ 0  0  9 ...  0  0  0]\n",
      " ...\n",
      " [ 0  0  0 ...  9  0  0]\n",
      " [ 0  0  0 ...  0 10  0]\n",
      " [ 0  0  1 ...  0  0 21]]\n"
     ]
    }
   ],
   "source": [
    "# Confusion matrix\n",
    "conf_mat=confusion_matrix(lbllist.numpy(), predlist.numpy())\n",
    "print(conf_mat)\n"
   ]
  },
  {
   "cell_type": "code",
   "execution_count": 12,
   "id": "10da7cf6",
   "metadata": {},
   "outputs": [
    {
     "data": {
      "text/plain": [
       "<AxesSubplot:>"
      ]
     },
     "execution_count": 12,
     "metadata": {},
     "output_type": "execute_result"
    },
    {
     "data": {
      "image/png": "[encoded data removed]",
      "text/plain": [
       "<Figure size 936x720 with 2 Axes>"
      ]
     },
     "metadata": {
      "needs_background": "light"
     },
     "output_type": "display_data"
    }
   ],
   "source": [
    "fig, ax = plt.subplots(figsize=(13,10))\n",
    "sns.heatmap(conf_mat, annot=False, ax=ax, cmap=\"BuPu\")"
   ]
  },
  {
   "cell_type": "code",
   "execution_count": 13,
   "id": "2071eb75",
   "metadata": {},
   "outputs": [
    {
     "name": "stdout",
     "output_type": "stream",
     "text": [
      "[ 60.          62.71186441  37.5         64.9122807   50.\n",
      "  63.15789474  63.63636364  91.4893617   80.          28.94736842\n",
      "  80.          94.11764706  57.44680851  64.28571429  44.44444444\n",
      "  63.95348837  63.63636364  61.53846154  56.60377358  52.27272727\n",
      "  61.53846154  77.94117647  45.16129032  90.          45.83333333\n",
      "  28.57142857  82.9787234   85.71428571  42.85714286  66.66666667\n",
      "  83.33333333  47.05882353  45.83333333  63.63636364 100.\n",
      "  77.77777778  53.33333333   8.33333333  81.25        33.33333333\n",
      "   9.09090909  61.11111111  77.77777778  87.5         64.28571429\n",
      "  70.          33.33333333  32.14285714  30.43478261  50.\n",
      "  81.81818182  50.          25.         100.         100.\n",
      "  54.54545455  54.54545455  32.          45.45454545   6.66666667\n",
      "  29.41176471  40.          54.54545455  31.81818182  35.71428571\n",
      "  55.55555556  66.66666667  38.23529412  81.81818182  33.33333333\n",
      "  80.          55.          60.          58.33333333  61.9047619\n",
      "  82.14285714  54.16666667  62.5         67.1875      36.36363636\n",
      "  80.          87.5         60.          83.33333333  53.33333333\n",
      "  20.          66.66666667  73.23943662  40.          22.22222222\n",
      "  35.71428571  60.          76.66666667  56.36363636  50.\n",
      "  64.28571429  81.25        76.47058824  71.42857143  69.23076923\n",
      "  57.89473684  65.          35.13513514  50.          40.\n",
      "  80.          76.19047619  69.56521739  33.33333333  66.66666667\n",
      "   9.09090909  51.85185185  64.70588235  75.          20.\n",
      "  70.27027027  77.77777778  56.25        72.72727273 100.\n",
      "  66.66666667  54.54545455  78.43137255  76.31578947  71.42857143\n",
      "  77.27272727  63.63636364  39.28571429  52.63157895  43.47826087\n",
      "  33.33333333  66.66666667  50.          78.94736842  72.72727273\n",
      "  53.125       42.10526316  18.18181818  50.          96.15384615\n",
      "  91.89189189  33.33333333  85.71428571  92.30769231  56.25\n",
      "  40.          61.11111111  62.5         65.38461538  38.0952381\n",
      "  66.66666667  50.          25.          47.61904762  42.85714286\n",
      "  76.47058824  54.83870968  70.          50.          50.\n",
      "  91.66666667  67.85714286  80.          36.36363636  25.\n",
      "  50.          56.25        66.66666667  91.66666667  72.5\n",
      "  53.84615385  90.          55.26315789  42.85714286  66.66666667\n",
      "  42.85714286  60.          57.14285714  40.          75.\n",
      "  40.          87.5          8.33333333  66.66666667  81.57894737\n",
      "  44.44444444  34.14634146  73.68421053  62.22222222  54.83870968\n",
      "  66.66666667  88.88888889  47.22222222  25.          90.90909091\n",
      "  38.46153846  45.45454545  40.          18.18181818  54.54545455\n",
      "  54.28571429  54.54545455  80.95238095  93.75        62.16216216\n",
      "  40.         100.          94.73684211  40.          26.31578947\n",
      "  58.33333333  60.          51.85185185  54.54545455  54.54545455\n",
      "  52.94117647  46.15384615  62.16216216  27.27272727  66.66666667\n",
      "  66.66666667  33.33333333  50.          41.66666667  45.45454545\n",
      "  30.76923077  71.42857143  53.84615385  78.57142857 100.\n",
      "  27.27272727  56.          25.          33.33333333  68.75\n",
      "  16.66666667  84.61538462  40.          72.83950617  75.\n",
      "  20.          85.71428571  62.          56.25        40.\n",
      "  64.          80.          66.66666667  51.85185185  48.38709677\n",
      "  58.82352941  45.45454545  33.33333333  52.38095238  30.\n",
      "  40.90909091  91.66666667  22.22222222  66.66666667  65.\n",
      "  56.66666667  50.          30.76923077  25.          38.46153846\n",
      "  52.94117647  71.42857143  20.          57.89473684  53.33333333\n",
      "   0.          35.29411765  48.38709677  48.14814815  76.\n",
      "  71.42857143  46.66666667  77.77777778  70.          40.\n",
      "  60.          68.18181818  85.22727273  50.          83.33333333\n",
      "  66.66666667  76.92307692  78.94736842  39.13043478  37.03703704\n",
      "  52.5       ]\n"
     ]
    }
   ],
   "source": [
    "# Per-class accuracy\n",
    "class_accuracy=100*conf_mat.diagonal()/conf_mat.sum(1)\n",
    "print(class_accuracy)"
   ]
  },
  {
   "cell_type": "markdown",
   "id": "55083a6d",
   "metadata": {},
   "source": [
    "## Save"
   ]
  },
  {
   "cell_type": "code",
   "execution_count": 14,
   "id": "ea64b954",
   "metadata": {},
   "outputs": [],
   "source": [
    "#torch.save(net.state_dict(), \"C:/Users/heuma/Desktop/Master/S10/Aurea/Dataset_Kaggle_validation_Train_20-80/dict_Linh_network_1st_try\")"
   ]
  },
  {
   "cell_type": "code",
   "execution_count": 15,
   "id": "e0753a13",
   "metadata": {},
   "outputs": [],
   "source": [
    "#torch.save(net, \"C:/Users/heuma/Desktop/Master/S10/Aurea/Dataset_Kaggle_validation_Train_20-80/Linh_network_entire_model_1st_try\")"
   ]
  },
  {
   "cell_type": "code",
   "execution_count": 16,
   "id": "f9e64f8b",
   "metadata": {},
   "outputs": [
    {
     "data": {
      "text/plain": [
       "'\\nfrom torch.utils.data.dataloader import DataLoader\\n\\n\\ntrain_dl = DataLoader(train_set, batch_size, shuffle = True, num_workers = 4, pin_memory = True)\\n\\nfrom torchvision.utils import make_grid\\n\\ndef show_batch(dl):\\n    #Plot images grid of single batch\\n    for images, labels in dl:\\n        fig,ax = plt.subplots(figsize = (16,12))\\n        ax.set_xticks([])\\n        ax.set_yticks([])\\n        ax.imshow(make_grid(images,nrow=16).permute(1,2,0))\\n        break\\n        \\nshow_batch(train_dl)\\n\\n'"
      ]
     },
     "execution_count": 16,
     "metadata": {},
     "output_type": "execute_result"
    }
   ],
   "source": [
    "\"\"\"\n",
    "from torch.utils.data.dataloader import DataLoader\n",
    "\n",
    "\n",
    "train_dl = DataLoader(train_set, batch_size, shuffle = True, num_workers = 4, pin_memory = True)\n",
    "\n",
    "from torchvision.utils import make_grid\n",
    "\n",
    "def show_batch(dl):\n",
    "    #Plot images grid of single batch\n",
    "    for images, labels in dl:\n",
    "        fig,ax = plt.subplots(figsize = (16,12))\n",
    "        ax.set_xticks([])\n",
    "        ax.set_yticks([])\n",
    "        ax.imshow(make_grid(images,nrow=16).permute(1,2,0))\n",
    "        break\n",
    "        \n",
    "show_batch(train_dl)\n",
    "\n",
    "\"\"\""
   ]
  },
  {
   "cell_type": "code",
   "execution_count": 17,
   "id": "5308da1c",
   "metadata": {},
   "outputs": [
    {
     "data": {
      "text/plain": [
       "\"\\ntransform2 = transforms.Compose(\\n    [transforms.Resize((224, 224)),\\n     transforms.ToTensor()])\\n\\ntrain_set2 = ImageFolder('C:/Users/heuma/Desktop/Master/S10/Aurea/Dataset_Kaggle_validation_Train_20-80/TRAIN/', transform=transform2)\\n\\ntrain_dl2 = DataLoader(train_set2, batch_size, shuffle = True, num_workers = 4, pin_memory = True)\\n\\n        \\nshow_batch(train_dl2)\\n\""
      ]
     },
     "execution_count": 17,
     "metadata": {},
     "output_type": "execute_result"
    }
   ],
   "source": [
    "\"\"\"\n",
    "transform2 = transforms.Compose(\n",
    "    [transforms.Resize((224, 224)),\n",
    "     transforms.ToTensor()])\n",
    "\n",
    "train_set2 = ImageFolder('C:/Users/heuma/Desktop/Master/S10/Aurea/Dataset_Kaggle_validation_Train_20-80/TRAIN/', transform=transform2)\n",
    "\n",
    "train_dl2 = DataLoader(train_set2, batch_size, shuffle = True, num_workers = 4, pin_memory = True)\n",
    "\n",
    "        \n",
    "show_batch(train_dl2)\n",
    "\"\"\""
   ]
  },
  {
   "cell_type": "code",
   "execution_count": null,
   "id": "6940a02b",
   "metadata": {},
   "outputs": [],
   "source": []
  }
 ],
 "metadata": {
  "kernelspec": {
   "display_name": "Python 3 (ipykernel)",
   "language": "python",
   "name": "python3"
  },
  "language_info": {
   "codemirror_mode": {
    "name": "ipython",
    "version": 3
   },
   "file_extension": ".py",
   "mimetype": "text/x-python",
   "name": "python",
   "nbconvert_exporter": "python",
   "pygments_lexer": "ipython3",
   "version": "3.9.7"
  }
 },
 "nbformat": 4,
 "nbformat_minor": 5
}
