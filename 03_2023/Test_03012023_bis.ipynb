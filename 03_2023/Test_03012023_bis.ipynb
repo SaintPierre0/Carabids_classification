{
 "cells": [
  {
   "cell_type": "code",
   "execution_count": 1,
   "id": "66f3ab4b",
   "metadata": {},
   "outputs": [
    {
     "data": {
      "text/plain": [
       "'cuda'"
      ]
     },
     "execution_count": 1,
     "metadata": {},
     "output_type": "execute_result"
    }
   ],
   "source": [
    "# import PyTorch and its related packages\n",
    "import torch as T\n",
    "import torch.nn as nn\n",
    "import torch.optim as optim\n",
    "import torch.nn.functional as F\n",
    "\n",
    "import torch\n",
    "\n",
    "import torchvision\n",
    "import torchvision.transforms as transforms\n",
    "\n",
    "from torchvision import transforms\n",
    "from torchvision.datasets import ImageFolder\n",
    "\n",
    "from tqdm.notebook import tqdm\n",
    "\n",
    "from sklearn.metrics import confusion_matrix\n",
    "\n",
    "#mcc implementation\n",
    "from torchmetrics.classification import MultilabelMatthewsCorrCoef\n",
    "\n",
    "# set default device based on CUDA's availability\n",
    "device = 'cuda' if T.cuda.is_available() else 'cpu'\n",
    "device"
   ]
  },
  {
   "cell_type": "code",
   "execution_count": 2,
   "id": "44a7c1c6",
   "metadata": {},
   "outputs": [],
   "source": [
    "transform = transforms.Compose(\n",
    "    [transforms.Resize((448,448)),\n",
    "     transforms.RandomHorizontalFlip(p=0.5),\n",
    "     transforms.RandomVerticalFlip(p=0.5),\n",
    "     transforms.ToTensor(),\n",
    "     transforms.Normalize((0.485, 0.456, 0.406), (0.229, 0.224, 0.225))])\n",
    "\n",
    "train_transforms = transforms.Compose(\n",
    "    [transforms.Resize((448,448)),\n",
    "    transforms.ColorJitter(),\n",
    "    transforms.RandomHorizontalFlip(p=0.5),\n",
    "    transforms.RandomVerticalFlip(p=0.5),\n",
    "    transforms.ToTensor(), \n",
    "    transforms.Normalize((0.485, 0.456, 0.406), (0.229, 0.224, 0.225))])\n",
    "\n",
    "batch_size = 64\n",
    "#image_size = (224, 224, 3)\n",
    "\n",
    "train_set = ImageFolder('C:/Users/heuma/Desktop/Work/Reseaux_test/Dataset_Kaggle/output/train', transform=train_transforms)\n",
    "validation_set = ImageFolder('C:/Users/heuma/Desktop/Work/Reseaux_test/Dataset_Kaggle/output/val', transform=transform)\n",
    "test_set = ImageFolder('C:/Users/heuma/Desktop/Work/Reseaux_test/Dataset_Kaggle/output/test', transform=transform)\n",
    "\n",
    "#train_set = train_ds\n",
    "train_loader = T.utils.data.DataLoader(train_set, batch_size=batch_size,shuffle=True, num_workers=8)\n",
    "\n",
    "#validation_set = validation_ds\n",
    "validation_loader = T.utils.data.DataLoader(validation_set, batch_size=batch_size,shuffle=True, num_workers=8)\n",
    "\n",
    "#test_set = test_ds\n",
    "test_loader = T.utils.data.DataLoader(test_set, batch_size=batch_size,shuffle=True, num_workers=8)"
   ]
  },
  {
   "cell_type": "code",
   "execution_count": 3,
   "id": "e9c36132",
   "metadata": {},
   "outputs": [],
   "source": [
    "class NewNetwork(nn.Module):\n",
    "    def __init__(self, num_classes=291):\n",
    "        super(NewNetwork, self).__init__()\n",
    "        self.features = nn.Sequential(\n",
    "            nn.Conv2d(3, 64, kernel_size=11, stride=4, padding=2),\n",
    "            nn.ReLU(inplace=True),\n",
    "            nn.MaxPool2d(kernel_size=3, stride=2),\n",
    "            nn.Dropout(p=0.5),\n",
    "            nn.Conv2d(64, 128, kernel_size=9, padding=2),\n",
    "            nn.ReLU(inplace=True),\n",
    "            nn.MaxPool2d(kernel_size=3, stride=2),\n",
    "            nn.Dropout(p=0.5),\n",
    "            nn.Conv2d(128, 256, kernel_size=7, padding=2),\n",
    "            nn.ReLU(inplace=True),\n",
    "            nn.MaxPool2d(kernel_size=3, stride=2),\n",
    "            nn.Dropout(p=0.5),\n",
    "            nn.Conv2d(256, 512, kernel_size=5, padding=2),\n",
    "            nn.ReLU(inplace=True),\n",
    "            nn.MaxPool2d(kernel_size=3, stride=2),\n",
    "            nn.Dropout(p=0.5),\n",
    "            nn.Conv2d(512, 1024, kernel_size=3, padding=2),\n",
    "            nn.ReLU(inplace=True),\n",
    "            nn.MaxPool2d(kernel_size=3, stride=2),\n",
    "            nn.Dropout(p=0.5)\n",
    "        )\n",
    "        self.classifier = nn.Sequential(\n",
    "            nn.Dropout(p=0.5),\n",
    "            nn.Linear(36 * 16 * 16, 10000), #mettre 128 quand il y a 5 couches\n",
    "            nn.PReLU(),\n",
    "            nn.Dropout(p=0.5),\n",
    "            nn.Linear(10000, 10000),\n",
    "            nn.PReLU(),\n",
    "            nn.Linear(10000, num_classes),\n",
    "        )\n",
    "\n",
    "    def forward(self, x):\n",
    "        x = self.features(x)\n",
    "        x = x.view(x.shape[0], -1)\n",
    "        x = self.classifier(x)\n",
    "        return x"
   ]
  },
  {
   "cell_type": "code",
   "execution_count": 4,
   "id": "441d12a6",
   "metadata": {},
   "outputs": [
    {
     "data": {
      "text/plain": [
       "NewNetwork(\n",
       "  (features): Sequential(\n",
       "    (0): Conv2d(3, 64, kernel_size=(11, 11), stride=(4, 4), padding=(2, 2))\n",
       "    (1): ReLU(inplace=True)\n",
       "    (2): MaxPool2d(kernel_size=3, stride=2, padding=0, dilation=1, ceil_mode=False)\n",
       "    (3): Dropout(p=0.5, inplace=False)\n",
       "    (4): Conv2d(64, 128, kernel_size=(9, 9), stride=(1, 1), padding=(2, 2))\n",
       "    (5): ReLU(inplace=True)\n",
       "    (6): MaxPool2d(kernel_size=3, stride=2, padding=0, dilation=1, ceil_mode=False)\n",
       "    (7): Dropout(p=0.5, inplace=False)\n",
       "    (8): Conv2d(128, 256, kernel_size=(7, 7), stride=(1, 1), padding=(2, 2))\n",
       "    (9): ReLU(inplace=True)\n",
       "    (10): MaxPool2d(kernel_size=3, stride=2, padding=0, dilation=1, ceil_mode=False)\n",
       "    (11): Dropout(p=0.5, inplace=False)\n",
       "    (12): Conv2d(256, 512, kernel_size=(5, 5), stride=(1, 1), padding=(2, 2))\n",
       "    (13): ReLU(inplace=True)\n",
       "    (14): MaxPool2d(kernel_size=3, stride=2, padding=0, dilation=1, ceil_mode=False)\n",
       "    (15): Dropout(p=0.5, inplace=False)\n",
       "    (16): Conv2d(512, 1024, kernel_size=(3, 3), stride=(1, 1), padding=(2, 2))\n",
       "    (17): ReLU(inplace=True)\n",
       "    (18): MaxPool2d(kernel_size=3, stride=2, padding=0, dilation=1, ceil_mode=False)\n",
       "    (19): Dropout(p=0.5, inplace=False)\n",
       "  )\n",
       "  (classifier): Sequential(\n",
       "    (0): Dropout(p=0.5, inplace=False)\n",
       "    (1): Linear(in_features=9216, out_features=10000, bias=True)\n",
       "    (2): PReLU(num_parameters=1)\n",
       "    (3): Dropout(p=0.5, inplace=False)\n",
       "    (4): Linear(in_features=10000, out_features=10000, bias=True)\n",
       "    (5): PReLU(num_parameters=1)\n",
       "    (6): Linear(in_features=10000, out_features=291, bias=True)\n",
       "  )\n",
       ")"
      ]
     },
     "execution_count": 4,
     "metadata": {},
     "output_type": "execute_result"
    }
   ],
   "source": [
    "net = NewNetwork()\n",
    "net.to(device)"
   ]
  },
  {
   "cell_type": "code",
   "execution_count": 5,
   "id": "f39606d9",
   "metadata": {},
   "outputs": [],
   "source": [
    "criterion = nn.CrossEntropyLoss()\n",
    "\n",
    "# also the optimizer\n",
    "optimizer = optim.Adam(net.parameters(), lr=0.0001)\n",
    "\n",
    "#dynamic learning rate\n",
    "#scheduler = optim.lr_scheduler.ExponentialLR(optimizer, gamma=0.9)"
   ]
  },
  {
   "cell_type": "code",
   "execution_count": 6,
   "id": "0b71ba8f",
   "metadata": {
    "scrolled": false
   },
   "outputs": [
    {
     "data": {
      "application/vnd.jupyter.widget-view+json": {
       "model_id": "38dfbf22808c44a287ccfbd08fa17bab",
       "version_major": 2,
       "version_minor": 0
      },
      "text/plain": [
       "  0%|          | 0/26 [00:00<?, ?it/s]"
      ]
     },
     "metadata": {},
     "output_type": "display_data"
    },
    {
     "name": "stdout",
     "output_type": "stream",
     "text": [
      "\n",
      "Epoch: 0\n",
      "Train Acc. => 2.773% | Train Loss => 4.99965\n",
      "validation Acc.  => 6.597% | validation Loss  => 4.18735\n",
      "Accuracy of the network on test images: 5 %\n",
      "\n",
      "Epoch: 1\n",
      "Train Acc. => 10.936% | Train Loss => 3.68770\n",
      "validation Acc.  => 14.855% | validation Loss  => 3.30376\n",
      "Accuracy of the network on test images: 14 %\n",
      "\n",
      "Epoch: 2\n",
      "Train Acc. => 20.551% | Train Loss => 2.99739\n",
      "validation Acc.  => 26.210% | validation Loss  => 2.69805\n",
      "Accuracy of the network on test images: 25 %\n",
      "\n",
      "Epoch: 3\n",
      "Train Acc. => 29.214% | Train Loss => 2.52561\n",
      "validation Acc.  => 34.290% | validation Loss  => 2.31881\n",
      "Accuracy of the network on test images: 34 %\n",
      "\n",
      "Epoch: 4\n",
      "Train Acc. => 36.817% | Train Loss => 2.18945\n",
      "validation Acc.  => 39.855% | validation Loss  => 2.07623\n",
      "Accuracy of the network on test images: 40 %\n",
      "\n",
      "Epoch: 5\n",
      "Train Acc. => 42.577% | Train Loss => 1.94541\n",
      "validation Acc.  => 44.839% | validation Loss  => 1.88802\n",
      "Accuracy of the network on test images: 44 %\n",
      "\n",
      "Epoch: 6\n",
      "Train Acc. => 47.215% | Train Loss => 1.75901\n",
      "validation Acc.  => 48.935% | validation Loss  => 1.70008\n",
      "Accuracy of the network on test images: 48 %\n",
      "\n",
      "Epoch: 7\n",
      "Train Acc. => 51.098% | Train Loss => 1.60940\n",
      "validation Acc.  => 51.419% | validation Loss  => 1.59889\n",
      "Accuracy of the network on test images: 51 %\n",
      "\n",
      "Epoch: 8\n",
      "Train Acc. => 53.663% | Train Loss => 1.50092\n",
      "validation Acc.  => 54.145% | validation Loss  => 1.48947\n",
      "Accuracy of the network on test images: 54 %\n",
      "\n",
      "Epoch: 9\n",
      "Train Acc. => 56.169% | Train Loss => 1.41669\n",
      "validation Acc.  => 56.935% | validation Loss  => 1.40079\n",
      "Accuracy of the network on test images: 57 %\n",
      "\n",
      "Epoch: 10\n",
      "Train Acc. => 58.691% | Train Loss => 1.33477\n",
      "validation Acc.  => 58.661% | validation Loss  => 1.37655\n",
      "Accuracy of the network on test images: 58 %\n",
      "\n",
      "Epoch: 11\n",
      "Train Acc. => 60.206% | Train Loss => 1.27656\n",
      "validation Acc.  => 61.919% | validation Loss  => 1.23754\n",
      "Accuracy of the network on test images: 61 %\n",
      "\n",
      "Epoch: 12\n",
      "Train Acc. => 61.939% | Train Loss => 1.20527\n",
      "validation Acc.  => 62.097% | validation Loss  => 1.22161\n",
      "Accuracy of the network on test images: 62 %\n",
      "\n",
      "Epoch: 13\n",
      "Train Acc. => 63.211% | Train Loss => 1.15921\n",
      "validation Acc.  => 63.887% | validation Loss  => 1.16613\n",
      "Accuracy of the network on test images: 63 %\n",
      "\n",
      "Epoch: 14\n",
      "Train Acc. => 64.993% | Train Loss => 1.10326\n",
      "validation Acc.  => 62.645% | validation Loss  => 1.21591\n",
      "Accuracy of the network on test images: 63 %\n",
      "\n",
      "Epoch: 15\n",
      "Train Acc. => 65.734% | Train Loss => 1.07403\n",
      "validation Acc.  => 66.016% | validation Loss  => 1.10840\n",
      "Accuracy of the network on test images: 65 %\n",
      "\n",
      "Epoch: 16\n",
      "Train Acc. => 66.969% | Train Loss => 1.03308\n",
      "validation Acc.  => 65.710% | validation Loss  => 1.08657\n",
      "Accuracy of the network on test images: 65 %\n",
      "\n",
      "Epoch: 17\n",
      "Train Acc. => 67.546% | Train Loss => 1.01041\n",
      "validation Acc.  => 64.823% | validation Loss  => 1.13346\n",
      "Accuracy of the network on test images: 66 %\n",
      "\n",
      "Epoch: 18\n",
      "Train Acc. => 68.662% | Train Loss => 0.97296\n",
      "validation Acc.  => 67.806% | validation Loss  => 1.06245\n",
      "Accuracy of the network on test images: 67 %\n",
      "\n",
      "Epoch: 19\n",
      "Train Acc. => 69.750% | Train Loss => 0.94337\n",
      "validation Acc.  => 67.274% | validation Loss  => 1.07966\n",
      "Accuracy of the network on test images: 67 %\n",
      "\n",
      "Epoch: 20\n",
      "Train Acc. => 70.543% | Train Loss => 0.91168\n",
      "validation Acc.  => 66.548% | validation Loss  => 1.09318\n",
      "Accuracy of the network on test images: 66 %\n",
      "\n",
      "Epoch: 21\n",
      "Train Acc. => 70.715% | Train Loss => 0.90160\n",
      "validation Acc.  => 68.081% | validation Loss  => 1.01292\n",
      "Accuracy of the network on test images: 68 %\n",
      "\n",
      "Epoch: 22\n",
      "Train Acc. => 71.494% | Train Loss => 0.87480\n",
      "validation Acc.  => 69.016% | validation Loss  => 1.01951\n",
      "Accuracy of the network on test images: 68 %\n",
      "\n",
      "Epoch: 23\n",
      "Train Acc. => 72.388% | Train Loss => 0.85291\n",
      "validation Acc.  => 70.129% | validation Loss  => 0.97910\n",
      "Accuracy of the network on test images: 69 %\n",
      "\n",
      "Epoch: 24\n",
      "Train Acc. => 73.043% | Train Loss => 0.82804\n",
      "validation Acc.  => 70.194% | validation Loss  => 0.96256\n",
      "Accuracy of the network on test images: 69 %\n",
      "\n",
      "Epoch: 25\n",
      "Train Acc. => 73.844% | Train Loss => 0.79902\n",
      "validation Acc.  => 69.726% | validation Loss  => 0.99284\n",
      "Accuracy of the network on test images: 70 %\n",
      "Finished Training\n"
     ]
    }
   ],
   "source": [
    "train_loss = []\n",
    "validation_loss = []\n",
    "train_acc = []\n",
    "validation_acc = []\n",
    "\n",
    "test_acc = []\n",
    "\n",
    "mcc_list = []\n",
    "\n",
    "lrs = []\n",
    "steps = []\n",
    "\n",
    "epoch_affichage = 1\n",
    "\n",
    "# Initialize the prediction and label lists(tensors)\n",
    "predlist=torch.zeros(0,dtype=torch.long, device='cpu')\n",
    "lbllist=torch.zeros(0,dtype=torch.long, device='cpu')\n",
    "\n",
    "for epoch in tqdm(range(0, 26)):  # loop over the dataset multiple times\n",
    "    \n",
    "    running_loss = .0\n",
    "    correct = 0\n",
    "    total = 0\n",
    "    for i, data in enumerate(train_loader):\n",
    "        # get the inputs\n",
    "        inputs, labels = data\n",
    "        if device == 'cuda':\n",
    "            inputs, labels = inputs.to(device), labels.to(device)\n",
    "\n",
    "        # reset the parameter gradients\n",
    "        optimizer.zero_grad()\n",
    "\n",
    "        # forward\n",
    "        outputs = net(inputs)\n",
    "        loss = criterion(outputs, labels)\n",
    "        # backward\n",
    "        loss.backward()\n",
    "        # optimize\n",
    "        optimizer.step()\n",
    "        \n",
    "        running_loss += loss.item()\n",
    "        _, predicted = T.max(outputs.data, 1)\n",
    "        total += labels.size(0)\n",
    "        correct += (predicted == labels).sum().item()\n",
    "        \n",
    "    running_loss /= len(train_loader)\n",
    "    train_loss.append(running_loss)\n",
    "    running_acc = correct / total\n",
    "    train_acc.append(running_acc)\n",
    "    \n",
    "    \"\"\"\n",
    "    print(\"predicted = \",predicted)\n",
    "    print(\"labels = \",labels)\n",
    "    \"\"\"\n",
    "    \n",
    "    #MCC implementation\n",
    "    \"\"\"\n",
    "    metric_mcc = MultilabelMatthewsCorrCoef(num_labels=291)\n",
    "    metric_mcc(predicted, labels)\n",
    "    mcc_list.append(metric_mcc)\n",
    "    \"\"\"\n",
    "    \n",
    "    #zone pour mettre le learning rate dynamique\n",
    "    \"\"\"\n",
    "    steps.append(epoch)\n",
    "    lrs.append(scheduler.get_last_lr()[0])\n",
    "    scheduler.step()\n",
    "    \"\"\"\n",
    "    \n",
    "    if epoch % epoch_affichage == 0: #ici changer pour la frequence d'affichage\n",
    "        print('\\nEpoch: {}'.format(epoch))\n",
    "        print('Train Acc. => {:.3f}%'.format(100 * running_acc), end=' | ')\n",
    "        print('Train Loss => {:.5f}'.format(running_loss))\n",
    "    \n",
    "    # evaluate on the validation set\n",
    "    # note this is usually performed on the validation set\n",
    "    # for simplicity we just evaluate it on the validation set\n",
    "    with T.no_grad():\n",
    "        correct = 0\n",
    "        total = 0\n",
    "        validation_running_loss = .0\n",
    "        for data in validation_loader:\n",
    "            inputs, labels = data\n",
    "            if device == 'cuda':\n",
    "                inputs, labels = inputs.to(device), labels.to(device)\n",
    "            outputs = net(inputs)\n",
    "            loss = criterion(outputs, labels)\n",
    "            validation_running_loss += loss.item()\n",
    "            _, predicted = T.max(outputs.data, 1)\n",
    "            total += labels.size(0)\n",
    "            correct += (predicted == labels).sum().item()\n",
    "            \n",
    "            if epoch == 25: # a changer si besoin d'afficher la matrice de confusion, a mettre à epoch-1\n",
    "                # Append batch prediction results\n",
    "                predlist=torch.cat([predlist,predicted.view(-1).cpu()])\n",
    "                lbllist=torch.cat([lbllist,labels.view(-1).cpu()])\n",
    "\n",
    "        validation_running_loss /= len(validation_loader)\n",
    "        validation_loss.append(validation_running_loss)\n",
    "        validation_running_acc = correct / total\n",
    "        validation_acc.append(validation_running_acc)\n",
    "        \n",
    "        if epoch % epoch_affichage == 0: #ici changer pour la frequence d'affichage\n",
    "            print('validation Acc.  => {:.3f}%'.format(100 * validation_running_acc), end=' | ')\n",
    "            print('validation Loss  => {:.5f}'.format(validation_running_loss))\n",
    "\n",
    "    with torch.no_grad():\n",
    "        correct_t = 0\n",
    "        total_t = 0\n",
    "        for data in test_loader:\n",
    "            inputs, labels = data\n",
    "            inputs, labels = inputs.to('cuda'), labels.to('cuda')\n",
    "            outputs = net(inputs)\n",
    "            _, predicted = torch.max(outputs.data, 1)\n",
    "            total_t += labels.size(0)\n",
    "            correct_t += (predicted == labels).sum().item()\n",
    "            \n",
    "            running_acc_t = correct_t / total_t\n",
    "        test_acc.append(running_acc_t)\n",
    "    \n",
    "        if epoch % epoch_affichage == 0: #ici changer pour la frequence d'affichage\n",
    "            print('Accuracy of the network on test images: %d %%' % (100 * correct_t / total_t))\n",
    "\n",
    "print('Finished Training')"
   ]
  },
  {
   "cell_type": "markdown",
   "id": "200262ff",
   "metadata": {},
   "source": [
    "## Visualization"
   ]
  },
  {
   "cell_type": "code",
   "execution_count": 7,
   "id": "bcb34d7f",
   "metadata": {},
   "outputs": [],
   "source": [
    "import matplotlib.pyplot as plt\n",
    "import seaborn as sns"
   ]
  },
  {
   "cell_type": "code",
   "execution_count": 8,
   "id": "aa68121a",
   "metadata": {},
   "outputs": [
    {
     "data": {
      "image/png": "[encoded data removed]",
      "text/plain": [
       "<Figure size 432x288 with 1 Axes>"
      ]
     },
     "metadata": {
      "needs_background": "light"
     },
     "output_type": "display_data"
    }
   ],
   "source": [
    "plt.plot(train_loss, label='train')\n",
    "plt.plot(validation_loss, label='validation')\n",
    "plt.xlabel(\"epoch\")\n",
    "plt.ylabel(\"loss values\")\n",
    "plt.title(\"loss rate's curve\")\n",
    "plt.legend()\n",
    "plt.show()"
   ]
  },
  {
   "cell_type": "code",
   "execution_count": 9,
   "id": "35ceeda8",
   "metadata": {},
   "outputs": [
    {
     "data": {
      "image/png": "[encoded data removed]",
      "text/plain": [
       "<Figure size 432x288 with 1 Axes>"
      ]
     },
     "metadata": {
      "needs_background": "light"
     },
     "output_type": "display_data"
    }
   ],
   "source": [
    "plt.plot(train_acc, label='train')\n",
    "plt.plot(validation_acc, label='validation')\n",
    "plt.plot(test_acc, label='test')\n",
    "plt.xlabel(\"epoch\")\n",
    "plt.ylabel(\"accuracy values\")\n",
    "plt.title(\"accuracy rate's curve\")\n",
    "plt.legend()\n",
    "plt.show()"
   ]
  },
  {
   "cell_type": "code",
   "execution_count": 10,
   "id": "78d4feaa",
   "metadata": {},
   "outputs": [],
   "source": [
    "#plt.plot(mcc_list, label='MCC')\n",
    "#plt.xlabel(\"epoch\")\n",
    "#plt.ylabel(\"MCC values\")\n",
    "#plt.title(\"MCC curve\")\n",
    "#plt.legend()\n",
    "#plt.show()"
   ]
  },
  {
   "cell_type": "code",
   "execution_count": 11,
   "id": "ab1bac62",
   "metadata": {},
   "outputs": [
    {
     "name": "stdout",
     "output_type": "stream",
     "text": [
      "[[10  2  0 ...  0  0  0]\n",
      " [ 3 35  0 ...  0  0  0]\n",
      " [ 0  0 16 ...  0  0  0]\n",
      " ...\n",
      " [ 0  0  0 ... 20  0  0]\n",
      " [ 0  0  0 ...  0 10  0]\n",
      " [ 0  0  0 ...  0  0 35]]\n"
     ]
    }
   ],
   "source": [
    "# Confusion matrix\n",
    "conf_mat=confusion_matrix(lbllist.numpy(), predlist.numpy())\n",
    "print(conf_mat)\n"
   ]
  },
  {
   "cell_type": "code",
   "execution_count": 12,
   "id": "10da7cf6",
   "metadata": {},
   "outputs": [
    {
     "data": {
      "text/plain": [
       "<AxesSubplot:>"
      ]
     },
     "execution_count": 12,
     "metadata": {},
     "output_type": "execute_result"
    },
    {
     "data": {
      "image/png": "[encoded data removed]",
      "text/plain": [
       "<Figure size 936x720 with 2 Axes>"
      ]
     },
     "metadata": {
      "needs_background": "light"
     },
     "output_type": "display_data"
    }
   ],
   "source": [
    "fig, ax = plt.subplots(figsize=(13,10))\n",
    "sns.heatmap(conf_mat, annot=False, ax=ax, cmap=\"BuPu\")"
   ]
  },
  {
   "cell_type": "code",
   "execution_count": 13,
   "id": "2071eb75",
   "metadata": {},
   "outputs": [
    {
     "name": "stdout",
     "output_type": "stream",
     "text": [
      "[ 50.          59.3220339   66.66666667  70.1754386   56.25\n",
      "  73.68421053  63.63636364  93.61702128  60.          34.21052632\n",
      "  70.          92.15686275  65.95744681  82.14285714  33.33333333\n",
      "  80.23255814  54.54545455  57.69230769  62.26415094  52.27272727\n",
      "  73.07692308  67.64705882  58.06451613  80.          83.33333333\n",
      "  28.57142857  87.23404255  90.47619048  78.57142857  88.88888889\n",
      "  66.66666667  41.17647059  87.5         72.72727273 100.\n",
      "  83.33333333  53.33333333  50.          75.          72.22222222\n",
      "  45.45454545  69.44444444  61.11111111  31.25        78.57142857\n",
      "  90.          50.          53.57142857  56.52173913  41.66666667\n",
      "  72.72727273   0.          50.         100.         100.\n",
      "  63.63636364  84.84848485  56.          54.54545455  46.66666667\n",
      "  17.64705882  40.          45.45454545  72.72727273  42.85714286\n",
      "  33.33333333 100.          73.52941176  84.84848485 100.\n",
      "  68.57142857  45.          65.          87.5         76.19047619\n",
      "  92.85714286  70.83333333  82.5         78.125       54.54545455\n",
      " 100.         100.          90.          66.66666667  80.\n",
      "   0.          16.66666667  84.50704225  60.          33.33333333\n",
      "  42.85714286  20.          93.33333333  80.          62.5\n",
      "  21.42857143  68.75        58.82352941  78.57142857 100.\n",
      "  57.89473684  45.          45.94594595  75.          60.\n",
      "  80.          85.71428571  65.2173913   33.33333333  86.11111111\n",
      "  27.27272727  81.48148148  58.82352941  85.          60.\n",
      "  70.27027027  74.07407407  75.          72.72727273  91.66666667\n",
      "  83.33333333  72.72727273  92.15686275  89.47368421  88.0952381\n",
      "  86.36363636  54.54545455  46.42857143  84.21052632  60.86956522\n",
      "  33.33333333  52.38095238  57.14285714 100.          54.54545455\n",
      "  62.5         78.94736842  72.72727273  50.          92.30769231\n",
      "  94.59459459  66.66666667 100.          69.23076923  78.125\n",
      " 100.          77.77777778  78.125       73.07692308  80.95238095\n",
      "  73.33333333  50.          50.          66.66666667 100.\n",
      "  35.29411765  67.74193548  80.          33.33333333 100.\n",
      " 100.          92.85714286  60.          54.54545455  70.83333333\n",
      "  62.5         46.875       83.33333333  83.33333333  87.5\n",
      "  69.23076923 100.          89.47368421  35.71428571  44.44444444\n",
      "  38.0952381   40.         100.          20.          90.\n",
      "  30.          81.25       100.          80.95238095  84.21052632\n",
      "  51.85185185  39.02439024  81.57894737  68.88888889  87.09677419\n",
      "  90.          72.22222222  44.44444444  50.          54.54545455\n",
      "  61.53846154  90.90909091  55.          72.72727273  27.27272727\n",
      "  68.57142857  66.66666667  66.66666667  93.75        62.16216216\n",
      "  56.         100.          89.47368421  80.          31.57894737\n",
      "  25.          46.66666667  48.14814815  45.45454545  66.66666667\n",
      "  64.70588235  84.61538462  81.08108108  54.54545455  61.9047619\n",
      "  66.66666667  66.66666667  37.5         33.33333333  45.45454545\n",
      "   7.69230769 100.          92.30769231  85.71428571  66.66666667\n",
      "  54.54545455  72.          50.         100.          62.5\n",
      "  16.66666667  76.92307692  60.          76.54320988  68.75\n",
      "   0.          79.59183673  72.          81.25        60.\n",
      "  76.          80.          66.66666667  59.25925926  70.96774194\n",
      "  56.8627451   90.90909091  88.88888889  78.57142857  30.\n",
      "  45.45454545  75.          61.11111111  55.55555556  55.\n",
      "  73.33333333  62.5         23.07692308  25.          69.23076923\n",
      "  47.05882353  42.85714286  80.          57.89473684  80.\n",
      "   0.          47.05882353  70.96774194  81.48148148  84.\n",
      "  42.85714286  40.          88.88888889 100.          73.33333333\n",
      "  84.          72.72727273  81.81818182  64.28571429 100.\n",
      "  66.66666667  76.92307692  89.47368421  86.95652174  37.03703704\n",
      "  87.5       ]\n"
     ]
    }
   ],
   "source": [
    "# Per-class accuracy\n",
    "class_accuracy=100*conf_mat.diagonal()/conf_mat.sum(1)\n",
    "print(class_accuracy)"
   ]
  },
  {
   "cell_type": "markdown",
   "id": "55083a6d",
   "metadata": {},
   "source": [
    "## Save"
   ]
  },
  {
   "cell_type": "code",
   "execution_count": 14,
   "id": "ea64b954",
   "metadata": {},
   "outputs": [],
   "source": [
    "#torch.save(net.state_dict(), \"C:/Users/heuma/Desktop/Master/S10/Aurea/Dataset_Kaggle_validation_Train_20-80/dict_Linh_network_1st_try\")"
   ]
  },
  {
   "cell_type": "code",
   "execution_count": 15,
   "id": "e0753a13",
   "metadata": {},
   "outputs": [],
   "source": [
    "#torch.save(net, \"C:/Users/heuma/Desktop/Master/S10/Aurea/Dataset_Kaggle_validation_Train_20-80/Linh_network_entire_model_1st_try\")"
   ]
  },
  {
   "cell_type": "code",
   "execution_count": 16,
   "id": "f9e64f8b",
   "metadata": {},
   "outputs": [
    {
     "data": {
      "text/plain": [
       "'\\nfrom torch.utils.data.dataloader import DataLoader\\n\\n\\ntrain_dl = DataLoader(train_set, batch_size, shuffle = True, num_workers = 4, pin_memory = True)\\n\\nfrom torchvision.utils import make_grid\\n\\ndef show_batch(dl):\\n    #Plot images grid of single batch\\n    for images, labels in dl:\\n        fig,ax = plt.subplots(figsize = (16,12))\\n        ax.set_xticks([])\\n        ax.set_yticks([])\\n        ax.imshow(make_grid(images,nrow=16).permute(1,2,0))\\n        break\\n        \\nshow_batch(train_dl)\\n\\n'"
      ]
     },
     "execution_count": 16,
     "metadata": {},
     "output_type": "execute_result"
    }
   ],
   "source": [
    "\"\"\"\n",
    "from torch.utils.data.dataloader import DataLoader\n",
    "\n",
    "\n",
    "train_dl = DataLoader(train_set, batch_size, shuffle = True, num_workers = 4, pin_memory = True)\n",
    "\n",
    "from torchvision.utils import make_grid\n",
    "\n",
    "def show_batch(dl):\n",
    "    #Plot images grid of single batch\n",
    "    for images, labels in dl:\n",
    "        fig,ax = plt.subplots(figsize = (16,12))\n",
    "        ax.set_xticks([])\n",
    "        ax.set_yticks([])\n",
    "        ax.imshow(make_grid(images,nrow=16).permute(1,2,0))\n",
    "        break\n",
    "        \n",
    "show_batch(train_dl)\n",
    "\n",
    "\"\"\""
   ]
  },
  {
   "cell_type": "code",
   "execution_count": 17,
   "id": "5308da1c",
   "metadata": {},
   "outputs": [
    {
     "data": {
      "text/plain": [
       "\"\\ntransform2 = transforms.Compose(\\n    [transforms.Resize((224, 224)),\\n     transforms.ToTensor()])\\n\\ntrain_set2 = ImageFolder('C:/Users/heuma/Desktop/Master/S10/Aurea/Dataset_Kaggle_validation_Train_20-80/TRAIN/', transform=transform2)\\n\\ntrain_dl2 = DataLoader(train_set2, batch_size, shuffle = True, num_workers = 4, pin_memory = True)\\n\\n        \\nshow_batch(train_dl2)\\n\""
      ]
     },
     "execution_count": 17,
     "metadata": {},
     "output_type": "execute_result"
    }
   ],
   "source": [
    "\"\"\"\n",
    "transform2 = transforms.Compose(\n",
    "    [transforms.Resize((224, 224)),\n",
    "     transforms.ToTensor()])\n",
    "\n",
    "train_set2 = ImageFolder('C:/Users/heuma/Desktop/Master/S10/Aurea/Dataset_Kaggle_validation_Train_20-80/TRAIN/', transform=transform2)\n",
    "\n",
    "train_dl2 = DataLoader(train_set2, batch_size, shuffle = True, num_workers = 4, pin_memory = True)\n",
    "\n",
    "        \n",
    "show_batch(train_dl2)\n",
    "\"\"\""
   ]
  },
  {
   "cell_type": "code",
   "execution_count": null,
   "id": "6940a02b",
   "metadata": {},
   "outputs": [],
   "source": []
  }
 ],
 "metadata": {
  "kernelspec": {
   "display_name": "Python 3 (ipykernel)",
   "language": "python",
   "name": "python3"
  },
  "language_info": {
   "codemirror_mode": {
    "name": "ipython",
    "version": 3
   },
   "file_extension": ".py",
   "mimetype": "text/x-python",
   "name": "python",
   "nbconvert_exporter": "python",
   "pygments_lexer": "ipython3",
   "version": "3.9.7"
  }
 },
 "nbformat": 4,
 "nbformat_minor": 5
}
