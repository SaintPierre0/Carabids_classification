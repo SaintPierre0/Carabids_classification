{
 "cells": [
  {
   "cell_type": "code",
   "execution_count": 1,
   "id": "66f3ab4b",
   "metadata": {},
   "outputs": [
    {
     "data": {
      "text/plain": [
       "'cuda'"
      ]
     },
     "execution_count": 1,
     "metadata": {},
     "output_type": "execute_result"
    }
   ],
   "source": [
    "# import PyTorch and its related packages\n",
    "import torch as T\n",
    "import torch.nn as nn\n",
    "import torch.optim as optim\n",
    "import torch.nn.functional as F\n",
    "\n",
    "import torch\n",
    "\n",
    "import torchvision\n",
    "import torchvision.transforms as transforms\n",
    "\n",
    "from torchvision import transforms\n",
    "from torchvision.datasets import ImageFolder\n",
    "\n",
    "from tqdm.notebook import tqdm\n",
    "\n",
    "from sklearn.metrics import confusion_matrix\n",
    "\n",
    "#mcc implementation\n",
    "from torchmetrics.classification import MultilabelMatthewsCorrCoef\n",
    "\n",
    "# set default device based on CUDA's availability\n",
    "device = 'cuda' if T.cuda.is_available() else 'cpu'\n",
    "device"
   ]
  },
  {
   "cell_type": "code",
   "execution_count": 2,
   "id": "44a7c1c6",
   "metadata": {},
   "outputs": [],
   "source": [
    "transform = transforms.Compose(\n",
    "    [transforms.Resize((448,448)),\n",
    "     transforms.RandomHorizontalFlip(p=0.5),\n",
    "     transforms.RandomVerticalFlip(p=0.5),\n",
    "     transforms.ToTensor(),\n",
    "     transforms.Normalize((0.485, 0.456, 0.406), (0.229, 0.224, 0.225))])\n",
    "\n",
    "train_transforms = transforms.Compose(\n",
    "    [transforms.Resize((448,448)),\n",
    "    transforms.ColorJitter(),\n",
    "    transforms.RandomHorizontalFlip(p=0.5),\n",
    "    transforms.RandomVerticalFlip(p=0.5),\n",
    "    transforms.ToTensor(), \n",
    "    transforms.Normalize((0.485, 0.456, 0.406), (0.229, 0.224, 0.225))])\n",
    "\n",
    "batch_size = 64\n",
    "#image_size = (224, 224, 3)\n",
    "\n",
    "train_set = ImageFolder('C:/Users/heuma/Desktop/Work/Reseaux_test/Dataset_Kaggle/output/train', transform=train_transforms)\n",
    "validation_set = ImageFolder('C:/Users/heuma/Desktop/Work/Reseaux_test/Dataset_Kaggle/output/val', transform=transform)\n",
    "test_set = ImageFolder('C:/Users/heuma/Desktop/Work/Reseaux_test/Dataset_Kaggle/output/test', transform=transform)\n",
    "\n",
    "#train_set = train_ds\n",
    "train_loader = T.utils.data.DataLoader(train_set, batch_size=batch_size,shuffle=True, num_workers=8)\n",
    "\n",
    "#validation_set = validation_ds\n",
    "validation_loader = T.utils.data.DataLoader(validation_set, batch_size=batch_size,shuffle=True, num_workers=8)\n",
    "\n",
    "#test_set = test_ds\n",
    "test_loader = T.utils.data.DataLoader(test_set, batch_size=batch_size,shuffle=True, num_workers=8)"
   ]
  },
  {
   "cell_type": "code",
   "execution_count": 3,
   "id": "e9c36132",
   "metadata": {},
   "outputs": [],
   "source": [
    "class NewNetwork(nn.Module):\n",
    "    def __init__(self, num_classes=291):\n",
    "        super(NewNetwork, self).__init__()\n",
    "        self.features = nn.Sequential(\n",
    "            nn.Conv2d(3, 64, kernel_size=11, stride=4, padding=2),\n",
    "            nn.ReLU(inplace=True),\n",
    "            nn.MaxPool2d(kernel_size=3, stride=2),\n",
    "            nn.Dropout(p=0.5),\n",
    "            nn.Conv2d(64, 128, kernel_size=9, padding=2),\n",
    "            nn.ReLU(inplace=True),\n",
    "            nn.MaxPool2d(kernel_size=3, stride=2),\n",
    "            nn.Dropout(p=0.5),\n",
    "            nn.Conv2d(128, 256, kernel_size=7, padding=2),\n",
    "            nn.ReLU(inplace=True),\n",
    "            nn.MaxPool2d(kernel_size=3, stride=2),\n",
    "            nn.Dropout(p=0.5),\n",
    "            nn.Conv2d(256, 512, kernel_size=5, padding=2),\n",
    "            nn.ReLU(inplace=True),\n",
    "            nn.MaxPool2d(kernel_size=3, stride=2),\n",
    "            nn.Dropout(p=0.5),\n",
    "            nn.Conv2d(512, 1024, kernel_size=3, padding=2),\n",
    "            nn.ReLU(inplace=True),\n",
    "            nn.MaxPool2d(kernel_size=3, stride=2),\n",
    "            nn.Dropout(p=0.5)\n",
    "        )\n",
    "        self.classifier = nn.Sequential(\n",
    "            nn.Dropout(p=0.5),\n",
    "            nn.Linear(36 * 16 * 16, 15000), #mettre 128 quand il y a 5 couches\n",
    "            nn.PReLU(),\n",
    "            nn.Dropout(p=0.5),\n",
    "            nn.Linear(15000, 10000),\n",
    "            nn.PReLU(),\n",
    "            nn.Linear(10000, num_classes),\n",
    "        )\n",
    "\n",
    "    def forward(self, x):\n",
    "        x = self.features(x)\n",
    "        x = x.view(x.shape[0], -1)\n",
    "        x = self.classifier(x)\n",
    "        return x"
   ]
  },
  {
   "cell_type": "code",
   "execution_count": 4,
   "id": "441d12a6",
   "metadata": {},
   "outputs": [
    {
     "data": {
      "text/plain": [
       "NewNetwork(\n",
       "  (features): Sequential(\n",
       "    (0): Conv2d(3, 64, kernel_size=(11, 11), stride=(4, 4), padding=(2, 2))\n",
       "    (1): ReLU(inplace=True)\n",
       "    (2): MaxPool2d(kernel_size=3, stride=2, padding=0, dilation=1, ceil_mode=False)\n",
       "    (3): Dropout(p=0.5, inplace=False)\n",
       "    (4): Conv2d(64, 128, kernel_size=(9, 9), stride=(1, 1), padding=(2, 2))\n",
       "    (5): ReLU(inplace=True)\n",
       "    (6): MaxPool2d(kernel_size=3, stride=2, padding=0, dilation=1, ceil_mode=False)\n",
       "    (7): Dropout(p=0.5, inplace=False)\n",
       "    (8): Conv2d(128, 256, kernel_size=(7, 7), stride=(1, 1), padding=(2, 2))\n",
       "    (9): ReLU(inplace=True)\n",
       "    (10): MaxPool2d(kernel_size=3, stride=2, padding=0, dilation=1, ceil_mode=False)\n",
       "    (11): Dropout(p=0.5, inplace=False)\n",
       "    (12): Conv2d(256, 512, kernel_size=(5, 5), stride=(1, 1), padding=(2, 2))\n",
       "    (13): ReLU(inplace=True)\n",
       "    (14): MaxPool2d(kernel_size=3, stride=2, padding=0, dilation=1, ceil_mode=False)\n",
       "    (15): Dropout(p=0.5, inplace=False)\n",
       "    (16): Conv2d(512, 1024, kernel_size=(3, 3), stride=(1, 1), padding=(2, 2))\n",
       "    (17): ReLU(inplace=True)\n",
       "    (18): MaxPool2d(kernel_size=3, stride=2, padding=0, dilation=1, ceil_mode=False)\n",
       "    (19): Dropout(p=0.5, inplace=False)\n",
       "  )\n",
       "  (classifier): Sequential(\n",
       "    (0): Dropout(p=0.5, inplace=False)\n",
       "    (1): Linear(in_features=9216, out_features=15000, bias=True)\n",
       "    (2): PReLU(num_parameters=1)\n",
       "    (3): Dropout(p=0.5, inplace=False)\n",
       "    (4): Linear(in_features=15000, out_features=10000, bias=True)\n",
       "    (5): PReLU(num_parameters=1)\n",
       "    (6): Linear(in_features=10000, out_features=291, bias=True)\n",
       "  )\n",
       ")"
      ]
     },
     "execution_count": 4,
     "metadata": {},
     "output_type": "execute_result"
    }
   ],
   "source": [
    "net = NewNetwork()\n",
    "net.to(device)"
   ]
  },
  {
   "cell_type": "code",
   "execution_count": 5,
   "id": "f39606d9",
   "metadata": {},
   "outputs": [],
   "source": [
    "criterion = nn.CrossEntropyLoss()\n",
    "\n",
    "# also the optimizer\n",
    "optimizer = optim.Adam(net.parameters(), lr=0.0001)\n",
    "\n",
    "#dynamic learning rate\n",
    "#scheduler = optim.lr_scheduler.ExponentialLR(optimizer, gamma=0.9)"
   ]
  },
  {
   "cell_type": "code",
   "execution_count": 6,
   "id": "0b71ba8f",
   "metadata": {
    "scrolled": false
   },
   "outputs": [
    {
     "data": {
      "application/vnd.jupyter.widget-view+json": {
       "model_id": "1c5d70449a174b91afcc46bf51bb0900",
       "version_major": 2,
       "version_minor": 0
      },
      "text/plain": [
       "  0%|          | 0/31 [00:00<?, ?it/s]"
      ]
     },
     "metadata": {},
     "output_type": "display_data"
    },
    {
     "name": "stdout",
     "output_type": "stream",
     "text": [
      "\n",
      "Epoch: 0\n",
      "Train Acc. => 2.716% | Train Loss => 4.96925\n",
      "validation Acc.  => 5.629% | validation Loss  => 4.28513\n",
      "Accuracy of the network on test images: 5 %\n",
      "\n",
      "Epoch: 1\n",
      "Train Acc. => 7.380% | Train Loss => 4.02010\n",
      "validation Acc.  => 12.016% | validation Loss  => 3.58199\n",
      "Accuracy of the network on test images: 11 %\n",
      "\n",
      "Epoch: 2\n",
      "Train Acc. => 16.353% | Train Loss => 3.24614\n",
      "validation Acc.  => 20.629% | validation Loss  => 2.92672\n",
      "Accuracy of the network on test images: 21 %\n",
      "\n",
      "Epoch: 3\n",
      "Train Acc. => 26.071% | Train Loss => 2.69245\n",
      "validation Acc.  => 27.113% | validation Loss  => 2.66021\n",
      "Accuracy of the network on test images: 26 %\n",
      "\n",
      "Epoch: 4\n",
      "Train Acc. => 34.604% | Train Loss => 2.30211\n",
      "validation Acc.  => 37.129% | validation Loss  => 2.16148\n",
      "Accuracy of the network on test images: 38 %\n",
      "\n",
      "Epoch: 5\n",
      "Train Acc. => 40.993% | Train Loss => 2.02672\n",
      "validation Acc.  => 42.323% | validation Loss  => 1.96544\n",
      "Accuracy of the network on test images: 42 %\n",
      "\n",
      "Epoch: 6\n",
      "Train Acc. => 45.959% | Train Loss => 1.80977\n",
      "validation Acc.  => 50.710% | validation Loss  => 1.67047\n",
      "Accuracy of the network on test images: 49 %\n",
      "\n",
      "Epoch: 7\n",
      "Train Acc. => 50.121% | Train Loss => 1.65210\n",
      "validation Acc.  => 51.790% | validation Loss  => 1.60091\n",
      "Accuracy of the network on test images: 52 %\n",
      "\n",
      "Epoch: 8\n",
      "Train Acc. => 53.285% | Train Loss => 1.52151\n",
      "validation Acc.  => 55.387% | validation Loss  => 1.46543\n",
      "Accuracy of the network on test images: 54 %\n",
      "\n",
      "Epoch: 9\n",
      "Train Acc. => 55.416% | Train Loss => 1.43822\n",
      "validation Acc.  => 58.500% | validation Loss  => 1.39416\n",
      "Accuracy of the network on test images: 57 %\n",
      "\n",
      "Epoch: 10\n",
      "Train Acc. => 58.543% | Train Loss => 1.33669\n",
      "validation Acc.  => 56.903% | validation Loss  => 1.43010\n",
      "Accuracy of the network on test images: 56 %\n",
      "\n",
      "Epoch: 11\n",
      "Train Acc. => 59.892% | Train Loss => 1.28849\n",
      "validation Acc.  => 56.581% | validation Loss  => 1.42518\n",
      "Accuracy of the network on test images: 56 %\n",
      "\n",
      "Epoch: 12\n",
      "Train Acc. => 61.300% | Train Loss => 1.22464\n",
      "validation Acc.  => 61.565% | validation Loss  => 1.25961\n",
      "Accuracy of the network on test images: 61 %\n",
      "\n",
      "Epoch: 13\n",
      "Train Acc. => 62.944% | Train Loss => 1.17447\n",
      "validation Acc.  => 63.871% | validation Loss  => 1.16690\n",
      "Accuracy of the network on test images: 63 %\n",
      "\n",
      "Epoch: 14\n",
      "Train Acc. => 64.540% | Train Loss => 1.12313\n",
      "validation Acc.  => 62.097% | validation Loss  => 1.24356\n",
      "Accuracy of the network on test images: 61 %\n",
      "\n",
      "Epoch: 15\n",
      "Train Acc. => 65.230% | Train Loss => 1.09457\n",
      "validation Acc.  => 64.500% | validation Loss  => 1.15786\n",
      "Accuracy of the network on test images: 64 %\n",
      "\n",
      "Epoch: 16\n",
      "Train Acc. => 66.557% | Train Loss => 1.04577\n",
      "validation Acc.  => 64.952% | validation Loss  => 1.13280\n",
      "Accuracy of the network on test images: 64 %\n",
      "\n",
      "Epoch: 17\n",
      "Train Acc. => 67.556% | Train Loss => 1.01087\n",
      "validation Acc.  => 65.710% | validation Loss  => 1.09342\n",
      "Accuracy of the network on test images: 65 %\n",
      "\n",
      "Epoch: 18\n",
      "Train Acc. => 68.377% | Train Loss => 0.97581\n",
      "validation Acc.  => 67.226% | validation Loss  => 1.03734\n",
      "Accuracy of the network on test images: 67 %\n",
      "\n",
      "Epoch: 19\n",
      "Train Acc. => 69.026% | Train Loss => 0.96313\n",
      "validation Acc.  => 68.823% | validation Loss  => 1.02821\n",
      "Accuracy of the network on test images: 67 %\n",
      "\n",
      "Epoch: 20\n",
      "Train Acc. => 70.420% | Train Loss => 0.92005\n",
      "validation Acc.  => 67.097% | validation Loss  => 1.07057\n",
      "Accuracy of the network on test images: 67 %\n",
      "\n",
      "Epoch: 21\n",
      "Train Acc. => 70.483% | Train Loss => 0.90543\n",
      "validation Acc.  => 67.968% | validation Loss  => 1.04208\n",
      "Accuracy of the network on test images: 69 %\n",
      "\n",
      "Epoch: 22\n",
      "Train Acc. => 71.373% | Train Loss => 0.88580\n",
      "validation Acc.  => 68.484% | validation Loss  => 1.02142\n",
      "Accuracy of the network on test images: 68 %\n",
      "\n",
      "Epoch: 23\n",
      "Train Acc. => 71.581% | Train Loss => 0.86771\n",
      "validation Acc.  => 69.710% | validation Loss  => 0.99094\n",
      "Accuracy of the network on test images: 70 %\n",
      "\n",
      "Epoch: 24\n",
      "Train Acc. => 72.750% | Train Loss => 0.83629\n",
      "validation Acc.  => 69.516% | validation Loss  => 0.99371\n",
      "Accuracy of the network on test images: 69 %\n",
      "\n",
      "Epoch: 25\n",
      "Train Acc. => 73.100% | Train Loss => 0.82241\n",
      "validation Acc.  => 68.548% | validation Loss  => 1.03534\n",
      "Accuracy of the network on test images: 69 %\n",
      "\n",
      "Epoch: 26\n",
      "Train Acc. => 73.941% | Train Loss => 0.80325\n",
      "validation Acc.  => 70.290% | validation Loss  => 0.95783\n",
      "Accuracy of the network on test images: 71 %\n",
      "\n",
      "Epoch: 27\n",
      "Train Acc. => 74.172% | Train Loss => 0.78936\n",
      "validation Acc.  => 70.081% | validation Loss  => 0.99611\n",
      "Accuracy of the network on test images: 70 %\n",
      "\n",
      "Epoch: 28\n",
      "Train Acc. => 74.872% | Train Loss => 0.76897\n",
      "validation Acc.  => 70.790% | validation Loss  => 0.96239\n",
      "Accuracy of the network on test images: 71 %\n",
      "\n",
      "Epoch: 29\n",
      "Train Acc. => 75.175% | Train Loss => 0.75330\n",
      "validation Acc.  => 72.468% | validation Loss  => 0.88350\n",
      "Accuracy of the network on test images: 73 %\n",
      "\n",
      "Epoch: 30\n",
      "Train Acc. => 75.818% | Train Loss => 0.72861\n",
      "validation Acc.  => 72.677% | validation Loss  => 0.90416\n",
      "Accuracy of the network on test images: 73 %\n",
      "Finished Training\n"
     ]
    }
   ],
   "source": [
    "train_loss = []\n",
    "validation_loss = []\n",
    "train_acc = []\n",
    "validation_acc = []\n",
    "\n",
    "test_acc = []\n",
    "\n",
    "mcc_list = []\n",
    "\n",
    "lrs = []\n",
    "steps = []\n",
    "\n",
    "epoch_affichage = 1\n",
    "\n",
    "# Initialize the prediction and label lists(tensors)\n",
    "predlist=torch.zeros(0,dtype=torch.long, device='cpu')\n",
    "lbllist=torch.zeros(0,dtype=torch.long, device='cpu')\n",
    "\n",
    "for epoch in tqdm(range(0, 31)):  # loop over the dataset multiple times\n",
    "    \n",
    "    running_loss = .0\n",
    "    correct = 0\n",
    "    total = 0\n",
    "    for i, data in enumerate(train_loader):\n",
    "        # get the inputs\n",
    "        inputs, labels = data\n",
    "        if device == 'cuda':\n",
    "            inputs, labels = inputs.to(device), labels.to(device)\n",
    "\n",
    "        # reset the parameter gradients\n",
    "        optimizer.zero_grad()\n",
    "\n",
    "        # forward\n",
    "        outputs = net(inputs)\n",
    "        loss = criterion(outputs, labels)\n",
    "        # backward\n",
    "        loss.backward()\n",
    "        # optimize\n",
    "        optimizer.step()\n",
    "        \n",
    "        running_loss += loss.item()\n",
    "        _, predicted = T.max(outputs.data, 1)\n",
    "        total += labels.size(0)\n",
    "        correct += (predicted == labels).sum().item()\n",
    "        \n",
    "    running_loss /= len(train_loader)\n",
    "    train_loss.append(running_loss)\n",
    "    running_acc = correct / total\n",
    "    train_acc.append(running_acc)\n",
    "    \n",
    "    \"\"\"\n",
    "    print(\"predicted = \",predicted)\n",
    "    print(\"labels = \",labels)\n",
    "    \"\"\"\n",
    "    \n",
    "    #MCC implementation\n",
    "    \"\"\"\n",
    "    metric_mcc = MultilabelMatthewsCorrCoef(num_labels=291)\n",
    "    metric_mcc(predicted, labels)\n",
    "    mcc_list.append(metric_mcc)\n",
    "    \"\"\"\n",
    "    \n",
    "    #zone pour mettre le learning rate dynamique\n",
    "    \"\"\"\n",
    "    steps.append(epoch)\n",
    "    lrs.append(scheduler.get_last_lr()[0])\n",
    "    scheduler.step()\n",
    "    \"\"\"\n",
    "    \n",
    "    if epoch % epoch_affichage == 0: #ici changer pour la frequence d'affichage\n",
    "        print('\\nEpoch: {}'.format(epoch))\n",
    "        print('Train Acc. => {:.3f}%'.format(100 * running_acc), end=' | ')\n",
    "        print('Train Loss => {:.5f}'.format(running_loss))\n",
    "    \n",
    "    # evaluate on the validation set\n",
    "    # note this is usually performed on the validation set\n",
    "    # for simplicity we just evaluate it on the validation set\n",
    "    with T.no_grad():\n",
    "        correct = 0\n",
    "        total = 0\n",
    "        validation_running_loss = .0\n",
    "        for data in validation_loader:\n",
    "            inputs, labels = data\n",
    "            if device == 'cuda':\n",
    "                inputs, labels = inputs.to(device), labels.to(device)\n",
    "            outputs = net(inputs)\n",
    "            loss = criterion(outputs, labels)\n",
    "            validation_running_loss += loss.item()\n",
    "            _, predicted = T.max(outputs.data, 1)\n",
    "            total += labels.size(0)\n",
    "            correct += (predicted == labels).sum().item()\n",
    "            \n",
    "            if epoch == 30: # a changer si besoin d'afficher la matrice de confusion, a mettre à epoch-1\n",
    "                # Append batch prediction results\n",
    "                predlist=torch.cat([predlist,predicted.view(-1).cpu()])\n",
    "                lbllist=torch.cat([lbllist,labels.view(-1).cpu()])\n",
    "\n",
    "        validation_running_loss /= len(validation_loader)\n",
    "        validation_loss.append(validation_running_loss)\n",
    "        validation_running_acc = correct / total\n",
    "        validation_acc.append(validation_running_acc)\n",
    "        \n",
    "        if epoch % epoch_affichage == 0: #ici changer pour la frequence d'affichage\n",
    "            print('validation Acc.  => {:.3f}%'.format(100 * validation_running_acc), end=' | ')\n",
    "            print('validation Loss  => {:.5f}'.format(validation_running_loss))\n",
    "\n",
    "    with torch.no_grad():\n",
    "        correct_t = 0\n",
    "        total_t = 0\n",
    "        for data in test_loader:\n",
    "            inputs, labels = data\n",
    "            inputs, labels = inputs.to('cuda'), labels.to('cuda')\n",
    "            outputs = net(inputs)\n",
    "            _, predicted = torch.max(outputs.data, 1)\n",
    "            total_t += labels.size(0)\n",
    "            correct_t += (predicted == labels).sum().item()\n",
    "            \n",
    "            running_acc_t = correct_t / total_t\n",
    "        test_acc.append(running_acc_t)\n",
    "    \n",
    "        if epoch % epoch_affichage == 0: #ici changer pour la frequence d'affichage\n",
    "            print('Accuracy of the network on test images: %d %%' % (100 * correct_t / total_t))\n",
    "\n",
    "print('Finished Training')"
   ]
  },
  {
   "cell_type": "markdown",
   "id": "200262ff",
   "metadata": {},
   "source": [
    "## Visualization"
   ]
  },
  {
   "cell_type": "code",
   "execution_count": 7,
   "id": "bcb34d7f",
   "metadata": {},
   "outputs": [],
   "source": [
    "import matplotlib.pyplot as plt\n",
    "import seaborn as sns"
   ]
  },
  {
   "cell_type": "code",
   "execution_count": 8,
   "id": "aa68121a",
   "metadata": {},
   "outputs": [
    {
     "data": {
      "image/png": "[encoded data removed]",
      "text/plain": [
       "<Figure size 432x288 with 1 Axes>"
      ]
     },
     "metadata": {
      "needs_background": "light"
     },
     "output_type": "display_data"
    }
   ],
   "source": [
    "plt.plot(train_loss, label='train')\n",
    "plt.plot(validation_loss, label='validation')\n",
    "plt.xlabel(\"epoch\")\n",
    "plt.ylabel(\"loss values\")\n",
    "plt.title(\"loss rate's curve\")\n",
    "plt.legend()\n",
    "plt.show()"
   ]
  },
  {
   "cell_type": "code",
   "execution_count": 9,
   "id": "35ceeda8",
   "metadata": {},
   "outputs": [
    {
     "data": {
      "image/png": "[encoded data removed]",
      "text/plain": [
       "<Figure size 432x288 with 1 Axes>"
      ]
     },
     "metadata": {
      "needs_background": "light"
     },
     "output_type": "display_data"
    }
   ],
   "source": [
    "plt.plot(train_acc, label='train')\n",
    "plt.plot(validation_acc, label='validation')\n",
    "plt.plot(test_acc, label='test')\n",
    "plt.xlabel(\"epoch\")\n",
    "plt.ylabel(\"accuracy values\")\n",
    "plt.title(\"accuracy rate's curve\")\n",
    "plt.legend()\n",
    "plt.show()"
   ]
  },
  {
   "cell_type": "code",
   "execution_count": 10,
   "id": "78d4feaa",
   "metadata": {},
   "outputs": [],
   "source": [
    "#plt.plot(mcc_list, label='MCC')\n",
    "#plt.xlabel(\"epoch\")\n",
    "#plt.ylabel(\"MCC values\")\n",
    "#plt.title(\"MCC curve\")\n",
    "#plt.legend()\n",
    "#plt.show()"
   ]
  },
  {
   "cell_type": "code",
   "execution_count": 11,
   "id": "ab1bac62",
   "metadata": {},
   "outputs": [
    {
     "name": "stdout",
     "output_type": "stream",
     "text": [
      "[[ 3  7  0 ...  0  0  0]\n",
      " [ 2 42  0 ...  0  0  0]\n",
      " [ 0  0 15 ...  0  0  0]\n",
      " ...\n",
      " [ 0  0  0 ... 21  0  0]\n",
      " [ 0  0  0 ...  0 10  0]\n",
      " [ 0  0  0 ...  0  0 32]]\n"
     ]
    }
   ],
   "source": [
    "# Confusion matrix\n",
    "conf_mat=confusion_matrix(lbllist.numpy(), predlist.numpy())\n",
    "print(conf_mat)\n"
   ]
  },
  {
   "cell_type": "code",
   "execution_count": 12,
   "id": "10da7cf6",
   "metadata": {},
   "outputs": [
    {
     "data": {
      "text/plain": [
       "<AxesSubplot:>"
      ]
     },
     "execution_count": 12,
     "metadata": {},
     "output_type": "execute_result"
    },
    {
     "data": {
      "image/png": "[encoded data removed]",
      "text/plain": [
       "<Figure size 936x720 with 2 Axes>"
      ]
     },
     "metadata": {
      "needs_background": "light"
     },
     "output_type": "display_data"
    }
   ],
   "source": [
    "fig, ax = plt.subplots(figsize=(13,10))\n",
    "sns.heatmap(conf_mat, annot=False, ax=ax, cmap=\"BuPu\")"
   ]
  },
  {
   "cell_type": "code",
   "execution_count": 13,
   "id": "2071eb75",
   "metadata": {},
   "outputs": [
    {
     "name": "stdout",
     "output_type": "stream",
     "text": [
      "[ 15.          71.18644068  62.5         68.42105263  43.75\n",
      "  57.89473684  86.36363636  87.23404255  60.          65.78947368\n",
      "  70.          98.03921569  59.57446809  83.92857143  44.44444444\n",
      "  81.39534884  72.72727273  69.23076923  67.9245283   70.45454545\n",
      "  65.38461538  75.          74.19354839  70.          87.5\n",
      "   0.          87.23404255  95.23809524  35.71428571  88.88888889\n",
      "  83.33333333  44.11764706  91.66666667 100.          92.85714286\n",
      "  75.          66.66666667  66.66666667  87.5         61.11111111\n",
      "  63.63636364  75.          83.33333333  31.25        57.14285714\n",
      "  97.5         50.          75.          43.47826087  33.33333333\n",
      "  90.90909091  50.          87.5        100.          40.\n",
      "  63.63636364  57.57575758  64.          63.63636364  66.66666667\n",
      "  58.82352941  80.          18.18181818  45.45454545  50.\n",
      "  33.33333333  50.          61.76470588  90.90909091  50.\n",
      "  82.85714286  35.          85.          83.33333333  71.42857143\n",
      "  85.71428571  79.16666667  82.5         90.625       72.72727273\n",
      " 100.         100.          80.          83.33333333  80.\n",
      "  40.          16.66666667  69.01408451 100.          55.55555556\n",
      "  71.42857143  60.          93.33333333  87.27272727  50.\n",
      "  28.57142857  81.25        91.17647059  78.57142857  92.30769231\n",
      "  73.68421053  70.          70.27027027  41.66666667  20.\n",
      "  60.          85.71428571  86.95652174  50.          77.77777778\n",
      "  27.27272727  62.96296296  76.47058824  85.          80.\n",
      "  91.89189189  92.59259259  81.25        72.72727273  91.66666667\n",
      "  66.66666667  63.63636364  88.23529412  73.68421053  78.57142857\n",
      "  88.63636364  81.81818182  57.14285714  78.94736842  17.39130435\n",
      "  33.33333333  57.14285714  92.85714286  84.21052632  72.72727273\n",
      "  59.375       68.42105263  63.63636364  66.66666667  94.23076923\n",
      "  94.59459459  88.88888889  85.71428571  69.23076923  84.375\n",
      "  80.          66.66666667  75.          69.23076923  80.95238095\n",
      "  66.66666667  50.          62.5         66.66666667  42.85714286\n",
      "  58.82352941  74.19354839 100.          83.33333333  83.33333333\n",
      "  91.66666667  92.85714286  60.          72.72727273  62.5\n",
      "  84.375       56.25        66.66666667  83.33333333  82.5\n",
      "  76.92307692 100.          81.57894737  64.28571429  55.55555556\n",
      "  66.66666667  80.         100.          40.          85.\n",
      "  80.          62.5         75.          80.95238095  65.78947368\n",
      "  40.74074074  36.58536585  76.31578947  91.11111111  70.96774194\n",
      "  86.66666667  88.88888889  69.44444444  58.33333333  90.90909091\n",
      "  69.23076923  63.63636364  55.          72.72727273  36.36363636\n",
      "  77.14285714  78.78787879  78.57142857  87.5         89.18918919\n",
      "  68.         100.          89.47368421  40.          36.84210526\n",
      "  75.          60.          29.62962963  72.72727273  48.48484848\n",
      "  52.94117647  61.53846154  70.27027027  63.63636364  88.0952381\n",
      "  75.55555556  83.33333333  56.25        25.          63.63636364\n",
      "  38.46153846  28.57142857  76.92307692 100.         100.\n",
      "  54.54545455  68.          25.          77.77777778  68.75\n",
      "   0.          92.30769231  40.          85.18518519  93.75\n",
      "  20.          83.67346939  86.          75.          80.\n",
      "  48.          80.          83.33333333  77.77777778  74.19354839\n",
      "  78.43137255  90.90909091  66.66666667  66.66666667  40.\n",
      "  45.45454545  83.33333333  61.11111111 100.          40.\n",
      "  86.66666667  75.          23.07692308  50.          65.38461538\n",
      "  70.58823529 100.          20.          36.84210526  60.\n",
      "  60.          23.52941176  70.96774194  96.2962963   80.\n",
      "  57.14285714  80.          62.96296296  60.          80.\n",
      "  80.          59.09090909  93.18181818  85.71428571 100.\n",
      "  55.55555556  84.61538462  89.47368421  91.30434783  37.03703704\n",
      "  80.        ]\n"
     ]
    }
   ],
   "source": [
    "# Per-class accuracy\n",
    "class_accuracy=100*conf_mat.diagonal()/conf_mat.sum(1)\n",
    "print(class_accuracy)"
   ]
  },
  {
   "cell_type": "markdown",
   "id": "55083a6d",
   "metadata": {},
   "source": [
    "## Save"
   ]
  },
  {
   "cell_type": "code",
   "execution_count": 14,
   "id": "ea64b954",
   "metadata": {},
   "outputs": [],
   "source": [
    "#torch.save(net.state_dict(), \"C:/Users/heuma/Desktop/Master/S10/Aurea/Dataset_Kaggle_validation_Train_20-80/dict_Linh_network_1st_try\")"
   ]
  },
  {
   "cell_type": "code",
   "execution_count": 15,
   "id": "e0753a13",
   "metadata": {},
   "outputs": [],
   "source": [
    "#torch.save(net, \"C:/Users/heuma/Desktop/Master/S10/Aurea/Dataset_Kaggle_validation_Train_20-80/Linh_network_entire_model_1st_try\")"
   ]
  },
  {
   "cell_type": "code",
   "execution_count": 16,
   "id": "f9e64f8b",
   "metadata": {},
   "outputs": [
    {
     "data": {
      "text/plain": [
       "'\\nfrom torch.utils.data.dataloader import DataLoader\\n\\n\\ntrain_dl = DataLoader(train_set, batch_size, shuffle = True, num_workers = 4, pin_memory = True)\\n\\nfrom torchvision.utils import make_grid\\n\\ndef show_batch(dl):\\n    #Plot images grid of single batch\\n    for images, labels in dl:\\n        fig,ax = plt.subplots(figsize = (16,12))\\n        ax.set_xticks([])\\n        ax.set_yticks([])\\n        ax.imshow(make_grid(images,nrow=16).permute(1,2,0))\\n        break\\n        \\nshow_batch(train_dl)\\n\\n'"
      ]
     },
     "execution_count": 16,
     "metadata": {},
     "output_type": "execute_result"
    }
   ],
   "source": [
    "\"\"\"\n",
    "from torch.utils.data.dataloader import DataLoader\n",
    "\n",
    "\n",
    "train_dl = DataLoader(train_set, batch_size, shuffle = True, num_workers = 4, pin_memory = True)\n",
    "\n",
    "from torchvision.utils import make_grid\n",
    "\n",
    "def show_batch(dl):\n",
    "    #Plot images grid of single batch\n",
    "    for images, labels in dl:\n",
    "        fig,ax = plt.subplots(figsize = (16,12))\n",
    "        ax.set_xticks([])\n",
    "        ax.set_yticks([])\n",
    "        ax.imshow(make_grid(images,nrow=16).permute(1,2,0))\n",
    "        break\n",
    "        \n",
    "show_batch(train_dl)\n",
    "\n",
    "\"\"\""
   ]
  },
  {
   "cell_type": "code",
   "execution_count": 17,
   "id": "5308da1c",
   "metadata": {},
   "outputs": [
    {
     "data": {
      "text/plain": [
       "\"\\ntransform2 = transforms.Compose(\\n    [transforms.Resize((224, 224)),\\n     transforms.ToTensor()])\\n\\ntrain_set2 = ImageFolder('C:/Users/heuma/Desktop/Master/S10/Aurea/Dataset_Kaggle_validation_Train_20-80/TRAIN/', transform=transform2)\\n\\ntrain_dl2 = DataLoader(train_set2, batch_size, shuffle = True, num_workers = 4, pin_memory = True)\\n\\n        \\nshow_batch(train_dl2)\\n\""
      ]
     },
     "execution_count": 17,
     "metadata": {},
     "output_type": "execute_result"
    }
   ],
   "source": [
    "\"\"\"\n",
    "transform2 = transforms.Compose(\n",
    "    [transforms.Resize((224, 224)),\n",
    "     transforms.ToTensor()])\n",
    "\n",
    "train_set2 = ImageFolder('C:/Users/heuma/Desktop/Master/S10/Aurea/Dataset_Kaggle_validation_Train_20-80/TRAIN/', transform=transform2)\n",
    "\n",
    "train_dl2 = DataLoader(train_set2, batch_size, shuffle = True, num_workers = 4, pin_memory = True)\n",
    "\n",
    "        \n",
    "show_batch(train_dl2)\n",
    "\"\"\""
   ]
  },
  {
   "cell_type": "code",
   "execution_count": null,
   "id": "6940a02b",
   "metadata": {},
   "outputs": [],
   "source": []
  }
 ],
 "metadata": {
  "kernelspec": {
   "display_name": "Python 3 (ipykernel)",
   "language": "python",
   "name": "python3"
  },
  "language_info": {
   "codemirror_mode": {
    "name": "ipython",
    "version": 3
   },
   "file_extension": ".py",
   "mimetype": "text/x-python",
   "name": "python",
   "nbconvert_exporter": "python",
   "pygments_lexer": "ipython3",
   "version": "3.9.7"
  }
 },
 "nbformat": 4,
 "nbformat_minor": 5
}
